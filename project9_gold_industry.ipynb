{
 "cells": [
  {
   "cell_type": "markdown",
   "metadata": {
    "toc": true
   },
   "source": [
    "<h1>Содержание<span class=\"tocSkip\"></span></h1>\n",
    "<div class=\"toc\"><ul class=\"toc-item\"><li><span><a href=\"#Подготовка-данных\" data-toc-modified-id=\"Подготовка-данных-1\"><span class=\"toc-item-num\">1&nbsp;&nbsp;</span>Подготовка данных</a></span><ul class=\"toc-item\"><li><span><a href=\"#Импортируем-необходимые-модули-и-библиотеки\" data-toc-modified-id=\"Импортируем-необходимые-модули-и-библиотеки-1.1\"><span class=\"toc-item-num\">1.1&nbsp;&nbsp;</span>Импортируем необходимые модули и библиотеки</a></span></li><li><span><a href=\"#Откроем-файлы-и-изучим-их\" data-toc-modified-id=\"Откроем-файлы-и-изучим-их-1.2\"><span class=\"toc-item-num\">1.2&nbsp;&nbsp;</span>Откроем файлы и изучим их</a></span></li><li><span><a href=\"#Напишем-небольшую-функцию-для-упрощения\" data-toc-modified-id=\"Напишем-небольшую-функцию-для-упрощения-1.3\"><span class=\"toc-item-num\">1.3&nbsp;&nbsp;</span>Напишем небольшую функцию для упрощения</a></span></li><li><span><a href=\"#Проверим,-что-эффективность-обогащения-рассчитана-правильно.-Вычислим-её-на-обучающей-выборке-для-признака-rougher.output.recovery.\" data-toc-modified-id=\"Проверим,-что-эффективность-обогащения-рассчитана-правильно.-Вычислим-её-на-обучающей-выборке-для-признака-rougher.output.recovery.-1.4\"><span class=\"toc-item-num\">1.4&nbsp;&nbsp;</span>Проверим, что эффективность обогащения рассчитана правильно. Вычислим её на обучающей выборке для признака rougher.output.recovery.</a></span></li><li><span><a href=\"#Создадим-новый-столбец-с-посчитанной-нами-recovery\" data-toc-modified-id=\"Создадим-новый-столбец-с-посчитанной-нами-recovery-1.5\"><span class=\"toc-item-num\">1.5&nbsp;&nbsp;</span>Создадим новый столбец с посчитанной нами recovery</a></span></li><li><span><a href=\"#Сравним-с-признаком-rougher.output.recovery\" data-toc-modified-id=\"Сравним-с-признаком-rougher.output.recovery-1.6\"><span class=\"toc-item-num\">1.6&nbsp;&nbsp;</span>Сравним с признаком rougher.output.recovery</a></span></li><li><span><a href=\"#Найдём-MAE-между-расчётами-и-значением-признака.-Опишем-выводы.\" data-toc-modified-id=\"Найдём-MAE-между-расчётами-и-значением-признака.-Опишем-выводы.-1.7\"><span class=\"toc-item-num\">1.7&nbsp;&nbsp;</span>Найдём MAE между расчётами и значением признака. Опишем выводы.</a></span></li><li><span><a href=\"#Проанализируем-признаки,-недоступные-в-тестовой-выборке.-Что-это-за-параметры?-К-какому-типу-относятся?\" data-toc-modified-id=\"Проанализируем-признаки,-недоступные-в-тестовой-выборке.-Что-это-за-параметры?-К-какому-типу-относятся?-1.8\"><span class=\"toc-item-num\">1.8&nbsp;&nbsp;</span>Проанализируем признаки, недоступные в тестовой выборке. Что это за параметры? К какому типу относятся?</a></span></li><li><span><a href=\"#Проведём-предобработку-данных.\" data-toc-modified-id=\"Проведём-предобработку-данных.-1.9\"><span class=\"toc-item-num\">1.9&nbsp;&nbsp;</span>Проведём предобработку данных.</a></span></li></ul></li><li><span><a href=\"#Анализ-данных\" data-toc-modified-id=\"Анализ-данных-2\"><span class=\"toc-item-num\">2&nbsp;&nbsp;</span>Анализ данных</a></span><ul class=\"toc-item\"><li><span><a href=\"#Посмотрим,-как-меняется-концентрация-металлов-(Au,-Ag,-Pb)-на-различных-этапах-очистки.\" data-toc-modified-id=\"Посмотрим,-как-меняется-концентрация-металлов-(Au,-Ag,-Pb)-на-различных-этапах-очистки.-2.1\"><span class=\"toc-item-num\">2.1&nbsp;&nbsp;</span>Посмотрим, как меняется концентрация металлов (Au, Ag, Pb) на различных этапах очистки.</a></span><ul class=\"toc-item\"><li><span><a href=\"#Для-лучшей-читаемости-создадим-переменные-с-названиями-металлов-и-переименуем-столбцы\" data-toc-modified-id=\"Для-лучшей-читаемости-создадим-переменные-с-названиями-металлов-и-переименуем-столбцы-2.1.1\"><span class=\"toc-item-num\">2.1.1&nbsp;&nbsp;</span>Для лучшей читаемости создадим переменные с названиями металлов и переименуем столбцы</a></span></li></ul></li><li><span><a href=\"#Сравним-распределения-размеров-гранул-сырья-на-обучающей-и-тестовой-выборках.-Если-распределения-сильно-отличаются-друг-от-друга,-оценка-модели-будет-неправильной.\" data-toc-modified-id=\"Сравним-распределения-размеров-гранул-сырья-на-обучающей-и-тестовой-выборках.-Если-распределения-сильно-отличаются-друг-от-друга,-оценка-модели-будет-неправильной.-2.2\"><span class=\"toc-item-num\">2.2&nbsp;&nbsp;</span>Сравним распределения размеров гранул сырья на обучающей и тестовой выборках. Если распределения сильно отличаются друг от друга, оценка модели будет неправильной.</a></span></li><li><span><a href=\"#Исследуем-суммарную-концентрацию-всех-веществ-на-разных-стадиях:-в-сырье,-в-черновом-и-финальном-концентратах.\" data-toc-modified-id=\"Исследуем-суммарную-концентрацию-всех-веществ-на-разных-стадиях:-в-сырье,-в-черновом-и-финальном-концентратах.-2.3\"><span class=\"toc-item-num\">2.3&nbsp;&nbsp;</span>Исследуем суммарную концентрацию всех веществ на разных стадиях: в сырье, в черновом и финальном концентратах.</a></span><ul class=\"toc-item\"><li><span><a href=\"#Сначала-посмотрим-на-концентрацию-веществ-в-сырье\" data-toc-modified-id=\"Сначала-посмотрим-на-концентрацию-веществ-в-сырье-2.3.1\"><span class=\"toc-item-num\">2.3.1&nbsp;&nbsp;</span>Сначала посмотрим на концентрацию веществ в сырье</a></span></li><li><span><a href=\"#Теперь-посмотрим-на-концентрацию-в-черновом-концентрате\" data-toc-modified-id=\"Теперь-посмотрим-на-концентрацию-в-черновом-концентрате-2.3.2\"><span class=\"toc-item-num\">2.3.2&nbsp;&nbsp;</span>Теперь посмотрим на концентрацию в черновом концентрате</a></span></li><li><span><a href=\"#И-посмотрим-на-концентрацию-в-финальном-концентрате\" data-toc-modified-id=\"И-посмотрим-на-концентрацию-в-финальном-концентрате-2.3.3\"><span class=\"toc-item-num\">2.3.3&nbsp;&nbsp;</span>И посмотрим на концентрацию в финальном концентрате</a></span></li></ul></li></ul></li><li><span><a href=\"#Модель\" data-toc-modified-id=\"Модель-3\"><span class=\"toc-item-num\">3&nbsp;&nbsp;</span>Модель</a></span><ul class=\"toc-item\"><li><span><a href=\"#Добавим-недостающие-целевые-признаки-в-тестовую-выборку\" data-toc-modified-id=\"Добавим-недостающие-целевые-признаки-в-тестовую-выборку-3.1\"><span class=\"toc-item-num\">3.1&nbsp;&nbsp;</span>Добавим недостающие целевые признаки в тестовую выборку</a></span></li><li><span><a href=\"#Напишем-функцию-для-вычисления-итоговой-sMAPE.\" data-toc-modified-id=\"Напишем-функцию-для-вычисления-итоговой-sMAPE.-3.2\"><span class=\"toc-item-num\">3.2&nbsp;&nbsp;</span>Напишем функцию для вычисления итоговой sMAPE.</a></span></li><li><span><a href=\"#Выделим-признаки-и-целевые-признаки\" data-toc-modified-id=\"Выделим-признаки-и-целевые-признаки-3.3\"><span class=\"toc-item-num\">3.3&nbsp;&nbsp;</span>Выделим признаки и целевые признаки</a></span></li><li><span><a href=\"#Обучим-разные-модели-и-оценим-их-качество-кросс-валидацией.\" data-toc-modified-id=\"Обучим-разные-модели-и-оценим-их-качество-кросс-валидацией.-3.4\"><span class=\"toc-item-num\">3.4&nbsp;&nbsp;</span>Обучим разные модели и оценим их качество кросс-валидацией.</a></span></li><li><span><a href=\"#Теперь-попробуем-модель-&quot;Случайный-лес&quot;\" data-toc-modified-id=\"Теперь-попробуем-модель-&quot;Случайный-лес&quot;-3.5\"><span class=\"toc-item-num\">3.5&nbsp;&nbsp;</span>Теперь попробуем модель \"Случайный лес\"</a></span></li><li><span><a href=\"#Выберем-лучшую-модель-и-проверим-её-на-тестовой-выборке.\" data-toc-modified-id=\"Выберем-лучшую-модель-и-проверим-её-на-тестовой-выборке.-3.6\"><span class=\"toc-item-num\">3.6&nbsp;&nbsp;</span>Выберем лучшую модель и проверим её на тестовой выборке.</a></span></li><li><span><a href=\"#Проверим-модель-на-адекватность\" data-toc-modified-id=\"Проверим-модель-на-адекватность-3.7\"><span class=\"toc-item-num\">3.7&nbsp;&nbsp;</span>Проверим модель на адекватность</a></span></li><li><span><a href=\"#Вывод\" data-toc-modified-id=\"Вывод-3.8\"><span class=\"toc-item-num\">3.8&nbsp;&nbsp;</span>Вывод</a></span></li></ul></li></ul></div>"
   ]
  },
  {
   "cell_type": "markdown",
   "metadata": {
    "toc": true
   },
   "source": [
    "<h1>Содержание<span class=\"tocSkip\"></span></h1>\n",
    "<div class=\"toc\"><ul class=\"toc-item\"><li><span><a href=\"#Подготовка-данных\" data-toc-modified-id=\"Подготовка-данных-1\"><span class=\"toc-item-num\">1&nbsp;&nbsp;</span>Подготовка данных</a></span><ul class=\"toc-item\"><li><span><a href=\"#Импортируем-необходимые-модули-и-библиотеки\" data-toc-modified-id=\"Импортируем-необходимые-модули-и-библиотеки-1.1\"><span class=\"toc-item-num\">1.1&nbsp;&nbsp;</span>Импортируем необходимые модули и библиотеки</a></span></li><li><span><a href=\"#Откроем-файлы-и-изучим-их\" data-toc-modified-id=\"Откроем-файлы-и-изучим-их-1.2\"><span class=\"toc-item-num\">1.2&nbsp;&nbsp;</span>Откроем файлы и изучим их</a></span></li><li><span><a href=\"#Напишем-небольшую-функцию-для-упрощения\" data-toc-modified-id=\"Напишем-небольшую-функцию-для-упрощения-1.3\"><span class=\"toc-item-num\">1.3&nbsp;&nbsp;</span>Напишем небольшую функцию для упрощения</a></span></li><li><span><a href=\"#Проверим,-что-эффективность-обогащения-рассчитана-правильно.-Вычислим-её-на-обучающей-выборке-для-признака-rougher.output.recovery.\" data-toc-modified-id=\"Проверим,-что-эффективность-обогащения-рассчитана-правильно.-Вычислим-её-на-обучающей-выборке-для-признака-rougher.output.recovery.-1.4\"><span class=\"toc-item-num\">1.4&nbsp;&nbsp;</span>Проверим, что эффективность обогащения рассчитана правильно. Вычислим её на обучающей выборке для признака rougher.output.recovery.</a></span></li><li><span><a href=\"#Создадим-новый-столбец-с-посчитанной-нами-recovery\" data-toc-modified-id=\"Создадим-новый-столбец-с-посчитанной-нами-recovery-1.5\"><span class=\"toc-item-num\">1.5&nbsp;&nbsp;</span>Создадим новый столбец с посчитанной нами recovery</a></span></li><li><span><a href=\"#Сравним-с-признаком-rougher.output.recovery\" data-toc-modified-id=\"Сравним-с-признаком-rougher.output.recovery-1.6\"><span class=\"toc-item-num\">1.6&nbsp;&nbsp;</span>Сравним с признаком rougher.output.recovery</a></span></li><li><span><a href=\"#Найдём-MAE-между-расчётами-и-значением-признака.-Опишем-выводы.\" data-toc-modified-id=\"Найдём-MAE-между-расчётами-и-значением-признака.-Опишем-выводы.-1.7\"><span class=\"toc-item-num\">1.7&nbsp;&nbsp;</span>Найдём MAE между расчётами и значением признака. Опишем выводы.</a></span></li><li><span><a href=\"#Проанализируем-признаки,-недоступные-в-тестовой-выборке.-Что-это-за-параметры?-К-какому-типу-относятся?\" data-toc-modified-id=\"Проанализируем-признаки,-недоступные-в-тестовой-выборке.-Что-это-за-параметры?-К-какому-типу-относятся?-1.8\"><span class=\"toc-item-num\">1.8&nbsp;&nbsp;</span>Проанализируем признаки, недоступные в тестовой выборке. Что это за параметры? К какому типу относятся?</a></span></li><li><span><a href=\"#Проведём-предобработку-данных.\" data-toc-modified-id=\"Проведём-предобработку-данных.-1.9\"><span class=\"toc-item-num\">1.9&nbsp;&nbsp;</span>Проведём предобработку данных.</a></span></li></ul></li><li><span><a href=\"#Анализ-данных\" data-toc-modified-id=\"Анализ-данных-2\"><span class=\"toc-item-num\">2&nbsp;&nbsp;</span>Анализ данных</a></span><ul class=\"toc-item\"><li><span><a href=\"#Посмотрим,-как-меняется-концентрация-металлов-(Au,-Ag,-Pb)-на-различных-этапах-очистки.\" data-toc-modified-id=\"Посмотрим,-как-меняется-концентрация-металлов-(Au,-Ag,-Pb)-на-различных-этапах-очистки.-2.1\"><span class=\"toc-item-num\">2.1&nbsp;&nbsp;</span>Посмотрим, как меняется концентрация металлов (Au, Ag, Pb) на различных этапах очистки.</a></span><ul class=\"toc-item\"><li><span><a href=\"#Для-лучшей-читаемости-создадим-переменные-с-названиями-металлов-и-переименуем-столбцы\" data-toc-modified-id=\"Для-лучшей-читаемости-создадим-переменные-с-названиями-металлов-и-переименуем-столбцы-2.1.1\"><span class=\"toc-item-num\">2.1.1&nbsp;&nbsp;</span>Для лучшей читаемости создадим переменные с названиями металлов и переименуем столбцы</a></span></li></ul></li><li><span><a href=\"#Сравним-распределения-размеров-гранул-сырья-на-обучающей-и-тестовой-выборках.-Если-распределения-сильно-отличаются-друг-от-друга,-оценка-модели-будет-неправильной.\" data-toc-modified-id=\"Сравним-распределения-размеров-гранул-сырья-на-обучающей-и-тестовой-выборках.-Если-распределения-сильно-отличаются-друг-от-друга,-оценка-модели-будет-неправильной.-2.2\"><span class=\"toc-item-num\">2.2&nbsp;&nbsp;</span>Сравним распределения размеров гранул сырья на обучающей и тестовой выборках. Если распределения сильно отличаются друг от друга, оценка модели будет неправильной.</a></span></li><li><span><a href=\"#Исследуем-суммарную-концентрацию-всех-веществ-на-разных-стадиях:-в-сырье,-в-черновом-и-финальном-концентратах.\" data-toc-modified-id=\"Исследуем-суммарную-концентрацию-всех-веществ-на-разных-стадиях:-в-сырье,-в-черновом-и-финальном-концентратах.-2.3\"><span class=\"toc-item-num\">2.3&nbsp;&nbsp;</span>Исследуем суммарную концентрацию всех веществ на разных стадиях: в сырье, в черновом и финальном концентратах.</a></span><ul class=\"toc-item\"><li><span><a href=\"#Сначала-посмотрим-на-концентрацию-веществ-в-сырье\" data-toc-modified-id=\"Сначала-посмотрим-на-концентрацию-веществ-в-сырье-2.3.1\"><span class=\"toc-item-num\">2.3.1&nbsp;&nbsp;</span>Сначала посмотрим на концентрацию веществ в сырье</a></span></li><li><span><a href=\"#Теперь-посмотрим-на-концентрацию-в-черновом-концентрате\" data-toc-modified-id=\"Теперь-посмотрим-на-концентрацию-в-черновом-концентрате-2.3.2\"><span class=\"toc-item-num\">2.3.2&nbsp;&nbsp;</span>Теперь посмотрим на концентрацию в черновом концентрате</a></span></li><li><span><a href=\"#И-посмотрим-на-концентрацию-в-финальном-концентрате\" data-toc-modified-id=\"И-посмотрим-на-концентрацию-в-финальном-концентрате-2.3.3\"><span class=\"toc-item-num\">2.3.3&nbsp;&nbsp;</span>И посмотрим на концентрацию в финальном концентрате</a></span></li></ul></li></ul></li><li><span><a href=\"#Модель\" data-toc-modified-id=\"Модель-3\"><span class=\"toc-item-num\">3&nbsp;&nbsp;</span>Модель</a></span><ul class=\"toc-item\"><li><span><a href=\"#Добавим-недостающие-целевые-признаки-в-тестовую-выборку\" data-toc-modified-id=\"Добавим-недостающие-целевые-признаки-в-тестовую-выборку-3.1\"><span class=\"toc-item-num\">3.1&nbsp;&nbsp;</span>Добавим недостающие целевые признаки в тестовую выборку</a></span></li><li><span><a href=\"#Напишем-функцию-для-вычисления-итоговой-sMAPE.\" data-toc-modified-id=\"Напишем-функцию-для-вычисления-итоговой-sMAPE.-3.2\"><span class=\"toc-item-num\">3.2&nbsp;&nbsp;</span>Напишем функцию для вычисления итоговой sMAPE.</a></span></li><li><span><a href=\"#Выделим-признаки-и-целевые-признаки\" data-toc-modified-id=\"Выделим-признаки-и-целевые-признаки-3.3\"><span class=\"toc-item-num\">3.3&nbsp;&nbsp;</span>Выделим признаки и целевые признаки</a></span></li><li><span><a href=\"#Обучим-разные-модели-и-оценим-их-качество-кросс-валидацией.\" data-toc-modified-id=\"Обучим-разные-модели-и-оценим-их-качество-кросс-валидацией.-3.4\"><span class=\"toc-item-num\">3.4&nbsp;&nbsp;</span>Обучим разные модели и оценим их качество кросс-валидацией.</a></span></li><li><span><a href=\"#Выберем-лучшую-модель-и-проверим-её-на-тестовой-выборке.\" data-toc-modified-id=\"Выберем-лучшую-модель-и-проверим-её-на-тестовой-выборке.-3.5\"><span class=\"toc-item-num\">3.5&nbsp;&nbsp;</span>Выберем лучшую модель и проверим её на тестовой выборке.</a></span></li></ul></li></ul></div>"
   ]
  },
  {
   "cell_type": "markdown",
   "metadata": {},
   "source": [
    "# Восстановление золота из руды"
   ]
  },
  {
   "cell_type": "markdown",
   "metadata": {},
   "source": [
    "Подготовьте прототип модели машинного обучения для «Цифры». Компания разрабатывает решения для эффективной работы промышленных предприятий.\n",
    "\n",
    "Модель должна предсказать коэффициент восстановления золота из золотосодержащей руды. Используйте данные с параметрами добычи и очистки. \n",
    "\n",
    "Модель поможет оптимизировать производство, чтобы не запускать предприятие с убыточными характеристиками.\n",
    "\n",
    "Вам нужно:\n",
    "\n",
    "1. Подготовить данные;\n",
    "2. Провести исследовательский анализ данных;\n",
    "3. Построить и обучить модель.\n",
    "\n",
    "Чтобы выполнить проект, обращайтесь к библиотекам *pandas*, *matplotlib* и *sklearn.* Вам поможет их документация."
   ]
  },
  {
   "cell_type": "markdown",
   "metadata": {},
   "source": [
    "**Краткий план работы**\n",
    "\n",
    "\n",
    "1. Подготовьте данные\n",
    "\n",
    "1.1. Откройте файлы и изучите их.\n",
    "\n",
    "1.2. Проверьте, что эффективность обогащения рассчитана правильно. Вычислите её на обучающей выборке для признака rougher.output.recovery. Найдите MAE между вашими расчётами и значением признака. Опишите выводы.\n",
    "\n",
    "1.3. Проанализируйте признаки, недоступные в тестовой выборке. Что это за параметры? К какому типу относятся?\n",
    "\n",
    "1.4. Проведите предобработку данных.\n",
    "\n",
    "2. Проанализируйте данные\n",
    "\n",
    "2.1. Посмотрите, как меняется концентрация металлов (Au, Ag, Pb) на различных этапах очистки. Опишите выводы.\n",
    "\n",
    "2.2.  Сравните распределения размеров гранул сырья на обучающей и тестовой выборках. Если распределения сильно отличаются друг от друга, оценка модели будет неправильной.\n",
    "\n",
    "2.3. Исследуйте суммарную концентрацию всех веществ на разных стадиях: в сырье, в черновом и финальном концентратах. \n",
    "\n",
    "3. Постройте модель\n",
    "\n",
    "3.1. Напишите функцию для вычисления итоговой sMAPE.\n",
    "\n",
    "3.2. Обучите разные модели и оцените их качество кросс-валидацией. Выберите лучшую модель и проверьте её на тестовой выборке. Опишите выводы.\n"
   ]
  },
  {
   "cell_type": "markdown",
   "metadata": {},
   "source": [
    "## Подготовка данных"
   ]
  },
  {
   "cell_type": "markdown",
   "metadata": {},
   "source": [
    "### Импортируем необходимые модули и библиотеки"
   ]
  },
  {
   "cell_type": "code",
   "execution_count": 1,
   "metadata": {
    "ExecuteTime": {
     "end_time": "2023-04-18T08:18:17.407245Z",
     "start_time": "2023-04-18T08:18:09.940225Z"
    }
   },
   "outputs": [
    {
     "name": "stdout",
     "output_type": "stream",
     "text": [
      "Requirement already satisfied: ydata-profiling in /opt/anaconda3/lib/python3.9/site-packages (4.1.2)\n",
      "Requirement already satisfied: scipy<1.10,>=1.4.1 in /opt/anaconda3/lib/python3.9/site-packages (from ydata-profiling) (1.9.1)\n",
      "Requirement already satisfied: pandas!=1.4.0,<1.6,>1.1 in /opt/anaconda3/lib/python3.9/site-packages (from ydata-profiling) (1.4.4)\n",
      "Requirement already satisfied: matplotlib<3.7,>=3.2 in /opt/anaconda3/lib/python3.9/site-packages (from ydata-profiling) (3.5.2)\n",
      "Requirement already satisfied: pydantic<1.11,>=1.8.1 in /opt/anaconda3/lib/python3.9/site-packages (from ydata-profiling) (1.10.7)\n",
      "Requirement already satisfied: PyYAML<6.1,>=5.0.0 in /opt/anaconda3/lib/python3.9/site-packages (from ydata-profiling) (6.0)\n",
      "Requirement already satisfied: jinja2<3.2,>=2.11.1 in /opt/anaconda3/lib/python3.9/site-packages (from ydata-profiling) (2.11.3)\n",
      "Requirement already satisfied: visions[type_image_path]==0.7.5 in /opt/anaconda3/lib/python3.9/site-packages (from ydata-profiling) (0.7.5)\n",
      "Requirement already satisfied: numpy<1.24,>=1.16.0 in /opt/anaconda3/lib/python3.9/site-packages (from ydata-profiling) (1.21.5)\n",
      "Requirement already satisfied: htmlmin==0.1.12 in /opt/anaconda3/lib/python3.9/site-packages (from ydata-profiling) (0.1.12)\n",
      "Requirement already satisfied: phik<0.13,>=0.11.1 in /opt/anaconda3/lib/python3.9/site-packages (from ydata-profiling) (0.12.3)\n",
      "Requirement already satisfied: requests<2.29,>=2.24.0 in /opt/anaconda3/lib/python3.9/site-packages (from ydata-profiling) (2.28.1)\n",
      "Requirement already satisfied: tqdm<4.65,>=4.48.2 in /opt/anaconda3/lib/python3.9/site-packages (from ydata-profiling) (4.64.1)\n",
      "Requirement already satisfied: seaborn<0.13,>=0.10.1 in /opt/anaconda3/lib/python3.9/site-packages (from ydata-profiling) (0.11.2)\n",
      "Requirement already satisfied: multimethod<1.10,>=1.4 in /opt/anaconda3/lib/python3.9/site-packages (from ydata-profiling) (1.9.1)\n",
      "Requirement already satisfied: statsmodels<0.14,>=0.13.2 in /opt/anaconda3/lib/python3.9/site-packages (from ydata-profiling) (0.13.2)\n",
      "Requirement already satisfied: typeguard<2.14,>=2.13.2 in /opt/anaconda3/lib/python3.9/site-packages (from ydata-profiling) (2.13.3)\n",
      "Requirement already satisfied: imagehash==4.3.1 in /opt/anaconda3/lib/python3.9/site-packages (from ydata-profiling) (4.3.1)\n",
      "Requirement already satisfied: PyWavelets in /opt/anaconda3/lib/python3.9/site-packages (from imagehash==4.3.1->ydata-profiling) (1.3.0)\n",
      "Requirement already satisfied: pillow in /opt/anaconda3/lib/python3.9/site-packages (from imagehash==4.3.1->ydata-profiling) (9.2.0)\n",
      "Requirement already satisfied: attrs>=19.3.0 in /opt/anaconda3/lib/python3.9/site-packages (from visions[type_image_path]==0.7.5->ydata-profiling) (21.4.0)\n",
      "Requirement already satisfied: networkx>=2.4 in /opt/anaconda3/lib/python3.9/site-packages (from visions[type_image_path]==0.7.5->ydata-profiling) (2.8.4)\n",
      "Requirement already satisfied: tangled-up-in-unicode>=0.0.4 in /opt/anaconda3/lib/python3.9/site-packages (from visions[type_image_path]==0.7.5->ydata-profiling) (0.2.0)\n",
      "Requirement already satisfied: MarkupSafe>=0.23 in /opt/anaconda3/lib/python3.9/site-packages (from jinja2<3.2,>=2.11.1->ydata-profiling) (2.0.1)\n",
      "Requirement already satisfied: cycler>=0.10 in /opt/anaconda3/lib/python3.9/site-packages (from matplotlib<3.7,>=3.2->ydata-profiling) (0.11.0)\n",
      "Requirement already satisfied: fonttools>=4.22.0 in /opt/anaconda3/lib/python3.9/site-packages (from matplotlib<3.7,>=3.2->ydata-profiling) (4.25.0)\n",
      "Requirement already satisfied: kiwisolver>=1.0.1 in /opt/anaconda3/lib/python3.9/site-packages (from matplotlib<3.7,>=3.2->ydata-profiling) (1.4.2)\n",
      "Requirement already satisfied: packaging>=20.0 in /opt/anaconda3/lib/python3.9/site-packages (from matplotlib<3.7,>=3.2->ydata-profiling) (23.0)\n",
      "Requirement already satisfied: pyparsing>=2.2.1 in /opt/anaconda3/lib/python3.9/site-packages (from matplotlib<3.7,>=3.2->ydata-profiling) (3.0.9)\n",
      "Requirement already satisfied: python-dateutil>=2.7 in /opt/anaconda3/lib/python3.9/site-packages (from matplotlib<3.7,>=3.2->ydata-profiling) (2.8.2)\n",
      "Requirement already satisfied: pytz>=2020.1 in /opt/anaconda3/lib/python3.9/site-packages (from pandas!=1.4.0,<1.6,>1.1->ydata-profiling) (2022.1)\n",
      "Requirement already satisfied: joblib>=0.14.1 in /opt/anaconda3/lib/python3.9/site-packages (from phik<0.13,>=0.11.1->ydata-profiling) (1.2.0)\n",
      "Requirement already satisfied: typing-extensions>=4.2.0 in /opt/anaconda3/lib/python3.9/site-packages (from pydantic<1.11,>=1.8.1->ydata-profiling) (4.3.0)\n",
      "Requirement already satisfied: charset-normalizer<3,>=2 in /opt/anaconda3/lib/python3.9/site-packages (from requests<2.29,>=2.24.0->ydata-profiling) (2.0.4)\n",
      "Requirement already satisfied: idna<4,>=2.5 in /opt/anaconda3/lib/python3.9/site-packages (from requests<2.29,>=2.24.0->ydata-profiling) (3.3)\n",
      "Requirement already satisfied: urllib3<1.27,>=1.21.1 in /opt/anaconda3/lib/python3.9/site-packages (from requests<2.29,>=2.24.0->ydata-profiling) (1.26.11)\n",
      "Requirement already satisfied: certifi>=2017.4.17 in /opt/anaconda3/lib/python3.9/site-packages (from requests<2.29,>=2.24.0->ydata-profiling) (2023.5.7)\n",
      "Requirement already satisfied: patsy>=0.5.2 in /opt/anaconda3/lib/python3.9/site-packages (from statsmodels<0.14,>=0.13.2->ydata-profiling) (0.5.2)\n",
      "Requirement already satisfied: six in /opt/anaconda3/lib/python3.9/site-packages (from patsy>=0.5.2->statsmodels<0.14,>=0.13.2->ydata-profiling) (1.16.0)\n",
      "\n",
      "\u001b[1m[\u001b[0m\u001b[34;49mnotice\u001b[0m\u001b[1;39;49m]\u001b[0m\u001b[39;49m A new release of pip is available: \u001b[0m\u001b[31;49m23.1.2\u001b[0m\u001b[39;49m -> \u001b[0m\u001b[32;49m23.2\u001b[0m\n",
      "\u001b[1m[\u001b[0m\u001b[34;49mnotice\u001b[0m\u001b[1;39;49m]\u001b[0m\u001b[39;49m To update, run: \u001b[0m\u001b[32;49mpip install --upgrade pip\u001b[0m\n",
      "Note: you may need to restart the kernel to use updated packages.\n"
     ]
    }
   ],
   "source": [
    "pip install ydata-profiling"
   ]
  },
  {
   "cell_type": "code",
   "execution_count": 2,
   "metadata": {
    "ExecuteTime": {
     "end_time": "2023-04-18T08:18:23.149013Z",
     "start_time": "2023-04-18T08:18:17.414885Z"
    }
   },
   "outputs": [],
   "source": [
    "import numpy as np\n",
    "import pandas as pd\n",
    "\n",
    "from ydata_profiling import ProfileReport\n",
    "from sklearn.metrics import mean_absolute_error as MAE, make_scorer\n",
    "from sklearn.model_selection import cross_val_score\n",
    "from sklearn.ensemble import RandomForestRegressor\n",
    "from sklearn.preprocessing import StandardScaler\n",
    "from sklearn.linear_model import LinearRegression\n",
    "from sklearn.tree import DecisionTreeRegressor\n",
    "from sklearn.dummy import DummyRegressor\n",
    "import matplotlib.pyplot as plt\n",
    "import seaborn as sns\n",
    "from matplotlib import rcParams\n",
    "plt.rcParams[\"figure.figsize\"] = (10,10)\n",
    "from matplotlib import rcParams\n",
    "rcParams['figure.figsize'] = 10,10\n",
    "sns.set(rc={'figure.figsize':(10,10)})"
   ]
  },
  {
   "cell_type": "markdown",
   "metadata": {},
   "source": [
    "### Откроем файлы и изучим их"
   ]
  },
  {
   "cell_type": "code",
   "execution_count": 3,
   "metadata": {
    "ExecuteTime": {
     "end_time": "2023-04-18T08:18:31.643988Z",
     "start_time": "2023-04-18T08:18:23.152209Z"
    }
   },
   "outputs": [],
   "source": [
    "try:\n",
    "    train_new = pd.read_csv('/datasets/gold_recovery_train_new.csv', sep=',')\n",
    "    test_new = pd.read_csv('/datasets/gold_recovery_test_new.csv', sep=',')\n",
    "    full_new = pd.read_csv('/datasets/gold_recovery_full_new.csv', sep=',')\n",
    "except:\n",
    "    train_new = pd.read_csv(\n",
    "        'https://code.s3.yandex.net/datasets/gold_recovery_train_new.csv',\n",
    "        sep=',')\n",
    "    test_new = pd.read_csv(\n",
    "        'https://code.s3.yandex.net/datasets/gold_recovery_test_new.csv',\n",
    "        sep=',')\n",
    "    full_new = pd.read_csv(\n",
    "        'https://code.s3.yandex.net/datasets/gold_recovery_full_new.csv',\n",
    "        sep=',')"
   ]
  },
  {
   "cell_type": "code",
   "execution_count": 4,
   "metadata": {
    "ExecuteTime": {
     "end_time": "2023-04-18T08:18:31.654677Z",
     "start_time": "2023-04-18T08:18:31.649562Z"
    }
   },
   "outputs": [],
   "source": [
    "#ProfileReport(test_new)"
   ]
  },
  {
   "cell_type": "code",
   "execution_count": 5,
   "metadata": {
    "ExecuteTime": {
     "end_time": "2023-04-18T08:18:31.665416Z",
     "start_time": "2023-04-18T08:18:31.660141Z"
    }
   },
   "outputs": [],
   "source": [
    "#ProfileReport(train_new)"
   ]
  },
  {
   "cell_type": "code",
   "execution_count": 6,
   "metadata": {
    "ExecuteTime": {
     "end_time": "2023-04-18T08:18:31.676656Z",
     "start_time": "2023-04-18T08:18:31.670899Z"
    }
   },
   "outputs": [],
   "source": [
    "#ProfileReport(full_new)"
   ]
  },
  {
   "cell_type": "markdown",
   "metadata": {},
   "source": [
    "### Напишем небольшую функцию для упрощения"
   ]
  },
  {
   "cell_type": "code",
   "execution_count": 7,
   "metadata": {
    "ExecuteTime": {
     "end_time": "2023-04-18T08:18:31.696025Z",
     "start_time": "2023-04-18T08:18:31.681090Z"
    }
   },
   "outputs": [],
   "source": [
    "def data_info(data):\n",
    "    print('Верх таблицы:\\n', data.head(), end='\\n\\n');\n",
    "    print('Основная информация о таблице:\\n', data.info(), end='\\n\\n');\n",
    "    print('Распределение значений таблицы:\\n', data.describe(include='all'), \n",
    "          end='\\n\\n');\n",
    "    print('Количество нулевых значений:\\n', (data.isna().sum()).\n",
    "          sort_values(ascending=False), end='\\n\\n');\n",
    "    print('Количество дубликатов:\\n', data.duplicated().sum())\n",
    "    print('Корреляция:\\n', data.corr())"
   ]
  },
  {
   "cell_type": "code",
   "execution_count": 8,
   "metadata": {
    "ExecuteTime": {
     "end_time": "2023-04-18T08:18:31.709576Z",
     "start_time": "2023-04-18T08:18:31.700311Z"
    }
   },
   "outputs": [],
   "source": [
    "datas = (train_new, test_new, full_new)"
   ]
  },
  {
   "cell_type": "code",
   "execution_count": 9,
   "metadata": {
    "ExecuteTime": {
     "end_time": "2023-04-18T08:18:32.999725Z",
     "start_time": "2023-04-18T08:18:31.713247Z"
    }
   },
   "outputs": [
    {
     "name": "stdout",
     "output_type": "stream",
     "text": [
      "Верх таблицы:\n",
      "                   date  final.output.concentrate_ag  \\\n",
      "0  2016-01-15 00:00:00                     6.055403   \n",
      "1  2016-01-15 01:00:00                     6.029369   \n",
      "2  2016-01-15 02:00:00                     6.055926   \n",
      "3  2016-01-15 03:00:00                     6.047977   \n",
      "4  2016-01-15 04:00:00                     6.148599   \n",
      "\n",
      "   final.output.concentrate_pb  final.output.concentrate_sol  \\\n",
      "0                     9.889648                      5.507324   \n",
      "1                     9.968944                      5.257781   \n",
      "2                    10.213995                      5.383759   \n",
      "3                     9.977019                      4.858634   \n",
      "4                    10.142511                      4.939416   \n",
      "\n",
      "   final.output.concentrate_au  final.output.recovery  final.output.tail_ag  \\\n",
      "0                    42.192020              70.541216             10.411962   \n",
      "1                    42.701629              69.266198             10.462676   \n",
      "2                    42.657501              68.116445             10.507046   \n",
      "3                    42.689819              68.347543             10.422762   \n",
      "4                    42.774141              66.927016             10.360302   \n",
      "\n",
      "   final.output.tail_pb  final.output.tail_sol  final.output.tail_au  ...  \\\n",
      "0              0.895447              16.904297              2.143149  ...   \n",
      "1              0.927452              16.634514              2.224930  ...   \n",
      "2              0.953716              16.208849              2.257889  ...   \n",
      "3              0.883763              16.532835              2.146849  ...   \n",
      "4              0.792826              16.525686              2.055292  ...   \n",
      "\n",
      "   secondary_cleaner.state.floatbank4_a_air  \\\n",
      "0                                 14.016835   \n",
      "1                                 13.992281   \n",
      "2                                 14.015015   \n",
      "3                                 14.036510   \n",
      "4                                 14.027298   \n",
      "\n",
      "   secondary_cleaner.state.floatbank4_a_level  \\\n",
      "0                                 -502.488007   \n",
      "1                                 -505.503262   \n",
      "2                                 -502.520901   \n",
      "3                                 -500.857308   \n",
      "4                                 -499.838632   \n",
      "\n",
      "   secondary_cleaner.state.floatbank4_b_air  \\\n",
      "0                                 12.099931   \n",
      "1                                 11.950531   \n",
      "2                                 11.912783   \n",
      "3                                 11.999550   \n",
      "4                                 11.953070   \n",
      "\n",
      "   secondary_cleaner.state.floatbank4_b_level  \\\n",
      "0                                 -504.715942   \n",
      "1                                 -501.331529   \n",
      "2                                 -501.133383   \n",
      "3                                 -501.193686   \n",
      "4                                 -501.053894   \n",
      "\n",
      "   secondary_cleaner.state.floatbank5_a_air  \\\n",
      "0                                  9.925633   \n",
      "1                                 10.039245   \n",
      "2                                 10.070913   \n",
      "3                                  9.970366   \n",
      "4                                  9.925709   \n",
      "\n",
      "   secondary_cleaner.state.floatbank5_a_level  \\\n",
      "0                                 -498.310211   \n",
      "1                                 -500.169983   \n",
      "2                                 -500.129135   \n",
      "3                                 -499.201640   \n",
      "4                                 -501.686727   \n",
      "\n",
      "   secondary_cleaner.state.floatbank5_b_air  \\\n",
      "0                                  8.079666   \n",
      "1                                  7.984757   \n",
      "2                                  8.013877   \n",
      "3                                  7.977324   \n",
      "4                                  7.894242   \n",
      "\n",
      "   secondary_cleaner.state.floatbank5_b_level  \\\n",
      "0                                 -500.470978   \n",
      "1                                 -500.582168   \n",
      "2                                 -500.517572   \n",
      "3                                 -500.255908   \n",
      "4                                 -500.356035   \n",
      "\n",
      "   secondary_cleaner.state.floatbank6_a_air  \\\n",
      "0                                 14.151341   \n",
      "1                                 13.998353   \n",
      "2                                 14.028663   \n",
      "3                                 14.005551   \n",
      "4                                 13.996647   \n",
      "\n",
      "   secondary_cleaner.state.floatbank6_a_level  \n",
      "0                                 -605.841980  \n",
      "1                                 -599.787184  \n",
      "2                                 -601.427363  \n",
      "3                                 -599.996129  \n",
      "4                                 -601.496691  \n",
      "\n",
      "[5 rows x 87 columns]\n",
      "\n",
      "<class 'pandas.core.frame.DataFrame'>\n",
      "RangeIndex: 14149 entries, 0 to 14148\n",
      "Data columns (total 87 columns):\n",
      " #   Column                                              Non-Null Count  Dtype  \n",
      "---  ------                                              --------------  -----  \n",
      " 0   date                                                14149 non-null  object \n",
      " 1   final.output.concentrate_ag                         14148 non-null  float64\n",
      " 2   final.output.concentrate_pb                         14148 non-null  float64\n",
      " 3   final.output.concentrate_sol                        13938 non-null  float64\n",
      " 4   final.output.concentrate_au                         14149 non-null  float64\n",
      " 5   final.output.recovery                               14149 non-null  float64\n",
      " 6   final.output.tail_ag                                14149 non-null  float64\n",
      " 7   final.output.tail_pb                                14049 non-null  float64\n",
      " 8   final.output.tail_sol                               14144 non-null  float64\n",
      " 9   final.output.tail_au                                14149 non-null  float64\n",
      " 10  primary_cleaner.input.sulfate                       14129 non-null  float64\n",
      " 11  primary_cleaner.input.depressant                    14117 non-null  float64\n",
      " 12  primary_cleaner.input.feed_size                     14149 non-null  float64\n",
      " 13  primary_cleaner.input.xanthate                      14049 non-null  float64\n",
      " 14  primary_cleaner.output.concentrate_ag               14149 non-null  float64\n",
      " 15  primary_cleaner.output.concentrate_pb               14063 non-null  float64\n",
      " 16  primary_cleaner.output.concentrate_sol              13863 non-null  float64\n",
      " 17  primary_cleaner.output.concentrate_au               14149 non-null  float64\n",
      " 18  primary_cleaner.output.tail_ag                      14148 non-null  float64\n",
      " 19  primary_cleaner.output.tail_pb                      14134 non-null  float64\n",
      " 20  primary_cleaner.output.tail_sol                     14103 non-null  float64\n",
      " 21  primary_cleaner.output.tail_au                      14149 non-null  float64\n",
      " 22  primary_cleaner.state.floatbank8_a_air              14145 non-null  float64\n",
      " 23  primary_cleaner.state.floatbank8_a_level            14148 non-null  float64\n",
      " 24  primary_cleaner.state.floatbank8_b_air              14145 non-null  float64\n",
      " 25  primary_cleaner.state.floatbank8_b_level            14148 non-null  float64\n",
      " 26  primary_cleaner.state.floatbank8_c_air              14147 non-null  float64\n",
      " 27  primary_cleaner.state.floatbank8_c_level            14148 non-null  float64\n",
      " 28  primary_cleaner.state.floatbank8_d_air              14146 non-null  float64\n",
      " 29  primary_cleaner.state.floatbank8_d_level            14148 non-null  float64\n",
      " 30  rougher.calculation.sulfate_to_au_concentrate       14148 non-null  float64\n",
      " 31  rougher.calculation.floatbank10_sulfate_to_au_feed  14148 non-null  float64\n",
      " 32  rougher.calculation.floatbank11_sulfate_to_au_feed  14148 non-null  float64\n",
      " 33  rougher.calculation.au_pb_ratio                     14149 non-null  float64\n",
      " 34  rougher.input.feed_ag                               14149 non-null  float64\n",
      " 35  rougher.input.feed_pb                               14049 non-null  float64\n",
      " 36  rougher.input.feed_rate                             14141 non-null  float64\n",
      " 37  rougher.input.feed_size                             14005 non-null  float64\n",
      " 38  rougher.input.feed_sol                              14071 non-null  float64\n",
      " 39  rougher.input.feed_au                               14149 non-null  float64\n",
      " 40  rougher.input.floatbank10_sulfate                   14120 non-null  float64\n",
      " 41  rougher.input.floatbank10_xanthate                  14141 non-null  float64\n",
      " 42  rougher.input.floatbank11_sulfate                   14113 non-null  float64\n",
      " 43  rougher.input.floatbank11_xanthate                  13721 non-null  float64\n",
      " 44  rougher.output.concentrate_ag                       14149 non-null  float64\n",
      " 45  rougher.output.concentrate_pb                       14149 non-null  float64\n",
      " 46  rougher.output.concentrate_sol                      14127 non-null  float64\n",
      " 47  rougher.output.concentrate_au                       14149 non-null  float64\n",
      " 48  rougher.output.recovery                             14149 non-null  float64\n",
      " 49  rougher.output.tail_ag                              14148 non-null  float64\n",
      " 50  rougher.output.tail_pb                              14149 non-null  float64\n",
      " 51  rougher.output.tail_sol                             14149 non-null  float64\n",
      " 52  rougher.output.tail_au                              14149 non-null  float64\n",
      " 53  rougher.state.floatbank10_a_air                     14148 non-null  float64\n",
      " 54  rougher.state.floatbank10_a_level                   14148 non-null  float64\n",
      " 55  rougher.state.floatbank10_b_air                     14148 non-null  float64\n",
      " 56  rougher.state.floatbank10_b_level                   14148 non-null  float64\n",
      " 57  rougher.state.floatbank10_c_air                     14148 non-null  float64\n",
      " 58  rougher.state.floatbank10_c_level                   14148 non-null  float64\n",
      " 59  rougher.state.floatbank10_d_air                     14149 non-null  float64\n",
      " 60  rougher.state.floatbank10_d_level                   14149 non-null  float64\n",
      " 61  rougher.state.floatbank10_e_air                     13713 non-null  float64\n",
      " 62  rougher.state.floatbank10_e_level                   14149 non-null  float64\n",
      " 63  rougher.state.floatbank10_f_air                     14149 non-null  float64\n",
      " 64  rougher.state.floatbank10_f_level                   14149 non-null  float64\n",
      " 65  secondary_cleaner.output.tail_ag                    14147 non-null  float64\n",
      " 66  secondary_cleaner.output.tail_pb                    14139 non-null  float64\n",
      " 67  secondary_cleaner.output.tail_sol                   12544 non-null  float64\n",
      " 68  secondary_cleaner.output.tail_au                    14149 non-null  float64\n",
      " 69  secondary_cleaner.state.floatbank2_a_air            13932 non-null  float64\n",
      " 70  secondary_cleaner.state.floatbank2_a_level          14148 non-null  float64\n",
      " 71  secondary_cleaner.state.floatbank2_b_air            14128 non-null  float64\n",
      " 72  secondary_cleaner.state.floatbank2_b_level          14148 non-null  float64\n",
      " 73  secondary_cleaner.state.floatbank3_a_air            14145 non-null  float64\n",
      " 74  secondary_cleaner.state.floatbank3_a_level          14148 non-null  float64\n",
      " 75  secondary_cleaner.state.floatbank3_b_air            14148 non-null  float64\n",
      " 76  secondary_cleaner.state.floatbank3_b_level          14148 non-null  float64\n",
      " 77  secondary_cleaner.state.floatbank4_a_air            14143 non-null  float64\n",
      " 78  secondary_cleaner.state.floatbank4_a_level          14148 non-null  float64\n",
      " 79  secondary_cleaner.state.floatbank4_b_air            14148 non-null  float64\n",
      " 80  secondary_cleaner.state.floatbank4_b_level          14148 non-null  float64\n",
      " 81  secondary_cleaner.state.floatbank5_a_air            14148 non-null  float64\n",
      " 82  secondary_cleaner.state.floatbank5_a_level          14148 non-null  float64\n",
      " 83  secondary_cleaner.state.floatbank5_b_air            14148 non-null  float64\n",
      " 84  secondary_cleaner.state.floatbank5_b_level          14148 non-null  float64\n",
      " 85  secondary_cleaner.state.floatbank6_a_air            14147 non-null  float64\n",
      " 86  secondary_cleaner.state.floatbank6_a_level          14148 non-null  float64\n",
      "dtypes: float64(86), object(1)\n",
      "memory usage: 9.4+ MB\n",
      "Основная информация о таблице:\n",
      " None\n",
      "\n",
      "Распределение значений таблицы:\n",
      "                        date  final.output.concentrate_ag  \\\n",
      "count                 14149                 14148.000000   \n",
      "unique                14149                          NaN   \n",
      "top     2016-01-15 00:00:00                          NaN   \n",
      "freq                      1                          NaN   \n",
      "mean                    NaN                     5.142034   \n",
      "std                     NaN                     1.369586   \n",
      "min                     NaN                     0.000000   \n",
      "25%                     NaN                     4.211620   \n",
      "50%                     NaN                     4.994652   \n",
      "75%                     NaN                     5.859540   \n",
      "max                     NaN                    16.001945   \n",
      "\n",
      "        final.output.concentrate_pb  final.output.concentrate_sol  \\\n",
      "count                  14148.000000                  13938.000000   \n",
      "unique                          NaN                           NaN   \n",
      "top                             NaN                           NaN   \n",
      "freq                            NaN                           NaN   \n",
      "mean                      10.132960                      9.202849   \n",
      "std                        1.654930                      2.790516   \n",
      "min                        0.000000                      0.000000   \n",
      "25%                        9.297355                      7.484645   \n",
      "50%                       10.297144                      8.845462   \n",
      "75%                       11.170603                     10.487508   \n",
      "max                       17.031899                     18.124851   \n",
      "\n",
      "        final.output.concentrate_au  final.output.recovery  \\\n",
      "count                  14149.000000           14149.000000   \n",
      "unique                          NaN                    NaN   \n",
      "top                             NaN                    NaN   \n",
      "freq                            NaN                    NaN   \n",
      "mean                      44.003792              66.518832   \n",
      "std                        4.905261              10.295402   \n",
      "min                        0.000000               0.000000   \n",
      "25%                       43.276111              62.545817   \n",
      "50%                       44.872436              67.432775   \n",
      "75%                       46.166425              72.346428   \n",
      "max                       52.756638             100.000000   \n",
      "\n",
      "        final.output.tail_ag  final.output.tail_pb  final.output.tail_sol  \\\n",
      "count           14149.000000          14049.000000           14144.000000   \n",
      "unique                   NaN                   NaN                    NaN   \n",
      "top                      NaN                   NaN                    NaN   \n",
      "freq                     NaN                   NaN                    NaN   \n",
      "mean                9.607035              2.597298              10.512122   \n",
      "std                 2.319069              0.971843               3.003617   \n",
      "min                 0.000000              0.000000               0.000000   \n",
      "25%                 7.997429              1.905973               8.811324   \n",
      "50%                 9.480270              2.592022              10.514621   \n",
      "75%                11.003707              3.241723              11.933009   \n",
      "max                19.552149              5.639565              22.317730   \n",
      "\n",
      "        final.output.tail_au  ...  secondary_cleaner.state.floatbank4_a_air  \\\n",
      "count           14149.000000  ...                              14143.000000   \n",
      "unique                   NaN  ...                                       NaN   \n",
      "top                      NaN  ...                                       NaN   \n",
      "freq                     NaN  ...                                       NaN   \n",
      "mean                2.918421  ...                                 19.985454   \n",
      "std                 0.903712  ...                                  5.657723   \n",
      "min                 0.000000  ...                                  0.000000   \n",
      "25%                 2.368607  ...                                 14.990775   \n",
      "50%                 2.851025  ...                                 20.001789   \n",
      "75%                 3.434764  ...                                 24.990826   \n",
      "max                 8.197408  ...                                 30.115735   \n",
      "\n",
      "        secondary_cleaner.state.floatbank4_a_level  \\\n",
      "count                                 14148.000000   \n",
      "unique                                         NaN   \n",
      "top                                            NaN   \n",
      "freq                                           NaN   \n",
      "mean                                   -478.696836   \n",
      "std                                      50.736021   \n",
      "min                                    -799.709069   \n",
      "25%                                    -500.628656   \n",
      "50%                                    -499.681450   \n",
      "75%                                    -477.472413   \n",
      "max                                    -245.239184   \n",
      "\n",
      "        secondary_cleaner.state.floatbank4_b_air  \\\n",
      "count                               14148.000000   \n",
      "unique                                       NaN   \n",
      "top                                          NaN   \n",
      "freq                                         NaN   \n",
      "mean                                   15.487065   \n",
      "std                                     5.255655   \n",
      "min                                     0.000000   \n",
      "25%                                    11.894558   \n",
      "50%                                    14.975536   \n",
      "75%                                    20.059375   \n",
      "max                                    24.007913   \n",
      "\n",
      "        secondary_cleaner.state.floatbank4_b_level  \\\n",
      "count                                 14148.000000   \n",
      "unique                                         NaN   \n",
      "top                                            NaN   \n",
      "freq                                           NaN   \n",
      "mean                                   -460.229416   \n",
      "std                                      58.843586   \n",
      "min                                    -799.889113   \n",
      "25%                                    -500.149000   \n",
      "50%                                    -499.388738   \n",
      "75%                                    -400.039008   \n",
      "max                                    -145.071088   \n",
      "\n",
      "        secondary_cleaner.state.floatbank5_a_air  \\\n",
      "count                               14148.000000   \n",
      "unique                                       NaN   \n",
      "top                                          NaN   \n",
      "freq                                         NaN   \n",
      "mean                                   16.775136   \n",
      "std                                     5.831906   \n",
      "min                                    -0.372054   \n",
      "25%                                    11.083980   \n",
      "50%                                    17.932223   \n",
      "75%                                    21.346550   \n",
      "max                                    43.709931   \n",
      "\n",
      "        secondary_cleaner.state.floatbank5_a_level  \\\n",
      "count                                 14148.000000   \n",
      "unique                                         NaN   \n",
      "top                                            NaN   \n",
      "freq                                           NaN   \n",
      "mean                                   -483.956022   \n",
      "std                                      37.892788   \n",
      "min                                    -797.142475   \n",
      "25%                                    -500.363177   \n",
      "50%                                    -499.702452   \n",
      "75%                                    -487.712108   \n",
      "max                                    -275.073125   \n",
      "\n",
      "        secondary_cleaner.state.floatbank5_b_air  \\\n",
      "count                               14148.000000   \n",
      "unique                                       NaN   \n",
      "top                                          NaN   \n",
      "freq                                         NaN   \n",
      "mean                                   13.064590   \n",
      "std                                     5.765617   \n",
      "min                                     0.646208   \n",
      "25%                                     8.994405   \n",
      "50%                                    11.997547   \n",
      "75%                                    17.982903   \n",
      "max                                    27.926001   \n",
      "\n",
      "        secondary_cleaner.state.floatbank5_b_level  \\\n",
      "count                                 14148.000000   \n",
      "unique                                         NaN   \n",
      "top                                            NaN   \n",
      "freq                                           NaN   \n",
      "mean                                   -483.966564   \n",
      "std                                      39.207913   \n",
      "min                                    -800.006180   \n",
      "25%                                    -500.105994   \n",
      "50%                                    -499.914556   \n",
      "75%                                    -453.186936   \n",
      "max                                    -157.396071   \n",
      "\n",
      "        secondary_cleaner.state.floatbank6_a_air  \\\n",
      "count                               14147.000000   \n",
      "unique                                       NaN   \n",
      "top                                          NaN   \n",
      "freq                                         NaN   \n",
      "mean                                   19.577539   \n",
      "std                                     5.764417   \n",
      "min                                     0.195324   \n",
      "25%                                    14.989304   \n",
      "50%                                    19.984175   \n",
      "75%                                    24.991623   \n",
      "max                                    32.188906   \n",
      "\n",
      "        secondary_cleaner.state.floatbank6_a_level  \n",
      "count                                 14148.000000  \n",
      "unique                                         NaN  \n",
      "top                                            NaN  \n",
      "freq                                           NaN  \n",
      "mean                                   -506.798480  \n",
      "std                                      37.079249  \n",
      "min                                    -809.398668  \n",
      "25%                                    -500.745104  \n",
      "50%                                    -500.061431  \n",
      "75%                                    -499.536466  \n",
      "max                                    -104.427459  \n",
      "\n",
      "[11 rows x 87 columns]\n",
      "\n",
      "Количество нулевых значений:\n",
      " secondary_cleaner.output.tail_sol           1605\n",
      "rougher.state.floatbank10_e_air              436\n",
      "rougher.input.floatbank11_xanthate           428\n",
      "primary_cleaner.output.concentrate_sol       286\n",
      "secondary_cleaner.state.floatbank2_a_air     217\n",
      "                                            ... \n",
      "rougher.output.concentrate_pb                  0\n",
      "rougher.output.concentrate_au                  0\n",
      "rougher.output.recovery                        0\n",
      "rougher.output.tail_pb                         0\n",
      "date                                           0\n",
      "Length: 87, dtype: int64\n",
      "\n",
      "Количество дубликатов:\n",
      " 0\n",
      "Корреляция:\n",
      "                                             final.output.concentrate_ag  \\\n",
      "final.output.concentrate_ag                                    1.000000   \n",
      "final.output.concentrate_pb                                    0.021110   \n",
      "final.output.concentrate_sol                                   0.351985   \n",
      "final.output.concentrate_au                                   -0.104934   \n",
      "final.output.recovery                                          0.133238   \n",
      "...                                                                 ...   \n",
      "secondary_cleaner.state.floatbank5_a_level                     0.228753   \n",
      "secondary_cleaner.state.floatbank5_b_air                       0.021660   \n",
      "secondary_cleaner.state.floatbank5_b_level                     0.199048   \n",
      "secondary_cleaner.state.floatbank6_a_air                       0.170298   \n",
      "secondary_cleaner.state.floatbank6_a_level                     0.061009   \n",
      "\n",
      "                                            final.output.concentrate_pb  \\\n",
      "final.output.concentrate_ag                                    0.021110   \n",
      "final.output.concentrate_pb                                    1.000000   \n",
      "final.output.concentrate_sol                                  -0.008451   \n",
      "final.output.concentrate_au                                    0.320916   \n",
      "final.output.recovery                                          0.095000   \n",
      "...                                                                 ...   \n",
      "secondary_cleaner.state.floatbank5_a_level                    -0.096191   \n",
      "secondary_cleaner.state.floatbank5_b_air                       0.123765   \n",
      "secondary_cleaner.state.floatbank5_b_level                    -0.115190   \n",
      "secondary_cleaner.state.floatbank6_a_air                      -0.018740   \n",
      "secondary_cleaner.state.floatbank6_a_level                     0.075302   \n",
      "\n",
      "                                            final.output.concentrate_sol  \\\n",
      "final.output.concentrate_ag                                     0.351985   \n",
      "final.output.concentrate_pb                                    -0.008451   \n",
      "final.output.concentrate_sol                                    1.000000   \n",
      "final.output.concentrate_au                                     0.217363   \n",
      "final.output.recovery                                           0.249632   \n",
      "...                                                                  ...   \n",
      "secondary_cleaner.state.floatbank5_a_level                      0.246817   \n",
      "secondary_cleaner.state.floatbank5_b_air                        0.015942   \n",
      "secondary_cleaner.state.floatbank5_b_level                      0.234651   \n",
      "secondary_cleaner.state.floatbank6_a_air                        0.228520   \n",
      "secondary_cleaner.state.floatbank6_a_level                     -0.276807   \n",
      "\n",
      "                                            final.output.concentrate_au  \\\n",
      "final.output.concentrate_ag                                   -0.104934   \n",
      "final.output.concentrate_pb                                    0.320916   \n",
      "final.output.concentrate_sol                                   0.217363   \n",
      "final.output.concentrate_au                                    1.000000   \n",
      "final.output.recovery                                          0.253067   \n",
      "...                                                                 ...   \n",
      "secondary_cleaner.state.floatbank5_a_level                    -0.098015   \n",
      "secondary_cleaner.state.floatbank5_b_air                      -0.014616   \n",
      "secondary_cleaner.state.floatbank5_b_level                    -0.086371   \n",
      "secondary_cleaner.state.floatbank6_a_air                      -0.123644   \n",
      "secondary_cleaner.state.floatbank6_a_level                    -0.030628   \n",
      "\n",
      "                                            final.output.recovery  \\\n",
      "final.output.concentrate_ag                              0.133238   \n",
      "final.output.concentrate_pb                              0.095000   \n",
      "final.output.concentrate_sol                             0.249632   \n",
      "final.output.concentrate_au                              0.253067   \n",
      "final.output.recovery                                    1.000000   \n",
      "...                                                           ...   \n",
      "secondary_cleaner.state.floatbank5_a_level               0.024196   \n",
      "secondary_cleaner.state.floatbank5_b_air                 0.068331   \n",
      "secondary_cleaner.state.floatbank5_b_level               0.043838   \n",
      "secondary_cleaner.state.floatbank6_a_air                -0.027593   \n",
      "secondary_cleaner.state.floatbank6_a_level              -0.035658   \n",
      "\n",
      "                                            final.output.tail_ag  \\\n",
      "final.output.concentrate_ag                             0.289552   \n",
      "final.output.concentrate_pb                            -0.100616   \n",
      "final.output.concentrate_sol                            0.225460   \n",
      "final.output.concentrate_au                             0.079619   \n",
      "final.output.recovery                                   0.151610   \n",
      "...                                                          ...   \n",
      "secondary_cleaner.state.floatbank5_a_level             -0.008345   \n",
      "secondary_cleaner.state.floatbank5_b_air                0.008731   \n",
      "secondary_cleaner.state.floatbank5_b_level             -0.000398   \n",
      "secondary_cleaner.state.floatbank6_a_air               -0.103898   \n",
      "secondary_cleaner.state.floatbank6_a_level             -0.123110   \n",
      "\n",
      "                                            final.output.tail_pb  \\\n",
      "final.output.concentrate_ag                            -0.099818   \n",
      "final.output.concentrate_pb                             0.240650   \n",
      "final.output.concentrate_sol                            0.259185   \n",
      "final.output.concentrate_au                             0.067949   \n",
      "final.output.recovery                                  -0.151287   \n",
      "...                                                          ...   \n",
      "secondary_cleaner.state.floatbank5_a_level              0.066600   \n",
      "secondary_cleaner.state.floatbank5_b_air                0.216899   \n",
      "secondary_cleaner.state.floatbank5_b_level              0.075721   \n",
      "secondary_cleaner.state.floatbank6_a_air                0.072273   \n",
      "secondary_cleaner.state.floatbank6_a_level             -0.183759   \n",
      "\n",
      "                                            final.output.tail_sol  \\\n",
      "final.output.concentrate_ag                              0.045896   \n",
      "final.output.concentrate_pb                              0.068287   \n",
      "final.output.concentrate_sol                            -0.023407   \n",
      "final.output.concentrate_au                              0.098396   \n",
      "final.output.recovery                                   -0.088242   \n",
      "...                                                           ...   \n",
      "secondary_cleaner.state.floatbank5_a_level              -0.085835   \n",
      "secondary_cleaner.state.floatbank5_b_air                -0.133159   \n",
      "secondary_cleaner.state.floatbank5_b_level              -0.104591   \n",
      "secondary_cleaner.state.floatbank6_a_air                 0.001968   \n",
      "secondary_cleaner.state.floatbank6_a_level               0.016933   \n",
      "\n",
      "                                            final.output.tail_au  \\\n",
      "final.output.concentrate_ag                             0.193935   \n",
      "final.output.concentrate_pb                             0.029186   \n",
      "final.output.concentrate_sol                            0.244294   \n",
      "final.output.concentrate_au                            -0.070600   \n",
      "final.output.recovery                                  -0.435553   \n",
      "...                                                          ...   \n",
      "secondary_cleaner.state.floatbank5_a_level              0.116366   \n",
      "secondary_cleaner.state.floatbank5_b_air               -0.104743   \n",
      "secondary_cleaner.state.floatbank5_b_level              0.101261   \n",
      "secondary_cleaner.state.floatbank6_a_air                0.068385   \n",
      "secondary_cleaner.state.floatbank6_a_level             -0.107111   \n",
      "\n",
      "                                            primary_cleaner.input.sulfate  \\\n",
      "final.output.concentrate_ag                                      0.015923   \n",
      "final.output.concentrate_pb                                      0.124170   \n",
      "final.output.concentrate_sol                                     0.343058   \n",
      "final.output.concentrate_au                                      0.108014   \n",
      "final.output.recovery                                            0.398307   \n",
      "...                                                                   ...   \n",
      "secondary_cleaner.state.floatbank5_a_level                      -0.031146   \n",
      "secondary_cleaner.state.floatbank5_b_air                        -0.000789   \n",
      "secondary_cleaner.state.floatbank5_b_level                      -0.022692   \n",
      "secondary_cleaner.state.floatbank6_a_air                        -0.106076   \n",
      "secondary_cleaner.state.floatbank6_a_level                      -0.141741   \n",
      "\n",
      "                                            ...  \\\n",
      "final.output.concentrate_ag                 ...   \n",
      "final.output.concentrate_pb                 ...   \n",
      "final.output.concentrate_sol                ...   \n",
      "final.output.concentrate_au                 ...   \n",
      "final.output.recovery                       ...   \n",
      "...                                         ...   \n",
      "secondary_cleaner.state.floatbank5_a_level  ...   \n",
      "secondary_cleaner.state.floatbank5_b_air    ...   \n",
      "secondary_cleaner.state.floatbank5_b_level  ...   \n",
      "secondary_cleaner.state.floatbank6_a_air    ...   \n",
      "secondary_cleaner.state.floatbank6_a_level  ...   \n",
      "\n",
      "                                            secondary_cleaner.state.floatbank4_a_air  \\\n",
      "final.output.concentrate_ag                                                 0.041765   \n",
      "final.output.concentrate_pb                                                -0.001365   \n",
      "final.output.concentrate_sol                                               -0.007337   \n",
      "final.output.concentrate_au                                                 0.035814   \n",
      "final.output.recovery                                                       0.207745   \n",
      "...                                                                              ...   \n",
      "secondary_cleaner.state.floatbank5_a_level                                  0.105263   \n",
      "secondary_cleaner.state.floatbank5_b_air                                    0.723039   \n",
      "secondary_cleaner.state.floatbank5_b_level                                  0.110727   \n",
      "secondary_cleaner.state.floatbank6_a_air                                    0.205628   \n",
      "secondary_cleaner.state.floatbank6_a_level                                 -0.001757   \n",
      "\n",
      "                                            secondary_cleaner.state.floatbank4_a_level  \\\n",
      "final.output.concentrate_ag                                                   0.169538   \n",
      "final.output.concentrate_pb                                                  -0.035219   \n",
      "final.output.concentrate_sol                                                  0.268279   \n",
      "final.output.concentrate_au                                                  -0.042100   \n",
      "final.output.recovery                                                         0.057454   \n",
      "...                                                                                ...   \n",
      "secondary_cleaner.state.floatbank5_a_level                                    0.790037   \n",
      "secondary_cleaner.state.floatbank5_b_air                                      0.244762   \n",
      "secondary_cleaner.state.floatbank5_b_level                                    0.747276   \n",
      "secondary_cleaner.state.floatbank6_a_air                                      0.566670   \n",
      "secondary_cleaner.state.floatbank6_a_level                                    0.256956   \n",
      "\n",
      "                                            secondary_cleaner.state.floatbank4_b_air  \\\n",
      "final.output.concentrate_ag                                                 0.020832   \n",
      "final.output.concentrate_pb                                                 0.092632   \n",
      "final.output.concentrate_sol                                                0.032091   \n",
      "final.output.concentrate_au                                                 0.002307   \n",
      "final.output.recovery                                                       0.170838   \n",
      "...                                                                              ...   \n",
      "secondary_cleaner.state.floatbank5_a_level                                  0.013033   \n",
      "secondary_cleaner.state.floatbank5_b_air                                    0.878027   \n",
      "secondary_cleaner.state.floatbank5_b_level                                  0.035808   \n",
      "secondary_cleaner.state.floatbank6_a_air                                    0.311765   \n",
      "secondary_cleaner.state.floatbank6_a_level                                 -0.108201   \n",
      "\n",
      "                                            secondary_cleaner.state.floatbank4_b_level  \\\n",
      "final.output.concentrate_ag                                                   0.005319   \n",
      "final.output.concentrate_pb                                                   0.069315   \n",
      "final.output.concentrate_sol                                                  0.134591   \n",
      "final.output.concentrate_au                                                  -0.011165   \n",
      "final.output.recovery                                                        -0.088934   \n",
      "...                                                                                ...   \n",
      "secondary_cleaner.state.floatbank5_a_level                                    0.554604   \n",
      "secondary_cleaner.state.floatbank5_b_air                                      0.153923   \n",
      "secondary_cleaner.state.floatbank5_b_level                                    0.515643   \n",
      "secondary_cleaner.state.floatbank6_a_air                                      0.271796   \n",
      "secondary_cleaner.state.floatbank6_a_level                                    0.281287   \n",
      "\n",
      "                                            secondary_cleaner.state.floatbank5_a_air  \\\n",
      "final.output.concentrate_ag                                                 0.013019   \n",
      "final.output.concentrate_pb                                                 0.095147   \n",
      "final.output.concentrate_sol                                                0.031137   \n",
      "final.output.concentrate_au                                                 0.005808   \n",
      "final.output.recovery                                                       0.098267   \n",
      "...                                                                              ...   \n",
      "secondary_cleaner.state.floatbank5_a_level                                  0.083423   \n",
      "secondary_cleaner.state.floatbank5_b_air                                    0.892482   \n",
      "secondary_cleaner.state.floatbank5_b_level                                  0.100697   \n",
      "secondary_cleaner.state.floatbank6_a_air                                    0.440929   \n",
      "secondary_cleaner.state.floatbank6_a_level                                 -0.003063   \n",
      "\n",
      "                                            secondary_cleaner.state.floatbank5_a_level  \\\n",
      "final.output.concentrate_ag                                                   0.228753   \n",
      "final.output.concentrate_pb                                                  -0.096191   \n",
      "final.output.concentrate_sol                                                  0.246817   \n",
      "final.output.concentrate_au                                                  -0.098015   \n",
      "final.output.recovery                                                         0.024196   \n",
      "...                                                                                ...   \n",
      "secondary_cleaner.state.floatbank5_a_level                                    1.000000   \n",
      "secondary_cleaner.state.floatbank5_b_air                                      0.036557   \n",
      "secondary_cleaner.state.floatbank5_b_level                                    0.884422   \n",
      "secondary_cleaner.state.floatbank6_a_air                                      0.512286   \n",
      "secondary_cleaner.state.floatbank6_a_level                                    0.379832   \n",
      "\n",
      "                                            secondary_cleaner.state.floatbank5_b_air  \\\n",
      "final.output.concentrate_ag                                                 0.021660   \n",
      "final.output.concentrate_pb                                                 0.123765   \n",
      "final.output.concentrate_sol                                                0.015942   \n",
      "final.output.concentrate_au                                                -0.014616   \n",
      "final.output.recovery                                                       0.068331   \n",
      "...                                                                              ...   \n",
      "secondary_cleaner.state.floatbank5_a_level                                  0.036557   \n",
      "secondary_cleaner.state.floatbank5_b_air                                    1.000000   \n",
      "secondary_cleaner.state.floatbank5_b_level                                  0.046352   \n",
      "secondary_cleaner.state.floatbank6_a_air                                    0.474619   \n",
      "secondary_cleaner.state.floatbank6_a_level                                 -0.025908   \n",
      "\n",
      "                                            secondary_cleaner.state.floatbank5_b_level  \\\n",
      "final.output.concentrate_ag                                                   0.199048   \n",
      "final.output.concentrate_pb                                                  -0.115190   \n",
      "final.output.concentrate_sol                                                  0.234651   \n",
      "final.output.concentrate_au                                                  -0.086371   \n",
      "final.output.recovery                                                         0.043838   \n",
      "...                                                                                ...   \n",
      "secondary_cleaner.state.floatbank5_a_level                                    0.884422   \n",
      "secondary_cleaner.state.floatbank5_b_air                                      0.046352   \n",
      "secondary_cleaner.state.floatbank5_b_level                                    1.000000   \n",
      "secondary_cleaner.state.floatbank6_a_air                                      0.493110   \n",
      "secondary_cleaner.state.floatbank6_a_level                                    0.342094   \n",
      "\n",
      "                                            secondary_cleaner.state.floatbank6_a_air  \\\n",
      "final.output.concentrate_ag                                                 0.170298   \n",
      "final.output.concentrate_pb                                                -0.018740   \n",
      "final.output.concentrate_sol                                                0.228520   \n",
      "final.output.concentrate_au                                                -0.123644   \n",
      "final.output.recovery                                                      -0.027593   \n",
      "...                                                                              ...   \n",
      "secondary_cleaner.state.floatbank5_a_level                                  0.512286   \n",
      "secondary_cleaner.state.floatbank5_b_air                                    0.474619   \n",
      "secondary_cleaner.state.floatbank5_b_level                                  0.493110   \n",
      "secondary_cleaner.state.floatbank6_a_air                                    1.000000   \n",
      "secondary_cleaner.state.floatbank6_a_level                                  0.098643   \n",
      "\n",
      "                                            secondary_cleaner.state.floatbank6_a_level  \n",
      "final.output.concentrate_ag                                                   0.061009  \n",
      "final.output.concentrate_pb                                                   0.075302  \n",
      "final.output.concentrate_sol                                                 -0.276807  \n",
      "final.output.concentrate_au                                                  -0.030628  \n",
      "final.output.recovery                                                        -0.035658  \n",
      "...                                                                                ...  \n",
      "secondary_cleaner.state.floatbank5_a_level                                    0.379832  \n",
      "secondary_cleaner.state.floatbank5_b_air                                     -0.025908  \n",
      "secondary_cleaner.state.floatbank5_b_level                                    0.342094  \n",
      "secondary_cleaner.state.floatbank6_a_air                                      0.098643  \n",
      "secondary_cleaner.state.floatbank6_a_level                                    1.000000  \n",
      "\n",
      "[86 rows x 86 columns]\n"
     ]
    }
   ],
   "source": [
    "data_info(train_new)"
   ]
  },
  {
   "cell_type": "code",
   "execution_count": 10,
   "metadata": {
    "ExecuteTime": {
     "end_time": "2023-04-18T08:18:33.431534Z",
     "start_time": "2023-04-18T08:18:33.013266Z"
    }
   },
   "outputs": [
    {
     "name": "stdout",
     "output_type": "stream",
     "text": [
      "Верх таблицы:\n",
      "                   date  primary_cleaner.input.sulfate  \\\n",
      "0  2016-09-01 00:59:59                     210.800909   \n",
      "1  2016-09-01 01:59:59                     215.392455   \n",
      "2  2016-09-01 02:59:59                     215.259946   \n",
      "3  2016-09-01 03:59:59                     215.336236   \n",
      "4  2016-09-01 04:59:59                     199.099327   \n",
      "\n",
      "   primary_cleaner.input.depressant  primary_cleaner.input.feed_size  \\\n",
      "0                         14.993118                         8.080000   \n",
      "1                         14.987471                         8.080000   \n",
      "2                         12.884934                         7.786667   \n",
      "3                         12.006805                         7.640000   \n",
      "4                         10.682530                         7.530000   \n",
      "\n",
      "   primary_cleaner.input.xanthate  primary_cleaner.state.floatbank8_a_air  \\\n",
      "0                        1.005021                             1398.981301   \n",
      "1                        0.990469                             1398.777912   \n",
      "2                        0.996043                             1398.493666   \n",
      "3                        0.863514                             1399.618111   \n",
      "4                        0.805575                             1401.268123   \n",
      "\n",
      "   primary_cleaner.state.floatbank8_a_level  \\\n",
      "0                               -500.225577   \n",
      "1                               -500.057435   \n",
      "2                               -500.868360   \n",
      "3                               -498.863574   \n",
      "4                               -500.808305   \n",
      "\n",
      "   primary_cleaner.state.floatbank8_b_air  \\\n",
      "0                             1399.144926   \n",
      "1                             1398.055362   \n",
      "2                             1398.860436   \n",
      "3                             1397.440120   \n",
      "4                             1398.128818   \n",
      "\n",
      "   primary_cleaner.state.floatbank8_b_level  \\\n",
      "0                               -499.919735   \n",
      "1                               -499.778182   \n",
      "2                               -499.764529   \n",
      "3                               -499.211024   \n",
      "4                               -499.504543   \n",
      "\n",
      "   primary_cleaner.state.floatbank8_c_air  ...  \\\n",
      "0                             1400.102998  ...   \n",
      "1                             1396.151033  ...   \n",
      "2                             1398.075709  ...   \n",
      "3                             1400.129303  ...   \n",
      "4                             1402.172226  ...   \n",
      "\n",
      "   secondary_cleaner.state.floatbank4_a_air  \\\n",
      "0                                 12.023554   \n",
      "1                                 12.058140   \n",
      "2                                 11.962366   \n",
      "3                                 12.033091   \n",
      "4                                 12.025367   \n",
      "\n",
      "   secondary_cleaner.state.floatbank4_a_level  \\\n",
      "0                                 -497.795834   \n",
      "1                                 -498.695773   \n",
      "2                                 -498.767484   \n",
      "3                                 -498.350935   \n",
      "4                                 -500.786497   \n",
      "\n",
      "   secondary_cleaner.state.floatbank4_b_air  \\\n",
      "0                                  8.016656   \n",
      "1                                  8.130979   \n",
      "2                                  8.096893   \n",
      "3                                  8.074946   \n",
      "4                                  8.054678   \n",
      "\n",
      "   secondary_cleaner.state.floatbank4_b_level  \\\n",
      "0                                 -501.289139   \n",
      "1                                 -499.634209   \n",
      "2                                 -500.827423   \n",
      "3                                 -499.474407   \n",
      "4                                 -500.397500   \n",
      "\n",
      "   secondary_cleaner.state.floatbank5_a_air  \\\n",
      "0                                  7.946562   \n",
      "1                                  7.958270   \n",
      "2                                  8.071056   \n",
      "3                                  7.897085   \n",
      "4                                  8.107890   \n",
      "\n",
      "   secondary_cleaner.state.floatbank5_a_level  \\\n",
      "0                                 -432.317850   \n",
      "1                                 -525.839648   \n",
      "2                                 -500.801673   \n",
      "3                                 -500.868509   \n",
      "4                                 -509.526725   \n",
      "\n",
      "   secondary_cleaner.state.floatbank5_b_air  \\\n",
      "0                                  4.872511   \n",
      "1                                  4.878850   \n",
      "2                                  4.905125   \n",
      "3                                  4.931400   \n",
      "4                                  4.957674   \n",
      "\n",
      "   secondary_cleaner.state.floatbank5_b_level  \\\n",
      "0                                 -500.037437   \n",
      "1                                 -500.162375   \n",
      "2                                 -499.828510   \n",
      "3                                 -499.963623   \n",
      "4                                 -500.360026   \n",
      "\n",
      "   secondary_cleaner.state.floatbank6_a_air  \\\n",
      "0                                 26.705889   \n",
      "1                                 25.019940   \n",
      "2                                 24.994862   \n",
      "3                                 24.948919   \n",
      "4                                 25.003331   \n",
      "\n",
      "   secondary_cleaner.state.floatbank6_a_level  \n",
      "0                                 -499.709414  \n",
      "1                                 -499.819438  \n",
      "2                                 -500.622559  \n",
      "3                                 -498.709987  \n",
      "4                                 -500.856333  \n",
      "\n",
      "[5 rows x 53 columns]\n",
      "\n",
      "<class 'pandas.core.frame.DataFrame'>\n",
      "RangeIndex: 5290 entries, 0 to 5289\n",
      "Data columns (total 53 columns):\n",
      " #   Column                                      Non-Null Count  Dtype  \n",
      "---  ------                                      --------------  -----  \n",
      " 0   date                                        5290 non-null   object \n",
      " 1   primary_cleaner.input.sulfate               5286 non-null   float64\n",
      " 2   primary_cleaner.input.depressant            5285 non-null   float64\n",
      " 3   primary_cleaner.input.feed_size             5290 non-null   float64\n",
      " 4   primary_cleaner.input.xanthate              5286 non-null   float64\n",
      " 5   primary_cleaner.state.floatbank8_a_air      5290 non-null   float64\n",
      " 6   primary_cleaner.state.floatbank8_a_level    5290 non-null   float64\n",
      " 7   primary_cleaner.state.floatbank8_b_air      5290 non-null   float64\n",
      " 8   primary_cleaner.state.floatbank8_b_level    5290 non-null   float64\n",
      " 9   primary_cleaner.state.floatbank8_c_air      5290 non-null   float64\n",
      " 10  primary_cleaner.state.floatbank8_c_level    5290 non-null   float64\n",
      " 11  primary_cleaner.state.floatbank8_d_air      5290 non-null   float64\n",
      " 12  primary_cleaner.state.floatbank8_d_level    5290 non-null   float64\n",
      " 13  rougher.input.feed_ag                       5290 non-null   float64\n",
      " 14  rougher.input.feed_pb                       5290 non-null   float64\n",
      " 15  rougher.input.feed_rate                     5287 non-null   float64\n",
      " 16  rougher.input.feed_size                     5289 non-null   float64\n",
      " 17  rougher.input.feed_sol                      5269 non-null   float64\n",
      " 18  rougher.input.feed_au                       5290 non-null   float64\n",
      " 19  rougher.input.floatbank10_sulfate           5285 non-null   float64\n",
      " 20  rougher.input.floatbank10_xanthate          5290 non-null   float64\n",
      " 21  rougher.input.floatbank11_sulfate           5282 non-null   float64\n",
      " 22  rougher.input.floatbank11_xanthate          5265 non-null   float64\n",
      " 23  rougher.state.floatbank10_a_air             5290 non-null   float64\n",
      " 24  rougher.state.floatbank10_a_level           5290 non-null   float64\n",
      " 25  rougher.state.floatbank10_b_air             5290 non-null   float64\n",
      " 26  rougher.state.floatbank10_b_level           5290 non-null   float64\n",
      " 27  rougher.state.floatbank10_c_air             5290 non-null   float64\n",
      " 28  rougher.state.floatbank10_c_level           5290 non-null   float64\n",
      " 29  rougher.state.floatbank10_d_air             5290 non-null   float64\n",
      " 30  rougher.state.floatbank10_d_level           5290 non-null   float64\n",
      " 31  rougher.state.floatbank10_e_air             5290 non-null   float64\n",
      " 32  rougher.state.floatbank10_e_level           5290 non-null   float64\n",
      " 33  rougher.state.floatbank10_f_air             5290 non-null   float64\n",
      " 34  rougher.state.floatbank10_f_level           5290 non-null   float64\n",
      " 35  secondary_cleaner.state.floatbank2_a_air    5287 non-null   float64\n",
      " 36  secondary_cleaner.state.floatbank2_a_level  5290 non-null   float64\n",
      " 37  secondary_cleaner.state.floatbank2_b_air    5288 non-null   float64\n",
      " 38  secondary_cleaner.state.floatbank2_b_level  5290 non-null   float64\n",
      " 39  secondary_cleaner.state.floatbank3_a_air    5281 non-null   float64\n",
      " 40  secondary_cleaner.state.floatbank3_a_level  5290 non-null   float64\n",
      " 41  secondary_cleaner.state.floatbank3_b_air    5290 non-null   float64\n",
      " 42  secondary_cleaner.state.floatbank3_b_level  5290 non-null   float64\n",
      " 43  secondary_cleaner.state.floatbank4_a_air    5290 non-null   float64\n",
      " 44  secondary_cleaner.state.floatbank4_a_level  5290 non-null   float64\n",
      " 45  secondary_cleaner.state.floatbank4_b_air    5290 non-null   float64\n",
      " 46  secondary_cleaner.state.floatbank4_b_level  5290 non-null   float64\n",
      " 47  secondary_cleaner.state.floatbank5_a_air    5290 non-null   float64\n",
      " 48  secondary_cleaner.state.floatbank5_a_level  5290 non-null   float64\n",
      " 49  secondary_cleaner.state.floatbank5_b_air    5290 non-null   float64\n",
      " 50  secondary_cleaner.state.floatbank5_b_level  5290 non-null   float64\n",
      " 51  secondary_cleaner.state.floatbank6_a_air    5290 non-null   float64\n",
      " 52  secondary_cleaner.state.floatbank6_a_level  5290 non-null   float64\n",
      "dtypes: float64(52), object(1)\n",
      "memory usage: 2.1+ MB\n",
      "Основная информация о таблице:\n",
      " None\n",
      "\n",
      "Распределение значений таблицы:\n",
      "                        date  primary_cleaner.input.sulfate  \\\n",
      "count                  5290                    5286.000000   \n",
      "unique                 5290                            NaN   \n",
      "top     2016-09-01 00:59:59                            NaN   \n",
      "freq                      1                            NaN   \n",
      "mean                    NaN                     174.839652   \n",
      "std                     NaN                      43.027080   \n",
      "min                     NaN                       2.566156   \n",
      "25%                     NaN                     147.121401   \n",
      "50%                     NaN                     177.828489   \n",
      "75%                     NaN                     208.125438   \n",
      "max                     NaN                     265.983123   \n",
      "\n",
      "        primary_cleaner.input.depressant  primary_cleaner.input.feed_size  \\\n",
      "count                        5285.000000                      5290.000000   \n",
      "unique                               NaN                              NaN   \n",
      "top                                  NaN                              NaN   \n",
      "freq                                 NaN                              NaN   \n",
      "mean                            8.683596                         7.266339   \n",
      "std                             3.072050                         0.610219   \n",
      "min                             0.003839                         5.650000   \n",
      "25%                             6.489555                         6.890000   \n",
      "50%                             8.052207                         7.250000   \n",
      "75%                            10.027764                         7.600000   \n",
      "max                            40.000000                        15.500000   \n",
      "\n",
      "        primary_cleaner.input.xanthate  \\\n",
      "count                      5286.000000   \n",
      "unique                             NaN   \n",
      "top                                NaN   \n",
      "freq                               NaN   \n",
      "mean                          1.383803   \n",
      "std                           0.643474   \n",
      "min                           0.004984   \n",
      "25%                           0.907623   \n",
      "50%                           1.197610   \n",
      "75%                           1.797819   \n",
      "max                           4.102454   \n",
      "\n",
      "        primary_cleaner.state.floatbank8_a_air  \\\n",
      "count                             5.290000e+03   \n",
      "unique                                     NaN   \n",
      "top                                        NaN   \n",
      "freq                                       NaN   \n",
      "mean                              1.539494e+03   \n",
      "std                               1.167979e+02   \n",
      "min                               5.445860e-32   \n",
      "25%                               1.498936e+03   \n",
      "50%                               1.585129e+03   \n",
      "75%                               1.602077e+03   \n",
      "max                               2.103104e+03   \n",
      "\n",
      "        primary_cleaner.state.floatbank8_a_level  \\\n",
      "count                                5290.000000   \n",
      "unique                                       NaN   \n",
      "top                                          NaN   \n",
      "freq                                         NaN   \n",
      "mean                                 -497.665883   \n",
      "std                                    19.952431   \n",
      "min                                  -795.316337   \n",
      "25%                                  -500.357298   \n",
      "50%                                  -499.969164   \n",
      "75%                                  -499.568951   \n",
      "max                                   -57.195404   \n",
      "\n",
      "        primary_cleaner.state.floatbank8_b_air  \\\n",
      "count                             5.290000e+03   \n",
      "unique                                     NaN   \n",
      "top                                        NaN   \n",
      "freq                                       NaN   \n",
      "mean                              1.545174e+03   \n",
      "std                               1.222246e+02   \n",
      "min                               6.647490e-32   \n",
      "25%                               1.498971e+03   \n",
      "50%                               1.595622e+03   \n",
      "75%                               1.602324e+03   \n",
      "max                               1.813084e+03   \n",
      "\n",
      "        primary_cleaner.state.floatbank8_b_level  \\\n",
      "count                                5290.000000   \n",
      "unique                                       NaN   \n",
      "top                                          NaN   \n",
      "freq                                         NaN   \n",
      "mean                                 -500.273098   \n",
      "std                                    32.968307   \n",
      "min                                  -799.997015   \n",
      "25%                                  -500.703002   \n",
      "50%                                  -500.028514   \n",
      "75%                                  -499.293257   \n",
      "max                                  -142.527229   \n",
      "\n",
      "        primary_cleaner.state.floatbank8_c_air  ...  \\\n",
      "count                             5.290000e+03  ...   \n",
      "unique                                     NaN  ...   \n",
      "top                                        NaN  ...   \n",
      "freq                                       NaN  ...   \n",
      "mean                              1.527272e+03  ...   \n",
      "std                               1.225380e+02  ...   \n",
      "min                               4.033736e-32  ...   \n",
      "25%                               1.473230e+03  ...   \n",
      "50%                               1.549595e+03  ...   \n",
      "75%                               1.601144e+03  ...   \n",
      "max                               1.715054e+03  ...   \n",
      "\n",
      "        secondary_cleaner.state.floatbank4_a_air  \\\n",
      "count                               5.290000e+03   \n",
      "unique                                       NaN   \n",
      "top                                          NaN   \n",
      "freq                                         NaN   \n",
      "mean                                1.632007e+01   \n",
      "std                                 3.493583e+00   \n",
      "min                                 1.079872e-16   \n",
      "25%                                 1.403618e+01   \n",
      "50%                                 1.700847e+01   \n",
      "75%                                 1.803862e+01   \n",
      "max                                 3.005180e+01   \n",
      "\n",
      "        secondary_cleaner.state.floatbank4_a_level  \\\n",
      "count                                  5290.000000   \n",
      "unique                                         NaN   \n",
      "top                                            NaN   \n",
      "freq                                           NaN   \n",
      "mean                                   -505.144570   \n",
      "std                                      31.427337   \n",
      "min                                    -799.798523   \n",
      "25%                                    -500.868258   \n",
      "50%                                    -500.115727   \n",
      "75%                                    -499.404224   \n",
      "max                                    -401.565212   \n",
      "\n",
      "        secondary_cleaner.state.floatbank4_b_air  \\\n",
      "count                               5.290000e+03   \n",
      "unique                                       NaN   \n",
      "top                                          NaN   \n",
      "freq                                         NaN   \n",
      "mean                                1.373544e+01   \n",
      "std                                 3.430484e+00   \n",
      "min                                 2.489718e-17   \n",
      "25%                                 1.202862e+01   \n",
      "50%                                 1.496486e+01   \n",
      "75%                                 1.596213e+01   \n",
      "max                                 3.126971e+01   \n",
      "\n",
      "        secondary_cleaner.state.floatbank4_b_level  \\\n",
      "count                                  5290.000000   \n",
      "unique                                         NaN   \n",
      "top                                            NaN   \n",
      "freq                                           NaN   \n",
      "mean                                   -463.349858   \n",
      "std                                      86.189107   \n",
      "min                                    -800.836914   \n",
      "25%                                    -500.323028   \n",
      "50%                                    -499.576513   \n",
      "75%                                    -400.933805   \n",
      "max                                      -6.506986   \n",
      "\n",
      "        secondary_cleaner.state.floatbank5_a_air  \\\n",
      "count                                5290.000000   \n",
      "unique                                       NaN   \n",
      "top                                          NaN   \n",
      "freq                                         NaN   \n",
      "mean                                   12.804186   \n",
      "std                                     3.026591   \n",
      "min                                     0.069227   \n",
      "25%                                    10.914838   \n",
      "50%                                    12.954182   \n",
      "75%                                    15.097528   \n",
      "max                                    25.258848   \n",
      "\n",
      "        secondary_cleaner.state.floatbank5_a_level  \\\n",
      "count                                  5290.000000   \n",
      "unique                                         NaN   \n",
      "top                                            NaN   \n",
      "freq                                           NaN   \n",
      "mean                                   -501.329122   \n",
      "std                                      17.951495   \n",
      "min                                    -797.323986   \n",
      "25%                                    -500.726841   \n",
      "50%                                    -499.990332   \n",
      "75%                                    -499.283191   \n",
      "max                                    -244.483566   \n",
      "\n",
      "        secondary_cleaner.state.floatbank5_b_air  \\\n",
      "count                                5290.000000   \n",
      "unique                                       NaN   \n",
      "top                                          NaN   \n",
      "freq                                         NaN   \n",
      "mean                                    9.881145   \n",
      "std                                     2.868205   \n",
      "min                                     0.528083   \n",
      "25%                                     8.036719   \n",
      "50%                                    10.004301   \n",
      "75%                                    11.997467   \n",
      "max                                    14.086866   \n",
      "\n",
      "        secondary_cleaner.state.floatbank5_b_level  \\\n",
      "count                                  5290.000000   \n",
      "unique                                         NaN   \n",
      "top                                            NaN   \n",
      "freq                                           NaN   \n",
      "mean                                   -495.663398   \n",
      "std                                      34.535007   \n",
      "min                                    -800.220337   \n",
      "25%                                    -500.194668   \n",
      "50%                                    -499.990535   \n",
      "75%                                    -499.719913   \n",
      "max                                    -137.740004   \n",
      "\n",
      "        secondary_cleaner.state.floatbank6_a_air  \\\n",
      "count                                5290.000000   \n",
      "unique                                       NaN   \n",
      "top                                          NaN   \n",
      "freq                                         NaN   \n",
      "mean                                   17.304935   \n",
      "std                                     4.536544   \n",
      "min                                    -0.079426   \n",
      "25%                                    13.997317   \n",
      "50%                                    16.014935   \n",
      "75%                                    21.020013   \n",
      "max                                    26.705889   \n",
      "\n",
      "        secondary_cleaner.state.floatbank6_a_level  \n",
      "count                                  5290.000000  \n",
      "unique                                         NaN  \n",
      "top                                            NaN  \n",
      "freq                                           NaN  \n",
      "mean                                   -501.793193  \n",
      "std                                      39.044215  \n",
      "min                                    -809.741464  \n",
      "25%                                    -500.690984  \n",
      "50%                                    -500.007126  \n",
      "75%                                    -499.373018  \n",
      "max                                    -123.307487  \n",
      "\n",
      "[11 rows x 53 columns]\n",
      "\n",
      "Количество нулевых значений:\n",
      " rougher.input.floatbank11_xanthate            25\n",
      "rougher.input.feed_sol                        21\n",
      "secondary_cleaner.state.floatbank3_a_air       9\n",
      "rougher.input.floatbank11_sulfate              8\n",
      "primary_cleaner.input.depressant               5\n",
      "rougher.input.floatbank10_sulfate              5\n",
      "primary_cleaner.input.xanthate                 4\n",
      "primary_cleaner.input.sulfate                  4\n",
      "rougher.input.feed_rate                        3\n",
      "secondary_cleaner.state.floatbank2_a_air       3\n",
      "secondary_cleaner.state.floatbank2_b_air       2\n",
      "rougher.input.feed_size                        1\n",
      "secondary_cleaner.state.floatbank2_b_level     0\n",
      "rougher.state.floatbank10_f_level              0\n",
      "rougher.state.floatbank10_f_air                0\n",
      "secondary_cleaner.state.floatbank3_a_level     0\n",
      "secondary_cleaner.state.floatbank2_a_level     0\n",
      "date                                           0\n",
      "rougher.state.floatbank10_e_air                0\n",
      "secondary_cleaner.state.floatbank3_b_air       0\n",
      "secondary_cleaner.state.floatbank3_b_level     0\n",
      "secondary_cleaner.state.floatbank4_a_air       0\n",
      "secondary_cleaner.state.floatbank4_a_level     0\n",
      "secondary_cleaner.state.floatbank4_b_air       0\n",
      "secondary_cleaner.state.floatbank4_b_level     0\n",
      "secondary_cleaner.state.floatbank5_a_air       0\n",
      "secondary_cleaner.state.floatbank5_a_level     0\n",
      "secondary_cleaner.state.floatbank5_b_air       0\n",
      "secondary_cleaner.state.floatbank5_b_level     0\n",
      "secondary_cleaner.state.floatbank6_a_air       0\n",
      "rougher.state.floatbank10_e_level              0\n",
      "rougher.state.floatbank10_b_level              0\n",
      "rougher.state.floatbank10_d_level              0\n",
      "primary_cleaner.state.floatbank8_d_level       0\n",
      "primary_cleaner.input.feed_size                0\n",
      "primary_cleaner.state.floatbank8_a_air         0\n",
      "primary_cleaner.state.floatbank8_a_level       0\n",
      "primary_cleaner.state.floatbank8_b_air         0\n",
      "primary_cleaner.state.floatbank8_b_level       0\n",
      "primary_cleaner.state.floatbank8_c_air         0\n",
      "primary_cleaner.state.floatbank8_c_level       0\n",
      "primary_cleaner.state.floatbank8_d_air         0\n",
      "rougher.input.feed_ag                          0\n",
      "rougher.state.floatbank10_d_air                0\n",
      "rougher.input.feed_pb                          0\n",
      "rougher.input.feed_au                          0\n",
      "rougher.input.floatbank10_xanthate             0\n",
      "rougher.state.floatbank10_a_air                0\n",
      "rougher.state.floatbank10_a_level              0\n",
      "rougher.state.floatbank10_b_air                0\n",
      "rougher.state.floatbank10_c_air                0\n",
      "rougher.state.floatbank10_c_level              0\n",
      "secondary_cleaner.state.floatbank6_a_level     0\n",
      "dtype: int64\n",
      "\n",
      "Количество дубликатов:\n",
      " 0\n",
      "Корреляция:\n",
      "                                             primary_cleaner.input.sulfate  \\\n",
      "primary_cleaner.input.sulfate                                    1.000000   \n",
      "primary_cleaner.input.depressant                                 0.455718   \n",
      "primary_cleaner.input.feed_size                                  0.114456   \n",
      "primary_cleaner.input.xanthate                                   0.497568   \n",
      "primary_cleaner.state.floatbank8_a_air                           0.102653   \n",
      "primary_cleaner.state.floatbank8_a_level                         0.048032   \n",
      "primary_cleaner.state.floatbank8_b_air                           0.075737   \n",
      "primary_cleaner.state.floatbank8_b_level                         0.138949   \n",
      "primary_cleaner.state.floatbank8_c_air                           0.024710   \n",
      "primary_cleaner.state.floatbank8_c_level                         0.027697   \n",
      "primary_cleaner.state.floatbank8_d_air                           0.095001   \n",
      "primary_cleaner.state.floatbank8_d_level                        -0.020533   \n",
      "rougher.input.feed_ag                                            0.359619   \n",
      "rougher.input.feed_pb                                            0.428382   \n",
      "rougher.input.feed_rate                                          0.464251   \n",
      "rougher.input.feed_size                                         -0.009796   \n",
      "rougher.input.feed_sol                                           0.423859   \n",
      "rougher.input.feed_au                                            0.437016   \n",
      "rougher.input.floatbank10_sulfate                                0.617768   \n",
      "rougher.input.floatbank10_xanthate                               0.557307   \n",
      "rougher.input.floatbank11_sulfate                                0.583022   \n",
      "rougher.input.floatbank11_xanthate                               0.527014   \n",
      "rougher.state.floatbank10_a_air                                  0.236898   \n",
      "rougher.state.floatbank10_a_level                                0.222913   \n",
      "rougher.state.floatbank10_b_air                                 -0.230670   \n",
      "rougher.state.floatbank10_b_level                               -0.047665   \n",
      "rougher.state.floatbank10_c_air                                 -0.247043   \n",
      "rougher.state.floatbank10_c_level                               -0.051896   \n",
      "rougher.state.floatbank10_d_air                                 -0.247163   \n",
      "rougher.state.floatbank10_d_level                               -0.016032   \n",
      "rougher.state.floatbank10_e_air                                 -0.234958   \n",
      "rougher.state.floatbank10_e_level                               -0.120379   \n",
      "rougher.state.floatbank10_f_air                                 -0.250187   \n",
      "rougher.state.floatbank10_f_level                               -0.063497   \n",
      "secondary_cleaner.state.floatbank2_a_air                         0.051989   \n",
      "secondary_cleaner.state.floatbank2_a_level                      -0.039145   \n",
      "secondary_cleaner.state.floatbank2_b_air                         0.254702   \n",
      "secondary_cleaner.state.floatbank2_b_level                      -0.011921   \n",
      "secondary_cleaner.state.floatbank3_a_air                         0.136986   \n",
      "secondary_cleaner.state.floatbank3_a_level                       0.003869   \n",
      "secondary_cleaner.state.floatbank3_b_air                         0.148037   \n",
      "secondary_cleaner.state.floatbank3_b_level                       0.020303   \n",
      "secondary_cleaner.state.floatbank4_a_air                         0.305793   \n",
      "secondary_cleaner.state.floatbank4_a_level                       0.117976   \n",
      "secondary_cleaner.state.floatbank4_b_air                         0.348395   \n",
      "secondary_cleaner.state.floatbank4_b_level                       0.068693   \n",
      "secondary_cleaner.state.floatbank5_a_air                         0.093608   \n",
      "secondary_cleaner.state.floatbank5_a_level                       0.132193   \n",
      "secondary_cleaner.state.floatbank5_b_air                         0.156583   \n",
      "secondary_cleaner.state.floatbank5_b_level                       0.072618   \n",
      "secondary_cleaner.state.floatbank6_a_air                        -0.134499   \n",
      "secondary_cleaner.state.floatbank6_a_level                       0.033945   \n",
      "\n",
      "                                            primary_cleaner.input.depressant  \\\n",
      "primary_cleaner.input.sulfate                                       0.455718   \n",
      "primary_cleaner.input.depressant                                    1.000000   \n",
      "primary_cleaner.input.feed_size                                     0.215703   \n",
      "primary_cleaner.input.xanthate                                      0.150760   \n",
      "primary_cleaner.state.floatbank8_a_air                              0.144443   \n",
      "primary_cleaner.state.floatbank8_a_level                            0.242592   \n",
      "primary_cleaner.state.floatbank8_b_air                              0.148658   \n",
      "primary_cleaner.state.floatbank8_b_level                            0.201499   \n",
      "primary_cleaner.state.floatbank8_c_air                              0.036655   \n",
      "primary_cleaner.state.floatbank8_c_level                            0.207632   \n",
      "primary_cleaner.state.floatbank8_d_air                              0.141651   \n",
      "primary_cleaner.state.floatbank8_d_level                            0.082802   \n",
      "rougher.input.feed_ag                                               0.497866   \n",
      "rougher.input.feed_pb                                               0.465961   \n",
      "rougher.input.feed_rate                                             0.132437   \n",
      "rougher.input.feed_size                                             0.004431   \n",
      "rougher.input.feed_sol                                              0.169735   \n",
      "rougher.input.feed_au                                               0.460965   \n",
      "rougher.input.floatbank10_sulfate                                   0.240528   \n",
      "rougher.input.floatbank10_xanthate                                  0.347558   \n",
      "rougher.input.floatbank11_sulfate                                   0.208050   \n",
      "rougher.input.floatbank11_xanthate                                  0.361123   \n",
      "rougher.state.floatbank10_a_air                                     0.422574   \n",
      "rougher.state.floatbank10_a_level                                   0.133122   \n",
      "rougher.state.floatbank10_b_air                                    -0.355519   \n",
      "rougher.state.floatbank10_b_level                                  -0.112394   \n",
      "rougher.state.floatbank10_c_air                                    -0.366098   \n",
      "rougher.state.floatbank10_c_level                                  -0.102649   \n",
      "rougher.state.floatbank10_d_air                                    -0.346803   \n",
      "rougher.state.floatbank10_d_level                                  -0.079246   \n",
      "rougher.state.floatbank10_e_air                                    -0.361011   \n",
      "rougher.state.floatbank10_e_level                                  -0.129417   \n",
      "rougher.state.floatbank10_f_air                                    -0.376446   \n",
      "rougher.state.floatbank10_f_level                                  -0.110906   \n",
      "secondary_cleaner.state.floatbank2_a_air                            0.084117   \n",
      "secondary_cleaner.state.floatbank2_a_level                         -0.084408   \n",
      "secondary_cleaner.state.floatbank2_b_air                            0.234562   \n",
      "secondary_cleaner.state.floatbank2_b_level                         -0.098847   \n",
      "secondary_cleaner.state.floatbank3_a_air                            0.282703   \n",
      "secondary_cleaner.state.floatbank3_a_level                          0.125933   \n",
      "secondary_cleaner.state.floatbank3_b_air                            0.256512   \n",
      "secondary_cleaner.state.floatbank3_b_level                          0.115952   \n",
      "secondary_cleaner.state.floatbank4_a_air                            0.326090   \n",
      "secondary_cleaner.state.floatbank4_a_level                          0.117510   \n",
      "secondary_cleaner.state.floatbank4_b_air                            0.238618   \n",
      "secondary_cleaner.state.floatbank4_b_level                         -0.085583   \n",
      "secondary_cleaner.state.floatbank5_a_air                           -0.090184   \n",
      "secondary_cleaner.state.floatbank5_a_level                          0.009138   \n",
      "secondary_cleaner.state.floatbank5_b_air                            0.064209   \n",
      "secondary_cleaner.state.floatbank5_b_level                          0.002988   \n",
      "secondary_cleaner.state.floatbank6_a_air                           -0.198422   \n",
      "secondary_cleaner.state.floatbank6_a_level                          0.034654   \n",
      "\n",
      "                                            primary_cleaner.input.feed_size  \\\n",
      "primary_cleaner.input.sulfate                                      0.114456   \n",
      "primary_cleaner.input.depressant                                   0.215703   \n",
      "primary_cleaner.input.feed_size                                    1.000000   \n",
      "primary_cleaner.input.xanthate                                    -0.291792   \n",
      "primary_cleaner.state.floatbank8_a_air                            -0.064628   \n",
      "primary_cleaner.state.floatbank8_a_level                           0.082869   \n",
      "primary_cleaner.state.floatbank8_b_air                            -0.063490   \n",
      "primary_cleaner.state.floatbank8_b_level                           0.071470   \n",
      "primary_cleaner.state.floatbank8_c_air                            -0.091542   \n",
      "primary_cleaner.state.floatbank8_c_level                           0.066384   \n",
      "primary_cleaner.state.floatbank8_d_air                            -0.074156   \n",
      "primary_cleaner.state.floatbank8_d_level                           0.065808   \n",
      "rougher.input.feed_ag                                              0.338795   \n",
      "rougher.input.feed_pb                                              0.000398   \n",
      "rougher.input.feed_rate                                            0.020000   \n",
      "rougher.input.feed_size                                           -0.087331   \n",
      "rougher.input.feed_sol                                             0.054595   \n",
      "rougher.input.feed_au                                              0.238692   \n",
      "rougher.input.floatbank10_sulfate                                 -0.187934   \n",
      "rougher.input.floatbank10_xanthate                                 0.224360   \n",
      "rougher.input.floatbank11_sulfate                                 -0.236345   \n",
      "rougher.input.floatbank11_xanthate                                 0.185176   \n",
      "rougher.state.floatbank10_a_air                                    0.023678   \n",
      "rougher.state.floatbank10_a_level                                 -0.236632   \n",
      "rougher.state.floatbank10_b_air                                    0.044605   \n",
      "rougher.state.floatbank10_b_level                                  0.051614   \n",
      "rougher.state.floatbank10_c_air                                    0.064617   \n",
      "rougher.state.floatbank10_c_level                                  0.049608   \n",
      "rougher.state.floatbank10_d_air                                   -0.009526   \n",
      "rougher.state.floatbank10_d_level                                  0.073623   \n",
      "rougher.state.floatbank10_e_air                                   -0.012558   \n",
      "rougher.state.floatbank10_e_level                                  0.006890   \n",
      "rougher.state.floatbank10_f_air                                   -0.129796   \n",
      "rougher.state.floatbank10_f_level                                  0.036627   \n",
      "secondary_cleaner.state.floatbank2_a_air                          -0.128933   \n",
      "secondary_cleaner.state.floatbank2_a_level                         0.044605   \n",
      "secondary_cleaner.state.floatbank2_b_air                          -0.184586   \n",
      "secondary_cleaner.state.floatbank2_b_level                         0.005911   \n",
      "secondary_cleaner.state.floatbank3_a_air                           0.024193   \n",
      "secondary_cleaner.state.floatbank3_a_level                         0.032868   \n",
      "secondary_cleaner.state.floatbank3_b_air                          -0.017527   \n",
      "secondary_cleaner.state.floatbank3_b_level                         0.025709   \n",
      "secondary_cleaner.state.floatbank4_a_air                          -0.148328   \n",
      "secondary_cleaner.state.floatbank4_a_level                        -0.121148   \n",
      "secondary_cleaner.state.floatbank4_b_air                          -0.173658   \n",
      "secondary_cleaner.state.floatbank4_b_level                        -0.137180   \n",
      "secondary_cleaner.state.floatbank5_a_air                          -0.192880   \n",
      "secondary_cleaner.state.floatbank5_a_level                        -0.059167   \n",
      "secondary_cleaner.state.floatbank5_b_air                          -0.214970   \n",
      "secondary_cleaner.state.floatbank5_b_level                        -0.054173   \n",
      "secondary_cleaner.state.floatbank6_a_air                           0.026930   \n",
      "secondary_cleaner.state.floatbank6_a_level                        -0.083021   \n",
      "\n",
      "                                            primary_cleaner.input.xanthate  \\\n",
      "primary_cleaner.input.sulfate                                     0.497568   \n",
      "primary_cleaner.input.depressant                                  0.150760   \n",
      "primary_cleaner.input.feed_size                                  -0.291792   \n",
      "primary_cleaner.input.xanthate                                    1.000000   \n",
      "primary_cleaner.state.floatbank8_a_air                            0.209017   \n",
      "primary_cleaner.state.floatbank8_a_level                         -0.059553   \n",
      "primary_cleaner.state.floatbank8_b_air                            0.153527   \n",
      "primary_cleaner.state.floatbank8_b_level                          0.016144   \n",
      "primary_cleaner.state.floatbank8_c_air                            0.044194   \n",
      "primary_cleaner.state.floatbank8_c_level                         -0.078742   \n",
      "primary_cleaner.state.floatbank8_d_air                            0.174791   \n",
      "primary_cleaner.state.floatbank8_d_level                         -0.144240   \n",
      "rougher.input.feed_ag                                             0.048319   \n",
      "rougher.input.feed_pb                                             0.241138   \n",
      "rougher.input.feed_rate                                           0.464682   \n",
      "rougher.input.feed_size                                           0.195665   \n",
      "rougher.input.feed_sol                                            0.370448   \n",
      "rougher.input.feed_au                                             0.093609   \n",
      "rougher.input.floatbank10_sulfate                                 0.581118   \n",
      "rougher.input.floatbank10_xanthate                                0.350009   \n",
      "rougher.input.floatbank11_sulfate                                 0.593851   \n",
      "rougher.input.floatbank11_xanthate                                0.368205   \n",
      "rougher.state.floatbank10_a_air                                   0.402757   \n",
      "rougher.state.floatbank10_a_level                                 0.424760   \n",
      "rougher.state.floatbank10_b_air                                  -0.387143   \n",
      "rougher.state.floatbank10_b_level                                -0.342816   \n",
      "rougher.state.floatbank10_c_air                                  -0.405743   \n",
      "rougher.state.floatbank10_c_level                                -0.346091   \n",
      "rougher.state.floatbank10_d_air                                  -0.392980   \n",
      "rougher.state.floatbank10_d_level                                -0.326506   \n",
      "rougher.state.floatbank10_e_air                                  -0.321572   \n",
      "rougher.state.floatbank10_e_level                                -0.363457   \n",
      "rougher.state.floatbank10_f_air                                  -0.290621   \n",
      "rougher.state.floatbank10_f_level                                -0.333947   \n",
      "secondary_cleaner.state.floatbank2_a_air                         -0.038919   \n",
      "secondary_cleaner.state.floatbank2_a_level                       -0.162965   \n",
      "secondary_cleaner.state.floatbank2_b_air                          0.220744   \n",
      "secondary_cleaner.state.floatbank2_b_level                       -0.113589   \n",
      "secondary_cleaner.state.floatbank3_a_air                         -0.049184   \n",
      "secondary_cleaner.state.floatbank3_a_level                       -0.034554   \n",
      "secondary_cleaner.state.floatbank3_b_air                         -0.050835   \n",
      "secondary_cleaner.state.floatbank3_b_level                       -0.009169   \n",
      "secondary_cleaner.state.floatbank4_a_air                          0.313377   \n",
      "secondary_cleaner.state.floatbank4_a_level                        0.131178   \n",
      "secondary_cleaner.state.floatbank4_b_air                          0.360961   \n",
      "secondary_cleaner.state.floatbank4_b_level                        0.121575   \n",
      "secondary_cleaner.state.floatbank5_a_air                          0.059162   \n",
      "secondary_cleaner.state.floatbank5_a_level                        0.128636   \n",
      "secondary_cleaner.state.floatbank5_b_air                          0.077380   \n",
      "secondary_cleaner.state.floatbank5_b_level                        0.095508   \n",
      "secondary_cleaner.state.floatbank6_a_air                         -0.218155   \n",
      "secondary_cleaner.state.floatbank6_a_level                        0.080662   \n",
      "\n",
      "                                            primary_cleaner.state.floatbank8_a_air  \\\n",
      "primary_cleaner.input.sulfate                                             0.102653   \n",
      "primary_cleaner.input.depressant                                          0.144443   \n",
      "primary_cleaner.input.feed_size                                          -0.064628   \n",
      "primary_cleaner.input.xanthate                                            0.209017   \n",
      "primary_cleaner.state.floatbank8_a_air                                    1.000000   \n",
      "primary_cleaner.state.floatbank8_a_level                                  0.121274   \n",
      "primary_cleaner.state.floatbank8_b_air                                    0.968679   \n",
      "primary_cleaner.state.floatbank8_b_level                                 -0.018713   \n",
      "primary_cleaner.state.floatbank8_c_air                                    0.814992   \n",
      "primary_cleaner.state.floatbank8_c_level                                  0.114058   \n",
      "primary_cleaner.state.floatbank8_d_air                                    0.959166   \n",
      "primary_cleaner.state.floatbank8_d_level                                  0.061389   \n",
      "rougher.input.feed_ag                                                     0.252818   \n",
      "rougher.input.feed_pb                                                     0.064620   \n",
      "rougher.input.feed_rate                                                  -0.008505   \n",
      "rougher.input.feed_size                                                  -0.073211   \n",
      "rougher.input.feed_sol                                                   -0.060988   \n",
      "rougher.input.feed_au                                                     0.218384   \n",
      "rougher.input.floatbank10_sulfate                                         0.039898   \n",
      "rougher.input.floatbank10_xanthate                                        0.187693   \n",
      "rougher.input.floatbank11_sulfate                                         0.057004   \n",
      "rougher.input.floatbank11_xanthate                                        0.209414   \n",
      "rougher.state.floatbank10_a_air                                           0.215473   \n",
      "rougher.state.floatbank10_a_level                                        -0.033903   \n",
      "rougher.state.floatbank10_b_air                                           0.199338   \n",
      "rougher.state.floatbank10_b_level                                         0.291111   \n",
      "rougher.state.floatbank10_c_air                                           0.216971   \n",
      "rougher.state.floatbank10_c_level                                         0.285786   \n",
      "rougher.state.floatbank10_d_air                                           0.160151   \n",
      "rougher.state.floatbank10_d_level                                         0.245276   \n",
      "rougher.state.floatbank10_e_air                                           0.347687   \n",
      "rougher.state.floatbank10_e_level                                         0.280493   \n",
      "rougher.state.floatbank10_f_air                                           0.280753   \n",
      "rougher.state.floatbank10_f_level                                         0.289477   \n",
      "secondary_cleaner.state.floatbank2_a_air                                  0.258841   \n",
      "secondary_cleaner.state.floatbank2_a_level                               -0.059849   \n",
      "secondary_cleaner.state.floatbank2_b_air                                  0.422376   \n",
      "secondary_cleaner.state.floatbank2_b_level                               -0.084396   \n",
      "secondary_cleaner.state.floatbank3_a_air                                  0.367139   \n",
      "secondary_cleaner.state.floatbank3_a_level                               -0.040073   \n",
      "secondary_cleaner.state.floatbank3_b_air                                  0.457278   \n",
      "secondary_cleaner.state.floatbank3_b_level                               -0.007847   \n",
      "secondary_cleaner.state.floatbank4_a_air                                  0.469180   \n",
      "secondary_cleaner.state.floatbank4_a_level                                0.005962   \n",
      "secondary_cleaner.state.floatbank4_b_air                                  0.476742   \n",
      "secondary_cleaner.state.floatbank4_b_level                               -0.058593   \n",
      "secondary_cleaner.state.floatbank5_a_air                                  0.408050   \n",
      "secondary_cleaner.state.floatbank5_a_level                                0.271547   \n",
      "secondary_cleaner.state.floatbank5_b_air                                  0.465492   \n",
      "secondary_cleaner.state.floatbank5_b_level                                0.161509   \n",
      "secondary_cleaner.state.floatbank6_a_air                                  0.345231   \n",
      "secondary_cleaner.state.floatbank6_a_level                                0.172154   \n",
      "\n",
      "                                            primary_cleaner.state.floatbank8_a_level  \\\n",
      "primary_cleaner.input.sulfate                                               0.048032   \n",
      "primary_cleaner.input.depressant                                            0.242592   \n",
      "primary_cleaner.input.feed_size                                             0.082869   \n",
      "primary_cleaner.input.xanthate                                             -0.059553   \n",
      "primary_cleaner.state.floatbank8_a_air                                      0.121274   \n",
      "primary_cleaner.state.floatbank8_a_level                                    1.000000   \n",
      "primary_cleaner.state.floatbank8_b_air                                      0.101975   \n",
      "primary_cleaner.state.floatbank8_b_level                                    0.417515   \n",
      "primary_cleaner.state.floatbank8_c_air                                     -0.018378   \n",
      "primary_cleaner.state.floatbank8_c_level                                    0.784061   \n",
      "primary_cleaner.state.floatbank8_d_air                                      0.110760   \n",
      "primary_cleaner.state.floatbank8_d_level                                    0.406960   \n",
      "rougher.input.feed_ag                                                       0.197111   \n",
      "rougher.input.feed_pb                                                       0.231743   \n",
      "rougher.input.feed_rate                                                    -0.005975   \n",
      "rougher.input.feed_size                                                     0.006147   \n",
      "rougher.input.feed_sol                                                      0.058229   \n",
      "rougher.input.feed_au                                                       0.184980   \n",
      "rougher.input.floatbank10_sulfate                                          -0.068462   \n",
      "rougher.input.floatbank10_xanthate                                          0.110566   \n",
      "rougher.input.floatbank11_sulfate                                          -0.077556   \n",
      "rougher.input.floatbank11_xanthate                                          0.117493   \n",
      "rougher.state.floatbank10_a_air                                             0.387206   \n",
      "rougher.state.floatbank10_a_level                                           0.159607   \n",
      "rougher.state.floatbank10_b_air                                            -0.076365   \n",
      "rougher.state.floatbank10_b_level                                          -0.037724   \n",
      "rougher.state.floatbank10_c_air                                            -0.129885   \n",
      "rougher.state.floatbank10_c_level                                          -0.043906   \n",
      "rougher.state.floatbank10_d_air                                            -0.134939   \n",
      "rougher.state.floatbank10_d_level                                          -0.071941   \n",
      "rougher.state.floatbank10_e_air                                            -0.098849   \n",
      "rougher.state.floatbank10_e_level                                          -0.072159   \n",
      "rougher.state.floatbank10_f_air                                            -0.050940   \n",
      "rougher.state.floatbank10_f_level                                          -0.042153   \n",
      "secondary_cleaner.state.floatbank2_a_air                                    0.108262   \n",
      "secondary_cleaner.state.floatbank2_a_level                                  0.083484   \n",
      "secondary_cleaner.state.floatbank2_b_air                                    0.164370   \n",
      "secondary_cleaner.state.floatbank2_b_level                                  0.080897   \n",
      "secondary_cleaner.state.floatbank3_a_air                                    0.084240   \n",
      "secondary_cleaner.state.floatbank3_a_level                                  0.069909   \n",
      "secondary_cleaner.state.floatbank3_b_air                                    0.057372   \n",
      "secondary_cleaner.state.floatbank3_b_level                                  0.053060   \n",
      "secondary_cleaner.state.floatbank4_a_air                                    0.171716   \n",
      "secondary_cleaner.state.floatbank4_a_level                                  0.096500   \n",
      "secondary_cleaner.state.floatbank4_b_air                                    0.084418   \n",
      "secondary_cleaner.state.floatbank4_b_level                                 -0.005819   \n",
      "secondary_cleaner.state.floatbank5_a_air                                   -0.036132   \n",
      "secondary_cleaner.state.floatbank5_a_level                                  0.164220   \n",
      "secondary_cleaner.state.floatbank5_b_air                                   -0.012665   \n",
      "secondary_cleaner.state.floatbank5_b_level                                  0.091263   \n",
      "secondary_cleaner.state.floatbank6_a_air                                   -0.107710   \n",
      "secondary_cleaner.state.floatbank6_a_level                                  0.076271   \n",
      "\n",
      "                                            primary_cleaner.state.floatbank8_b_air  \\\n",
      "primary_cleaner.input.sulfate                                             0.075737   \n",
      "primary_cleaner.input.depressant                                          0.148658   \n",
      "primary_cleaner.input.feed_size                                          -0.063490   \n",
      "primary_cleaner.input.xanthate                                            0.153527   \n",
      "primary_cleaner.state.floatbank8_a_air                                    0.968679   \n",
      "primary_cleaner.state.floatbank8_a_level                                  0.101975   \n",
      "primary_cleaner.state.floatbank8_b_air                                    1.000000   \n",
      "primary_cleaner.state.floatbank8_b_level                                  0.010220   \n",
      "primary_cleaner.state.floatbank8_c_air                                    0.862946   \n",
      "primary_cleaner.state.floatbank8_c_level                                  0.101127   \n",
      "primary_cleaner.state.floatbank8_d_air                                    0.974342   \n",
      "primary_cleaner.state.floatbank8_d_level                                  0.059940   \n",
      "rougher.input.feed_ag                                                     0.250553   \n",
      "rougher.input.feed_pb                                                     0.054633   \n",
      "rougher.input.feed_rate                                                  -0.043674   \n",
      "rougher.input.feed_size                                                  -0.098451   \n",
      "rougher.input.feed_sol                                                   -0.089733   \n",
      "rougher.input.feed_au                                                     0.243540   \n",
      "rougher.input.floatbank10_sulfate                                         0.033192   \n",
      "rougher.input.floatbank10_xanthate                                        0.172360   \n",
      "rougher.input.floatbank11_sulfate                                         0.047620   \n",
      "rougher.input.floatbank11_xanthate                                        0.190951   \n",
      "rougher.state.floatbank10_a_air                                           0.169211   \n",
      "rougher.state.floatbank10_a_level                                        -0.073373   \n",
      "rougher.state.floatbank10_b_air                                           0.230489   \n",
      "rougher.state.floatbank10_b_level                                         0.371841   \n",
      "rougher.state.floatbank10_c_air                                           0.259523   \n",
      "rougher.state.floatbank10_c_level                                         0.368792   \n",
      "rougher.state.floatbank10_d_air                                           0.203227   \n",
      "rougher.state.floatbank10_d_level                                         0.327134   \n",
      "rougher.state.floatbank10_e_air                                           0.402047   \n",
      "rougher.state.floatbank10_e_level                                         0.391511   \n",
      "rougher.state.floatbank10_f_air                                           0.344900   \n",
      "rougher.state.floatbank10_f_level                                         0.394670   \n",
      "secondary_cleaner.state.floatbank2_a_air                                  0.326245   \n",
      "secondary_cleaner.state.floatbank2_a_level                               -0.052484   \n",
      "secondary_cleaner.state.floatbank2_b_air                                  0.458338   \n",
      "secondary_cleaner.state.floatbank2_b_level                               -0.079535   \n",
      "secondary_cleaner.state.floatbank3_a_air                                  0.418511   \n",
      "secondary_cleaner.state.floatbank3_a_level                               -0.023823   \n",
      "secondary_cleaner.state.floatbank3_b_air                                  0.518832   \n",
      "secondary_cleaner.state.floatbank3_b_level                                0.008616   \n",
      "secondary_cleaner.state.floatbank4_a_air                                  0.483741   \n",
      "secondary_cleaner.state.floatbank4_a_level                                0.023801   \n",
      "secondary_cleaner.state.floatbank4_b_air                                  0.487327   \n",
      "secondary_cleaner.state.floatbank4_b_level                               -0.080058   \n",
      "secondary_cleaner.state.floatbank5_a_air                                  0.415343   \n",
      "secondary_cleaner.state.floatbank5_a_level                                0.260220   \n",
      "secondary_cleaner.state.floatbank5_b_air                                  0.499829   \n",
      "secondary_cleaner.state.floatbank5_b_level                                0.155978   \n",
      "secondary_cleaner.state.floatbank6_a_air                                  0.389594   \n",
      "secondary_cleaner.state.floatbank6_a_level                                0.187429   \n",
      "\n",
      "                                            primary_cleaner.state.floatbank8_b_level  \\\n",
      "primary_cleaner.input.sulfate                                               0.138949   \n",
      "primary_cleaner.input.depressant                                            0.201499   \n",
      "primary_cleaner.input.feed_size                                             0.071470   \n",
      "primary_cleaner.input.xanthate                                              0.016144   \n",
      "primary_cleaner.state.floatbank8_a_air                                     -0.018713   \n",
      "primary_cleaner.state.floatbank8_a_level                                    0.417515   \n",
      "primary_cleaner.state.floatbank8_b_air                                      0.010220   \n",
      "primary_cleaner.state.floatbank8_b_level                                    1.000000   \n",
      "primary_cleaner.state.floatbank8_c_air                                     -0.029228   \n",
      "primary_cleaner.state.floatbank8_c_level                                    0.406721   \n",
      "primary_cleaner.state.floatbank8_d_air                                      0.015972   \n",
      "primary_cleaner.state.floatbank8_d_level                                    0.233257   \n",
      "rougher.input.feed_ag                                                       0.128053   \n",
      "rougher.input.feed_pb                                                       0.223188   \n",
      "rougher.input.feed_rate                                                     0.032851   \n",
      "rougher.input.feed_size                                                    -0.043032   \n",
      "rougher.input.feed_sol                                                      0.043890   \n",
      "rougher.input.feed_au                                                       0.178838   \n",
      "rougher.input.floatbank10_sulfate                                           0.022164   \n",
      "rougher.input.floatbank10_xanthate                                          0.067695   \n",
      "rougher.input.floatbank11_sulfate                                           0.000932   \n",
      "rougher.input.floatbank11_xanthate                                          0.086555   \n",
      "rougher.state.floatbank10_a_air                                             0.207161   \n",
      "rougher.state.floatbank10_a_level                                           0.076225   \n",
      "rougher.state.floatbank10_b_air                                            -0.014215   \n",
      "rougher.state.floatbank10_b_level                                           0.020230   \n",
      "rougher.state.floatbank10_c_air                                            -0.052763   \n",
      "rougher.state.floatbank10_c_level                                           0.007639   \n",
      "rougher.state.floatbank10_d_air                                            -0.015855   \n",
      "rougher.state.floatbank10_d_level                                           0.005728   \n",
      "rougher.state.floatbank10_e_air                                            -0.052321   \n",
      "rougher.state.floatbank10_e_level                                           0.002047   \n",
      "rougher.state.floatbank10_f_air                                            -0.007648   \n",
      "rougher.state.floatbank10_f_level                                           0.013656   \n",
      "secondary_cleaner.state.floatbank2_a_air                                    0.064037   \n",
      "secondary_cleaner.state.floatbank2_a_level                                  0.006019   \n",
      "secondary_cleaner.state.floatbank2_b_air                                    0.104963   \n",
      "secondary_cleaner.state.floatbank2_b_level                                  0.009400   \n",
      "secondary_cleaner.state.floatbank3_a_air                                    0.087090   \n",
      "secondary_cleaner.state.floatbank3_a_level                                  0.094441   \n",
      "secondary_cleaner.state.floatbank3_b_air                                    0.081030   \n",
      "secondary_cleaner.state.floatbank3_b_level                                  0.100982   \n",
      "secondary_cleaner.state.floatbank4_a_air                                    0.078411   \n",
      "secondary_cleaner.state.floatbank4_a_level                                  0.216342   \n",
      "secondary_cleaner.state.floatbank4_b_air                                    0.054902   \n",
      "secondary_cleaner.state.floatbank4_b_level                                 -0.038440   \n",
      "secondary_cleaner.state.floatbank5_a_air                                   -0.009671   \n",
      "secondary_cleaner.state.floatbank5_a_level                                  0.029409   \n",
      "secondary_cleaner.state.floatbank5_b_air                                    0.012115   \n",
      "secondary_cleaner.state.floatbank5_b_level                                  0.004864   \n",
      "secondary_cleaner.state.floatbank6_a_air                                   -0.006694   \n",
      "secondary_cleaner.state.floatbank6_a_level                                  0.012904   \n",
      "\n",
      "                                            primary_cleaner.state.floatbank8_c_air  \\\n",
      "primary_cleaner.input.sulfate                                             0.024710   \n",
      "primary_cleaner.input.depressant                                          0.036655   \n",
      "primary_cleaner.input.feed_size                                          -0.091542   \n",
      "primary_cleaner.input.xanthate                                            0.044194   \n",
      "primary_cleaner.state.floatbank8_a_air                                    0.814992   \n",
      "primary_cleaner.state.floatbank8_a_level                                 -0.018378   \n",
      "primary_cleaner.state.floatbank8_b_air                                    0.862946   \n",
      "primary_cleaner.state.floatbank8_b_level                                 -0.029228   \n",
      "primary_cleaner.state.floatbank8_c_air                                    1.000000   \n",
      "primary_cleaner.state.floatbank8_c_level                                  0.003322   \n",
      "primary_cleaner.state.floatbank8_d_air                                    0.848010   \n",
      "primary_cleaner.state.floatbank8_d_level                                  0.013847   \n",
      "rougher.input.feed_ag                                                     0.149500   \n",
      "rougher.input.feed_pb                                                    -0.054736   \n",
      "rougher.input.feed_rate                                                  -0.103408   \n",
      "rougher.input.feed_size                                                  -0.163889   \n",
      "rougher.input.feed_sol                                                   -0.160445   \n",
      "rougher.input.feed_au                                                     0.168597   \n",
      "rougher.input.floatbank10_sulfate                                        -0.021043   \n",
      "rougher.input.floatbank10_xanthate                                        0.135009   \n",
      "rougher.input.floatbank11_sulfate                                         0.006816   \n",
      "rougher.input.floatbank11_xanthate                                        0.151603   \n",
      "rougher.state.floatbank10_a_air                                          -0.087974   \n",
      "rougher.state.floatbank10_a_level                                        -0.222135   \n",
      "rougher.state.floatbank10_b_air                                           0.300457   \n",
      "rougher.state.floatbank10_b_level                                         0.451746   \n",
      "rougher.state.floatbank10_c_air                                           0.360889   \n",
      "rougher.state.floatbank10_c_level                                         0.453606   \n",
      "rougher.state.floatbank10_d_air                                           0.310832   \n",
      "rougher.state.floatbank10_d_level                                         0.406637   \n",
      "rougher.state.floatbank10_e_air                                           0.452348   \n",
      "rougher.state.floatbank10_e_level                                         0.463951   \n",
      "rougher.state.floatbank10_f_air                                           0.354735   \n",
      "rougher.state.floatbank10_f_level                                         0.471963   \n",
      "secondary_cleaner.state.floatbank2_a_air                                  0.277937   \n",
      "secondary_cleaner.state.floatbank2_a_level                                0.022228   \n",
      "secondary_cleaner.state.floatbank2_b_air                                  0.362753   \n",
      "secondary_cleaner.state.floatbank2_b_level                               -0.014146   \n",
      "secondary_cleaner.state.floatbank3_a_air                                  0.414449   \n",
      "secondary_cleaner.state.floatbank3_a_level                               -0.030285   \n",
      "secondary_cleaner.state.floatbank3_b_air                                  0.493835   \n",
      "secondary_cleaner.state.floatbank3_b_level                               -0.000623   \n",
      "secondary_cleaner.state.floatbank4_a_air                                  0.366373   \n",
      "secondary_cleaner.state.floatbank4_a_level                                0.047373   \n",
      "secondary_cleaner.state.floatbank4_b_air                                  0.396029   \n",
      "secondary_cleaner.state.floatbank4_b_level                               -0.031081   \n",
      "secondary_cleaner.state.floatbank5_a_air                                  0.400765   \n",
      "secondary_cleaner.state.floatbank5_a_level                                0.239333   \n",
      "secondary_cleaner.state.floatbank5_b_air                                  0.500353   \n",
      "secondary_cleaner.state.floatbank5_b_level                                0.117465   \n",
      "secondary_cleaner.state.floatbank6_a_air                                  0.490672   \n",
      "secondary_cleaner.state.floatbank6_a_level                                0.169634   \n",
      "\n",
      "                                            primary_cleaner.state.floatbank8_c_level  \\\n",
      "primary_cleaner.input.sulfate                                               0.027697   \n",
      "primary_cleaner.input.depressant                                            0.207632   \n",
      "primary_cleaner.input.feed_size                                             0.066384   \n",
      "primary_cleaner.input.xanthate                                             -0.078742   \n",
      "primary_cleaner.state.floatbank8_a_air                                      0.114058   \n",
      "primary_cleaner.state.floatbank8_a_level                                    0.784061   \n",
      "primary_cleaner.state.floatbank8_b_air                                      0.101127   \n",
      "primary_cleaner.state.floatbank8_b_level                                    0.406721   \n",
      "primary_cleaner.state.floatbank8_c_air                                      0.003322   \n",
      "primary_cleaner.state.floatbank8_c_level                                    1.000000   \n",
      "primary_cleaner.state.floatbank8_d_air                                      0.113492   \n",
      "primary_cleaner.state.floatbank8_d_level                                    0.486463   \n",
      "rougher.input.feed_ag                                                       0.162198   \n",
      "rougher.input.feed_pb                                                       0.176345   \n",
      "rougher.input.feed_rate                                                    -0.002124   \n",
      "rougher.input.feed_size                                                     0.003384   \n",
      "rougher.input.feed_sol                                                      0.042156   \n",
      "rougher.input.feed_au                                                       0.143132   \n",
      "rougher.input.floatbank10_sulfate                                          -0.079709   \n",
      "rougher.input.floatbank10_xanthate                                          0.082145   \n",
      "rougher.input.floatbank11_sulfate                                          -0.087809   \n",
      "rougher.input.floatbank11_xanthate                                          0.085452   \n",
      "rougher.state.floatbank10_a_air                                             0.333690   \n",
      "rougher.state.floatbank10_a_level                                           0.131849   \n",
      "rougher.state.floatbank10_b_air                                            -0.039398   \n",
      "rougher.state.floatbank10_b_level                                          -0.015591   \n",
      "rougher.state.floatbank10_c_air                                            -0.089468   \n",
      "rougher.state.floatbank10_c_level                                          -0.020945   \n",
      "rougher.state.floatbank10_d_air                                            -0.089773   \n",
      "rougher.state.floatbank10_d_level                                          -0.049447   \n",
      "rougher.state.floatbank10_e_air                                            -0.067798   \n",
      "rougher.state.floatbank10_e_level                                          -0.048384   \n",
      "rougher.state.floatbank10_f_air                                            -0.022972   \n",
      "rougher.state.floatbank10_f_level                                          -0.019199   \n",
      "secondary_cleaner.state.floatbank2_a_air                                    0.107395   \n",
      "secondary_cleaner.state.floatbank2_a_level                                  0.075413   \n",
      "secondary_cleaner.state.floatbank2_b_air                                    0.150856   \n",
      "secondary_cleaner.state.floatbank2_b_level                                  0.066475   \n",
      "secondary_cleaner.state.floatbank3_a_air                                    0.074868   \n",
      "secondary_cleaner.state.floatbank3_a_level                                  0.065685   \n",
      "secondary_cleaner.state.floatbank3_b_air                                    0.058887   \n",
      "secondary_cleaner.state.floatbank3_b_level                                  0.050184   \n",
      "secondary_cleaner.state.floatbank4_a_air                                    0.151945   \n",
      "secondary_cleaner.state.floatbank4_a_level                                  0.093293   \n",
      "secondary_cleaner.state.floatbank4_b_air                                    0.071559   \n",
      "secondary_cleaner.state.floatbank4_b_level                                 -0.013814   \n",
      "secondary_cleaner.state.floatbank5_a_air                                   -0.018878   \n",
      "secondary_cleaner.state.floatbank5_a_level                                  0.143313   \n",
      "secondary_cleaner.state.floatbank5_b_air                                   -0.004169   \n",
      "secondary_cleaner.state.floatbank5_b_level                                  0.061153   \n",
      "secondary_cleaner.state.floatbank6_a_air                                   -0.087866   \n",
      "secondary_cleaner.state.floatbank6_a_level                                  0.067955   \n",
      "\n",
      "                                            ...  \\\n",
      "primary_cleaner.input.sulfate               ...   \n",
      "primary_cleaner.input.depressant            ...   \n",
      "primary_cleaner.input.feed_size             ...   \n",
      "primary_cleaner.input.xanthate              ...   \n",
      "primary_cleaner.state.floatbank8_a_air      ...   \n",
      "primary_cleaner.state.floatbank8_a_level    ...   \n",
      "primary_cleaner.state.floatbank8_b_air      ...   \n",
      "primary_cleaner.state.floatbank8_b_level    ...   \n",
      "primary_cleaner.state.floatbank8_c_air      ...   \n",
      "primary_cleaner.state.floatbank8_c_level    ...   \n",
      "primary_cleaner.state.floatbank8_d_air      ...   \n",
      "primary_cleaner.state.floatbank8_d_level    ...   \n",
      "rougher.input.feed_ag                       ...   \n",
      "rougher.input.feed_pb                       ...   \n",
      "rougher.input.feed_rate                     ...   \n",
      "rougher.input.feed_size                     ...   \n",
      "rougher.input.feed_sol                      ...   \n",
      "rougher.input.feed_au                       ...   \n",
      "rougher.input.floatbank10_sulfate           ...   \n",
      "rougher.input.floatbank10_xanthate          ...   \n",
      "rougher.input.floatbank11_sulfate           ...   \n",
      "rougher.input.floatbank11_xanthate          ...   \n",
      "rougher.state.floatbank10_a_air             ...   \n",
      "rougher.state.floatbank10_a_level           ...   \n",
      "rougher.state.floatbank10_b_air             ...   \n",
      "rougher.state.floatbank10_b_level           ...   \n",
      "rougher.state.floatbank10_c_air             ...   \n",
      "rougher.state.floatbank10_c_level           ...   \n",
      "rougher.state.floatbank10_d_air             ...   \n",
      "rougher.state.floatbank10_d_level           ...   \n",
      "rougher.state.floatbank10_e_air             ...   \n",
      "rougher.state.floatbank10_e_level           ...   \n",
      "rougher.state.floatbank10_f_air             ...   \n",
      "rougher.state.floatbank10_f_level           ...   \n",
      "secondary_cleaner.state.floatbank2_a_air    ...   \n",
      "secondary_cleaner.state.floatbank2_a_level  ...   \n",
      "secondary_cleaner.state.floatbank2_b_air    ...   \n",
      "secondary_cleaner.state.floatbank2_b_level  ...   \n",
      "secondary_cleaner.state.floatbank3_a_air    ...   \n",
      "secondary_cleaner.state.floatbank3_a_level  ...   \n",
      "secondary_cleaner.state.floatbank3_b_air    ...   \n",
      "secondary_cleaner.state.floatbank3_b_level  ...   \n",
      "secondary_cleaner.state.floatbank4_a_air    ...   \n",
      "secondary_cleaner.state.floatbank4_a_level  ...   \n",
      "secondary_cleaner.state.floatbank4_b_air    ...   \n",
      "secondary_cleaner.state.floatbank4_b_level  ...   \n",
      "secondary_cleaner.state.floatbank5_a_air    ...   \n",
      "secondary_cleaner.state.floatbank5_a_level  ...   \n",
      "secondary_cleaner.state.floatbank5_b_air    ...   \n",
      "secondary_cleaner.state.floatbank5_b_level  ...   \n",
      "secondary_cleaner.state.floatbank6_a_air    ...   \n",
      "secondary_cleaner.state.floatbank6_a_level  ...   \n",
      "\n",
      "                                            secondary_cleaner.state.floatbank4_a_air  \\\n",
      "primary_cleaner.input.sulfate                                               0.305793   \n",
      "primary_cleaner.input.depressant                                            0.326090   \n",
      "primary_cleaner.input.feed_size                                            -0.148328   \n",
      "primary_cleaner.input.xanthate                                              0.313377   \n",
      "primary_cleaner.state.floatbank8_a_air                                      0.469180   \n",
      "primary_cleaner.state.floatbank8_a_level                                    0.171716   \n",
      "primary_cleaner.state.floatbank8_b_air                                      0.483741   \n",
      "primary_cleaner.state.floatbank8_b_level                                    0.078411   \n",
      "primary_cleaner.state.floatbank8_c_air                                      0.366373   \n",
      "primary_cleaner.state.floatbank8_c_level                                    0.151945   \n",
      "primary_cleaner.state.floatbank8_d_air                                      0.485859   \n",
      "primary_cleaner.state.floatbank8_d_level                                    0.053297   \n",
      "rougher.input.feed_ag                                                       0.167571   \n",
      "rougher.input.feed_pb                                                       0.114111   \n",
      "rougher.input.feed_rate                                                     0.171692   \n",
      "rougher.input.feed_size                                                     0.128550   \n",
      "rougher.input.feed_sol                                                      0.150514   \n",
      "rougher.input.feed_au                                                       0.165834   \n",
      "rougher.input.floatbank10_sulfate                                           0.306461   \n",
      "rougher.input.floatbank10_xanthate                                          0.240843   \n",
      "rougher.input.floatbank11_sulfate                                           0.283144   \n",
      "rougher.input.floatbank11_xanthate                                          0.226249   \n",
      "rougher.state.floatbank10_a_air                                             0.296594   \n",
      "rougher.state.floatbank10_a_level                                           0.207514   \n",
      "rougher.state.floatbank10_b_air                                            -0.171947   \n",
      "rougher.state.floatbank10_b_level                                           0.067727   \n",
      "rougher.state.floatbank10_c_air                                            -0.168834   \n",
      "rougher.state.floatbank10_c_level                                           0.068885   \n",
      "rougher.state.floatbank10_d_air                                            -0.173221   \n",
      "rougher.state.floatbank10_d_level                                           0.072947   \n",
      "rougher.state.floatbank10_e_air                                             0.018780   \n",
      "rougher.state.floatbank10_e_level                                           0.150501   \n",
      "rougher.state.floatbank10_f_air                                             0.043791   \n",
      "rougher.state.floatbank10_f_level                                           0.168028   \n",
      "secondary_cleaner.state.floatbank2_a_air                                    0.394865   \n",
      "secondary_cleaner.state.floatbank2_a_level                                 -0.076507   \n",
      "secondary_cleaner.state.floatbank2_b_air                                    0.640874   \n",
      "secondary_cleaner.state.floatbank2_b_level                                 -0.062850   \n",
      "secondary_cleaner.state.floatbank3_a_air                                    0.412838   \n",
      "secondary_cleaner.state.floatbank3_a_level                                 -0.067846   \n",
      "secondary_cleaner.state.floatbank3_b_air                                    0.480531   \n",
      "secondary_cleaner.state.floatbank3_b_level                                 -0.048674   \n",
      "secondary_cleaner.state.floatbank4_a_air                                    1.000000   \n",
      "secondary_cleaner.state.floatbank4_a_level                                  0.346120   \n",
      "secondary_cleaner.state.floatbank4_b_air                                    0.925344   \n",
      "secondary_cleaner.state.floatbank4_b_level                                  0.256080   \n",
      "secondary_cleaner.state.floatbank5_a_air                                    0.523977   \n",
      "secondary_cleaner.state.floatbank5_a_level                                  0.221838   \n",
      "secondary_cleaner.state.floatbank5_b_air                                    0.630029   \n",
      "secondary_cleaner.state.floatbank5_b_level                                  0.132053   \n",
      "secondary_cleaner.state.floatbank6_a_air                                    0.082357   \n",
      "secondary_cleaner.state.floatbank6_a_level                                  0.145112   \n",
      "\n",
      "                                            secondary_cleaner.state.floatbank4_a_level  \\\n",
      "primary_cleaner.input.sulfate                                                 0.117976   \n",
      "primary_cleaner.input.depressant                                              0.117510   \n",
      "primary_cleaner.input.feed_size                                              -0.121148   \n",
      "primary_cleaner.input.xanthate                                                0.131178   \n",
      "primary_cleaner.state.floatbank8_a_air                                        0.005962   \n",
      "primary_cleaner.state.floatbank8_a_level                                      0.096500   \n",
      "primary_cleaner.state.floatbank8_b_air                                        0.023801   \n",
      "primary_cleaner.state.floatbank8_b_level                                      0.216342   \n",
      "primary_cleaner.state.floatbank8_c_air                                        0.047373   \n",
      "primary_cleaner.state.floatbank8_c_level                                      0.093293   \n",
      "primary_cleaner.state.floatbank8_d_air                                        0.022615   \n",
      "primary_cleaner.state.floatbank8_d_level                                      0.043851   \n",
      "rougher.input.feed_ag                                                        -0.069478   \n",
      "rougher.input.feed_pb                                                        -0.004391   \n",
      "rougher.input.feed_rate                                                       0.127274   \n",
      "rougher.input.feed_size                                                       0.063681   \n",
      "rougher.input.feed_sol                                                        0.065642   \n",
      "rougher.input.feed_au                                                        -0.039397   \n",
      "rougher.input.floatbank10_sulfate                                             0.163816   \n",
      "rougher.input.floatbank10_xanthate                                            0.070772   \n",
      "rougher.input.floatbank11_sulfate                                             0.184944   \n",
      "rougher.input.floatbank11_xanthate                                            0.079953   \n",
      "rougher.state.floatbank10_a_air                                               0.087591   \n",
      "rougher.state.floatbank10_a_level                                             0.131345   \n",
      "rougher.state.floatbank10_b_air                                               0.009334   \n",
      "rougher.state.floatbank10_b_level                                             0.010268   \n",
      "rougher.state.floatbank10_c_air                                              -0.010049   \n",
      "rougher.state.floatbank10_c_level                                             0.011038   \n",
      "rougher.state.floatbank10_d_air                                               0.025358   \n",
      "rougher.state.floatbank10_d_level                                            -0.013329   \n",
      "rougher.state.floatbank10_e_air                                              -0.034684   \n",
      "rougher.state.floatbank10_e_level                                             0.006505   \n",
      "rougher.state.floatbank10_f_air                                               0.025162   \n",
      "rougher.state.floatbank10_f_level                                             0.024309   \n",
      "secondary_cleaner.state.floatbank2_a_air                                      0.181556   \n",
      "secondary_cleaner.state.floatbank2_a_level                                    0.029511   \n",
      "secondary_cleaner.state.floatbank2_b_air                                      0.184139   \n",
      "secondary_cleaner.state.floatbank2_b_level                                    0.030289   \n",
      "secondary_cleaner.state.floatbank3_a_air                                      0.053102   \n",
      "secondary_cleaner.state.floatbank3_a_level                                    0.007752   \n",
      "secondary_cleaner.state.floatbank3_b_air                                      0.073603   \n",
      "secondary_cleaner.state.floatbank3_b_level                                    0.003195   \n",
      "secondary_cleaner.state.floatbank4_a_air                                      0.346120   \n",
      "secondary_cleaner.state.floatbank4_a_level                                    1.000000   \n",
      "secondary_cleaner.state.floatbank4_b_air                                      0.291668   \n",
      "secondary_cleaner.state.floatbank4_b_level                                    0.322602   \n",
      "secondary_cleaner.state.floatbank5_a_air                                      0.139509   \n",
      "secondary_cleaner.state.floatbank5_a_level                                    0.129475   \n",
      "secondary_cleaner.state.floatbank5_b_air                                      0.196989   \n",
      "secondary_cleaner.state.floatbank5_b_level                                    0.038650   \n",
      "secondary_cleaner.state.floatbank6_a_air                                      0.027717   \n",
      "secondary_cleaner.state.floatbank6_a_level                                    0.028501   \n",
      "\n",
      "                                            secondary_cleaner.state.floatbank4_b_air  \\\n",
      "primary_cleaner.input.sulfate                                               0.348395   \n",
      "primary_cleaner.input.depressant                                            0.238618   \n",
      "primary_cleaner.input.feed_size                                            -0.173658   \n",
      "primary_cleaner.input.xanthate                                              0.360961   \n",
      "primary_cleaner.state.floatbank8_a_air                                      0.476742   \n",
      "primary_cleaner.state.floatbank8_a_level                                    0.084418   \n",
      "primary_cleaner.state.floatbank8_b_air                                      0.487327   \n",
      "primary_cleaner.state.floatbank8_b_level                                    0.054902   \n",
      "primary_cleaner.state.floatbank8_c_air                                      0.396029   \n",
      "primary_cleaner.state.floatbank8_c_level                                    0.071559   \n",
      "primary_cleaner.state.floatbank8_d_air                                      0.491643   \n",
      "primary_cleaner.state.floatbank8_d_level                                    0.001856   \n",
      "rougher.input.feed_ag                                                       0.150561   \n",
      "rougher.input.feed_pb                                                       0.138647   \n",
      "rougher.input.feed_rate                                                     0.129663   \n",
      "rougher.input.feed_size                                                     0.037702   \n",
      "rougher.input.feed_sol                                                      0.085967   \n",
      "rougher.input.feed_au                                                       0.160088   \n",
      "rougher.input.floatbank10_sulfate                                           0.329987   \n",
      "rougher.input.floatbank10_xanthate                                          0.187300   \n",
      "rougher.input.floatbank11_sulfate                                           0.306831   \n",
      "rougher.input.floatbank11_xanthate                                          0.160424   \n",
      "rougher.state.floatbank10_a_air                                             0.239912   \n",
      "rougher.state.floatbank10_a_level                                           0.116369   \n",
      "rougher.state.floatbank10_b_air                                            -0.099376   \n",
      "rougher.state.floatbank10_b_level                                           0.105702   \n",
      "rougher.state.floatbank10_c_air                                            -0.100264   \n",
      "rougher.state.floatbank10_c_level                                           0.104035   \n",
      "rougher.state.floatbank10_d_air                                            -0.084851   \n",
      "rougher.state.floatbank10_d_level                                           0.109479   \n",
      "rougher.state.floatbank10_e_air                                             0.067346   \n",
      "rougher.state.floatbank10_e_level                                           0.168247   \n",
      "rougher.state.floatbank10_f_air                                             0.084106   \n",
      "rougher.state.floatbank10_f_level                                           0.188557   \n",
      "secondary_cleaner.state.floatbank2_a_air                                    0.375200   \n",
      "secondary_cleaner.state.floatbank2_a_level                                 -0.097089   \n",
      "secondary_cleaner.state.floatbank2_b_air                                    0.664160   \n",
      "secondary_cleaner.state.floatbank2_b_level                                 -0.077545   \n",
      "secondary_cleaner.state.floatbank3_a_air                                    0.432797   \n",
      "secondary_cleaner.state.floatbank3_a_level                                 -0.088951   \n",
      "secondary_cleaner.state.floatbank3_b_air                                    0.534658   \n",
      "secondary_cleaner.state.floatbank3_b_level                                 -0.061874   \n",
      "secondary_cleaner.state.floatbank4_a_air                                    0.925344   \n",
      "secondary_cleaner.state.floatbank4_a_level                                  0.291668   \n",
      "secondary_cleaner.state.floatbank4_b_air                                    1.000000   \n",
      "secondary_cleaner.state.floatbank4_b_level                                  0.162442   \n",
      "secondary_cleaner.state.floatbank5_a_air                                    0.621448   \n",
      "secondary_cleaner.state.floatbank5_a_level                                  0.231617   \n",
      "secondary_cleaner.state.floatbank5_b_air                                    0.690637   \n",
      "secondary_cleaner.state.floatbank5_b_level                                  0.151066   \n",
      "secondary_cleaner.state.floatbank6_a_air                                    0.188092   \n",
      "secondary_cleaner.state.floatbank6_a_level                                  0.142336   \n",
      "\n",
      "                                            secondary_cleaner.state.floatbank4_b_level  \\\n",
      "primary_cleaner.input.sulfate                                                 0.068693   \n",
      "primary_cleaner.input.depressant                                             -0.085583   \n",
      "primary_cleaner.input.feed_size                                              -0.137180   \n",
      "primary_cleaner.input.xanthate                                                0.121575   \n",
      "primary_cleaner.state.floatbank8_a_air                                       -0.058593   \n",
      "primary_cleaner.state.floatbank8_a_level                                     -0.005819   \n",
      "primary_cleaner.state.floatbank8_b_air                                       -0.080058   \n",
      "primary_cleaner.state.floatbank8_b_level                                     -0.038440   \n",
      "primary_cleaner.state.floatbank8_c_air                                       -0.031081   \n",
      "primary_cleaner.state.floatbank8_c_level                                     -0.013814   \n",
      "primary_cleaner.state.floatbank8_d_air                                       -0.072571   \n",
      "primary_cleaner.state.floatbank8_d_level                                     -0.017416   \n",
      "rougher.input.feed_ag                                                        -0.291577   \n",
      "rougher.input.feed_pb                                                        -0.206534   \n",
      "rougher.input.feed_rate                                                       0.358922   \n",
      "rougher.input.feed_size                                                       0.325574   \n",
      "rougher.input.feed_sol                                                        0.416526   \n",
      "rougher.input.feed_au                                                        -0.266889   \n",
      "rougher.input.floatbank10_sulfate                                             0.298333   \n",
      "rougher.input.floatbank10_xanthate                                            0.163137   \n",
      "rougher.input.floatbank11_sulfate                                             0.340335   \n",
      "rougher.input.floatbank11_xanthate                                            0.215856   \n",
      "rougher.state.floatbank10_a_air                                              -0.123604   \n",
      "rougher.state.floatbank10_a_level                                             0.261028   \n",
      "rougher.state.floatbank10_b_air                                              -0.213919   \n",
      "rougher.state.floatbank10_b_level                                            -0.213382   \n",
      "rougher.state.floatbank10_c_air                                              -0.229330   \n",
      "rougher.state.floatbank10_c_level                                            -0.217125   \n",
      "rougher.state.floatbank10_d_air                                              -0.262495   \n",
      "rougher.state.floatbank10_d_level                                            -0.220828   \n",
      "rougher.state.floatbank10_e_air                                              -0.169546   \n",
      "rougher.state.floatbank10_e_level                                            -0.214266   \n",
      "rougher.state.floatbank10_f_air                                              -0.112751   \n",
      "rougher.state.floatbank10_f_level                                            -0.210791   \n",
      "secondary_cleaner.state.floatbank2_a_air                                     -0.006746   \n",
      "secondary_cleaner.state.floatbank2_a_level                                   -0.016680   \n",
      "secondary_cleaner.state.floatbank2_b_air                                      0.001715   \n",
      "secondary_cleaner.state.floatbank2_b_level                                    0.013354   \n",
      "secondary_cleaner.state.floatbank3_a_air                                     -0.060988   \n",
      "secondary_cleaner.state.floatbank3_a_level                                    0.018798   \n",
      "secondary_cleaner.state.floatbank3_b_air                                     -0.188031   \n",
      "secondary_cleaner.state.floatbank3_b_level                                    0.035838   \n",
      "secondary_cleaner.state.floatbank4_a_air                                      0.256080   \n",
      "secondary_cleaner.state.floatbank4_a_level                                    0.322602   \n",
      "secondary_cleaner.state.floatbank4_b_air                                      0.162442   \n",
      "secondary_cleaner.state.floatbank4_b_level                                    1.000000   \n",
      "secondary_cleaner.state.floatbank5_a_air                                     -0.107707   \n",
      "secondary_cleaner.state.floatbank5_a_level                                    0.147114   \n",
      "secondary_cleaner.state.floatbank5_b_air                                     -0.061246   \n",
      "secondary_cleaner.state.floatbank5_b_level                                    0.085526   \n",
      "secondary_cleaner.state.floatbank6_a_air                                     -0.336132   \n",
      "secondary_cleaner.state.floatbank6_a_level                                    0.046965   \n",
      "\n",
      "                                            secondary_cleaner.state.floatbank5_a_air  \\\n",
      "primary_cleaner.input.sulfate                                               0.093608   \n",
      "primary_cleaner.input.depressant                                           -0.090184   \n",
      "primary_cleaner.input.feed_size                                            -0.192880   \n",
      "primary_cleaner.input.xanthate                                              0.059162   \n",
      "primary_cleaner.state.floatbank8_a_air                                      0.408050   \n",
      "primary_cleaner.state.floatbank8_a_level                                   -0.036132   \n",
      "primary_cleaner.state.floatbank8_b_air                                      0.415343   \n",
      "primary_cleaner.state.floatbank8_b_level                                   -0.009671   \n",
      "primary_cleaner.state.floatbank8_c_air                                      0.400765   \n",
      "primary_cleaner.state.floatbank8_c_level                                   -0.018878   \n",
      "primary_cleaner.state.floatbank8_d_air                                      0.412552   \n",
      "primary_cleaner.state.floatbank8_d_level                                    0.008748   \n",
      "rougher.input.feed_ag                                                      -0.033441   \n",
      "rougher.input.feed_pb                                                      -0.068303   \n",
      "rougher.input.feed_rate                                                    -0.137310   \n",
      "rougher.input.feed_size                                                    -0.116859   \n",
      "rougher.input.feed_sol                                                     -0.229209   \n",
      "rougher.input.feed_au                                                      -0.037379   \n",
      "rougher.input.floatbank10_sulfate                                           0.039912   \n",
      "rougher.input.floatbank10_xanthate                                         -0.141634   \n",
      "rougher.input.floatbank11_sulfate                                           0.066931   \n",
      "rougher.input.floatbank11_xanthate                                         -0.155575   \n",
      "rougher.state.floatbank10_a_air                                            -0.043592   \n",
      "rougher.state.floatbank10_a_level                                          -0.130661   \n",
      "rougher.state.floatbank10_b_air                                             0.351196   \n",
      "rougher.state.floatbank10_b_level                                           0.177808   \n",
      "rougher.state.floatbank10_c_air                                             0.334076   \n",
      "rougher.state.floatbank10_c_level                                           0.172000   \n",
      "rougher.state.floatbank10_d_air                                             0.368140   \n",
      "rougher.state.floatbank10_d_level                                           0.148741   \n",
      "rougher.state.floatbank10_e_air                                             0.395027   \n",
      "rougher.state.floatbank10_e_level                                           0.264139   \n",
      "rougher.state.floatbank10_f_air                                             0.409527   \n",
      "rougher.state.floatbank10_f_level                                           0.261930   \n",
      "secondary_cleaner.state.floatbank2_a_air                                    0.364384   \n",
      "secondary_cleaner.state.floatbank2_a_level                                 -0.013389   \n",
      "secondary_cleaner.state.floatbank2_b_air                                    0.513680   \n",
      "secondary_cleaner.state.floatbank2_b_level                                 -0.020293   \n",
      "secondary_cleaner.state.floatbank3_a_air                                    0.310308   \n",
      "secondary_cleaner.state.floatbank3_a_level                                 -0.197216   \n",
      "secondary_cleaner.state.floatbank3_b_air                                    0.462017   \n",
      "secondary_cleaner.state.floatbank3_b_level                                 -0.174450   \n",
      "secondary_cleaner.state.floatbank4_a_air                                    0.523977   \n",
      "secondary_cleaner.state.floatbank4_a_level                                  0.139509   \n",
      "secondary_cleaner.state.floatbank4_b_air                                    0.621448   \n",
      "secondary_cleaner.state.floatbank4_b_level                                 -0.107707   \n",
      "secondary_cleaner.state.floatbank5_a_air                                    1.000000   \n",
      "secondary_cleaner.state.floatbank5_a_level                                  0.159737   \n",
      "secondary_cleaner.state.floatbank5_b_air                                    0.839300   \n",
      "secondary_cleaner.state.floatbank5_b_level                                  0.097730   \n",
      "secondary_cleaner.state.floatbank6_a_air                                    0.508881   \n",
      "secondary_cleaner.state.floatbank6_a_level                                  0.080659   \n",
      "\n",
      "                                            secondary_cleaner.state.floatbank5_a_level  \\\n",
      "primary_cleaner.input.sulfate                                                 0.132193   \n",
      "primary_cleaner.input.depressant                                              0.009138   \n",
      "primary_cleaner.input.feed_size                                              -0.059167   \n",
      "primary_cleaner.input.xanthate                                                0.128636   \n",
      "primary_cleaner.state.floatbank8_a_air                                        0.271547   \n",
      "primary_cleaner.state.floatbank8_a_level                                      0.164220   \n",
      "primary_cleaner.state.floatbank8_b_air                                        0.260220   \n",
      "primary_cleaner.state.floatbank8_b_level                                      0.029409   \n",
      "primary_cleaner.state.floatbank8_c_air                                        0.239333   \n",
      "primary_cleaner.state.floatbank8_c_level                                      0.143313   \n",
      "primary_cleaner.state.floatbank8_d_air                                        0.259882   \n",
      "primary_cleaner.state.floatbank8_d_level                                      0.078442   \n",
      "rougher.input.feed_ag                                                        -0.011144   \n",
      "rougher.input.feed_pb                                                         0.052358   \n",
      "rougher.input.feed_rate                                                       0.097025   \n",
      "rougher.input.feed_size                                                       0.045213   \n",
      "rougher.input.feed_sol                                                        0.089788   \n",
      "rougher.input.feed_au                                                         0.016553   \n",
      "rougher.input.floatbank10_sulfate                                             0.085431   \n",
      "rougher.input.floatbank10_xanthate                                            0.130590   \n",
      "rougher.input.floatbank11_sulfate                                             0.113906   \n",
      "rougher.input.floatbank11_xanthate                                            0.141563   \n",
      "rougher.state.floatbank10_a_air                                               0.105358   \n",
      "rougher.state.floatbank10_a_level                                             0.119156   \n",
      "rougher.state.floatbank10_b_air                                               0.116437   \n",
      "rougher.state.floatbank10_b_level                                             0.089507   \n",
      "rougher.state.floatbank10_c_air                                               0.092861   \n",
      "rougher.state.floatbank10_c_level                                             0.078225   \n",
      "rougher.state.floatbank10_d_air                                               0.060210   \n",
      "rougher.state.floatbank10_d_level                                             0.048372   \n",
      "rougher.state.floatbank10_e_air                                               0.087056   \n",
      "rougher.state.floatbank10_e_level                                             0.050704   \n",
      "rougher.state.floatbank10_f_air                                               0.085782   \n",
      "rougher.state.floatbank10_f_level                                             0.066304   \n",
      "secondary_cleaner.state.floatbank2_a_air                                      0.161586   \n",
      "secondary_cleaner.state.floatbank2_a_level                                    0.077666   \n",
      "secondary_cleaner.state.floatbank2_b_air                                      0.228662   \n",
      "secondary_cleaner.state.floatbank2_b_level                                    0.078675   \n",
      "secondary_cleaner.state.floatbank3_a_air                                      0.187541   \n",
      "secondary_cleaner.state.floatbank3_a_level                                    0.045148   \n",
      "secondary_cleaner.state.floatbank3_b_air                                      0.174008   \n",
      "secondary_cleaner.state.floatbank3_b_level                                    0.189707   \n",
      "secondary_cleaner.state.floatbank4_a_air                                      0.221838   \n",
      "secondary_cleaner.state.floatbank4_a_level                                    0.129475   \n",
      "secondary_cleaner.state.floatbank4_b_air                                      0.231617   \n",
      "secondary_cleaner.state.floatbank4_b_level                                    0.147114   \n",
      "secondary_cleaner.state.floatbank5_a_air                                      0.159737   \n",
      "secondary_cleaner.state.floatbank5_a_level                                    1.000000   \n",
      "secondary_cleaner.state.floatbank5_b_air                                      0.224178   \n",
      "secondary_cleaner.state.floatbank5_b_level                                    0.516684   \n",
      "secondary_cleaner.state.floatbank6_a_air                                     -0.013499   \n",
      "secondary_cleaner.state.floatbank6_a_level                                    0.404586   \n",
      "\n",
      "                                            secondary_cleaner.state.floatbank5_b_air  \\\n",
      "primary_cleaner.input.sulfate                                               0.156583   \n",
      "primary_cleaner.input.depressant                                            0.064209   \n",
      "primary_cleaner.input.feed_size                                            -0.214970   \n",
      "primary_cleaner.input.xanthate                                              0.077380   \n",
      "primary_cleaner.state.floatbank8_a_air                                      0.465492   \n",
      "primary_cleaner.state.floatbank8_a_level                                   -0.012665   \n",
      "primary_cleaner.state.floatbank8_b_air                                      0.499829   \n",
      "primary_cleaner.state.floatbank8_b_level                                    0.012115   \n",
      "primary_cleaner.state.floatbank8_c_air                                      0.500353   \n",
      "primary_cleaner.state.floatbank8_c_level                                   -0.004169   \n",
      "primary_cleaner.state.floatbank8_d_air                                      0.492616   \n",
      "primary_cleaner.state.floatbank8_d_level                                    0.006287   \n",
      "rougher.input.feed_ag                                                      -0.042389   \n",
      "rougher.input.feed_pb                                                      -0.029590   \n",
      "rougher.input.feed_rate                                                    -0.073347   \n",
      "rougher.input.feed_size                                                    -0.104374   \n",
      "rougher.input.feed_sol                                                     -0.174981   \n",
      "rougher.input.feed_au                                                      -0.015953   \n",
      "rougher.input.floatbank10_sulfate                                           0.143205   \n",
      "rougher.input.floatbank10_xanthate                                         -0.043725   \n",
      "rougher.input.floatbank11_sulfate                                           0.164150   \n",
      "rougher.input.floatbank11_xanthate                                         -0.046432   \n",
      "rougher.state.floatbank10_a_air                                            -0.078618   \n",
      "rougher.state.floatbank10_a_level                                           0.023681   \n",
      "rougher.state.floatbank10_b_air                                             0.291708   \n",
      "rougher.state.floatbank10_b_level                                           0.345947   \n",
      "rougher.state.floatbank10_c_air                                             0.309043   \n",
      "rougher.state.floatbank10_c_level                                           0.353681   \n",
      "rougher.state.floatbank10_d_air                                             0.340406   \n",
      "rougher.state.floatbank10_d_level                                           0.332464   \n",
      "rougher.state.floatbank10_e_air                                             0.414665   \n",
      "rougher.state.floatbank10_e_level                                           0.407902   \n",
      "rougher.state.floatbank10_f_air                                             0.415871   \n",
      "rougher.state.floatbank10_f_level                                           0.392998   \n",
      "secondary_cleaner.state.floatbank2_a_air                                    0.482872   \n",
      "secondary_cleaner.state.floatbank2_a_level                                  0.001987   \n",
      "secondary_cleaner.state.floatbank2_b_air                                    0.670703   \n",
      "secondary_cleaner.state.floatbank2_b_level                                 -0.006990   \n",
      "secondary_cleaner.state.floatbank3_a_air                                    0.525449   \n",
      "secondary_cleaner.state.floatbank3_a_level                                 -0.088070   \n",
      "secondary_cleaner.state.floatbank3_b_air                                    0.641391   \n",
      "secondary_cleaner.state.floatbank3_b_level                                 -0.061240   \n",
      "secondary_cleaner.state.floatbank4_a_air                                    0.630029   \n",
      "secondary_cleaner.state.floatbank4_a_level                                  0.196989   \n",
      "secondary_cleaner.state.floatbank4_b_air                                    0.690637   \n",
      "secondary_cleaner.state.floatbank4_b_level                                 -0.061246   \n",
      "secondary_cleaner.state.floatbank5_a_air                                    0.839300   \n",
      "secondary_cleaner.state.floatbank5_a_level                                  0.224178   \n",
      "secondary_cleaner.state.floatbank5_b_air                                    1.000000   \n",
      "secondary_cleaner.state.floatbank5_b_level                                  0.131951   \n",
      "secondary_cleaner.state.floatbank6_a_air                                    0.463425   \n",
      "secondary_cleaner.state.floatbank6_a_level                                  0.156877   \n",
      "\n",
      "                                            secondary_cleaner.state.floatbank5_b_level  \\\n",
      "primary_cleaner.input.sulfate                                                 0.072618   \n",
      "primary_cleaner.input.depressant                                              0.002988   \n",
      "primary_cleaner.input.feed_size                                              -0.054173   \n",
      "primary_cleaner.input.xanthate                                                0.095508   \n",
      "primary_cleaner.state.floatbank8_a_air                                        0.161509   \n",
      "primary_cleaner.state.floatbank8_a_level                                      0.091263   \n",
      "primary_cleaner.state.floatbank8_b_air                                        0.155978   \n",
      "primary_cleaner.state.floatbank8_b_level                                      0.004864   \n",
      "primary_cleaner.state.floatbank8_c_air                                        0.117465   \n",
      "primary_cleaner.state.floatbank8_c_level                                      0.061153   \n",
      "primary_cleaner.state.floatbank8_d_air                                        0.158148   \n",
      "primary_cleaner.state.floatbank8_d_level                                      0.006570   \n",
      "rougher.input.feed_ag                                                         0.039210   \n",
      "rougher.input.feed_pb                                                         0.077829   \n",
      "rougher.input.feed_rate                                                       0.013943   \n",
      "rougher.input.feed_size                                                      -0.003561   \n",
      "rougher.input.feed_sol                                                        0.008899   \n",
      "rougher.input.feed_au                                                         0.074743   \n",
      "rougher.input.floatbank10_sulfate                                             0.058667   \n",
      "rougher.input.floatbank10_xanthate                                            0.081810   \n",
      "rougher.input.floatbank11_sulfate                                             0.074344   \n",
      "rougher.input.floatbank11_xanthate                                            0.082836   \n",
      "rougher.state.floatbank10_a_air                                               0.072453   \n",
      "rougher.state.floatbank10_a_level                                             0.012086   \n",
      "rougher.state.floatbank10_b_air                                               0.078298   \n",
      "rougher.state.floatbank10_b_level                                             0.058823   \n",
      "rougher.state.floatbank10_c_air                                               0.070987   \n",
      "rougher.state.floatbank10_c_level                                             0.054056   \n",
      "rougher.state.floatbank10_d_air                                               0.045190   \n",
      "rougher.state.floatbank10_d_level                                             0.039969   \n",
      "rougher.state.floatbank10_e_air                                               0.084650   \n",
      "rougher.state.floatbank10_e_level                                             0.048908   \n",
      "rougher.state.floatbank10_f_air                                               0.074507   \n",
      "rougher.state.floatbank10_f_level                                             0.056624   \n",
      "secondary_cleaner.state.floatbank2_a_air                                      0.088529   \n",
      "secondary_cleaner.state.floatbank2_a_level                                    0.010127   \n",
      "secondary_cleaner.state.floatbank2_b_air                                      0.130072   \n",
      "secondary_cleaner.state.floatbank2_b_level                                    0.014914   \n",
      "secondary_cleaner.state.floatbank3_a_air                                      0.100079   \n",
      "secondary_cleaner.state.floatbank3_a_level                                   -0.024978   \n",
      "secondary_cleaner.state.floatbank3_b_air                                      0.089819   \n",
      "secondary_cleaner.state.floatbank3_b_level                                    0.049728   \n",
      "secondary_cleaner.state.floatbank4_a_air                                      0.132053   \n",
      "secondary_cleaner.state.floatbank4_a_level                                    0.038650   \n",
      "secondary_cleaner.state.floatbank4_b_air                                      0.151066   \n",
      "secondary_cleaner.state.floatbank4_b_level                                    0.085526   \n",
      "secondary_cleaner.state.floatbank5_a_air                                      0.097730   \n",
      "secondary_cleaner.state.floatbank5_a_level                                    0.516684   \n",
      "secondary_cleaner.state.floatbank5_b_air                                      0.131951   \n",
      "secondary_cleaner.state.floatbank5_b_level                                    1.000000   \n",
      "secondary_cleaner.state.floatbank6_a_air                                      0.028312   \n",
      "secondary_cleaner.state.floatbank6_a_level                                    0.336502   \n",
      "\n",
      "                                            secondary_cleaner.state.floatbank6_a_air  \\\n",
      "primary_cleaner.input.sulfate                                              -0.134499   \n",
      "primary_cleaner.input.depressant                                           -0.198422   \n",
      "primary_cleaner.input.feed_size                                             0.026930   \n",
      "primary_cleaner.input.xanthate                                             -0.218155   \n",
      "primary_cleaner.state.floatbank8_a_air                                      0.345231   \n",
      "primary_cleaner.state.floatbank8_a_level                                   -0.107710   \n",
      "primary_cleaner.state.floatbank8_b_air                                      0.389594   \n",
      "primary_cleaner.state.floatbank8_b_level                                   -0.006694   \n",
      "primary_cleaner.state.floatbank8_c_air                                      0.490672   \n",
      "primary_cleaner.state.floatbank8_c_level                                   -0.087866   \n",
      "primary_cleaner.state.floatbank8_d_air                                      0.378070   \n",
      "primary_cleaner.state.floatbank8_d_level                                   -0.036983   \n",
      "rougher.input.feed_ag                                                       0.212922   \n",
      "rougher.input.feed_pb                                                      -0.125363   \n",
      "rougher.input.feed_rate                                                    -0.414527   \n",
      "rougher.input.feed_size                                                    -0.356120   \n",
      "rougher.input.feed_sol                                                     -0.488305   \n",
      "rougher.input.feed_au                                                       0.191477   \n",
      "rougher.input.floatbank10_sulfate                                          -0.314369   \n",
      "rougher.input.floatbank10_xanthate                                         -0.112190   \n",
      "rougher.input.floatbank11_sulfate                                          -0.325954   \n",
      "rougher.input.floatbank11_xanthate                                         -0.150245   \n",
      "rougher.state.floatbank10_a_air                                            -0.334347   \n",
      "rougher.state.floatbank10_a_level                                          -0.561842   \n",
      "rougher.state.floatbank10_b_air                                             0.533462   \n",
      "rougher.state.floatbank10_b_level                                           0.455330   \n",
      "rougher.state.floatbank10_c_air                                             0.621525   \n",
      "rougher.state.floatbank10_c_level                                           0.455477   \n",
      "rougher.state.floatbank10_d_air                                             0.598880   \n",
      "rougher.state.floatbank10_d_level                                           0.430585   \n",
      "rougher.state.floatbank10_e_air                                             0.578157   \n",
      "rougher.state.floatbank10_e_level                                           0.484825   \n",
      "rougher.state.floatbank10_f_air                                             0.434982   \n",
      "rougher.state.floatbank10_f_level                                           0.483501   \n",
      "secondary_cleaner.state.floatbank2_a_air                                    0.146489   \n",
      "secondary_cleaner.state.floatbank2_a_level                                  0.048933   \n",
      "secondary_cleaner.state.floatbank2_b_air                                    0.103417   \n",
      "secondary_cleaner.state.floatbank2_b_level                                  0.010788   \n",
      "secondary_cleaner.state.floatbank3_a_air                                    0.268413   \n",
      "secondary_cleaner.state.floatbank3_a_level                                 -0.127807   \n",
      "secondary_cleaner.state.floatbank3_b_air                                    0.395344   \n",
      "secondary_cleaner.state.floatbank3_b_level                                 -0.144723   \n",
      "secondary_cleaner.state.floatbank4_a_air                                    0.082357   \n",
      "secondary_cleaner.state.floatbank4_a_level                                  0.027717   \n",
      "secondary_cleaner.state.floatbank4_b_air                                    0.188092   \n",
      "secondary_cleaner.state.floatbank4_b_level                                 -0.336132   \n",
      "secondary_cleaner.state.floatbank5_a_air                                    0.508881   \n",
      "secondary_cleaner.state.floatbank5_a_level                                 -0.013499   \n",
      "secondary_cleaner.state.floatbank5_b_air                                    0.463425   \n",
      "secondary_cleaner.state.floatbank5_b_level                                  0.028312   \n",
      "secondary_cleaner.state.floatbank6_a_air                                    1.000000   \n",
      "secondary_cleaner.state.floatbank6_a_level                                  0.189606   \n",
      "\n",
      "                                            secondary_cleaner.state.floatbank6_a_level  \n",
      "primary_cleaner.input.sulfate                                                 0.033945  \n",
      "primary_cleaner.input.depressant                                              0.034654  \n",
      "primary_cleaner.input.feed_size                                              -0.083021  \n",
      "primary_cleaner.input.xanthate                                                0.080662  \n",
      "primary_cleaner.state.floatbank8_a_air                                        0.172154  \n",
      "primary_cleaner.state.floatbank8_a_level                                      0.076271  \n",
      "primary_cleaner.state.floatbank8_b_air                                        0.187429  \n",
      "primary_cleaner.state.floatbank8_b_level                                      0.012904  \n",
      "primary_cleaner.state.floatbank8_c_air                                        0.169634  \n",
      "primary_cleaner.state.floatbank8_c_level                                      0.067955  \n",
      "primary_cleaner.state.floatbank8_d_air                                        0.184031  \n",
      "primary_cleaner.state.floatbank8_d_level                                      0.029999  \n",
      "rougher.input.feed_ag                                                        -0.001060  \n",
      "rougher.input.feed_pb                                                         0.067297  \n",
      "rougher.input.feed_rate                                                       0.024289  \n",
      "rougher.input.feed_size                                                       0.007405  \n",
      "rougher.input.feed_sol                                                        0.038093  \n",
      "rougher.input.feed_au                                                         0.036998  \n",
      "rougher.input.floatbank10_sulfate                                             0.066272  \n",
      "rougher.input.floatbank10_xanthate                                            0.112981  \n",
      "rougher.input.floatbank11_sulfate                                             0.082275  \n",
      "rougher.input.floatbank11_xanthate                                            0.129667  \n",
      "rougher.state.floatbank10_a_air                                               0.046717  \n",
      "rougher.state.floatbank10_a_level                                             0.087695  \n",
      "rougher.state.floatbank10_b_air                                               0.022975  \n",
      "rougher.state.floatbank10_b_level                                             0.034661  \n",
      "rougher.state.floatbank10_c_air                                               0.018168  \n",
      "rougher.state.floatbank10_c_level                                             0.031861  \n",
      "rougher.state.floatbank10_d_air                                               0.008341  \n",
      "rougher.state.floatbank10_d_level                                             0.021169  \n",
      "rougher.state.floatbank10_e_air                                               0.040936  \n",
      "rougher.state.floatbank10_e_level                                             0.056080  \n",
      "rougher.state.floatbank10_f_air                                               0.053557  \n",
      "rougher.state.floatbank10_f_level                                             0.064456  \n",
      "secondary_cleaner.state.floatbank2_a_air                                      0.127233  \n",
      "secondary_cleaner.state.floatbank2_a_level                                    0.025503  \n",
      "secondary_cleaner.state.floatbank2_b_air                                      0.158380  \n",
      "secondary_cleaner.state.floatbank2_b_level                                    0.023177  \n",
      "secondary_cleaner.state.floatbank3_a_air                                      0.124885  \n",
      "secondary_cleaner.state.floatbank3_a_level                                    0.010255  \n",
      "secondary_cleaner.state.floatbank3_b_air                                      0.114933  \n",
      "secondary_cleaner.state.floatbank3_b_level                                    0.076089  \n",
      "secondary_cleaner.state.floatbank4_a_air                                      0.145112  \n",
      "secondary_cleaner.state.floatbank4_a_level                                    0.028501  \n",
      "secondary_cleaner.state.floatbank4_b_air                                      0.142336  \n",
      "secondary_cleaner.state.floatbank4_b_level                                    0.046965  \n",
      "secondary_cleaner.state.floatbank5_a_air                                      0.080659  \n",
      "secondary_cleaner.state.floatbank5_a_level                                    0.404586  \n",
      "secondary_cleaner.state.floatbank5_b_air                                      0.156877  \n",
      "secondary_cleaner.state.floatbank5_b_level                                    0.336502  \n",
      "secondary_cleaner.state.floatbank6_a_air                                      0.189606  \n",
      "secondary_cleaner.state.floatbank6_a_level                                    1.000000  \n",
      "\n",
      "[52 rows x 52 columns]\n"
     ]
    }
   ],
   "source": [
    "data_info(test_new)"
   ]
  },
  {
   "cell_type": "code",
   "execution_count": 11,
   "metadata": {
    "ExecuteTime": {
     "end_time": "2023-04-18T08:18:34.908154Z",
     "start_time": "2023-04-18T08:18:33.438436Z"
    }
   },
   "outputs": [
    {
     "name": "stdout",
     "output_type": "stream",
     "text": [
      "Верх таблицы:\n",
      "                   date  final.output.concentrate_ag  \\\n",
      "0  2016-01-15 00:00:00                     6.055403   \n",
      "1  2016-01-15 01:00:00                     6.029369   \n",
      "2  2016-01-15 02:00:00                     6.055926   \n",
      "3  2016-01-15 03:00:00                     6.047977   \n",
      "4  2016-01-15 04:00:00                     6.148599   \n",
      "\n",
      "   final.output.concentrate_pb  final.output.concentrate_sol  \\\n",
      "0                     9.889648                      5.507324   \n",
      "1                     9.968944                      5.257781   \n",
      "2                    10.213995                      5.383759   \n",
      "3                     9.977019                      4.858634   \n",
      "4                    10.142511                      4.939416   \n",
      "\n",
      "   final.output.concentrate_au  final.output.recovery  final.output.tail_ag  \\\n",
      "0                    42.192020              70.541216             10.411962   \n",
      "1                    42.701629              69.266198             10.462676   \n",
      "2                    42.657501              68.116445             10.507046   \n",
      "3                    42.689819              68.347543             10.422762   \n",
      "4                    42.774141              66.927016             10.360302   \n",
      "\n",
      "   final.output.tail_pb  final.output.tail_sol  final.output.tail_au  ...  \\\n",
      "0              0.895447              16.904297              2.143149  ...   \n",
      "1              0.927452              16.634514              2.224930  ...   \n",
      "2              0.953716              16.208849              2.257889  ...   \n",
      "3              0.883763              16.532835              2.146849  ...   \n",
      "4              0.792826              16.525686              2.055292  ...   \n",
      "\n",
      "   secondary_cleaner.state.floatbank4_a_air  \\\n",
      "0                                 14.016835   \n",
      "1                                 13.992281   \n",
      "2                                 14.015015   \n",
      "3                                 14.036510   \n",
      "4                                 14.027298   \n",
      "\n",
      "   secondary_cleaner.state.floatbank4_a_level  \\\n",
      "0                                 -502.488007   \n",
      "1                                 -505.503262   \n",
      "2                                 -502.520901   \n",
      "3                                 -500.857308   \n",
      "4                                 -499.838632   \n",
      "\n",
      "   secondary_cleaner.state.floatbank4_b_air  \\\n",
      "0                                 12.099931   \n",
      "1                                 11.950531   \n",
      "2                                 11.912783   \n",
      "3                                 11.999550   \n",
      "4                                 11.953070   \n",
      "\n",
      "   secondary_cleaner.state.floatbank4_b_level  \\\n",
      "0                                 -504.715942   \n",
      "1                                 -501.331529   \n",
      "2                                 -501.133383   \n",
      "3                                 -501.193686   \n",
      "4                                 -501.053894   \n",
      "\n",
      "   secondary_cleaner.state.floatbank5_a_air  \\\n",
      "0                                  9.925633   \n",
      "1                                 10.039245   \n",
      "2                                 10.070913   \n",
      "3                                  9.970366   \n",
      "4                                  9.925709   \n",
      "\n",
      "   secondary_cleaner.state.floatbank5_a_level  \\\n",
      "0                                 -498.310211   \n",
      "1                                 -500.169983   \n",
      "2                                 -500.129135   \n",
      "3                                 -499.201640   \n",
      "4                                 -501.686727   \n",
      "\n",
      "   secondary_cleaner.state.floatbank5_b_air  \\\n",
      "0                                  8.079666   \n",
      "1                                  7.984757   \n",
      "2                                  8.013877   \n",
      "3                                  7.977324   \n",
      "4                                  7.894242   \n",
      "\n",
      "   secondary_cleaner.state.floatbank5_b_level  \\\n",
      "0                                 -500.470978   \n",
      "1                                 -500.582168   \n",
      "2                                 -500.517572   \n",
      "3                                 -500.255908   \n",
      "4                                 -500.356035   \n",
      "\n",
      "   secondary_cleaner.state.floatbank6_a_air  \\\n",
      "0                                 14.151341   \n",
      "1                                 13.998353   \n",
      "2                                 14.028663   \n",
      "3                                 14.005551   \n",
      "4                                 13.996647   \n",
      "\n",
      "   secondary_cleaner.state.floatbank6_a_level  \n",
      "0                                 -605.841980  \n",
      "1                                 -599.787184  \n",
      "2                                 -601.427363  \n",
      "3                                 -599.996129  \n",
      "4                                 -601.496691  \n",
      "\n",
      "[5 rows x 87 columns]\n",
      "\n",
      "<class 'pandas.core.frame.DataFrame'>\n",
      "RangeIndex: 19439 entries, 0 to 19438\n",
      "Data columns (total 87 columns):\n",
      " #   Column                                              Non-Null Count  Dtype  \n",
      "---  ------                                              --------------  -----  \n",
      " 0   date                                                19439 non-null  object \n",
      " 1   final.output.concentrate_ag                         19438 non-null  float64\n",
      " 2   final.output.concentrate_pb                         19438 non-null  float64\n",
      " 3   final.output.concentrate_sol                        19228 non-null  float64\n",
      " 4   final.output.concentrate_au                         19439 non-null  float64\n",
      " 5   final.output.recovery                               19439 non-null  float64\n",
      " 6   final.output.tail_ag                                19438 non-null  float64\n",
      " 7   final.output.tail_pb                                19338 non-null  float64\n",
      " 8   final.output.tail_sol                               19433 non-null  float64\n",
      " 9   final.output.tail_au                                19439 non-null  float64\n",
      " 10  primary_cleaner.input.sulfate                       19415 non-null  float64\n",
      " 11  primary_cleaner.input.depressant                    19402 non-null  float64\n",
      " 12  primary_cleaner.input.feed_size                     19439 non-null  float64\n",
      " 13  primary_cleaner.input.xanthate                      19335 non-null  float64\n",
      " 14  primary_cleaner.output.concentrate_ag               19439 non-null  float64\n",
      " 15  primary_cleaner.output.concentrate_pb               19323 non-null  float64\n",
      " 16  primary_cleaner.output.concentrate_sol              19069 non-null  float64\n",
      " 17  primary_cleaner.output.concentrate_au               19439 non-null  float64\n",
      " 18  primary_cleaner.output.tail_ag                      19435 non-null  float64\n",
      " 19  primary_cleaner.output.tail_pb                      19418 non-null  float64\n",
      " 20  primary_cleaner.output.tail_sol                     19377 non-null  float64\n",
      " 21  primary_cleaner.output.tail_au                      19439 non-null  float64\n",
      " 22  primary_cleaner.state.floatbank8_a_air              19435 non-null  float64\n",
      " 23  primary_cleaner.state.floatbank8_a_level            19438 non-null  float64\n",
      " 24  primary_cleaner.state.floatbank8_b_air              19435 non-null  float64\n",
      " 25  primary_cleaner.state.floatbank8_b_level            19438 non-null  float64\n",
      " 26  primary_cleaner.state.floatbank8_c_air              19437 non-null  float64\n",
      " 27  primary_cleaner.state.floatbank8_c_level            19438 non-null  float64\n",
      " 28  primary_cleaner.state.floatbank8_d_air              19436 non-null  float64\n",
      " 29  primary_cleaner.state.floatbank8_d_level            19438 non-null  float64\n",
      " 30  rougher.calculation.sulfate_to_au_concentrate       19437 non-null  float64\n",
      " 31  rougher.calculation.floatbank10_sulfate_to_au_feed  19437 non-null  float64\n",
      " 32  rougher.calculation.floatbank11_sulfate_to_au_feed  19437 non-null  float64\n",
      " 33  rougher.calculation.au_pb_ratio                     19439 non-null  float64\n",
      " 34  rougher.input.feed_ag                               19439 non-null  float64\n",
      " 35  rougher.input.feed_pb                               19339 non-null  float64\n",
      " 36  rougher.input.feed_rate                             19428 non-null  float64\n",
      " 37  rougher.input.feed_size                             19294 non-null  float64\n",
      " 38  rougher.input.feed_sol                              19340 non-null  float64\n",
      " 39  rougher.input.feed_au                               19439 non-null  float64\n",
      " 40  rougher.input.floatbank10_sulfate                   19405 non-null  float64\n",
      " 41  rougher.input.floatbank10_xanthate                  19431 non-null  float64\n",
      " 42  rougher.input.floatbank11_sulfate                   19395 non-null  float64\n",
      " 43  rougher.input.floatbank11_xanthate                  18986 non-null  float64\n",
      " 44  rougher.output.concentrate_ag                       19439 non-null  float64\n",
      " 45  rougher.output.concentrate_pb                       19439 non-null  float64\n",
      " 46  rougher.output.concentrate_sol                      19416 non-null  float64\n",
      " 47  rougher.output.concentrate_au                       19439 non-null  float64\n",
      " 48  rougher.output.recovery                             19439 non-null  float64\n",
      " 49  rougher.output.tail_ag                              19438 non-null  float64\n",
      " 50  rougher.output.tail_pb                              19439 non-null  float64\n",
      " 51  rougher.output.tail_sol                             19439 non-null  float64\n",
      " 52  rougher.output.tail_au                              19439 non-null  float64\n",
      " 53  rougher.state.floatbank10_a_air                     19438 non-null  float64\n",
      " 54  rougher.state.floatbank10_a_level                   19438 non-null  float64\n",
      " 55  rougher.state.floatbank10_b_air                     19438 non-null  float64\n",
      " 56  rougher.state.floatbank10_b_level                   19438 non-null  float64\n",
      " 57  rougher.state.floatbank10_c_air                     19438 non-null  float64\n",
      " 58  rougher.state.floatbank10_c_level                   19438 non-null  float64\n",
      " 59  rougher.state.floatbank10_d_air                     19439 non-null  float64\n",
      " 60  rougher.state.floatbank10_d_level                   19439 non-null  float64\n",
      " 61  rougher.state.floatbank10_e_air                     19003 non-null  float64\n",
      " 62  rougher.state.floatbank10_e_level                   19439 non-null  float64\n",
      " 63  rougher.state.floatbank10_f_air                     19439 non-null  float64\n",
      " 64  rougher.state.floatbank10_f_level                   19439 non-null  float64\n",
      " 65  secondary_cleaner.output.tail_ag                    19437 non-null  float64\n",
      " 66  secondary_cleaner.output.tail_pb                    19427 non-null  float64\n",
      " 67  secondary_cleaner.output.tail_sol                   17691 non-null  float64\n",
      " 68  secondary_cleaner.output.tail_au                    19439 non-null  float64\n",
      " 69  secondary_cleaner.state.floatbank2_a_air            19219 non-null  float64\n",
      " 70  secondary_cleaner.state.floatbank2_a_level          19438 non-null  float64\n",
      " 71  secondary_cleaner.state.floatbank2_b_air            19416 non-null  float64\n",
      " 72  secondary_cleaner.state.floatbank2_b_level          19438 non-null  float64\n",
      " 73  secondary_cleaner.state.floatbank3_a_air            19426 non-null  float64\n",
      " 74  secondary_cleaner.state.floatbank3_a_level          19438 non-null  float64\n",
      " 75  secondary_cleaner.state.floatbank3_b_air            19438 non-null  float64\n",
      " 76  secondary_cleaner.state.floatbank3_b_level          19438 non-null  float64\n",
      " 77  secondary_cleaner.state.floatbank4_a_air            19433 non-null  float64\n",
      " 78  secondary_cleaner.state.floatbank4_a_level          19438 non-null  float64\n",
      " 79  secondary_cleaner.state.floatbank4_b_air            19438 non-null  float64\n",
      " 80  secondary_cleaner.state.floatbank4_b_level          19438 non-null  float64\n",
      " 81  secondary_cleaner.state.floatbank5_a_air            19438 non-null  float64\n",
      " 82  secondary_cleaner.state.floatbank5_a_level          19438 non-null  float64\n",
      " 83  secondary_cleaner.state.floatbank5_b_air            19438 non-null  float64\n",
      " 84  secondary_cleaner.state.floatbank5_b_level          19438 non-null  float64\n",
      " 85  secondary_cleaner.state.floatbank6_a_air            19437 non-null  float64\n",
      " 86  secondary_cleaner.state.floatbank6_a_level          19438 non-null  float64\n",
      "dtypes: float64(86), object(1)\n",
      "memory usage: 12.9+ MB\n",
      "Основная информация о таблице:\n",
      " None\n",
      "\n",
      "Распределение значений таблицы:\n",
      "                        date  final.output.concentrate_ag  \\\n",
      "count                 19439                 19438.000000   \n",
      "unique                19439                          NaN   \n",
      "top     2016-01-15 00:00:00                          NaN   \n",
      "freq                      1                          NaN   \n",
      "mean                    NaN                     5.168470   \n",
      "std                     NaN                     1.372348   \n",
      "min                     NaN                     0.000000   \n",
      "25%                     NaN                     4.251240   \n",
      "50%                     NaN                     5.066094   \n",
      "75%                     NaN                     5.895527   \n",
      "max                     NaN                    16.001945   \n",
      "\n",
      "        final.output.concentrate_pb  final.output.concentrate_sol  \\\n",
      "count                  19438.000000                  19228.000000   \n",
      "unique                          NaN                           NaN   \n",
      "top                             NaN                           NaN   \n",
      "freq                            NaN                           NaN   \n",
      "mean                       9.978895                      9.501224   \n",
      "std                        1.669240                      2.787537   \n",
      "min                        0.000000                      0.000000   \n",
      "25%                        9.137262                      7.722820   \n",
      "50%                       10.102433                      9.218961   \n",
      "75%                       11.035769                     10.947813   \n",
      "max                       17.031899                     19.615720   \n",
      "\n",
      "        final.output.concentrate_au  final.output.recovery  \\\n",
      "count                  19439.000000           19439.000000   \n",
      "unique                          NaN                    NaN   \n",
      "top                             NaN                    NaN   \n",
      "freq                            NaN                    NaN   \n",
      "mean                      44.076513              67.050208   \n",
      "std                        5.129784              10.125840   \n",
      "min                        0.000000               0.000000   \n",
      "25%                       43.402215              63.299712   \n",
      "50%                       45.011244              68.172738   \n",
      "75%                       46.275313              72.686642   \n",
      "max                       52.756638             100.000000   \n",
      "\n",
      "        final.output.tail_ag  final.output.tail_pb  final.output.tail_sol  \\\n",
      "count           19438.000000          19338.000000           19433.000000   \n",
      "unique                   NaN                   NaN                    NaN   \n",
      "top                      NaN                   NaN                    NaN   \n",
      "freq                     NaN                   NaN                    NaN   \n",
      "mean                9.688589              2.705795              10.583728   \n",
      "std                 2.328642              0.949077               2.868782   \n",
      "min                 0.000000              0.000000               0.000000   \n",
      "25%                 8.062878              2.040119               8.938947   \n",
      "50%                 9.743623              2.748730              10.622456   \n",
      "75%                11.134294              3.333216              12.104271   \n",
      "max                19.552149              5.804178              22.317730   \n",
      "\n",
      "        final.output.tail_au  ...  secondary_cleaner.state.floatbank4_a_air  \\\n",
      "count           19439.000000  ...                              19433.000000   \n",
      "unique                   NaN  ...                                       NaN   \n",
      "top                      NaN  ...                                       NaN   \n",
      "freq                     NaN  ...                                       NaN   \n",
      "mean                3.042467  ...                                 18.987674   \n",
      "std                 0.922808  ...                                  5.411058   \n",
      "min                 0.000000  ...                                  0.000000   \n",
      "25%                 2.461138  ...                                 14.975734   \n",
      "50%                 2.984909  ...                                 18.017481   \n",
      "75%                 3.571351  ...                                 23.012470   \n",
      "max                 8.245022  ...                                 30.115735   \n",
      "\n",
      "        secondary_cleaner.state.floatbank4_a_level  \\\n",
      "count                                 19438.000000   \n",
      "unique                                         NaN   \n",
      "top                                            NaN   \n",
      "freq                                           NaN   \n",
      "mean                                   -485.894516   \n",
      "std                                      47.758570   \n",
      "min                                    -799.798523   \n",
      "25%                                    -500.704892   \n",
      "50%                                    -499.837793   \n",
      "75%                                    -498.249730   \n",
      "max                                    -245.239184   \n",
      "\n",
      "        secondary_cleaner.state.floatbank4_b_air  \\\n",
      "count                               19438.000000   \n",
      "unique                                       NaN   \n",
      "top                                          NaN   \n",
      "freq                                         NaN   \n",
      "mean                                   15.010366   \n",
      "std                                     4.890228   \n",
      "min                                     0.000000   \n",
      "25%                                    11.940294   \n",
      "50%                                    14.971014   \n",
      "75%                                    19.034162   \n",
      "max                                    31.269706   \n",
      "\n",
      "        secondary_cleaner.state.floatbank4_b_level  \\\n",
      "count                                 19438.000000   \n",
      "unique                                         NaN   \n",
      "top                                            NaN   \n",
      "freq                                           NaN   \n",
      "mean                                   -461.078636   \n",
      "std                                      67.405524   \n",
      "min                                    -800.836914   \n",
      "25%                                    -500.187742   \n",
      "50%                                    -499.459786   \n",
      "75%                                    -400.118106   \n",
      "max                                      -6.506986   \n",
      "\n",
      "        secondary_cleaner.state.floatbank5_a_air  \\\n",
      "count                               19438.000000   \n",
      "unique                                       NaN   \n",
      "top                                          NaN   \n",
      "freq                                         NaN   \n",
      "mean                                   15.694452   \n",
      "std                                     5.510974   \n",
      "min                                    -0.372054   \n",
      "25%                                    10.988606   \n",
      "50%                                    15.000036   \n",
      "75%                                    18.026190   \n",
      "max                                    43.709931   \n",
      "\n",
      "        secondary_cleaner.state.floatbank5_a_level  \\\n",
      "count                                 19438.000000   \n",
      "unique                                         NaN   \n",
      "top                                            NaN   \n",
      "freq                                           NaN   \n",
      "mean                                   -488.684065   \n",
      "std                                      34.533396   \n",
      "min                                    -797.323986   \n",
      "25%                                    -500.458467   \n",
      "50%                                    -499.802605   \n",
      "75%                                    -498.384187   \n",
      "max                                    -244.483566   \n",
      "\n",
      "        secondary_cleaner.state.floatbank5_b_air  \\\n",
      "count                               19438.000000   \n",
      "unique                                       NaN   \n",
      "top                                          NaN   \n",
      "freq                                         NaN   \n",
      "mean                                   12.198224   \n",
      "std                                     5.333024   \n",
      "min                                     0.528083   \n",
      "25%                                     8.971105   \n",
      "50%                                    11.019433   \n",
      "75%                                    14.019088   \n",
      "max                                    27.926001   \n",
      "\n",
      "        secondary_cleaner.state.floatbank5_b_level  \\\n",
      "count                                 19438.000000   \n",
      "unique                                         NaN   \n",
      "top                                            NaN   \n",
      "freq                                           NaN   \n",
      "mean                                   -487.149827   \n",
      "std                                      38.347312   \n",
      "min                                    -800.220337   \n",
      "25%                                    -500.129462   \n",
      "50%                                    -499.935317   \n",
      "75%                                    -499.436708   \n",
      "max                                    -137.740004   \n",
      "\n",
      "        secondary_cleaner.state.floatbank6_a_air  \\\n",
      "count                               19437.000000   \n",
      "unique                                       NaN   \n",
      "top                                          NaN   \n",
      "freq                                         NaN   \n",
      "mean                                   18.959024   \n",
      "std                                     5.550498   \n",
      "min                                    -0.079426   \n",
      "25%                                    14.983037   \n",
      "50%                                    19.960541   \n",
      "75%                                    24.003170   \n",
      "max                                    32.188906   \n",
      "\n",
      "        secondary_cleaner.state.floatbank6_a_level  \n",
      "count                                 19438.000000  \n",
      "unique                                         NaN  \n",
      "top                                            NaN  \n",
      "freq                                           NaN  \n",
      "mean                                   -505.436305  \n",
      "std                                      37.689057  \n",
      "min                                    -809.741464  \n",
      "25%                                    -500.728067  \n",
      "50%                                    -500.048400  \n",
      "75%                                    -499.495378  \n",
      "max                                    -104.427459  \n",
      "\n",
      "[11 rows x 87 columns]\n",
      "\n",
      "Количество нулевых значений:\n",
      " secondary_cleaner.output.tail_sol           1748\n",
      "rougher.input.floatbank11_xanthate           453\n",
      "rougher.state.floatbank10_e_air              436\n",
      "primary_cleaner.output.concentrate_sol       370\n",
      "secondary_cleaner.state.floatbank2_a_air     220\n",
      "                                            ... \n",
      "rougher.state.floatbank10_d_level              0\n",
      "rougher.state.floatbank10_d_air                0\n",
      "rougher.output.tail_pb                         0\n",
      "rougher.output.tail_sol                        0\n",
      "date                                           0\n",
      "Length: 87, dtype: int64\n",
      "\n",
      "Количество дубликатов:\n",
      " 0\n",
      "Корреляция:\n",
      "                                             final.output.concentrate_ag  \\\n",
      "final.output.concentrate_ag                                    1.000000   \n",
      "final.output.concentrate_pb                                    0.063570   \n",
      "final.output.concentrate_sol                                   0.380142   \n",
      "final.output.concentrate_au                                   -0.038373   \n",
      "final.output.recovery                                          0.185952   \n",
      "...                                                                 ...   \n",
      "secondary_cleaner.state.floatbank5_a_level                     0.184332   \n",
      "secondary_cleaner.state.floatbank5_b_air                       0.003693   \n",
      "secondary_cleaner.state.floatbank5_b_level                     0.156471   \n",
      "secondary_cleaner.state.floatbank6_a_air                       0.162591   \n",
      "secondary_cleaner.state.floatbank6_a_level                     0.059581   \n",
      "\n",
      "                                            final.output.concentrate_pb  \\\n",
      "final.output.concentrate_ag                                    0.063570   \n",
      "final.output.concentrate_pb                                    1.000000   \n",
      "final.output.concentrate_sol                                  -0.048586   \n",
      "final.output.concentrate_au                                    0.374400   \n",
      "final.output.recovery                                          0.151987   \n",
      "...                                                                 ...   \n",
      "secondary_cleaner.state.floatbank5_a_level                    -0.024668   \n",
      "secondary_cleaner.state.floatbank5_b_air                       0.149266   \n",
      "secondary_cleaner.state.floatbank5_b_level                    -0.060038   \n",
      "secondary_cleaner.state.floatbank6_a_air                      -0.042372   \n",
      "secondary_cleaner.state.floatbank6_a_level                     0.067458   \n",
      "\n",
      "                                            final.output.concentrate_sol  \\\n",
      "final.output.concentrate_ag                                     0.380142   \n",
      "final.output.concentrate_pb                                    -0.048586   \n",
      "final.output.concentrate_sol                                    1.000000   \n",
      "final.output.concentrate_au                                     0.261225   \n",
      "final.output.recovery                                           0.265993   \n",
      "...                                                                  ...   \n",
      "secondary_cleaner.state.floatbank5_a_level                      0.163992   \n",
      "secondary_cleaner.state.floatbank5_b_air                       -0.009510   \n",
      "secondary_cleaner.state.floatbank5_b_level                      0.152343   \n",
      "secondary_cleaner.state.floatbank6_a_air                        0.245158   \n",
      "secondary_cleaner.state.floatbank6_a_level                     -0.216734   \n",
      "\n",
      "                                            final.output.concentrate_au  \\\n",
      "final.output.concentrate_ag                                   -0.038373   \n",
      "final.output.concentrate_pb                                    0.374400   \n",
      "final.output.concentrate_sol                                   0.261225   \n",
      "final.output.concentrate_au                                    1.000000   \n",
      "final.output.recovery                                          0.288568   \n",
      "...                                                                 ...   \n",
      "secondary_cleaner.state.floatbank5_a_level                    -0.080786   \n",
      "secondary_cleaner.state.floatbank5_b_air                      -0.016961   \n",
      "secondary_cleaner.state.floatbank5_b_level                    -0.084962   \n",
      "secondary_cleaner.state.floatbank6_a_air                      -0.082184   \n",
      "secondary_cleaner.state.floatbank6_a_level                    -0.019523   \n",
      "\n",
      "                                            final.output.recovery  \\\n",
      "final.output.concentrate_ag                              0.185952   \n",
      "final.output.concentrate_pb                              0.151987   \n",
      "final.output.concentrate_sol                             0.265993   \n",
      "final.output.concentrate_au                              0.288568   \n",
      "final.output.recovery                                    1.000000   \n",
      "...                                                           ...   \n",
      "secondary_cleaner.state.floatbank5_a_level               0.011871   \n",
      "secondary_cleaner.state.floatbank5_b_air                 0.052017   \n",
      "secondary_cleaner.state.floatbank5_b_level               0.016480   \n",
      "secondary_cleaner.state.floatbank6_a_air                -0.025192   \n",
      "secondary_cleaner.state.floatbank6_a_level              -0.005305   \n",
      "\n",
      "                                            final.output.tail_ag  \\\n",
      "final.output.concentrate_ag                             0.334596   \n",
      "final.output.concentrate_pb                            -0.126886   \n",
      "final.output.concentrate_sol                            0.286305   \n",
      "final.output.concentrate_au                             0.080381   \n",
      "final.output.recovery                                   0.125986   \n",
      "...                                                          ...   \n",
      "secondary_cleaner.state.floatbank5_a_level             -0.021662   \n",
      "secondary_cleaner.state.floatbank5_b_air               -0.013677   \n",
      "secondary_cleaner.state.floatbank5_b_level             -0.003762   \n",
      "secondary_cleaner.state.floatbank6_a_air               -0.055311   \n",
      "secondary_cleaner.state.floatbank6_a_level             -0.088461   \n",
      "\n",
      "                                            final.output.tail_pb  \\\n",
      "final.output.concentrate_ag                            -0.051855   \n",
      "final.output.concentrate_pb                             0.221372   \n",
      "final.output.concentrate_sol                            0.221714   \n",
      "final.output.concentrate_au                             0.081291   \n",
      "final.output.recovery                                  -0.143094   \n",
      "...                                                          ...   \n",
      "secondary_cleaner.state.floatbank5_a_level              0.015060   \n",
      "secondary_cleaner.state.floatbank5_b_air                0.132744   \n",
      "secondary_cleaner.state.floatbank5_b_level              0.041558   \n",
      "secondary_cleaner.state.floatbank6_a_air                0.007496   \n",
      "secondary_cleaner.state.floatbank6_a_level             -0.117950   \n",
      "\n",
      "                                            final.output.tail_sol  \\\n",
      "final.output.concentrate_ag                              0.028890   \n",
      "final.output.concentrate_pb                              0.094385   \n",
      "final.output.concentrate_sol                            -0.023865   \n",
      "final.output.concentrate_au                              0.134978   \n",
      "final.output.recovery                                   -0.050280   \n",
      "...                                                           ...   \n",
      "secondary_cleaner.state.floatbank5_a_level              -0.073670   \n",
      "secondary_cleaner.state.floatbank5_b_air                -0.135330   \n",
      "secondary_cleaner.state.floatbank5_b_level              -0.087635   \n",
      "secondary_cleaner.state.floatbank6_a_air                -0.070706   \n",
      "secondary_cleaner.state.floatbank6_a_level               0.021293   \n",
      "\n",
      "                                            final.output.tail_au  \\\n",
      "final.output.concentrate_ag                             0.206569   \n",
      "final.output.concentrate_pb                            -0.047446   \n",
      "final.output.concentrate_sol                            0.267781   \n",
      "final.output.concentrate_au                            -0.031696   \n",
      "final.output.recovery                                  -0.409200   \n",
      "...                                                          ...   \n",
      "secondary_cleaner.state.floatbank5_a_level              0.035272   \n",
      "secondary_cleaner.state.floatbank5_b_air               -0.160522   \n",
      "secondary_cleaner.state.floatbank5_b_level              0.063404   \n",
      "secondary_cleaner.state.floatbank6_a_air                0.038797   \n",
      "secondary_cleaner.state.floatbank6_a_level             -0.065571   \n",
      "\n",
      "                                            primary_cleaner.input.sulfate  \\\n",
      "final.output.concentrate_ag                                      0.071158   \n",
      "final.output.concentrate_pb                                      0.079160   \n",
      "final.output.concentrate_sol                                     0.316233   \n",
      "final.output.concentrate_au                                      0.102781   \n",
      "final.output.recovery                                            0.366954   \n",
      "...                                                                   ...   \n",
      "secondary_cleaner.state.floatbank5_a_level                      -0.098079   \n",
      "secondary_cleaner.state.floatbank5_b_air                        -0.088879   \n",
      "secondary_cleaner.state.floatbank5_b_level                      -0.054203   \n",
      "secondary_cleaner.state.floatbank6_a_air                        -0.175804   \n",
      "secondary_cleaner.state.floatbank6_a_level                      -0.055692   \n",
      "\n",
      "                                            ...  \\\n",
      "final.output.concentrate_ag                 ...   \n",
      "final.output.concentrate_pb                 ...   \n",
      "final.output.concentrate_sol                ...   \n",
      "final.output.concentrate_au                 ...   \n",
      "final.output.recovery                       ...   \n",
      "...                                         ...   \n",
      "secondary_cleaner.state.floatbank5_a_level  ...   \n",
      "secondary_cleaner.state.floatbank5_b_air    ...   \n",
      "secondary_cleaner.state.floatbank5_b_level  ...   \n",
      "secondary_cleaner.state.floatbank6_a_air    ...   \n",
      "secondary_cleaner.state.floatbank6_a_level  ...   \n",
      "\n",
      "                                            secondary_cleaner.state.floatbank4_a_air  \\\n",
      "final.output.concentrate_ag                                                 0.027343   \n",
      "final.output.concentrate_pb                                                 0.058380   \n",
      "final.output.concentrate_sol                                               -0.049341   \n",
      "final.output.concentrate_au                                                 0.008308   \n",
      "final.output.recovery                                                       0.167059   \n",
      "...                                                                              ...   \n",
      "secondary_cleaner.state.floatbank5_a_level                                  0.175689   \n",
      "secondary_cleaner.state.floatbank5_b_air                                    0.734503   \n",
      "secondary_cleaner.state.floatbank5_b_level                                  0.147999   \n",
      "secondary_cleaner.state.floatbank6_a_air                                    0.229330   \n",
      "secondary_cleaner.state.floatbank6_a_level                                  0.007269   \n",
      "\n",
      "                                            secondary_cleaner.state.floatbank4_a_level  \\\n",
      "final.output.concentrate_ag                                                   0.104118   \n",
      "final.output.concentrate_pb                                                   0.028962   \n",
      "final.output.concentrate_sol                                                  0.147304   \n",
      "final.output.concentrate_au                                                  -0.019481   \n",
      "final.output.recovery                                                         0.031317   \n",
      "...                                                                                ...   \n",
      "secondary_cleaner.state.floatbank5_a_level                                    0.737533   \n",
      "secondary_cleaner.state.floatbank5_b_air                                      0.289059   \n",
      "secondary_cleaner.state.floatbank5_b_level                                    0.630466   \n",
      "secondary_cleaner.state.floatbank6_a_air                                      0.503967   \n",
      "secondary_cleaner.state.floatbank6_a_level                                    0.186186   \n",
      "\n",
      "                                            secondary_cleaner.state.floatbank4_b_air  \\\n",
      "final.output.concentrate_ag                                                 0.029887   \n",
      "final.output.concentrate_pb                                                 0.115404   \n",
      "final.output.concentrate_sol                                                0.020544   \n",
      "final.output.concentrate_au                                                -0.015284   \n",
      "final.output.recovery                                                       0.158557   \n",
      "...                                                                              ...   \n",
      "secondary_cleaner.state.floatbank5_a_level                                  0.069865   \n",
      "secondary_cleaner.state.floatbank5_b_air                                    0.855785   \n",
      "secondary_cleaner.state.floatbank5_b_level                                  0.076251   \n",
      "secondary_cleaner.state.floatbank6_a_air                                    0.311676   \n",
      "secondary_cleaner.state.floatbank6_a_level                                 -0.064545   \n",
      "\n",
      "                                            secondary_cleaner.state.floatbank4_b_level  \\\n",
      "final.output.concentrate_ag                                                  -0.063246   \n",
      "final.output.concentrate_pb                                                   0.093859   \n",
      "final.output.concentrate_sol                                                  0.002077   \n",
      "final.output.concentrate_au                                                  -0.018636   \n",
      "final.output.recovery                                                        -0.049973   \n",
      "...                                                                                ...   \n",
      "secondary_cleaner.state.floatbank5_a_level                                    0.417890   \n",
      "secondary_cleaner.state.floatbank5_b_air                                      0.099747   \n",
      "secondary_cleaner.state.floatbank5_b_level                                    0.364582   \n",
      "secondary_cleaner.state.floatbank6_a_air                                      0.087389   \n",
      "secondary_cleaner.state.floatbank6_a_level                                    0.191545   \n",
      "\n",
      "                                            secondary_cleaner.state.floatbank5_a_air  \\\n",
      "final.output.concentrate_ag                                                -0.004246   \n",
      "final.output.concentrate_pb                                                 0.125920   \n",
      "final.output.concentrate_sol                                               -0.002361   \n",
      "final.output.concentrate_au                                                -0.000971   \n",
      "final.output.recovery                                                       0.067014   \n",
      "...                                                                              ...   \n",
      "secondary_cleaner.state.floatbank5_a_level                                  0.154722   \n",
      "secondary_cleaner.state.floatbank5_b_air                                    0.895832   \n",
      "secondary_cleaner.state.floatbank5_b_level                                  0.135991   \n",
      "secondary_cleaner.state.floatbank6_a_air                                    0.473300   \n",
      "secondary_cleaner.state.floatbank6_a_level                                 -0.008790   \n",
      "\n",
      "                                            secondary_cleaner.state.floatbank5_a_level  \\\n",
      "final.output.concentrate_ag                                                   0.184332   \n",
      "final.output.concentrate_pb                                                  -0.024668   \n",
      "final.output.concentrate_sol                                                  0.163992   \n",
      "final.output.concentrate_au                                                  -0.080786   \n",
      "final.output.recovery                                                         0.011871   \n",
      "...                                                                                ...   \n",
      "secondary_cleaner.state.floatbank5_a_level                                    1.000000   \n",
      "secondary_cleaner.state.floatbank5_b_air                                      0.108107   \n",
      "secondary_cleaner.state.floatbank5_b_level                                    0.818406   \n",
      "secondary_cleaner.state.floatbank6_a_air                                      0.464142   \n",
      "secondary_cleaner.state.floatbank6_a_level                                    0.344494   \n",
      "\n",
      "                                            secondary_cleaner.state.floatbank5_b_air  \\\n",
      "final.output.concentrate_ag                                                 0.003693   \n",
      "final.output.concentrate_pb                                                 0.149266   \n",
      "final.output.concentrate_sol                                               -0.009510   \n",
      "final.output.concentrate_au                                                -0.016961   \n",
      "final.output.recovery                                                       0.052017   \n",
      "...                                                                              ...   \n",
      "secondary_cleaner.state.floatbank5_a_level                                  0.108107   \n",
      "secondary_cleaner.state.floatbank5_b_air                                    1.000000   \n",
      "secondary_cleaner.state.floatbank5_b_level                                  0.090751   \n",
      "secondary_cleaner.state.floatbank6_a_air                                    0.491707   \n",
      "secondary_cleaner.state.floatbank6_a_level                                 -0.011976   \n",
      "\n",
      "                                            secondary_cleaner.state.floatbank5_b_level  \\\n",
      "final.output.concentrate_ag                                                   0.156471   \n",
      "final.output.concentrate_pb                                                  -0.060038   \n",
      "final.output.concentrate_sol                                                  0.152343   \n",
      "final.output.concentrate_au                                                  -0.084962   \n",
      "final.output.recovery                                                         0.016480   \n",
      "...                                                                                ...   \n",
      "secondary_cleaner.state.floatbank5_a_level                                    0.818406   \n",
      "secondary_cleaner.state.floatbank5_b_air                                      0.090751   \n",
      "secondary_cleaner.state.floatbank5_b_level                                    1.000000   \n",
      "secondary_cleaner.state.floatbank6_a_air                                      0.411510   \n",
      "secondary_cleaner.state.floatbank6_a_level                                    0.327861   \n",
      "\n",
      "                                            secondary_cleaner.state.floatbank6_a_air  \\\n",
      "final.output.concentrate_ag                                                 0.162591   \n",
      "final.output.concentrate_pb                                                -0.042372   \n",
      "final.output.concentrate_sol                                                0.245158   \n",
      "final.output.concentrate_au                                                -0.082184   \n",
      "final.output.recovery                                                      -0.025192   \n",
      "...                                                                              ...   \n",
      "secondary_cleaner.state.floatbank5_a_level                                  0.464142   \n",
      "secondary_cleaner.state.floatbank5_b_air                                    0.491707   \n",
      "secondary_cleaner.state.floatbank5_b_level                                  0.411510   \n",
      "secondary_cleaner.state.floatbank6_a_air                                    1.000000   \n",
      "secondary_cleaner.state.floatbank6_a_level                                  0.106270   \n",
      "\n",
      "                                            secondary_cleaner.state.floatbank6_a_level  \n",
      "final.output.concentrate_ag                                                   0.059581  \n",
      "final.output.concentrate_pb                                                   0.067458  \n",
      "final.output.concentrate_sol                                                 -0.216734  \n",
      "final.output.concentrate_au                                                  -0.019523  \n",
      "final.output.recovery                                                        -0.005305  \n",
      "...                                                                                ...  \n",
      "secondary_cleaner.state.floatbank5_a_level                                    0.344494  \n",
      "secondary_cleaner.state.floatbank5_b_air                                     -0.011976  \n",
      "secondary_cleaner.state.floatbank5_b_level                                    0.327861  \n",
      "secondary_cleaner.state.floatbank6_a_air                                      0.106270  \n",
      "secondary_cleaner.state.floatbank6_a_level                                    1.000000  \n",
      "\n",
      "[86 rows x 86 columns]\n"
     ]
    }
   ],
   "source": [
    "data_info(full_new)"
   ]
  },
  {
   "cell_type": "markdown",
   "metadata": {},
   "source": [
    "### Проверим, что эффективность обогащения рассчитана правильно. Вычислим её на обучающей выборке для признака rougher.output.recovery."
   ]
  },
  {
   "cell_type": "markdown",
   "metadata": {
    "ExecuteTime": {
     "end_time": "2023-04-17T09:00:15.175178Z",
     "start_time": "2023-04-17T09:00:15.157434Z"
    }
   },
   "source": [
    "Эффективность обогащения рассчитывается по формуле\n",
    "\n",
    "**recovery = (C * (F - T) ) / (F * (C - T) ) * 100%**\n",
    "\n",
    "где:\n",
    "\n",
    "C — доля золота в концентрате после флотации/очистки;\n",
    "\n",
    "F — доля золота в сырье/концентрате до флотации/очистки;\n",
    "\n",
    "T — доля золота в отвальных хвостах после флотации/очистки."
   ]
  },
  {
   "cell_type": "code",
   "execution_count": 12,
   "metadata": {
    "ExecuteTime": {
     "end_time": "2023-04-18T08:18:34.919618Z",
     "start_time": "2023-04-18T08:18:34.913095Z"
    }
   },
   "outputs": [],
   "source": [
    "C = train_new['rougher.output.concentrate_au']\n",
    "F = train_new['rougher.input.feed_au']\n",
    "T = train_new['rougher.output.tail_au']"
   ]
  },
  {
   "cell_type": "markdown",
   "metadata": {},
   "source": [
    "### Создадим новый столбец с посчитанной нами recovery"
   ]
  },
  {
   "cell_type": "code",
   "execution_count": 13,
   "metadata": {
    "ExecuteTime": {
     "end_time": "2023-04-18T08:18:34.953285Z",
     "start_time": "2023-04-18T08:18:34.924421Z"
    }
   },
   "outputs": [
    {
     "data": {
      "text/plain": [
       "0        87.107763\n",
       "1        86.843261\n",
       "2        86.842308\n",
       "3        87.226430\n",
       "4        86.688794\n",
       "           ...    \n",
       "14144    89.574376\n",
       "14145    87.724007\n",
       "14146    88.890579\n",
       "14147    89.858126\n",
       "14148    89.514960\n",
       "Name: recovery_counted, Length: 14149, dtype: float64"
      ]
     },
     "execution_count": 13,
     "metadata": {},
     "output_type": "execute_result"
    }
   ],
   "source": [
    "train_new['recovery_counted'] = ((C*(F-T))/(F*(C-T)))*100\n",
    "train_new['recovery_counted']"
   ]
  },
  {
   "cell_type": "code",
   "execution_count": 14,
   "metadata": {
    "ExecuteTime": {
     "end_time": "2023-04-18T08:18:34.970229Z",
     "start_time": "2023-04-18T08:18:34.958471Z"
    }
   },
   "outputs": [
    {
     "data": {
      "text/plain": [
       "82.70450164550269"
      ]
     },
     "execution_count": 14,
     "metadata": {},
     "output_type": "execute_result"
    }
   ],
   "source": [
    "train_new['recovery_counted'].mean()"
   ]
  },
  {
   "cell_type": "markdown",
   "metadata": {},
   "source": [
    "### Сравним с признаком rougher.output.recovery"
   ]
  },
  {
   "cell_type": "code",
   "execution_count": 15,
   "metadata": {
    "ExecuteTime": {
     "end_time": "2023-04-18T08:18:34.987371Z",
     "start_time": "2023-04-18T08:18:34.974542Z"
    },
    "scrolled": true
   },
   "outputs": [
    {
     "data": {
      "text/plain": [
       "82.70450164550267"
      ]
     },
     "execution_count": 15,
     "metadata": {},
     "output_type": "execute_result"
    }
   ],
   "source": [
    "train_new['rougher.output.recovery'].mean()"
   ]
  },
  {
   "cell_type": "markdown",
   "metadata": {},
   "source": [
    "Значения совпадают"
   ]
  },
  {
   "cell_type": "markdown",
   "metadata": {},
   "source": [
    "### Найдём MAE между расчётами и значением признака. Опишем выводы."
   ]
  },
  {
   "cell_type": "code",
   "execution_count": 16,
   "metadata": {
    "ExecuteTime": {
     "end_time": "2023-04-18T08:18:35.005875Z",
     "start_time": "2023-04-18T08:18:34.991575Z"
    }
   },
   "outputs": [
    {
     "data": {
      "text/plain": [
       "9.73512347450521e-15"
      ]
     },
     "execution_count": 16,
     "metadata": {},
     "output_type": "execute_result"
    }
   ],
   "source": [
    "MAE(train_new['recovery_counted'], train_new['rougher.output.recovery'])"
   ]
  },
  {
   "cell_type": "markdown",
   "metadata": {},
   "source": [
    "Значение MAE очень маленькое, значит эффективность обогащения посчитана верно"
   ]
  },
  {
   "cell_type": "markdown",
   "metadata": {},
   "source": [
    "### Проанализируем признаки, недоступные в тестовой выборке. Что это за параметры? К какому типу относятся?"
   ]
  },
  {
   "cell_type": "code",
   "execution_count": 17,
   "metadata": {
    "ExecuteTime": {
     "end_time": "2023-04-18T08:18:35.024682Z",
     "start_time": "2023-04-18T08:18:35.012117Z"
    }
   },
   "outputs": [
    {
     "data": {
      "text/plain": [
       "{'final.output.concentrate_ag',\n",
       " 'final.output.concentrate_au',\n",
       " 'final.output.concentrate_pb',\n",
       " 'final.output.concentrate_sol',\n",
       " 'final.output.recovery',\n",
       " 'final.output.tail_ag',\n",
       " 'final.output.tail_au',\n",
       " 'final.output.tail_pb',\n",
       " 'final.output.tail_sol',\n",
       " 'primary_cleaner.output.concentrate_ag',\n",
       " 'primary_cleaner.output.concentrate_au',\n",
       " 'primary_cleaner.output.concentrate_pb',\n",
       " 'primary_cleaner.output.concentrate_sol',\n",
       " 'primary_cleaner.output.tail_ag',\n",
       " 'primary_cleaner.output.tail_au',\n",
       " 'primary_cleaner.output.tail_pb',\n",
       " 'primary_cleaner.output.tail_sol',\n",
       " 'recovery_counted',\n",
       " 'rougher.calculation.au_pb_ratio',\n",
       " 'rougher.calculation.floatbank10_sulfate_to_au_feed',\n",
       " 'rougher.calculation.floatbank11_sulfate_to_au_feed',\n",
       " 'rougher.calculation.sulfate_to_au_concentrate',\n",
       " 'rougher.output.concentrate_ag',\n",
       " 'rougher.output.concentrate_au',\n",
       " 'rougher.output.concentrate_pb',\n",
       " 'rougher.output.concentrate_sol',\n",
       " 'rougher.output.recovery',\n",
       " 'rougher.output.tail_ag',\n",
       " 'rougher.output.tail_au',\n",
       " 'rougher.output.tail_pb',\n",
       " 'rougher.output.tail_sol',\n",
       " 'secondary_cleaner.output.tail_ag',\n",
       " 'secondary_cleaner.output.tail_au',\n",
       " 'secondary_cleaner.output.tail_pb',\n",
       " 'secondary_cleaner.output.tail_sol'}"
      ]
     },
     "execution_count": 17,
     "metadata": {},
     "output_type": "execute_result"
    }
   ],
   "source": [
    "set(train_new.columns) - set(test_new.columns)"
   ]
  },
  {
   "cell_type": "markdown",
   "metadata": {
    "ExecuteTime": {
     "end_time": "2023-04-17T09:48:08.938815Z",
     "start_time": "2023-04-17T09:48:08.928959Z"
    }
   },
   "source": [
    "Получили признаки, которые относятся к вторичным стадиям обогащения, параметры продуктов, расчетные характеристики, относящиеся к разным этапам\n",
    "\n",
    "Некоторые параметры недоступны, потому что замеряются и/или рассчитываются значительно позже. Из-за этого в тестовой выборке отсутствуют некоторые признаки, которые могут быть в обучающей. Также в тестовом наборе нет целевых признаков.\n",
    "\n"
   ]
  },
  {
   "cell_type": "markdown",
   "metadata": {},
   "source": [
    "### Проведём предобработку данных."
   ]
  },
  {
   "cell_type": "code",
   "execution_count": 18,
   "metadata": {
    "ExecuteTime": {
     "end_time": "2023-04-18T08:18:35.049301Z",
     "start_time": "2023-04-18T08:18:35.029903Z"
    }
   },
   "outputs": [
    {
     "data": {
      "text/plain": [
       "rougher.input.floatbank11_xanthate            25\n",
       "rougher.input.feed_sol                        21\n",
       "secondary_cleaner.state.floatbank3_a_air       9\n",
       "rougher.input.floatbank11_sulfate              8\n",
       "primary_cleaner.input.depressant               5\n",
       "rougher.input.floatbank10_sulfate              5\n",
       "primary_cleaner.input.xanthate                 4\n",
       "primary_cleaner.input.sulfate                  4\n",
       "rougher.input.feed_rate                        3\n",
       "secondary_cleaner.state.floatbank2_a_air       3\n",
       "secondary_cleaner.state.floatbank2_b_air       2\n",
       "rougher.input.feed_size                        1\n",
       "secondary_cleaner.state.floatbank2_b_level     0\n",
       "rougher.state.floatbank10_f_level              0\n",
       "rougher.state.floatbank10_f_air                0\n",
       "secondary_cleaner.state.floatbank3_a_level     0\n",
       "secondary_cleaner.state.floatbank2_a_level     0\n",
       "date                                           0\n",
       "rougher.state.floatbank10_e_air                0\n",
       "secondary_cleaner.state.floatbank3_b_air       0\n",
       "secondary_cleaner.state.floatbank3_b_level     0\n",
       "secondary_cleaner.state.floatbank4_a_air       0\n",
       "secondary_cleaner.state.floatbank4_a_level     0\n",
       "secondary_cleaner.state.floatbank4_b_air       0\n",
       "secondary_cleaner.state.floatbank4_b_level     0\n",
       "secondary_cleaner.state.floatbank5_a_air       0\n",
       "secondary_cleaner.state.floatbank5_a_level     0\n",
       "secondary_cleaner.state.floatbank5_b_air       0\n",
       "secondary_cleaner.state.floatbank5_b_level     0\n",
       "secondary_cleaner.state.floatbank6_a_air       0\n",
       "rougher.state.floatbank10_e_level              0\n",
       "rougher.state.floatbank10_b_level              0\n",
       "rougher.state.floatbank10_d_level              0\n",
       "primary_cleaner.state.floatbank8_d_level       0\n",
       "primary_cleaner.input.feed_size                0\n",
       "primary_cleaner.state.floatbank8_a_air         0\n",
       "primary_cleaner.state.floatbank8_a_level       0\n",
       "primary_cleaner.state.floatbank8_b_air         0\n",
       "primary_cleaner.state.floatbank8_b_level       0\n",
       "primary_cleaner.state.floatbank8_c_air         0\n",
       "primary_cleaner.state.floatbank8_c_level       0\n",
       "primary_cleaner.state.floatbank8_d_air         0\n",
       "rougher.input.feed_ag                          0\n",
       "rougher.state.floatbank10_d_air                0\n",
       "rougher.input.feed_pb                          0\n",
       "rougher.input.feed_au                          0\n",
       "rougher.input.floatbank10_xanthate             0\n",
       "rougher.state.floatbank10_a_air                0\n",
       "rougher.state.floatbank10_a_level              0\n",
       "rougher.state.floatbank10_b_air                0\n",
       "rougher.state.floatbank10_c_air                0\n",
       "rougher.state.floatbank10_c_level              0\n",
       "secondary_cleaner.state.floatbank6_a_level     0\n",
       "dtype: int64"
      ]
     },
     "execution_count": 18,
     "metadata": {},
     "output_type": "execute_result"
    }
   ],
   "source": [
    "(test_new.isna().sum()).sort_values(ascending=False)"
   ]
  },
  {
   "cell_type": "code",
   "execution_count": 19,
   "metadata": {
    "ExecuteTime": {
     "end_time": "2023-04-18T08:18:35.080896Z",
     "start_time": "2023-04-18T08:18:35.055800Z"
    }
   },
   "outputs": [
    {
     "data": {
      "text/plain": [
       "secondary_cleaner.output.tail_sol           1605\n",
       "rougher.state.floatbank10_e_air              436\n",
       "rougher.input.floatbank11_xanthate           428\n",
       "primary_cleaner.output.concentrate_sol       286\n",
       "secondary_cleaner.state.floatbank2_a_air     217\n",
       "                                            ... \n",
       "rougher.output.tail_au                         0\n",
       "rougher.state.floatbank10_d_air                0\n",
       "rougher.state.floatbank10_d_level              0\n",
       "rougher.state.floatbank10_e_level              0\n",
       "recovery_counted                               0\n",
       "Length: 88, dtype: int64"
      ]
     },
     "execution_count": 19,
     "metadata": {},
     "output_type": "execute_result"
    }
   ],
   "source": [
    "(train_new.isna().sum()).sort_values(ascending=False)"
   ]
  },
  {
   "cell_type": "code",
   "execution_count": 20,
   "metadata": {
    "ExecuteTime": {
     "end_time": "2023-04-18T08:18:35.115985Z",
     "start_time": "2023-04-18T08:18:35.085714Z"
    }
   },
   "outputs": [
    {
     "data": {
      "text/plain": [
       "secondary_cleaner.output.tail_sol           1748\n",
       "rougher.input.floatbank11_xanthate           453\n",
       "rougher.state.floatbank10_e_air              436\n",
       "primary_cleaner.output.concentrate_sol       370\n",
       "secondary_cleaner.state.floatbank2_a_air     220\n",
       "                                            ... \n",
       "rougher.state.floatbank10_d_level              0\n",
       "rougher.state.floatbank10_d_air                0\n",
       "rougher.output.tail_pb                         0\n",
       "rougher.output.tail_sol                        0\n",
       "date                                           0\n",
       "Length: 87, dtype: int64"
      ]
     },
     "execution_count": 20,
     "metadata": {},
     "output_type": "execute_result"
    }
   ],
   "source": [
    "(full_new.isna().sum()).sort_values(ascending=False)"
   ]
  },
  {
   "cell_type": "markdown",
   "metadata": {},
   "source": [
    "Как видим, наибольшее количество пропусков в столбцах с этими данными: \n",
    "\n",
    "secondary_cleaner.output.tail_sol\n",
    "\n",
    "rougher.input.floatbank11_xanthate\n",
    "\n",
    "rougher.state.floatbank10_e_air\n",
    "\n",
    "primary_cleaner.output.concentrate_sol\n",
    "\n",
    "secondary_cleaner.state.floatbank2_a_air"
   ]
  },
  {
   "cell_type": "markdown",
   "metadata": {
    "ExecuteTime": {
     "end_time": "2023-04-17T09:58:58.700208Z",
     "start_time": "2023-04-17T09:58:58.690998Z"
    }
   },
   "source": [
    "Так как в описании проекта сказано, что данные индексируются датой и временем получения информации (признак date) и соседние по времени параметры часто похожи, заполним пропуски соответствующими значениями в следующем ряду методом ffill."
   ]
  },
  {
   "cell_type": "code",
   "execution_count": 21,
   "metadata": {
    "ExecuteTime": {
     "end_time": "2023-04-18T08:18:35.188004Z",
     "start_time": "2023-04-18T08:18:35.122400Z"
    }
   },
   "outputs": [],
   "source": [
    "for data in datas:\n",
    "    data.ffill(axis='rows', inplace=True)"
   ]
  },
  {
   "cell_type": "markdown",
   "metadata": {},
   "source": [
    "На этапе подготовки данных мы открыли файлы и изучили их. Потом проверили, что эффективность обогащения рассчитана правильно. Вычислили эффективность обогащения на обучающей выборке для признака rougher.output.recovery. Нашли MAE между нашими расчётами и значением признака, и выяснили, что наши расчёты корректны. И выяснили, какие признаки, недоступны в тестовой выборке."
   ]
  },
  {
   "cell_type": "markdown",
   "metadata": {},
   "source": [
    "## Анализ данных"
   ]
  },
  {
   "cell_type": "markdown",
   "metadata": {},
   "source": [
    "### Посмотрим, как меняется концентрация металлов (Au, Ag, Pb) на различных этапах очистки."
   ]
  },
  {
   "cell_type": "markdown",
   "metadata": {},
   "source": [
    "Напомню, что:\n",
    "\n",
    "**Au** - золото (gold)\n",
    "\n",
    "**Ag** - серебро (silver)\n",
    "\n",
    "**Pb** - свинец (lead)\n",
    "\n",
    "**rougher** — флотация\n",
    "\n",
    "**primary_cleaner** — первичная очистка\n",
    "\n",
    "**secondary_cleaner** — вторичная очистка\n",
    "\n",
    "**final** — финальные характеристики\n",
    "\n"
   ]
  },
  {
   "cell_type": "markdown",
   "metadata": {},
   "source": [
    "#### Для лучшей читаемости создадим переменные с названиями металлов и переименуем столбцы"
   ]
  },
  {
   "cell_type": "code",
   "execution_count": 22,
   "metadata": {
    "ExecuteTime": {
     "end_time": "2023-04-18T08:18:35.206435Z",
     "start_time": "2023-04-18T08:18:35.192762Z"
    }
   },
   "outputs": [],
   "source": [
    "silver = full_new[['rougher.input.feed_ag', \n",
    "                   'rougher.output.concentrate_ag',\n",
    "                   'primary_cleaner.output.concentrate_ag',\n",
    "                   'final.output.concentrate_ag']]\n",
    "silver = silver.rename(columns={'rougher.input.feed_ag': 'Сырьё', \n",
    "                                'rougher.output.concentrate_ag': 'Флотация', \n",
    "                              'primary_cleaner.output.concentrate_ag': 'Первичная очистка', \n",
    "                              'final.output.concentrate_ag': 'Финальные характеристики'})"
   ]
  },
  {
   "cell_type": "code",
   "execution_count": 23,
   "metadata": {
    "ExecuteTime": {
     "end_time": "2023-04-18T08:18:35.239431Z",
     "start_time": "2023-04-18T08:18:35.211662Z"
    },
    "scrolled": true
   },
   "outputs": [
    {
     "data": {
      "text/html": [
       "<div>\n",
       "<style scoped>\n",
       "    .dataframe tbody tr th:only-of-type {\n",
       "        vertical-align: middle;\n",
       "    }\n",
       "\n",
       "    .dataframe tbody tr th {\n",
       "        vertical-align: top;\n",
       "    }\n",
       "\n",
       "    .dataframe thead th {\n",
       "        text-align: right;\n",
       "    }\n",
       "</style>\n",
       "<table border=\"1\" class=\"dataframe\">\n",
       "  <thead>\n",
       "    <tr style=\"text-align: right;\">\n",
       "      <th></th>\n",
       "      <th>Сырьё</th>\n",
       "      <th>Флотация</th>\n",
       "      <th>Первичная очистка</th>\n",
       "      <th>Финальные характеристики</th>\n",
       "    </tr>\n",
       "  </thead>\n",
       "  <tbody>\n",
       "    <tr>\n",
       "      <th>0</th>\n",
       "      <td>6.100378</td>\n",
       "      <td>11.500771</td>\n",
       "      <td>8.547551</td>\n",
       "      <td>6.055403</td>\n",
       "    </tr>\n",
       "    <tr>\n",
       "      <th>1</th>\n",
       "      <td>6.161113</td>\n",
       "      <td>11.615865</td>\n",
       "      <td>8.558743</td>\n",
       "      <td>6.029369</td>\n",
       "    </tr>\n",
       "    <tr>\n",
       "      <th>2</th>\n",
       "      <td>6.116455</td>\n",
       "      <td>11.695753</td>\n",
       "      <td>8.603505</td>\n",
       "      <td>6.055926</td>\n",
       "    </tr>\n",
       "    <tr>\n",
       "      <th>3</th>\n",
       "      <td>6.043309</td>\n",
       "      <td>11.915047</td>\n",
       "      <td>7.221879</td>\n",
       "      <td>6.047977</td>\n",
       "    </tr>\n",
       "    <tr>\n",
       "      <th>4</th>\n",
       "      <td>6.060915</td>\n",
       "      <td>12.411054</td>\n",
       "      <td>9.089428</td>\n",
       "      <td>6.148599</td>\n",
       "    </tr>\n",
       "    <tr>\n",
       "      <th>...</th>\n",
       "      <td>...</td>\n",
       "      <td>...</td>\n",
       "      <td>...</td>\n",
       "      <td>...</td>\n",
       "    </tr>\n",
       "    <tr>\n",
       "      <th>19434</th>\n",
       "      <td>6.091855</td>\n",
       "      <td>11.124896</td>\n",
       "      <td>6.559174</td>\n",
       "      <td>3.224920</td>\n",
       "    </tr>\n",
       "    <tr>\n",
       "      <th>19435</th>\n",
       "      <td>6.121323</td>\n",
       "      <td>11.425983</td>\n",
       "      <td>6.612376</td>\n",
       "      <td>3.195978</td>\n",
       "    </tr>\n",
       "    <tr>\n",
       "      <th>19436</th>\n",
       "      <td>5.970515</td>\n",
       "      <td>8.523497</td>\n",
       "      <td>7.128896</td>\n",
       "      <td>3.109998</td>\n",
       "    </tr>\n",
       "    <tr>\n",
       "      <th>19437</th>\n",
       "      <td>6.048130</td>\n",
       "      <td>11.658799</td>\n",
       "      <td>7.490444</td>\n",
       "      <td>3.367241</td>\n",
       "    </tr>\n",
       "    <tr>\n",
       "      <th>19438</th>\n",
       "      <td>6.158718</td>\n",
       "      <td>11.959486</td>\n",
       "      <td>7.537584</td>\n",
       "      <td>3.598375</td>\n",
       "    </tr>\n",
       "  </tbody>\n",
       "</table>\n",
       "<p>19439 rows × 4 columns</p>\n",
       "</div>"
      ],
      "text/plain": [
       "          Сырьё   Флотация  Первичная очистка  Финальные характеристики\n",
       "0      6.100378  11.500771           8.547551                  6.055403\n",
       "1      6.161113  11.615865           8.558743                  6.029369\n",
       "2      6.116455  11.695753           8.603505                  6.055926\n",
       "3      6.043309  11.915047           7.221879                  6.047977\n",
       "4      6.060915  12.411054           9.089428                  6.148599\n",
       "...         ...        ...                ...                       ...\n",
       "19434  6.091855  11.124896           6.559174                  3.224920\n",
       "19435  6.121323  11.425983           6.612376                  3.195978\n",
       "19436  5.970515   8.523497           7.128896                  3.109998\n",
       "19437  6.048130  11.658799           7.490444                  3.367241\n",
       "19438  6.158718  11.959486           7.537584                  3.598375\n",
       "\n",
       "[19439 rows x 4 columns]"
      ]
     },
     "execution_count": 23,
     "metadata": {},
     "output_type": "execute_result"
    }
   ],
   "source": [
    "silver"
   ]
  },
  {
   "cell_type": "code",
   "execution_count": 24,
   "metadata": {
    "ExecuteTime": {
     "end_time": "2023-04-18T08:18:35.255851Z",
     "start_time": "2023-04-18T08:18:35.244676Z"
    }
   },
   "outputs": [],
   "source": [
    "gold = full_new[['rougher.input.feed_au', \n",
    "                 'rougher.output.concentrate_au',\n",
    "           'primary_cleaner.output.concentrate_au',\n",
    "           'final.output.concentrate_au']]\n",
    "gold = gold.rename(columns={'rougher.input.feed_au': 'Сырьё',\n",
    "                            'rougher.output.concentrate_au': 'Флотация', \n",
    "                              'primary_cleaner.output.concentrate_au': 'Первичная очистка', \n",
    "                              'final.output.concentrate_au': 'Финальные характеристики'})"
   ]
  },
  {
   "cell_type": "code",
   "execution_count": 25,
   "metadata": {
    "ExecuteTime": {
     "end_time": "2023-04-18T08:18:35.286524Z",
     "start_time": "2023-04-18T08:18:35.261142Z"
    }
   },
   "outputs": [
    {
     "data": {
      "text/html": [
       "<div>\n",
       "<style scoped>\n",
       "    .dataframe tbody tr th:only-of-type {\n",
       "        vertical-align: middle;\n",
       "    }\n",
       "\n",
       "    .dataframe tbody tr th {\n",
       "        vertical-align: top;\n",
       "    }\n",
       "\n",
       "    .dataframe thead th {\n",
       "        text-align: right;\n",
       "    }\n",
       "</style>\n",
       "<table border=\"1\" class=\"dataframe\">\n",
       "  <thead>\n",
       "    <tr style=\"text-align: right;\">\n",
       "      <th></th>\n",
       "      <th>Сырьё</th>\n",
       "      <th>Флотация</th>\n",
       "      <th>Первичная очистка</th>\n",
       "      <th>Финальные характеристики</th>\n",
       "    </tr>\n",
       "  </thead>\n",
       "  <tbody>\n",
       "    <tr>\n",
       "      <th>0</th>\n",
       "      <td>6.486150</td>\n",
       "      <td>19.793808</td>\n",
       "      <td>34.174427</td>\n",
       "      <td>42.192020</td>\n",
       "    </tr>\n",
       "    <tr>\n",
       "      <th>1</th>\n",
       "      <td>6.478583</td>\n",
       "      <td>20.050975</td>\n",
       "      <td>34.118526</td>\n",
       "      <td>42.701629</td>\n",
       "    </tr>\n",
       "    <tr>\n",
       "      <th>2</th>\n",
       "      <td>6.362222</td>\n",
       "      <td>19.737170</td>\n",
       "      <td>33.969464</td>\n",
       "      <td>42.657501</td>\n",
       "    </tr>\n",
       "    <tr>\n",
       "      <th>3</th>\n",
       "      <td>6.118189</td>\n",
       "      <td>19.320810</td>\n",
       "      <td>28.260743</td>\n",
       "      <td>42.689819</td>\n",
       "    </tr>\n",
       "    <tr>\n",
       "      <th>4</th>\n",
       "      <td>5.663707</td>\n",
       "      <td>19.216101</td>\n",
       "      <td>33.044932</td>\n",
       "      <td>42.774141</td>\n",
       "    </tr>\n",
       "    <tr>\n",
       "      <th>...</th>\n",
       "      <td>...</td>\n",
       "      <td>...</td>\n",
       "      <td>...</td>\n",
       "      <td>...</td>\n",
       "    </tr>\n",
       "    <tr>\n",
       "      <th>19434</th>\n",
       "      <td>5.335862</td>\n",
       "      <td>18.603550</td>\n",
       "      <td>32.940215</td>\n",
       "      <td>46.713954</td>\n",
       "    </tr>\n",
       "    <tr>\n",
       "      <th>19435</th>\n",
       "      <td>4.838619</td>\n",
       "      <td>18.441436</td>\n",
       "      <td>32.925325</td>\n",
       "      <td>46.866780</td>\n",
       "    </tr>\n",
       "    <tr>\n",
       "      <th>19436</th>\n",
       "      <td>4.525061</td>\n",
       "      <td>15.111231</td>\n",
       "      <td>31.856742</td>\n",
       "      <td>46.795691</td>\n",
       "    </tr>\n",
       "    <tr>\n",
       "      <th>19437</th>\n",
       "      <td>4.362781</td>\n",
       "      <td>17.834772</td>\n",
       "      <td>30.770892</td>\n",
       "      <td>46.408188</td>\n",
       "    </tr>\n",
       "    <tr>\n",
       "      <th>19438</th>\n",
       "      <td>4.365491</td>\n",
       "      <td>17.804134</td>\n",
       "      <td>30.356618</td>\n",
       "      <td>46.299438</td>\n",
       "    </tr>\n",
       "  </tbody>\n",
       "</table>\n",
       "<p>19439 rows × 4 columns</p>\n",
       "</div>"
      ],
      "text/plain": [
       "          Сырьё   Флотация  Первичная очистка  Финальные характеристики\n",
       "0      6.486150  19.793808          34.174427                 42.192020\n",
       "1      6.478583  20.050975          34.118526                 42.701629\n",
       "2      6.362222  19.737170          33.969464                 42.657501\n",
       "3      6.118189  19.320810          28.260743                 42.689819\n",
       "4      5.663707  19.216101          33.044932                 42.774141\n",
       "...         ...        ...                ...                       ...\n",
       "19434  5.335862  18.603550          32.940215                 46.713954\n",
       "19435  4.838619  18.441436          32.925325                 46.866780\n",
       "19436  4.525061  15.111231          31.856742                 46.795691\n",
       "19437  4.362781  17.834772          30.770892                 46.408188\n",
       "19438  4.365491  17.804134          30.356618                 46.299438\n",
       "\n",
       "[19439 rows x 4 columns]"
      ]
     },
     "execution_count": 25,
     "metadata": {},
     "output_type": "execute_result"
    }
   ],
   "source": [
    "gold"
   ]
  },
  {
   "cell_type": "code",
   "execution_count": 26,
   "metadata": {
    "ExecuteTime": {
     "end_time": "2023-04-18T08:18:35.303009Z",
     "start_time": "2023-04-18T08:18:35.291560Z"
    }
   },
   "outputs": [],
   "source": [
    "lead = full_new[['rougher.input.feed_pb',\n",
    "                 'rougher.output.concentrate_pb',\n",
    "           'primary_cleaner.output.concentrate_pb',\n",
    "           'final.output.concentrate_pb']]\n",
    "lead = lead.rename(columns={'rougher.input.feed_pb': 'Сырьё', \n",
    "                            'rougher.output.concentrate_pb': 'Флотация', \n",
    "                              'primary_cleaner.output.concentrate_pb': 'Первичная очистка', \n",
    "                              'final.output.concentrate_pb': 'Финальные характеристики'})"
   ]
  },
  {
   "cell_type": "code",
   "execution_count": 27,
   "metadata": {
    "ExecuteTime": {
     "end_time": "2023-04-18T08:18:35.334071Z",
     "start_time": "2023-04-18T08:18:35.307665Z"
    }
   },
   "outputs": [
    {
     "data": {
      "text/html": [
       "<div>\n",
       "<style scoped>\n",
       "    .dataframe tbody tr th:only-of-type {\n",
       "        vertical-align: middle;\n",
       "    }\n",
       "\n",
       "    .dataframe tbody tr th {\n",
       "        vertical-align: top;\n",
       "    }\n",
       "\n",
       "    .dataframe thead th {\n",
       "        text-align: right;\n",
       "    }\n",
       "</style>\n",
       "<table border=\"1\" class=\"dataframe\">\n",
       "  <thead>\n",
       "    <tr style=\"text-align: right;\">\n",
       "      <th></th>\n",
       "      <th>Сырьё</th>\n",
       "      <th>Флотация</th>\n",
       "      <th>Первичная очистка</th>\n",
       "      <th>Финальные характеристики</th>\n",
       "    </tr>\n",
       "  </thead>\n",
       "  <tbody>\n",
       "    <tr>\n",
       "      <th>0</th>\n",
       "      <td>2.284912</td>\n",
       "      <td>7.101074</td>\n",
       "      <td>10.389648</td>\n",
       "      <td>9.889648</td>\n",
       "    </tr>\n",
       "    <tr>\n",
       "      <th>1</th>\n",
       "      <td>2.266033</td>\n",
       "      <td>7.278807</td>\n",
       "      <td>10.497069</td>\n",
       "      <td>9.968944</td>\n",
       "    </tr>\n",
       "    <tr>\n",
       "      <th>2</th>\n",
       "      <td>2.159622</td>\n",
       "      <td>7.216833</td>\n",
       "      <td>10.354494</td>\n",
       "      <td>10.213995</td>\n",
       "    </tr>\n",
       "    <tr>\n",
       "      <th>3</th>\n",
       "      <td>2.037807</td>\n",
       "      <td>7.175616</td>\n",
       "      <td>8.496563</td>\n",
       "      <td>9.977019</td>\n",
       "    </tr>\n",
       "    <tr>\n",
       "      <th>4</th>\n",
       "      <td>1.786875</td>\n",
       "      <td>7.240205</td>\n",
       "      <td>9.986786</td>\n",
       "      <td>10.142511</td>\n",
       "    </tr>\n",
       "    <tr>\n",
       "      <th>...</th>\n",
       "      <td>...</td>\n",
       "      <td>...</td>\n",
       "      <td>...</td>\n",
       "      <td>...</td>\n",
       "    </tr>\n",
       "    <tr>\n",
       "      <th>19434</th>\n",
       "      <td>4.617558</td>\n",
       "      <td>10.984003</td>\n",
       "      <td>12.445966</td>\n",
       "      <td>11.356233</td>\n",
       "    </tr>\n",
       "    <tr>\n",
       "      <th>19435</th>\n",
       "      <td>4.144989</td>\n",
       "      <td>10.888213</td>\n",
       "      <td>12.623947</td>\n",
       "      <td>11.349355</td>\n",
       "    </tr>\n",
       "    <tr>\n",
       "      <th>19436</th>\n",
       "      <td>4.020002</td>\n",
       "      <td>8.955135</td>\n",
       "      <td>12.633558</td>\n",
       "      <td>11.434366</td>\n",
       "    </tr>\n",
       "    <tr>\n",
       "      <th>19437</th>\n",
       "      <td>3.902537</td>\n",
       "      <td>10.655377</td>\n",
       "      <td>12.012378</td>\n",
       "      <td>11.625587</td>\n",
       "    </tr>\n",
       "    <tr>\n",
       "      <th>19438</th>\n",
       "      <td>3.875727</td>\n",
       "      <td>10.702148</td>\n",
       "      <td>11.650285</td>\n",
       "      <td>11.737832</td>\n",
       "    </tr>\n",
       "  </tbody>\n",
       "</table>\n",
       "<p>19439 rows × 4 columns</p>\n",
       "</div>"
      ],
      "text/plain": [
       "          Сырьё   Флотация  Первичная очистка  Финальные характеристики\n",
       "0      2.284912   7.101074          10.389648                  9.889648\n",
       "1      2.266033   7.278807          10.497069                  9.968944\n",
       "2      2.159622   7.216833          10.354494                 10.213995\n",
       "3      2.037807   7.175616           8.496563                  9.977019\n",
       "4      1.786875   7.240205           9.986786                 10.142511\n",
       "...         ...        ...                ...                       ...\n",
       "19434  4.617558  10.984003          12.445966                 11.356233\n",
       "19435  4.144989  10.888213          12.623947                 11.349355\n",
       "19436  4.020002   8.955135          12.633558                 11.434366\n",
       "19437  3.902537  10.655377          12.012378                 11.625587\n",
       "19438  3.875727  10.702148          11.650285                 11.737832\n",
       "\n",
       "[19439 rows x 4 columns]"
      ]
     },
     "execution_count": 27,
     "metadata": {},
     "output_type": "execute_result"
    }
   ],
   "source": [
    "lead"
   ]
  },
  {
   "cell_type": "code",
   "execution_count": 28,
   "metadata": {
    "ExecuteTime": {
     "end_time": "2023-04-18T08:31:31.724208Z",
     "start_time": "2023-04-18T08:31:30.711813Z"
    }
   },
   "outputs": [
    {
     "data": {
      "image/png": "[encoded data removed]",
      "text/plain": [
       "<Figure size 1251.62x1000 with 1 Axes>"
      ]
     },
     "metadata": {},
     "output_type": "display_data"
    }
   ],
   "source": [
    "g = sns.displot(gold, label = gold.columns, height=10)\n",
    "g.set_axis_labels('Концентрация металла', 'Частота наблюдений')\n",
    "g.fig.suptitle('Концентрация золота');\n"
   ]
  },
  {
   "cell_type": "markdown",
   "metadata": {},
   "source": [
    "Концентрация золота растёт после каждого этапа"
   ]
  },
  {
   "cell_type": "code",
   "execution_count": 29,
   "metadata": {
    "ExecuteTime": {
     "end_time": "2023-04-18T08:31:26.600355Z",
     "start_time": "2023-04-18T08:31:25.336363Z"
    }
   },
   "outputs": [],
   "source": [
    "s = sns.displot(silver, label = silver.columns, height=10)\n",
    "s.set_axis_labels('Концентрация металла', 'Частота наблюдений')\n",
    "s.fig.suptitle('Концентрация серебра');"
   ]
  },
  {
   "cell_type": "markdown",
   "metadata": {},
   "source": [
    "Концентрация серебра падает после каждого этапа очистки"
   ]
  },
  {
   "cell_type": "code",
   "execution_count": 30,
   "metadata": {
    "ExecuteTime": {
     "end_time": "2023-04-18T08:31:25.070472Z",
     "start_time": "2023-04-18T08:31:23.610419Z"
    }
   },
   "outputs": [],
   "source": [
    "l = sns.displot(lead, label = lead.columns, height=10)\n",
    "l.set_axis_labels('Концентрация металла', 'Частота наблюдений')\n",
    "l.fig.suptitle('Концентрация свинца');"
   ]
  },
  {
   "cell_type": "markdown",
   "metadata": {
    "ExecuteTime": {
     "end_time": "2023-04-17T11:12:45.564720Z",
     "start_time": "2023-04-17T11:12:45.542369Z"
    }
   },
   "source": [
    "Концентрация свинца падает после этапа флотации и практически не меняется после первичной очистки"
   ]
  },
  {
   "cell_type": "markdown",
   "metadata": {},
   "source": [
    "### Сравним распределения размеров гранул сырья на обучающей и тестовой выборках. Если распределения сильно отличаются друг от друга, оценка модели будет неправильной."
   ]
  },
  {
   "cell_type": "code",
   "execution_count": 31,
   "metadata": {
    "ExecuteTime": {
     "end_time": "2023-04-18T08:31:19.547936Z",
     "start_time": "2023-04-18T08:31:19.408061Z"
    }
   },
   "outputs": [],
   "source": [
    "ax = sns.kdeplot(test_new['rougher.input.feed_size'], bw_adjust=.2);\n",
    "ax = sns.kdeplot(train_new['rougher.input.feed_size'], bw_adjust=.2);\n",
    "ax.set_xlabel( \"Количество гранул\", size = 12)\n",
    "ax.set_ylabel( \"Плотность распределения\", size = 12)\n",
    "ax.set_title('Распределение размеров гранул сырья');"
   ]
  },
  {
   "cell_type": "markdown",
   "metadata": {},
   "source": [
    "Распределения размеров гранул сырья на обучающей и тестовой выборках для этапа `rougher.input.feed_size` немного отличаются"
   ]
  },
  {
   "cell_type": "code",
   "execution_count": 32,
   "metadata": {
    "ExecuteTime": {
     "end_time": "2023-04-18T08:31:17.650943Z",
     "start_time": "2023-04-18T08:31:17.509381Z"
    }
   },
   "outputs": [],
   "source": [
    "ax = sns.kdeplot(test_new['primary_cleaner.input.feed_size'], bw_adjust=.2);\n",
    "ax = sns.kdeplot(train_new['primary_cleaner.input.feed_size'], bw_adjust=.2);\n",
    "ax.set_xlabel( \"Количество гранул\", size = 12)\n",
    "ax.set_ylabel( \"Плотность распределения\", size = 12)\n",
    "ax.set_title('Распределение размеров гранул сырья');"
   ]
  },
  {
   "cell_type": "markdown",
   "metadata": {},
   "source": [
    "Распределения размеров гранул сырья на обучающей и тестовой выборках для этапа `primary_cleaner.input.feed_size` практически не отличаются"
   ]
  },
  {
   "cell_type": "markdown",
   "metadata": {},
   "source": [
    "### Исследуем суммарную концентрацию всех веществ на разных стадиях: в сырье, в черновом и финальном концентратах. "
   ]
  },
  {
   "cell_type": "markdown",
   "metadata": {},
   "source": [
    "#### Сначала посмотрим на концентрацию веществ в сырье"
   ]
  },
  {
   "cell_type": "code",
   "execution_count": 33,
   "metadata": {
    "ExecuteTime": {
     "end_time": "2023-04-18T08:31:11.010332Z",
     "start_time": "2023-04-18T08:31:10.994235Z"
    }
   },
   "outputs": [
    {
     "data": {
      "text/plain": [
       "0        51.680034\n",
       "1        50.659114\n",
       "2        50.609929\n",
       "3        51.061546\n",
       "4        47.859163\n",
       "           ...    \n",
       "19434    53.415050\n",
       "19435    53.696482\n",
       "19436    54.589604\n",
       "19437    54.027355\n",
       "19438    53.535054\n",
       "Length: 19439, dtype: float64"
      ]
     },
     "execution_count": 33,
     "metadata": {},
     "output_type": "execute_result"
    }
   ],
   "source": [
    "sum_rougher_input = full_new[['rougher.input.feed_ag', \n",
    "                   'rougher.input.feed_pb', \n",
    "                   'rougher.input.feed_sol', \n",
    "                   'rougher.input.feed_au']].sum(axis=1)\n",
    "sum_rougher_input"
   ]
  },
  {
   "cell_type": "code",
   "execution_count": 34,
   "metadata": {
    "ExecuteTime": {
     "end_time": "2023-04-18T08:31:07.370626Z",
     "start_time": "2023-04-18T08:31:06.467104Z"
    }
   },
   "outputs": [],
   "source": [
    "ax = sns.displot(sum_rougher_input, height=10);\n",
    "ax.set_axis_labels('Концентрация металла', 'Частота наблюдений')\n",
    "ax.fig.suptitle('Суммарная концентрация металлов в сырье');"
   ]
  },
  {
   "cell_type": "markdown",
   "metadata": {},
   "source": [
    "#### Теперь посмотрим на концентрацию в черновом концентрате"
   ]
  },
  {
   "cell_type": "code",
   "execution_count": 35,
   "metadata": {
    "ExecuteTime": {
     "end_time": "2023-04-18T08:31:04.689442Z",
     "start_time": "2023-04-18T08:31:04.671914Z"
    }
   },
   "outputs": [
    {
     "data": {
      "text/plain": [
       "0        66.424950\n",
       "1        67.012710\n",
       "2        66.103793\n",
       "3        65.752751\n",
       "4        65.908382\n",
       "           ...    \n",
       "19434    70.781325\n",
       "19435    70.539603\n",
       "19436    55.376330\n",
       "19437    69.201689\n",
       "19438    69.544003\n",
       "Length: 19439, dtype: float64"
      ]
     },
     "execution_count": 35,
     "metadata": {},
     "output_type": "execute_result"
    }
   ],
   "source": [
    "sum_rougher_output = full_new[['rougher.output.concentrate_pb', \n",
    "                   'rougher.output.concentrate_ag', \n",
    "                   'rougher.output.concentrate_sol', \n",
    "                   'rougher.output.concentrate_au']].sum(axis=1)\n",
    "sum_rougher_output"
   ]
  },
  {
   "cell_type": "code",
   "execution_count": 36,
   "metadata": {
    "ExecuteTime": {
     "end_time": "2023-04-18T08:31:00.292197Z",
     "start_time": "2023-04-18T08:30:59.779907Z"
    }
   },
   "outputs": [],
   "source": [
    "ax = sns.displot(sum_rougher_output, height=10);\n",
    "ax.set_axis_labels('Концентрация металла', 'Частота наблюдений')\n",
    "ax.fig.suptitle('Суммарная концентрация металлов в черновом концентрате');"
   ]
  },
  {
   "cell_type": "markdown",
   "metadata": {},
   "source": [
    "#### И посмотрим на концентрацию в финальном концентрате"
   ]
  },
  {
   "cell_type": "code",
   "execution_count": 37,
   "metadata": {
    "ExecuteTime": {
     "end_time": "2023-04-18T08:18:40.954258Z",
     "start_time": "2023-04-18T08:18:40.938811Z"
    }
   },
   "outputs": [
    {
     "data": {
      "text/plain": [
       "0        63.644396\n",
       "1        63.957723\n",
       "2        64.311180\n",
       "3        63.573449\n",
       "4        64.004667\n",
       "           ...    \n",
       "19434    68.098589\n",
       "19435    68.274362\n",
       "19436    68.226068\n",
       "19437    68.200449\n",
       "19438    68.353154\n",
       "Length: 19439, dtype: float64"
      ]
     },
     "execution_count": 37,
     "metadata": {},
     "output_type": "execute_result"
    }
   ],
   "source": [
    "sum_final_output = full_new[['final.output.concentrate_pb', \n",
    "                   'final.output.concentrate_ag', \n",
    "                   'final.output.concentrate_sol', \n",
    "                   'final.output.concentrate_au']].sum(axis=1)\n",
    "sum_final_output"
   ]
  },
  {
   "cell_type": "code",
   "execution_count": 38,
   "metadata": {
    "ExecuteTime": {
     "end_time": "2023-04-18T08:18:41.768051Z",
     "start_time": "2023-04-18T08:18:40.959860Z"
    }
   },
   "outputs": [],
   "source": [
    "ax = sns.displot(sum_final_output, height=10);\n",
    "ax.set_axis_labels('Концентрация металла', 'Частота наблюдений')\n",
    "ax.fig.suptitle('Суммарная концентрация металлов в финальном концентрате');"
   ]
  },
  {
   "cell_type": "markdown",
   "metadata": {},
   "source": [
    "Видим, что аномалии в основном присутствуют на черновом этапе очистке, особенно много значений в районе нуля. На этапе сырья их почти нет, в финальном концентрате есть, в черновом ещё больше."
   ]
  },
  {
   "cell_type": "markdown",
   "metadata": {},
   "source": [
    "Основные значения суммарной концентрации металлов в сырье находятся в пределах от 50 до 70, в черновом концентрате - от 60 до 80, а в финальном концентрате - от 65 до 75. Получаем увеличение показателей после первого этапа, и сужение диапазона разброса - в финальном"
   ]
  },
  {
   "cell_type": "code",
   "execution_count": 39,
   "metadata": {
    "ExecuteTime": {
     "end_time": "2023-04-18T08:30:29.440515Z",
     "start_time": "2023-04-18T08:30:29.432379Z"
    }
   },
   "outputs": [
    {
     "data": {
      "text/plain": [
       "14149"
      ]
     },
     "execution_count": 39,
     "metadata": {},
     "output_type": "execute_result"
    }
   ],
   "source": [
    "len(train_new)"
   ]
  },
  {
   "cell_type": "code",
   "execution_count": 40,
   "metadata": {
    "ExecuteTime": {
     "end_time": "2023-04-18T08:30:05.915128Z",
     "start_time": "2023-04-18T08:30:05.889761Z"
    }
   },
   "outputs": [],
   "source": [
    "train_new = train_new.loc[((train_new['final.output.concentrate_pb'] > 2) &\n",
    "               (train_new['final.output.concentrate_ag'] > 2) &\n",
    "               (train_new['final.output.concentrate_sol'] > 2) &\n",
    "               (train_new['final.output.concentrate_au'] > 2) &\n",
    "               (train_new['rougher.output.concentrate_pb'] > 2) &\n",
    "               (train_new['rougher.output.concentrate_ag'] > 2) &\n",
    "               (train_new['rougher.output.concentrate_sol'] > 2) &\n",
    "               (train_new['rougher.output.concentrate_au'] > 2) &\n",
    "               (train_new['rougher.input.feed_ag'] > 2) &\n",
    "               (train_new['rougher.input.feed_pb'] > 2) &\n",
    "               (train_new['rougher.input.feed_sol'] > 2) &\n",
    "               (train_new['rougher.input.feed_au'] > 2))]"
   ]
  },
  {
   "cell_type": "code",
   "execution_count": 41,
   "metadata": {
    "ExecuteTime": {
     "end_time": "2023-04-18T08:30:18.585092Z",
     "start_time": "2023-04-18T08:30:18.576226Z"
    }
   },
   "outputs": [
    {
     "data": {
      "text/plain": [
       "12736"
      ]
     },
     "execution_count": 41,
     "metadata": {},
     "output_type": "execute_result"
    }
   ],
   "source": [
    "len(train_new)"
   ]
  },
  {
   "cell_type": "code",
   "execution_count": 42,
   "metadata": {},
   "outputs": [],
   "source": [
    "gold = train_new[['rougher.output.concentrate_au',\n",
    "           'primary_cleaner.output.concentrate_au',\n",
    "           'final.output.concentrate_au']]\n",
    "gold = gold.rename(columns={'rougher.output.concentrate_au': 'Флотация', \n",
    "                              'primary_cleaner.output.concentrate_au': 'Первичная очистка', \n",
    "                              'final.output.concentrate_au': 'Финальные характеристики'})"
   ]
  },
  {
   "cell_type": "code",
   "execution_count": 43,
   "metadata": {
    "ExecuteTime": {
     "end_time": "2023-04-18T08:32:02.261055Z",
     "start_time": "2023-04-18T08:32:01.247986Z"
    },
    "scrolled": false
   },
   "outputs": [],
   "source": [
    "g = sns.displot(gold, label = gold.columns, height=10)\n",
    "g.set_axis_labels('Размер гранул', 'Количество гранул')\n",
    "g.fig.suptitle('Концентрация золота');"
   ]
  },
  {
   "cell_type": "code",
   "execution_count": 44,
   "metadata": {},
   "outputs": [
    {
     "data": {
      "text/plain": [
       "0        66.424950\n",
       "1        67.012710\n",
       "2        66.103793\n",
       "3        65.752751\n",
       "6        65.372419\n",
       "           ...    \n",
       "14144    70.781325\n",
       "14145    70.539603\n",
       "14146    55.376330\n",
       "14147    69.201689\n",
       "14148    69.544003\n",
       "Length: 12736, dtype: float64"
      ]
     },
     "execution_count": 44,
     "metadata": {},
     "output_type": "execute_result"
    }
   ],
   "source": [
    "sum_rougher_output = train_new[['rougher.output.concentrate_pb', \n",
    "                   'rougher.output.concentrate_ag', \n",
    "                   'rougher.output.concentrate_sol', \n",
    "                   'rougher.output.concentrate_au']].sum(axis=1)\n",
    "sum_rougher_output"
   ]
  },
  {
   "cell_type": "code",
   "execution_count": 45,
   "metadata": {
    "scrolled": false
   },
   "outputs": [],
   "source": [
    "ax = sns.displot(sum_rougher_output, height=10);\n",
    "ax.set_axis_labels('Суммарная масса гранул', 'Количество гранул')\n",
    "ax.fig.suptitle('Суммарная концентрация металлов в черновом концентрате');"
   ]
  },
  {
   "cell_type": "markdown",
   "metadata": {},
   "source": [
    "Как видим, после удаления значений, близких к нулю, выбросы на графиках практически исчезли"
   ]
  },
  {
   "cell_type": "markdown",
   "metadata": {},
   "source": [
    "Мы посмотрели, как меняется концентрация металлов на различных этапах очистки. Сравнили распределение размеров гранул сырья на обучающей и тестовой выборках. Удалили аномалии, и подготовили выборку для обучения модели "
   ]
  },
  {
   "cell_type": "markdown",
   "metadata": {},
   "source": [
    "## Модель"
   ]
  },
  {
   "cell_type": "markdown",
   "metadata": {},
   "source": [
    "### Добавим недостающие целевые признаки в тестовую выборку"
   ]
  },
  {
   "cell_type": "code",
   "execution_count": 46,
   "metadata": {
    "ExecuteTime": {
     "end_time": "2023-04-18T08:18:41.902011Z",
     "start_time": "2023-04-18T08:18:41.814988Z"
    },
    "scrolled": false
   },
   "outputs": [
    {
     "data": {
      "text/html": [
       "<div>\n",
       "<style scoped>\n",
       "    .dataframe tbody tr th:only-of-type {\n",
       "        vertical-align: middle;\n",
       "    }\n",
       "\n",
       "    .dataframe tbody tr th {\n",
       "        vertical-align: top;\n",
       "    }\n",
       "\n",
       "    .dataframe thead th {\n",
       "        text-align: right;\n",
       "    }\n",
       "</style>\n",
       "<table border=\"1\" class=\"dataframe\">\n",
       "  <thead>\n",
       "    <tr style=\"text-align: right;\">\n",
       "      <th></th>\n",
       "      <th>primary_cleaner.input.sulfate</th>\n",
       "      <th>primary_cleaner.input.depressant</th>\n",
       "      <th>primary_cleaner.input.feed_size</th>\n",
       "      <th>primary_cleaner.input.xanthate</th>\n",
       "      <th>primary_cleaner.state.floatbank8_a_air</th>\n",
       "      <th>primary_cleaner.state.floatbank8_a_level</th>\n",
       "      <th>primary_cleaner.state.floatbank8_b_air</th>\n",
       "      <th>primary_cleaner.state.floatbank8_b_level</th>\n",
       "      <th>primary_cleaner.state.floatbank8_c_air</th>\n",
       "      <th>primary_cleaner.state.floatbank8_c_level</th>\n",
       "      <th>...</th>\n",
       "      <th>secondary_cleaner.state.floatbank4_b_air</th>\n",
       "      <th>secondary_cleaner.state.floatbank4_b_level</th>\n",
       "      <th>secondary_cleaner.state.floatbank5_a_air</th>\n",
       "      <th>secondary_cleaner.state.floatbank5_a_level</th>\n",
       "      <th>secondary_cleaner.state.floatbank5_b_air</th>\n",
       "      <th>secondary_cleaner.state.floatbank5_b_level</th>\n",
       "      <th>secondary_cleaner.state.floatbank6_a_air</th>\n",
       "      <th>secondary_cleaner.state.floatbank6_a_level</th>\n",
       "      <th>rougher.output.recovery</th>\n",
       "      <th>final.output.recovery</th>\n",
       "    </tr>\n",
       "  </thead>\n",
       "  <tbody>\n",
       "    <tr>\n",
       "      <th>0</th>\n",
       "      <td>210.800909</td>\n",
       "      <td>14.993118</td>\n",
       "      <td>8.080000</td>\n",
       "      <td>1.005021</td>\n",
       "      <td>1398.981301</td>\n",
       "      <td>-500.225577</td>\n",
       "      <td>1399.144926</td>\n",
       "      <td>-499.919735</td>\n",
       "      <td>1400.102998</td>\n",
       "      <td>-500.704369</td>\n",
       "      <td>...</td>\n",
       "      <td>8.016656</td>\n",
       "      <td>-501.289139</td>\n",
       "      <td>7.946562</td>\n",
       "      <td>-432.317850</td>\n",
       "      <td>4.872511</td>\n",
       "      <td>-500.037437</td>\n",
       "      <td>26.705889</td>\n",
       "      <td>-499.709414</td>\n",
       "      <td>89.993421</td>\n",
       "      <td>70.273583</td>\n",
       "    </tr>\n",
       "    <tr>\n",
       "      <th>1</th>\n",
       "      <td>215.392455</td>\n",
       "      <td>14.987471</td>\n",
       "      <td>8.080000</td>\n",
       "      <td>0.990469</td>\n",
       "      <td>1398.777912</td>\n",
       "      <td>-500.057435</td>\n",
       "      <td>1398.055362</td>\n",
       "      <td>-499.778182</td>\n",
       "      <td>1396.151033</td>\n",
       "      <td>-499.240168</td>\n",
       "      <td>...</td>\n",
       "      <td>8.130979</td>\n",
       "      <td>-499.634209</td>\n",
       "      <td>7.958270</td>\n",
       "      <td>-525.839648</td>\n",
       "      <td>4.878850</td>\n",
       "      <td>-500.162375</td>\n",
       "      <td>25.019940</td>\n",
       "      <td>-499.819438</td>\n",
       "      <td>88.089657</td>\n",
       "      <td>68.910432</td>\n",
       "    </tr>\n",
       "    <tr>\n",
       "      <th>2</th>\n",
       "      <td>215.259946</td>\n",
       "      <td>12.884934</td>\n",
       "      <td>7.786667</td>\n",
       "      <td>0.996043</td>\n",
       "      <td>1398.493666</td>\n",
       "      <td>-500.868360</td>\n",
       "      <td>1398.860436</td>\n",
       "      <td>-499.764529</td>\n",
       "      <td>1398.075709</td>\n",
       "      <td>-502.151509</td>\n",
       "      <td>...</td>\n",
       "      <td>8.096893</td>\n",
       "      <td>-500.827423</td>\n",
       "      <td>8.071056</td>\n",
       "      <td>-500.801673</td>\n",
       "      <td>4.905125</td>\n",
       "      <td>-499.828510</td>\n",
       "      <td>24.994862</td>\n",
       "      <td>-500.622559</td>\n",
       "      <td>88.412756</td>\n",
       "      <td>68.143213</td>\n",
       "    </tr>\n",
       "    <tr>\n",
       "      <th>3</th>\n",
       "      <td>215.336236</td>\n",
       "      <td>12.006805</td>\n",
       "      <td>7.640000</td>\n",
       "      <td>0.863514</td>\n",
       "      <td>1399.618111</td>\n",
       "      <td>-498.863574</td>\n",
       "      <td>1397.440120</td>\n",
       "      <td>-499.211024</td>\n",
       "      <td>1400.129303</td>\n",
       "      <td>-498.355873</td>\n",
       "      <td>...</td>\n",
       "      <td>8.074946</td>\n",
       "      <td>-499.474407</td>\n",
       "      <td>7.897085</td>\n",
       "      <td>-500.868509</td>\n",
       "      <td>4.931400</td>\n",
       "      <td>-499.963623</td>\n",
       "      <td>24.948919</td>\n",
       "      <td>-498.709987</td>\n",
       "      <td>87.360133</td>\n",
       "      <td>67.776393</td>\n",
       "    </tr>\n",
       "    <tr>\n",
       "      <th>4</th>\n",
       "      <td>199.099327</td>\n",
       "      <td>10.682530</td>\n",
       "      <td>7.530000</td>\n",
       "      <td>0.805575</td>\n",
       "      <td>1401.268123</td>\n",
       "      <td>-500.808305</td>\n",
       "      <td>1398.128818</td>\n",
       "      <td>-499.504543</td>\n",
       "      <td>1402.172226</td>\n",
       "      <td>-500.810606</td>\n",
       "      <td>...</td>\n",
       "      <td>8.054678</td>\n",
       "      <td>-500.397500</td>\n",
       "      <td>8.107890</td>\n",
       "      <td>-509.526725</td>\n",
       "      <td>4.957674</td>\n",
       "      <td>-500.360026</td>\n",
       "      <td>25.003331</td>\n",
       "      <td>-500.856333</td>\n",
       "      <td>83.236367</td>\n",
       "      <td>61.467078</td>\n",
       "    </tr>\n",
       "    <tr>\n",
       "      <th>...</th>\n",
       "      <td>...</td>\n",
       "      <td>...</td>\n",
       "      <td>...</td>\n",
       "      <td>...</td>\n",
       "      <td>...</td>\n",
       "      <td>...</td>\n",
       "      <td>...</td>\n",
       "      <td>...</td>\n",
       "      <td>...</td>\n",
       "      <td>...</td>\n",
       "      <td>...</td>\n",
       "      <td>...</td>\n",
       "      <td>...</td>\n",
       "      <td>...</td>\n",
       "      <td>...</td>\n",
       "      <td>...</td>\n",
       "      <td>...</td>\n",
       "      <td>...</td>\n",
       "      <td>...</td>\n",
       "      <td>...</td>\n",
       "      <td>...</td>\n",
       "    </tr>\n",
       "    <tr>\n",
       "      <th>5285</th>\n",
       "      <td>173.957757</td>\n",
       "      <td>15.963399</td>\n",
       "      <td>8.070000</td>\n",
       "      <td>0.896701</td>\n",
       "      <td>1401.930554</td>\n",
       "      <td>-499.728848</td>\n",
       "      <td>1401.441445</td>\n",
       "      <td>-499.193423</td>\n",
       "      <td>1399.810313</td>\n",
       "      <td>-499.599127</td>\n",
       "      <td>...</td>\n",
       "      <td>12.069155</td>\n",
       "      <td>-499.673279</td>\n",
       "      <td>7.977259</td>\n",
       "      <td>-499.516126</td>\n",
       "      <td>5.933319</td>\n",
       "      <td>-499.965973</td>\n",
       "      <td>8.987171</td>\n",
       "      <td>-499.755909</td>\n",
       "      <td>95.172585</td>\n",
       "      <td>68.919891</td>\n",
       "    </tr>\n",
       "    <tr>\n",
       "      <th>5286</th>\n",
       "      <td>172.910270</td>\n",
       "      <td>16.002605</td>\n",
       "      <td>8.070000</td>\n",
       "      <td>0.896519</td>\n",
       "      <td>1447.075722</td>\n",
       "      <td>-494.716823</td>\n",
       "      <td>1448.851892</td>\n",
       "      <td>-465.963026</td>\n",
       "      <td>1443.890424</td>\n",
       "      <td>-503.587739</td>\n",
       "      <td>...</td>\n",
       "      <td>13.365371</td>\n",
       "      <td>-499.122723</td>\n",
       "      <td>9.288553</td>\n",
       "      <td>-496.892967</td>\n",
       "      <td>7.372897</td>\n",
       "      <td>-499.942956</td>\n",
       "      <td>8.986832</td>\n",
       "      <td>-499.903761</td>\n",
       "      <td>94.575036</td>\n",
       "      <td>68.440582</td>\n",
       "    </tr>\n",
       "    <tr>\n",
       "      <th>5287</th>\n",
       "      <td>171.135718</td>\n",
       "      <td>15.993669</td>\n",
       "      <td>8.070000</td>\n",
       "      <td>1.165996</td>\n",
       "      <td>1498.836182</td>\n",
       "      <td>-501.770403</td>\n",
       "      <td>1499.572353</td>\n",
       "      <td>-495.516347</td>\n",
       "      <td>1502.749213</td>\n",
       "      <td>-520.667442</td>\n",
       "      <td>...</td>\n",
       "      <td>15.101425</td>\n",
       "      <td>-499.936252</td>\n",
       "      <td>10.989181</td>\n",
       "      <td>-498.347898</td>\n",
       "      <td>9.020944</td>\n",
       "      <td>-500.040448</td>\n",
       "      <td>8.982038</td>\n",
       "      <td>-497.789882</td>\n",
       "      <td>93.018138</td>\n",
       "      <td>67.092759</td>\n",
       "    </tr>\n",
       "    <tr>\n",
       "      <th>5288</th>\n",
       "      <td>179.697158</td>\n",
       "      <td>15.438979</td>\n",
       "      <td>8.070000</td>\n",
       "      <td>1.501068</td>\n",
       "      <td>1498.466243</td>\n",
       "      <td>-500.483984</td>\n",
       "      <td>1497.986986</td>\n",
       "      <td>-519.200340</td>\n",
       "      <td>1496.569047</td>\n",
       "      <td>-487.479567</td>\n",
       "      <td>...</td>\n",
       "      <td>15.026853</td>\n",
       "      <td>-499.723143</td>\n",
       "      <td>11.011607</td>\n",
       "      <td>-499.985046</td>\n",
       "      <td>9.009783</td>\n",
       "      <td>-499.937902</td>\n",
       "      <td>9.012660</td>\n",
       "      <td>-500.154284</td>\n",
       "      <td>92.599042</td>\n",
       "      <td>68.061186</td>\n",
       "    </tr>\n",
       "    <tr>\n",
       "      <th>5289</th>\n",
       "      <td>181.556856</td>\n",
       "      <td>14.995850</td>\n",
       "      <td>8.070000</td>\n",
       "      <td>1.623454</td>\n",
       "      <td>1498.096303</td>\n",
       "      <td>-499.796922</td>\n",
       "      <td>1501.743791</td>\n",
       "      <td>-505.146931</td>\n",
       "      <td>1499.535978</td>\n",
       "      <td>-492.428226</td>\n",
       "      <td>...</td>\n",
       "      <td>14.914199</td>\n",
       "      <td>-499.948518</td>\n",
       "      <td>10.986607</td>\n",
       "      <td>-500.658027</td>\n",
       "      <td>8.989497</td>\n",
       "      <td>-500.337588</td>\n",
       "      <td>8.988632</td>\n",
       "      <td>-500.764937</td>\n",
       "      <td>91.177695</td>\n",
       "      <td>71.699976</td>\n",
       "    </tr>\n",
       "  </tbody>\n",
       "</table>\n",
       "<p>5290 rows × 54 columns</p>\n",
       "</div>"
      ],
      "text/plain": [
       "      primary_cleaner.input.sulfate  primary_cleaner.input.depressant  \\\n",
       "0                        210.800909                         14.993118   \n",
       "1                        215.392455                         14.987471   \n",
       "2                        215.259946                         12.884934   \n",
       "3                        215.336236                         12.006805   \n",
       "4                        199.099327                         10.682530   \n",
       "...                             ...                               ...   \n",
       "5285                     173.957757                         15.963399   \n",
       "5286                     172.910270                         16.002605   \n",
       "5287                     171.135718                         15.993669   \n",
       "5288                     179.697158                         15.438979   \n",
       "5289                     181.556856                         14.995850   \n",
       "\n",
       "      primary_cleaner.input.feed_size  primary_cleaner.input.xanthate  \\\n",
       "0                            8.080000                        1.005021   \n",
       "1                            8.080000                        0.990469   \n",
       "2                            7.786667                        0.996043   \n",
       "3                            7.640000                        0.863514   \n",
       "4                            7.530000                        0.805575   \n",
       "...                               ...                             ...   \n",
       "5285                         8.070000                        0.896701   \n",
       "5286                         8.070000                        0.896519   \n",
       "5287                         8.070000                        1.165996   \n",
       "5288                         8.070000                        1.501068   \n",
       "5289                         8.070000                        1.623454   \n",
       "\n",
       "      primary_cleaner.state.floatbank8_a_air  \\\n",
       "0                                1398.981301   \n",
       "1                                1398.777912   \n",
       "2                                1398.493666   \n",
       "3                                1399.618111   \n",
       "4                                1401.268123   \n",
       "...                                      ...   \n",
       "5285                             1401.930554   \n",
       "5286                             1447.075722   \n",
       "5287                             1498.836182   \n",
       "5288                             1498.466243   \n",
       "5289                             1498.096303   \n",
       "\n",
       "      primary_cleaner.state.floatbank8_a_level  \\\n",
       "0                                  -500.225577   \n",
       "1                                  -500.057435   \n",
       "2                                  -500.868360   \n",
       "3                                  -498.863574   \n",
       "4                                  -500.808305   \n",
       "...                                        ...   \n",
       "5285                               -499.728848   \n",
       "5286                               -494.716823   \n",
       "5287                               -501.770403   \n",
       "5288                               -500.483984   \n",
       "5289                               -499.796922   \n",
       "\n",
       "      primary_cleaner.state.floatbank8_b_air  \\\n",
       "0                                1399.144926   \n",
       "1                                1398.055362   \n",
       "2                                1398.860436   \n",
       "3                                1397.440120   \n",
       "4                                1398.128818   \n",
       "...                                      ...   \n",
       "5285                             1401.441445   \n",
       "5286                             1448.851892   \n",
       "5287                             1499.572353   \n",
       "5288                             1497.986986   \n",
       "5289                             1501.743791   \n",
       "\n",
       "      primary_cleaner.state.floatbank8_b_level  \\\n",
       "0                                  -499.919735   \n",
       "1                                  -499.778182   \n",
       "2                                  -499.764529   \n",
       "3                                  -499.211024   \n",
       "4                                  -499.504543   \n",
       "...                                        ...   \n",
       "5285                               -499.193423   \n",
       "5286                               -465.963026   \n",
       "5287                               -495.516347   \n",
       "5288                               -519.200340   \n",
       "5289                               -505.146931   \n",
       "\n",
       "      primary_cleaner.state.floatbank8_c_air  \\\n",
       "0                                1400.102998   \n",
       "1                                1396.151033   \n",
       "2                                1398.075709   \n",
       "3                                1400.129303   \n",
       "4                                1402.172226   \n",
       "...                                      ...   \n",
       "5285                             1399.810313   \n",
       "5286                             1443.890424   \n",
       "5287                             1502.749213   \n",
       "5288                             1496.569047   \n",
       "5289                             1499.535978   \n",
       "\n",
       "      primary_cleaner.state.floatbank8_c_level  ...  \\\n",
       "0                                  -500.704369  ...   \n",
       "1                                  -499.240168  ...   \n",
       "2                                  -502.151509  ...   \n",
       "3                                  -498.355873  ...   \n",
       "4                                  -500.810606  ...   \n",
       "...                                        ...  ...   \n",
       "5285                               -499.599127  ...   \n",
       "5286                               -503.587739  ...   \n",
       "5287                               -520.667442  ...   \n",
       "5288                               -487.479567  ...   \n",
       "5289                               -492.428226  ...   \n",
       "\n",
       "      secondary_cleaner.state.floatbank4_b_air  \\\n",
       "0                                     8.016656   \n",
       "1                                     8.130979   \n",
       "2                                     8.096893   \n",
       "3                                     8.074946   \n",
       "4                                     8.054678   \n",
       "...                                        ...   \n",
       "5285                                 12.069155   \n",
       "5286                                 13.365371   \n",
       "5287                                 15.101425   \n",
       "5288                                 15.026853   \n",
       "5289                                 14.914199   \n",
       "\n",
       "      secondary_cleaner.state.floatbank4_b_level  \\\n",
       "0                                    -501.289139   \n",
       "1                                    -499.634209   \n",
       "2                                    -500.827423   \n",
       "3                                    -499.474407   \n",
       "4                                    -500.397500   \n",
       "...                                          ...   \n",
       "5285                                 -499.673279   \n",
       "5286                                 -499.122723   \n",
       "5287                                 -499.936252   \n",
       "5288                                 -499.723143   \n",
       "5289                                 -499.948518   \n",
       "\n",
       "      secondary_cleaner.state.floatbank5_a_air  \\\n",
       "0                                     7.946562   \n",
       "1                                     7.958270   \n",
       "2                                     8.071056   \n",
       "3                                     7.897085   \n",
       "4                                     8.107890   \n",
       "...                                        ...   \n",
       "5285                                  7.977259   \n",
       "5286                                  9.288553   \n",
       "5287                                 10.989181   \n",
       "5288                                 11.011607   \n",
       "5289                                 10.986607   \n",
       "\n",
       "      secondary_cleaner.state.floatbank5_a_level  \\\n",
       "0                                    -432.317850   \n",
       "1                                    -525.839648   \n",
       "2                                    -500.801673   \n",
       "3                                    -500.868509   \n",
       "4                                    -509.526725   \n",
       "...                                          ...   \n",
       "5285                                 -499.516126   \n",
       "5286                                 -496.892967   \n",
       "5287                                 -498.347898   \n",
       "5288                                 -499.985046   \n",
       "5289                                 -500.658027   \n",
       "\n",
       "      secondary_cleaner.state.floatbank5_b_air  \\\n",
       "0                                     4.872511   \n",
       "1                                     4.878850   \n",
       "2                                     4.905125   \n",
       "3                                     4.931400   \n",
       "4                                     4.957674   \n",
       "...                                        ...   \n",
       "5285                                  5.933319   \n",
       "5286                                  7.372897   \n",
       "5287                                  9.020944   \n",
       "5288                                  9.009783   \n",
       "5289                                  8.989497   \n",
       "\n",
       "      secondary_cleaner.state.floatbank5_b_level  \\\n",
       "0                                    -500.037437   \n",
       "1                                    -500.162375   \n",
       "2                                    -499.828510   \n",
       "3                                    -499.963623   \n",
       "4                                    -500.360026   \n",
       "...                                          ...   \n",
       "5285                                 -499.965973   \n",
       "5286                                 -499.942956   \n",
       "5287                                 -500.040448   \n",
       "5288                                 -499.937902   \n",
       "5289                                 -500.337588   \n",
       "\n",
       "      secondary_cleaner.state.floatbank6_a_air  \\\n",
       "0                                    26.705889   \n",
       "1                                    25.019940   \n",
       "2                                    24.994862   \n",
       "3                                    24.948919   \n",
       "4                                    25.003331   \n",
       "...                                        ...   \n",
       "5285                                  8.987171   \n",
       "5286                                  8.986832   \n",
       "5287                                  8.982038   \n",
       "5288                                  9.012660   \n",
       "5289                                  8.988632   \n",
       "\n",
       "      secondary_cleaner.state.floatbank6_a_level  rougher.output.recovery  \\\n",
       "0                                    -499.709414                89.993421   \n",
       "1                                    -499.819438                88.089657   \n",
       "2                                    -500.622559                88.412756   \n",
       "3                                    -498.709987                87.360133   \n",
       "4                                    -500.856333                83.236367   \n",
       "...                                          ...                      ...   \n",
       "5285                                 -499.755909                95.172585   \n",
       "5286                                 -499.903761                94.575036   \n",
       "5287                                 -497.789882                93.018138   \n",
       "5288                                 -500.154284                92.599042   \n",
       "5289                                 -500.764937                91.177695   \n",
       "\n",
       "      final.output.recovery  \n",
       "0                 70.273583  \n",
       "1                 68.910432  \n",
       "2                 68.143213  \n",
       "3                 67.776393  \n",
       "4                 61.467078  \n",
       "...                     ...  \n",
       "5285              68.919891  \n",
       "5286              68.440582  \n",
       "5287              67.092759  \n",
       "5288              68.061186  \n",
       "5289              71.699976  \n",
       "\n",
       "[5290 rows x 54 columns]"
      ]
     },
     "execution_count": 46,
     "metadata": {},
     "output_type": "execute_result"
    }
   ],
   "source": [
    "test = test_new.merge(full_new[['date', 'rougher.output.recovery', 'final.output.recovery']]\n",
    ", how = 'left', on = 'date')\n",
    "test.drop(['date'], axis=1, inplace=True)\n",
    "test"
   ]
  },
  {
   "cell_type": "code",
   "execution_count": 47,
   "metadata": {
    "ExecuteTime": {
     "end_time": "2023-04-18T08:18:41.984156Z",
     "start_time": "2023-04-18T08:18:41.908968Z"
    }
   },
   "outputs": [
    {
     "data": {
      "text/html": [
       "<div>\n",
       "<style scoped>\n",
       "    .dataframe tbody tr th:only-of-type {\n",
       "        vertical-align: middle;\n",
       "    }\n",
       "\n",
       "    .dataframe tbody tr th {\n",
       "        vertical-align: top;\n",
       "    }\n",
       "\n",
       "    .dataframe thead th {\n",
       "        text-align: right;\n",
       "    }\n",
       "</style>\n",
       "<table border=\"1\" class=\"dataframe\">\n",
       "  <thead>\n",
       "    <tr style=\"text-align: right;\">\n",
       "      <th></th>\n",
       "      <th>final.output.recovery</th>\n",
       "      <th>primary_cleaner.input.sulfate</th>\n",
       "      <th>primary_cleaner.input.depressant</th>\n",
       "      <th>primary_cleaner.input.feed_size</th>\n",
       "      <th>primary_cleaner.input.xanthate</th>\n",
       "      <th>primary_cleaner.state.floatbank8_a_air</th>\n",
       "      <th>primary_cleaner.state.floatbank8_a_level</th>\n",
       "      <th>primary_cleaner.state.floatbank8_b_air</th>\n",
       "      <th>primary_cleaner.state.floatbank8_b_level</th>\n",
       "      <th>primary_cleaner.state.floatbank8_c_air</th>\n",
       "      <th>...</th>\n",
       "      <th>secondary_cleaner.state.floatbank4_a_air</th>\n",
       "      <th>secondary_cleaner.state.floatbank4_a_level</th>\n",
       "      <th>secondary_cleaner.state.floatbank4_b_air</th>\n",
       "      <th>secondary_cleaner.state.floatbank4_b_level</th>\n",
       "      <th>secondary_cleaner.state.floatbank5_a_air</th>\n",
       "      <th>secondary_cleaner.state.floatbank5_a_level</th>\n",
       "      <th>secondary_cleaner.state.floatbank5_b_air</th>\n",
       "      <th>secondary_cleaner.state.floatbank5_b_level</th>\n",
       "      <th>secondary_cleaner.state.floatbank6_a_air</th>\n",
       "      <th>secondary_cleaner.state.floatbank6_a_level</th>\n",
       "    </tr>\n",
       "  </thead>\n",
       "  <tbody>\n",
       "    <tr>\n",
       "      <th>0</th>\n",
       "      <td>70.541216</td>\n",
       "      <td>127.092003</td>\n",
       "      <td>10.128295</td>\n",
       "      <td>7.25</td>\n",
       "      <td>0.988759</td>\n",
       "      <td>1549.775757</td>\n",
       "      <td>-498.912140</td>\n",
       "      <td>1551.434204</td>\n",
       "      <td>-516.403442</td>\n",
       "      <td>1549.873901</td>\n",
       "      <td>...</td>\n",
       "      <td>14.016835</td>\n",
       "      <td>-502.488007</td>\n",
       "      <td>12.099931</td>\n",
       "      <td>-504.715942</td>\n",
       "      <td>9.925633</td>\n",
       "      <td>-498.310211</td>\n",
       "      <td>8.079666</td>\n",
       "      <td>-500.470978</td>\n",
       "      <td>14.151341</td>\n",
       "      <td>-605.841980</td>\n",
       "    </tr>\n",
       "    <tr>\n",
       "      <th>1</th>\n",
       "      <td>69.266198</td>\n",
       "      <td>125.629232</td>\n",
       "      <td>10.296251</td>\n",
       "      <td>7.25</td>\n",
       "      <td>1.002663</td>\n",
       "      <td>1576.166671</td>\n",
       "      <td>-500.904965</td>\n",
       "      <td>1575.950626</td>\n",
       "      <td>-499.865889</td>\n",
       "      <td>1575.994189</td>\n",
       "      <td>...</td>\n",
       "      <td>13.992281</td>\n",
       "      <td>-505.503262</td>\n",
       "      <td>11.950531</td>\n",
       "      <td>-501.331529</td>\n",
       "      <td>10.039245</td>\n",
       "      <td>-500.169983</td>\n",
       "      <td>7.984757</td>\n",
       "      <td>-500.582168</td>\n",
       "      <td>13.998353</td>\n",
       "      <td>-599.787184</td>\n",
       "    </tr>\n",
       "    <tr>\n",
       "      <th>2</th>\n",
       "      <td>68.116445</td>\n",
       "      <td>123.819808</td>\n",
       "      <td>11.316280</td>\n",
       "      <td>7.25</td>\n",
       "      <td>0.991265</td>\n",
       "      <td>1601.556163</td>\n",
       "      <td>-499.997791</td>\n",
       "      <td>1600.386685</td>\n",
       "      <td>-500.607762</td>\n",
       "      <td>1602.003542</td>\n",
       "      <td>...</td>\n",
       "      <td>14.015015</td>\n",
       "      <td>-502.520901</td>\n",
       "      <td>11.912783</td>\n",
       "      <td>-501.133383</td>\n",
       "      <td>10.070913</td>\n",
       "      <td>-500.129135</td>\n",
       "      <td>8.013877</td>\n",
       "      <td>-500.517572</td>\n",
       "      <td>14.028663</td>\n",
       "      <td>-601.427363</td>\n",
       "    </tr>\n",
       "    <tr>\n",
       "      <th>3</th>\n",
       "      <td>68.347543</td>\n",
       "      <td>122.270188</td>\n",
       "      <td>11.322140</td>\n",
       "      <td>7.25</td>\n",
       "      <td>0.996739</td>\n",
       "      <td>1599.968720</td>\n",
       "      <td>-500.951778</td>\n",
       "      <td>1600.659236</td>\n",
       "      <td>-499.677094</td>\n",
       "      <td>1600.304144</td>\n",
       "      <td>...</td>\n",
       "      <td>14.036510</td>\n",
       "      <td>-500.857308</td>\n",
       "      <td>11.999550</td>\n",
       "      <td>-501.193686</td>\n",
       "      <td>9.970366</td>\n",
       "      <td>-499.201640</td>\n",
       "      <td>7.977324</td>\n",
       "      <td>-500.255908</td>\n",
       "      <td>14.005551</td>\n",
       "      <td>-599.996129</td>\n",
       "    </tr>\n",
       "    <tr>\n",
       "      <th>6</th>\n",
       "      <td>69.300835</td>\n",
       "      <td>117.322323</td>\n",
       "      <td>12.469088</td>\n",
       "      <td>7.25</td>\n",
       "      <td>0.895207</td>\n",
       "      <td>1597.532455</td>\n",
       "      <td>-500.985364</td>\n",
       "      <td>1602.816321</td>\n",
       "      <td>-500.696736</td>\n",
       "      <td>1603.572091</td>\n",
       "      <td>...</td>\n",
       "      <td>14.046819</td>\n",
       "      <td>-500.971133</td>\n",
       "      <td>12.091543</td>\n",
       "      <td>-500.501426</td>\n",
       "      <td>10.003247</td>\n",
       "      <td>-497.083180</td>\n",
       "      <td>8.010890</td>\n",
       "      <td>-500.002423</td>\n",
       "      <td>14.029649</td>\n",
       "      <td>-600.905470</td>\n",
       "    </tr>\n",
       "    <tr>\n",
       "      <th>...</th>\n",
       "      <td>...</td>\n",
       "      <td>...</td>\n",
       "      <td>...</td>\n",
       "      <td>...</td>\n",
       "      <td>...</td>\n",
       "      <td>...</td>\n",
       "      <td>...</td>\n",
       "      <td>...</td>\n",
       "      <td>...</td>\n",
       "      <td>...</td>\n",
       "      <td>...</td>\n",
       "      <td>...</td>\n",
       "      <td>...</td>\n",
       "      <td>...</td>\n",
       "      <td>...</td>\n",
       "      <td>...</td>\n",
       "      <td>...</td>\n",
       "      <td>...</td>\n",
       "      <td>...</td>\n",
       "      <td>...</td>\n",
       "      <td>...</td>\n",
       "    </tr>\n",
       "    <tr>\n",
       "      <th>14144</th>\n",
       "      <td>73.755150</td>\n",
       "      <td>123.381787</td>\n",
       "      <td>8.028927</td>\n",
       "      <td>6.50</td>\n",
       "      <td>1.304232</td>\n",
       "      <td>1648.421193</td>\n",
       "      <td>-400.382169</td>\n",
       "      <td>1648.742005</td>\n",
       "      <td>-400.359661</td>\n",
       "      <td>1648.578230</td>\n",
       "      <td>...</td>\n",
       "      <td>23.031497</td>\n",
       "      <td>-501.167942</td>\n",
       "      <td>20.007571</td>\n",
       "      <td>-499.740028</td>\n",
       "      <td>18.006038</td>\n",
       "      <td>-499.834374</td>\n",
       "      <td>13.001114</td>\n",
       "      <td>-500.155694</td>\n",
       "      <td>20.007840</td>\n",
       "      <td>-501.296428</td>\n",
       "    </tr>\n",
       "    <tr>\n",
       "      <th>14145</th>\n",
       "      <td>69.049291</td>\n",
       "      <td>120.878188</td>\n",
       "      <td>7.962636</td>\n",
       "      <td>6.50</td>\n",
       "      <td>1.302419</td>\n",
       "      <td>1649.820162</td>\n",
       "      <td>-399.930973</td>\n",
       "      <td>1649.357538</td>\n",
       "      <td>-399.721222</td>\n",
       "      <td>1648.656192</td>\n",
       "      <td>...</td>\n",
       "      <td>22.960095</td>\n",
       "      <td>-501.612783</td>\n",
       "      <td>20.035660</td>\n",
       "      <td>-500.251357</td>\n",
       "      <td>17.998535</td>\n",
       "      <td>-500.395178</td>\n",
       "      <td>12.954048</td>\n",
       "      <td>-499.895163</td>\n",
       "      <td>19.968498</td>\n",
       "      <td>-501.041608</td>\n",
       "    </tr>\n",
       "    <tr>\n",
       "      <th>14146</th>\n",
       "      <td>67.002189</td>\n",
       "      <td>105.666118</td>\n",
       "      <td>7.955111</td>\n",
       "      <td>6.50</td>\n",
       "      <td>1.315926</td>\n",
       "      <td>1649.166761</td>\n",
       "      <td>-399.888631</td>\n",
       "      <td>1649.196904</td>\n",
       "      <td>-399.677571</td>\n",
       "      <td>1647.896999</td>\n",
       "      <td>...</td>\n",
       "      <td>23.015718</td>\n",
       "      <td>-501.711599</td>\n",
       "      <td>19.951231</td>\n",
       "      <td>-499.857027</td>\n",
       "      <td>18.019543</td>\n",
       "      <td>-500.451156</td>\n",
       "      <td>13.023431</td>\n",
       "      <td>-499.914391</td>\n",
       "      <td>19.990885</td>\n",
       "      <td>-501.518452</td>\n",
       "    </tr>\n",
       "    <tr>\n",
       "      <th>14147</th>\n",
       "      <td>65.523246</td>\n",
       "      <td>98.880538</td>\n",
       "      <td>7.984164</td>\n",
       "      <td>6.50</td>\n",
       "      <td>1.241969</td>\n",
       "      <td>1646.547763</td>\n",
       "      <td>-398.977083</td>\n",
       "      <td>1648.212240</td>\n",
       "      <td>-400.383265</td>\n",
       "      <td>1648.917387</td>\n",
       "      <td>...</td>\n",
       "      <td>23.024963</td>\n",
       "      <td>-501.153409</td>\n",
       "      <td>20.054122</td>\n",
       "      <td>-500.314711</td>\n",
       "      <td>17.979515</td>\n",
       "      <td>-499.272871</td>\n",
       "      <td>12.992404</td>\n",
       "      <td>-499.976268</td>\n",
       "      <td>20.013986</td>\n",
       "      <td>-500.625471</td>\n",
       "    </tr>\n",
       "    <tr>\n",
       "      <th>14148</th>\n",
       "      <td>70.281454</td>\n",
       "      <td>95.248427</td>\n",
       "      <td>8.078957</td>\n",
       "      <td>6.50</td>\n",
       "      <td>1.283045</td>\n",
       "      <td>1648.759906</td>\n",
       "      <td>-399.862053</td>\n",
       "      <td>1650.135395</td>\n",
       "      <td>-399.957321</td>\n",
       "      <td>1648.831890</td>\n",
       "      <td>...</td>\n",
       "      <td>23.018622</td>\n",
       "      <td>-500.492702</td>\n",
       "      <td>20.020205</td>\n",
       "      <td>-500.220296</td>\n",
       "      <td>17.963512</td>\n",
       "      <td>-499.939490</td>\n",
       "      <td>12.990306</td>\n",
       "      <td>-500.080993</td>\n",
       "      <td>19.990336</td>\n",
       "      <td>-499.191575</td>\n",
       "    </tr>\n",
       "  </tbody>\n",
       "</table>\n",
       "<p>12736 rows × 54 columns</p>\n",
       "</div>"
      ],
      "text/plain": [
       "       final.output.recovery  primary_cleaner.input.sulfate  \\\n",
       "0                  70.541216                     127.092003   \n",
       "1                  69.266198                     125.629232   \n",
       "2                  68.116445                     123.819808   \n",
       "3                  68.347543                     122.270188   \n",
       "6                  69.300835                     117.322323   \n",
       "...                      ...                            ...   \n",
       "14144              73.755150                     123.381787   \n",
       "14145              69.049291                     120.878188   \n",
       "14146              67.002189                     105.666118   \n",
       "14147              65.523246                      98.880538   \n",
       "14148              70.281454                      95.248427   \n",
       "\n",
       "       primary_cleaner.input.depressant  primary_cleaner.input.feed_size  \\\n",
       "0                             10.128295                             7.25   \n",
       "1                             10.296251                             7.25   \n",
       "2                             11.316280                             7.25   \n",
       "3                             11.322140                             7.25   \n",
       "6                             12.469088                             7.25   \n",
       "...                                 ...                              ...   \n",
       "14144                          8.028927                             6.50   \n",
       "14145                          7.962636                             6.50   \n",
       "14146                          7.955111                             6.50   \n",
       "14147                          7.984164                             6.50   \n",
       "14148                          8.078957                             6.50   \n",
       "\n",
       "       primary_cleaner.input.xanthate  primary_cleaner.state.floatbank8_a_air  \\\n",
       "0                            0.988759                             1549.775757   \n",
       "1                            1.002663                             1576.166671   \n",
       "2                            0.991265                             1601.556163   \n",
       "3                            0.996739                             1599.968720   \n",
       "6                            0.895207                             1597.532455   \n",
       "...                               ...                                     ...   \n",
       "14144                        1.304232                             1648.421193   \n",
       "14145                        1.302419                             1649.820162   \n",
       "14146                        1.315926                             1649.166761   \n",
       "14147                        1.241969                             1646.547763   \n",
       "14148                        1.283045                             1648.759906   \n",
       "\n",
       "       primary_cleaner.state.floatbank8_a_level  \\\n",
       "0                                   -498.912140   \n",
       "1                                   -500.904965   \n",
       "2                                   -499.997791   \n",
       "3                                   -500.951778   \n",
       "6                                   -500.985364   \n",
       "...                                         ...   \n",
       "14144                               -400.382169   \n",
       "14145                               -399.930973   \n",
       "14146                               -399.888631   \n",
       "14147                               -398.977083   \n",
       "14148                               -399.862053   \n",
       "\n",
       "       primary_cleaner.state.floatbank8_b_air  \\\n",
       "0                                 1551.434204   \n",
       "1                                 1575.950626   \n",
       "2                                 1600.386685   \n",
       "3                                 1600.659236   \n",
       "6                                 1602.816321   \n",
       "...                                       ...   \n",
       "14144                             1648.742005   \n",
       "14145                             1649.357538   \n",
       "14146                             1649.196904   \n",
       "14147                             1648.212240   \n",
       "14148                             1650.135395   \n",
       "\n",
       "       primary_cleaner.state.floatbank8_b_level  \\\n",
       "0                                   -516.403442   \n",
       "1                                   -499.865889   \n",
       "2                                   -500.607762   \n",
       "3                                   -499.677094   \n",
       "6                                   -500.696736   \n",
       "...                                         ...   \n",
       "14144                               -400.359661   \n",
       "14145                               -399.721222   \n",
       "14146                               -399.677571   \n",
       "14147                               -400.383265   \n",
       "14148                               -399.957321   \n",
       "\n",
       "       primary_cleaner.state.floatbank8_c_air  ...  \\\n",
       "0                                 1549.873901  ...   \n",
       "1                                 1575.994189  ...   \n",
       "2                                 1602.003542  ...   \n",
       "3                                 1600.304144  ...   \n",
       "6                                 1603.572091  ...   \n",
       "...                                       ...  ...   \n",
       "14144                             1648.578230  ...   \n",
       "14145                             1648.656192  ...   \n",
       "14146                             1647.896999  ...   \n",
       "14147                             1648.917387  ...   \n",
       "14148                             1648.831890  ...   \n",
       "\n",
       "       secondary_cleaner.state.floatbank4_a_air  \\\n",
       "0                                     14.016835   \n",
       "1                                     13.992281   \n",
       "2                                     14.015015   \n",
       "3                                     14.036510   \n",
       "6                                     14.046819   \n",
       "...                                         ...   \n",
       "14144                                 23.031497   \n",
       "14145                                 22.960095   \n",
       "14146                                 23.015718   \n",
       "14147                                 23.024963   \n",
       "14148                                 23.018622   \n",
       "\n",
       "       secondary_cleaner.state.floatbank4_a_level  \\\n",
       "0                                     -502.488007   \n",
       "1                                     -505.503262   \n",
       "2                                     -502.520901   \n",
       "3                                     -500.857308   \n",
       "6                                     -500.971133   \n",
       "...                                           ...   \n",
       "14144                                 -501.167942   \n",
       "14145                                 -501.612783   \n",
       "14146                                 -501.711599   \n",
       "14147                                 -501.153409   \n",
       "14148                                 -500.492702   \n",
       "\n",
       "       secondary_cleaner.state.floatbank4_b_air  \\\n",
       "0                                     12.099931   \n",
       "1                                     11.950531   \n",
       "2                                     11.912783   \n",
       "3                                     11.999550   \n",
       "6                                     12.091543   \n",
       "...                                         ...   \n",
       "14144                                 20.007571   \n",
       "14145                                 20.035660   \n",
       "14146                                 19.951231   \n",
       "14147                                 20.054122   \n",
       "14148                                 20.020205   \n",
       "\n",
       "       secondary_cleaner.state.floatbank4_b_level  \\\n",
       "0                                     -504.715942   \n",
       "1                                     -501.331529   \n",
       "2                                     -501.133383   \n",
       "3                                     -501.193686   \n",
       "6                                     -500.501426   \n",
       "...                                           ...   \n",
       "14144                                 -499.740028   \n",
       "14145                                 -500.251357   \n",
       "14146                                 -499.857027   \n",
       "14147                                 -500.314711   \n",
       "14148                                 -500.220296   \n",
       "\n",
       "       secondary_cleaner.state.floatbank5_a_air  \\\n",
       "0                                      9.925633   \n",
       "1                                     10.039245   \n",
       "2                                     10.070913   \n",
       "3                                      9.970366   \n",
       "6                                     10.003247   \n",
       "...                                         ...   \n",
       "14144                                 18.006038   \n",
       "14145                                 17.998535   \n",
       "14146                                 18.019543   \n",
       "14147                                 17.979515   \n",
       "14148                                 17.963512   \n",
       "\n",
       "       secondary_cleaner.state.floatbank5_a_level  \\\n",
       "0                                     -498.310211   \n",
       "1                                     -500.169983   \n",
       "2                                     -500.129135   \n",
       "3                                     -499.201640   \n",
       "6                                     -497.083180   \n",
       "...                                           ...   \n",
       "14144                                 -499.834374   \n",
       "14145                                 -500.395178   \n",
       "14146                                 -500.451156   \n",
       "14147                                 -499.272871   \n",
       "14148                                 -499.939490   \n",
       "\n",
       "       secondary_cleaner.state.floatbank5_b_air  \\\n",
       "0                                      8.079666   \n",
       "1                                      7.984757   \n",
       "2                                      8.013877   \n",
       "3                                      7.977324   \n",
       "6                                      8.010890   \n",
       "...                                         ...   \n",
       "14144                                 13.001114   \n",
       "14145                                 12.954048   \n",
       "14146                                 13.023431   \n",
       "14147                                 12.992404   \n",
       "14148                                 12.990306   \n",
       "\n",
       "       secondary_cleaner.state.floatbank5_b_level  \\\n",
       "0                                     -500.470978   \n",
       "1                                     -500.582168   \n",
       "2                                     -500.517572   \n",
       "3                                     -500.255908   \n",
       "6                                     -500.002423   \n",
       "...                                           ...   \n",
       "14144                                 -500.155694   \n",
       "14145                                 -499.895163   \n",
       "14146                                 -499.914391   \n",
       "14147                                 -499.976268   \n",
       "14148                                 -500.080993   \n",
       "\n",
       "       secondary_cleaner.state.floatbank6_a_air  \\\n",
       "0                                     14.151341   \n",
       "1                                     13.998353   \n",
       "2                                     14.028663   \n",
       "3                                     14.005551   \n",
       "6                                     14.029649   \n",
       "...                                         ...   \n",
       "14144                                 20.007840   \n",
       "14145                                 19.968498   \n",
       "14146                                 19.990885   \n",
       "14147                                 20.013986   \n",
       "14148                                 19.990336   \n",
       "\n",
       "       secondary_cleaner.state.floatbank6_a_level  \n",
       "0                                     -605.841980  \n",
       "1                                     -599.787184  \n",
       "2                                     -601.427363  \n",
       "3                                     -599.996129  \n",
       "6                                     -600.905470  \n",
       "...                                           ...  \n",
       "14144                                 -501.296428  \n",
       "14145                                 -501.041608  \n",
       "14146                                 -501.518452  \n",
       "14147                                 -500.625471  \n",
       "14148                                 -499.191575  \n",
       "\n",
       "[12736 rows x 54 columns]"
      ]
     },
     "execution_count": 47,
     "metadata": {},
     "output_type": "execute_result"
    }
   ],
   "source": [
    "train = train_new.drop(set(train_new.columns)-set(test.columns), axis=1)\n",
    "train"
   ]
  },
  {
   "cell_type": "markdown",
   "metadata": {},
   "source": [
    "### Напишем функцию для вычисления итоговой sMAPE."
   ]
  },
  {
   "cell_type": "markdown",
   "metadata": {},
   "source": [
    "Формула для  нахождения sMAPE:"
   ]
  },
  {
   "cell_type": "markdown",
   "metadata": {},
   "source": [
    "![Формула нахождения sMAPE](https://pictures.s3.yandex.net/resources/smape_1576239058.jpg)"
   ]
  },
  {
   "cell_type": "markdown",
   "metadata": {},
   "source": [
    "Формула для нахождения итогового sMAPE:"
   ]
  },
  {
   "cell_type": "markdown",
   "metadata": {},
   "source": [
    "![Формула итогового sMAPE](https://pictures.s3.yandex.net/resources/_smape_1576239054.jpg)"
   ]
  },
  {
   "cell_type": "code",
   "execution_count": 48,
   "metadata": {
    "ExecuteTime": {
     "end_time": "2023-04-18T08:18:41.998671Z",
     "start_time": "2023-04-18T08:18:41.989484Z"
    }
   },
   "outputs": [],
   "source": [
    "def smape(target, predicted):\n",
    "    return (1/len(target)) * (np.sum(2 * np.abs(\n",
    "        target - predicted) / (np.abs(target) + np.abs(predicted))))*100"
   ]
  },
  {
   "cell_type": "code",
   "execution_count": 49,
   "metadata": {
    "ExecuteTime": {
     "end_time": "2023-04-18T08:18:42.013339Z",
     "start_time": "2023-04-18T08:18:42.003204Z"
    }
   },
   "outputs": [],
   "source": [
    "def final_smape(rougher, final):\n",
    "    return 0.25*rougher + 0.75*final"
   ]
  },
  {
   "cell_type": "markdown",
   "metadata": {},
   "source": [
    "### Выделим признаки и целевые признаки"
   ]
  },
  {
   "cell_type": "code",
   "execution_count": 50,
   "metadata": {
    "ExecuteTime": {
     "end_time": "2023-04-18T08:18:42.039574Z",
     "start_time": "2023-04-18T08:18:42.018976Z"
    }
   },
   "outputs": [],
   "source": [
    "features_train_rougher = train.filter(regex='^rougher',axis=1)\n",
    "features_train_rougher = features_train_rougher.drop(['rougher.output.recovery'], axis=1)\n",
    "target_train_rougher = train['rougher.output.recovery']"
   ]
  },
  {
   "cell_type": "code",
   "execution_count": 51,
   "metadata": {
    "ExecuteTime": {
     "end_time": "2023-04-18T08:18:42.061880Z",
     "start_time": "2023-04-18T08:18:42.044678Z"
    }
   },
   "outputs": [],
   "source": [
    "features_train_final = train.drop(['rougher.output.recovery', 'final.output.recovery'], axis=1)\n",
    "target_train_final = train['final.output.recovery']"
   ]
  },
  {
   "cell_type": "code",
   "execution_count": 52,
   "metadata": {
    "ExecuteTime": {
     "end_time": "2023-04-18T08:18:42.089789Z",
     "start_time": "2023-04-18T08:18:42.066087Z"
    }
   },
   "outputs": [],
   "source": [
    "features_test_rougher = test.filter(regex='^rougher',axis=1)\n",
    "features_test_rougher = features_test_rougher.drop(['rougher.output.recovery'], axis=1)\n",
    "target_test_rougher = test['rougher.output.recovery']"
   ]
  },
  {
   "cell_type": "code",
   "execution_count": 53,
   "metadata": {
    "ExecuteTime": {
     "end_time": "2023-04-18T08:18:42.138511Z",
     "start_time": "2023-04-18T08:18:42.094953Z"
    }
   },
   "outputs": [],
   "source": [
    "features_test_final = test.drop(['rougher.output.recovery', 'final.output.recovery'], axis=1)\n",
    "target_test_final = test['final.output.recovery']"
   ]
  },
  {
   "cell_type": "markdown",
   "metadata": {},
   "source": [
    "### Обучим разные модели и оценим их качество кросс-валидацией. "
   ]
  },
  {
   "cell_type": "code",
   "execution_count": 54,
   "metadata": {
    "ExecuteTime": {
     "end_time": "2023-04-18T08:18:49.551604Z",
     "start_time": "2023-04-18T08:18:42.144529Z"
    }
   },
   "outputs": [
    {
     "name": "stdout",
     "output_type": "stream",
     "text": [
      "Итоговое sMape для линейной регрессии: 9.252557106251388\n"
     ]
    }
   ],
   "source": [
    "model_lin = LinearRegression()\n",
    "scorer = make_scorer(smape, greater_is_better=False)\n",
    "rougher_lin = cross_val_score(model_lin, features_train_rougher,\n",
    "                              target_train_rougher, scoring=scorer, cv=5)\n",
    "final_lin =  cross_val_score(model_lin, features_train_final, target_train_final,\n",
    "                             scoring=scorer, cv=5, n_jobs=-1)#, verbose=10)\n",
    "print('Итоговое sMape для линейной регрессии:', abs(final_smape(\n",
    "    rougher_lin, final_lin).mean()))"
   ]
  },
  {
   "cell_type": "code",
   "execution_count": 55,
   "metadata": {
    "ExecuteTime": {
     "end_time": "2023-04-18T08:19:40.158323Z",
     "start_time": "2023-04-18T08:18:49.562828Z"
    }
   },
   "outputs": [
    {
     "name": "stdout",
     "output_type": "stream",
     "text": [
      "Лучшее итоговое sMAPE: 8.626246051577747 \n",
      "Глубина: 5 \n",
      "Минимальное количество выборок: 3\n"
     ]
    }
   ],
   "source": [
    "best_depth = 0\n",
    "best_smape = 10000\n",
    "best_leaf = 0\n",
    "for depth in range(1, 9, 2):\n",
    "    for samples_leaf in range(1, 9, 2):\n",
    "        model_tree = DecisionTreeRegressor(random_state=12345, max_depth = depth,\n",
    "                                           min_samples_leaf = samples_leaf)\n",
    "        scorer = make_scorer(smape, greater_is_better=False)\n",
    "        rougher_tree = cross_val_score(\n",
    "            model_tree, features_train_rougher, target_train_rougher,\n",
    "            scoring=scorer, cv=5)\n",
    "        final_tree = cross_val_score(model_tree, features_train_final,\n",
    "                                     target_train_final, scoring=scorer, cv=5)\n",
    "        if abs(final_smape(rougher_tree, final_tree).mean()) < best_smape:\n",
    "            best_smape = abs(final_smape(rougher_tree, final_tree).mean())\n",
    "            best_depth = depth\n",
    "            best_leaf = samples_leaf\n",
    "\n",
    "print('Лучшее итоговое sMAPE:', best_smape, '\\nГлубина:',\n",
    "      best_depth, '\\nМинимальное количество выборок:', best_leaf)\n"
   ]
  },
  {
   "cell_type": "markdown",
   "metadata": {},
   "source": [
    "Итоговое sMAPE: 8.626246051577747  при глубине = 5 и min_samples_leaf = 3 - лучший результат"
   ]
  },
  {
   "cell_type": "markdown",
   "metadata": {},
   "source": [
    "### Теперь попробуем модель \"Случайный лес\""
   ]
  },
  {
   "cell_type": "code",
   "execution_count": null,
   "metadata": {},
   "outputs": [],
   "source": [
    "best_depth = 0\n",
    "best_est = 0\n",
    "best_smape = 1000\n",
    "for depth in range(2, 10, 2):\n",
    "    for est in range(10, 40, 10):\n",
    "        model_random_forest = RandomForestRegressor(\n",
    "            n_estimators=est, max_depth=depth, random_state=12345)\n",
    "        \n",
    "        scorer = make_scorer(smape, greater_is_better=False)\n",
    "        rougher_random_forest = cross_val_score(\n",
    "            model_random_forest, features_train_rougher, target_train_rougher,\n",
    "            scoring=scorer, cv=5)\n",
    "        final_random_forest = cross_val_score(model_random_forest, features_train_final,\n",
    "                                     target_train_final, scoring=scorer, cv=5)\n",
    "        if abs(final_smape(rougher_random_forest, final_random_forest).mean()) < best_smape:\n",
    "            best_smape = abs(final_smape(rougher_random_forest, final_random_forest).mean())\n",
    "            best_depth = depth\n",
    "            best_est = est\n",
    "\n",
    "print('Лучшее итоговое sMAPE:', best_smape, '\\nГлубина:',\n",
    "      best_depth, '\\nКоличество деревьев:', best_est)"
   ]
  },
  {
   "cell_type": "markdown",
   "metadata": {},
   "source": [
    "Получили лучшую модель - RandomForestRegressor, max_depth = 4, n_estimators = 20\n",
    "\n",
    "Лучшее итоговое sMAPE: 7.912228508924093 "
   ]
  },
  {
   "cell_type": "markdown",
   "metadata": {},
   "source": [
    "### Выберем лучшую модель и проверим её на тестовой выборке."
   ]
  },
  {
   "cell_type": "code",
   "execution_count": null,
   "metadata": {
    "ExecuteTime": {
     "end_time": "2023-04-18T08:19:40.648493Z",
     "start_time": "2023-04-18T08:19:40.163185Z"
    }
   },
   "outputs": [],
   "source": [
    "model_random_forest_rougher = RandomForestRegressor(\n",
    "            n_estimators=20, max_depth=4, random_state=12345)\n",
    "model_random_forest_final = RandomForestRegressor(\n",
    "            n_estimators=20, max_depth=4, random_state=12345)\n",
    "model_random_forest_rougher.fit(features_train_rougher, target_train_rougher)\n",
    "model_random_forest_final.fit(features_train_final, target_train_final)\n",
    "test_predictions_rougher = model_random_forest_rougher.predict(features_test_rougher)\n",
    "test_predictions_final = model_random_forest_final.predict(features_test_final)\n",
    "print('sMAPE на тестовой выборке:',smape(\n",
    "    target_test_rougher, test_predictions_rougher).mean())\n",
    "print('sMAPE на тестовой выборке после финальной стадии:',smape(\n",
    "    target_test_final, test_predictions_final).mean())\n",
    "print('Итоговое sMAPE на тестовой выборке:', final_smape(\n",
    "    (smape(target_test_rougher, test_predictions_rougher).mean()),\n",
    "      (smape(target_test_final, test_predictions_final).mean())))"
   ]
  },
  {
   "cell_type": "markdown",
   "metadata": {},
   "source": [
    "### Проверим модель на адекватность"
   ]
  },
  {
   "cell_type": "code",
   "execution_count": null,
   "metadata": {},
   "outputs": [],
   "source": [
    "for s in ('mean', 'median'):\n",
    "    dummy_rougher = DummyRegressor(strategy=s)\n",
    "    dummy_final = DummyRegressor(strategy=s)\n",
    "    dummy_rougher.fit(features_train_rougher, target_train_rougher)\n",
    "    dummy_final.fit(features_train_final, target_train_final)\n",
    "    test_predictions_rougher = dummy_rougher.predict(features_test_rougher)\n",
    "    test_predictions_final = dummy_final.predict(features_test_final)\n",
    "\n",
    "    print('\\nsMAPE для DummyRegressor rougher при strategy:', s, smape(\n",
    "        target_test_rougher, test_predictions_rougher).mean())\n",
    "    print('sMAPE для DummyRegressor final при strategy:', s, smape(\n",
    "        target_test_final, test_predictions_final).mean())\n",
    "    print('Final sMAPE для DummyRegressor при strategy:', s, final_smape(\n",
    "        (smape(target_test_rougher, test_predictions_rougher).mean()),\n",
    "          (smape(target_test_final, test_predictions_final).mean())))"
   ]
  },
  {
   "cell_type": "markdown",
   "metadata": {},
   "source": [
    "### Вывод"
   ]
  },
  {
   "cell_type": "markdown",
   "metadata": {},
   "source": [
    "В ходе проекта мы подготовили данные, проверили правильность подсчёта характеристики `rougher.output.recovery`, проанализировали признаки, недоступные в тестовой выборке. Также сделали предобработку данных, сравнили распределения размеров гранул на разных стадиях, исследовали суммарную концентрацию металлов в сырье и в финальном концентрате. Потом обучили разные модели для предсказания целевых признаков и выбрали лучшую модель - у нас это RandomForestRegressor, с параметрами max_depth = 4, n_estimators = 20"
   ]
  }
 ],
 "metadata": {
  "ExecuteTimeLog": [
   {
    "duration": 9,
    "start_time": "2023-04-17T15:25:56.887Z"
   },
   {
    "duration": 253,
    "start_time": "2023-04-17T15:26:01.888Z"
   },
   {
    "duration": 489,
    "start_time": "2023-04-17T15:29:59.850Z"
   },
   {
    "duration": 414,
    "start_time": "2023-04-17T15:30:00.342Z"
   },
   {
    "duration": 15920,
    "start_time": "2023-04-17T15:30:00.759Z"
   },
   {
    "duration": 2877,
    "start_time": "2023-04-17T15:30:16.682Z"
   },
   {
    "duration": 286,
    "start_time": "2023-04-17T15:30:19.560Z"
   },
   {
    "duration": 81,
    "start_time": "2023-04-17T15:30:19.848Z"
   },
   {
    "duration": 348,
    "start_time": "2023-04-17T15:30:19.931Z"
   },
   {
    "duration": 3,
    "start_time": "2023-04-17T15:30:20.281Z"
   },
   {
    "duration": 3,
    "start_time": "2023-04-17T15:30:20.289Z"
   },
   {
    "duration": 8,
    "start_time": "2023-04-17T15:30:20.293Z"
   },
   {
    "duration": 5,
    "start_time": "2023-04-17T15:30:20.303Z"
   },
   {
    "duration": 9,
    "start_time": "2023-04-17T15:30:20.309Z"
   },
   {
    "duration": 801,
    "start_time": "2023-04-17T15:30:20.322Z"
   },
   {
    "duration": 234,
    "start_time": "2023-04-17T15:30:21.125Z"
   },
   {
    "duration": 829,
    "start_time": "2023-04-17T15:30:21.362Z"
   },
   {
    "duration": 4,
    "start_time": "2023-04-17T15:30:22.193Z"
   },
   {
    "duration": 22,
    "start_time": "2023-04-17T15:30:22.199Z"
   },
   {
    "duration": 6,
    "start_time": "2023-04-17T15:30:22.223Z"
   },
   {
    "duration": 19,
    "start_time": "2023-04-17T15:30:22.230Z"
   },
   {
    "duration": 7,
    "start_time": "2023-04-17T15:30:22.251Z"
   },
   {
    "duration": 82,
    "start_time": "2023-04-17T15:30:22.260Z"
   },
   {
    "duration": 83,
    "start_time": "2023-04-17T15:30:22.343Z"
   },
   {
    "duration": 41,
    "start_time": "2023-04-17T15:30:22.428Z"
   },
   {
    "duration": 24,
    "start_time": "2023-04-17T15:30:22.470Z"
   },
   {
    "duration": 20,
    "start_time": "2023-04-17T15:30:22.496Z"
   },
   {
    "duration": 5,
    "start_time": "2023-04-17T15:30:22.518Z"
   },
   {
    "duration": 18,
    "start_time": "2023-04-17T15:30:22.525Z"
   },
   {
    "duration": 6,
    "start_time": "2023-04-17T15:30:22.545Z"
   },
   {
    "duration": 14,
    "start_time": "2023-04-17T15:30:22.553Z"
   },
   {
    "duration": 5,
    "start_time": "2023-04-17T15:30:22.590Z"
   },
   {
    "duration": 15,
    "start_time": "2023-04-17T15:30:22.597Z"
   },
   {
    "duration": 879,
    "start_time": "2023-04-17T15:30:22.614Z"
   },
   {
    "duration": 1128,
    "start_time": "2023-04-17T15:30:23.495Z"
   },
   {
    "duration": 1423,
    "start_time": "2023-04-17T15:30:24.625Z"
   },
   {
    "duration": 187,
    "start_time": "2023-04-17T15:30:26.050Z"
   },
   {
    "duration": 8,
    "start_time": "2023-04-17T15:30:26.239Z"
   },
   {
    "duration": 526,
    "start_time": "2023-04-17T15:30:26.249Z"
   },
   {
    "duration": 17,
    "start_time": "2023-04-17T15:30:26.777Z"
   },
   {
    "duration": 507,
    "start_time": "2023-04-17T15:30:26.796Z"
   },
   {
    "duration": 8,
    "start_time": "2023-04-17T15:30:27.307Z"
   },
   {
    "duration": 764,
    "start_time": "2023-04-17T15:30:27.317Z"
   },
   {
    "duration": 47,
    "start_time": "2023-04-17T15:30:28.082Z"
   },
   {
    "duration": 32,
    "start_time": "2023-04-17T15:30:28.130Z"
   },
   {
    "duration": 4,
    "start_time": "2023-04-17T15:30:28.163Z"
   },
   {
    "duration": 22,
    "start_time": "2023-04-17T15:30:28.168Z"
   },
   {
    "duration": 9,
    "start_time": "2023-04-17T15:30:28.192Z"
   },
   {
    "duration": 12,
    "start_time": "2023-04-17T15:30:28.203Z"
   },
   {
    "duration": 12,
    "start_time": "2023-04-17T15:30:28.217Z"
   },
   {
    "duration": 6,
    "start_time": "2023-04-17T15:30:28.231Z"
   },
   {
    "duration": 337,
    "start_time": "2023-04-17T15:30:36.514Z"
   },
   {
    "duration": 6,
    "start_time": "2023-04-17T15:30:55.286Z"
   },
   {
    "duration": 6,
    "start_time": "2023-04-17T15:31:05.804Z"
   },
   {
    "duration": 16692,
    "start_time": "2023-04-17T20:24:28.452Z"
   },
   {
    "duration": 2490,
    "start_time": "2023-04-17T20:24:45.146Z"
   },
   {
    "duration": 2447,
    "start_time": "2023-04-17T20:24:47.638Z"
   },
   {
    "duration": 3,
    "start_time": "2023-04-17T20:24:50.088Z"
   },
   {
    "duration": 14,
    "start_time": "2023-04-17T20:24:50.092Z"
   },
   {
    "duration": 4,
    "start_time": "2023-04-17T20:24:50.108Z"
   },
   {
    "duration": 6,
    "start_time": "2023-04-17T20:24:50.114Z"
   },
   {
    "duration": 5,
    "start_time": "2023-04-17T20:24:50.121Z"
   },
   {
    "duration": 708,
    "start_time": "2023-04-17T20:24:50.127Z"
   },
   {
    "duration": 260,
    "start_time": "2023-04-17T20:24:50.838Z"
   },
   {
    "duration": 824,
    "start_time": "2023-04-17T20:24:51.121Z"
   },
   {
    "duration": 2,
    "start_time": "2023-04-17T20:24:51.947Z"
   },
   {
    "duration": 29,
    "start_time": "2023-04-17T20:24:51.958Z"
   },
   {
    "duration": 15,
    "start_time": "2023-04-17T20:24:51.990Z"
   },
   {
    "duration": 8,
    "start_time": "2023-04-17T20:24:52.006Z"
   },
   {
    "duration": 13,
    "start_time": "2023-04-17T20:24:52.016Z"
   },
   {
    "duration": 7,
    "start_time": "2023-04-17T20:24:52.030Z"
   },
   {
    "duration": 9,
    "start_time": "2023-04-17T20:24:52.038Z"
   },
   {
    "duration": 40,
    "start_time": "2023-04-17T20:24:52.048Z"
   },
   {
    "duration": 12,
    "start_time": "2023-04-17T20:24:52.092Z"
   },
   {
    "duration": 24,
    "start_time": "2023-04-17T20:24:52.106Z"
   },
   {
    "duration": 4,
    "start_time": "2023-04-17T20:24:52.132Z"
   },
   {
    "duration": 17,
    "start_time": "2023-04-17T20:24:52.138Z"
   },
   {
    "duration": 17,
    "start_time": "2023-04-17T20:24:52.157Z"
   },
   {
    "duration": 26,
    "start_time": "2023-04-17T20:24:52.177Z"
   },
   {
    "duration": 16,
    "start_time": "2023-04-17T20:24:52.205Z"
   },
   {
    "duration": 28,
    "start_time": "2023-04-17T20:24:52.223Z"
   },
   {
    "duration": 1041,
    "start_time": "2023-04-17T20:24:52.255Z"
   },
   {
    "duration": 1197,
    "start_time": "2023-04-17T20:24:53.298Z"
   },
   {
    "duration": 1511,
    "start_time": "2023-04-17T20:24:54.497Z"
   },
   {
    "duration": 2,
    "start_time": "2023-04-17T20:24:56.010Z"
   },
   {
    "duration": 14,
    "start_time": "2023-04-17T20:24:56.013Z"
   },
   {
    "duration": 574,
    "start_time": "2023-04-17T20:24:56.028Z"
   },
   {
    "duration": 7,
    "start_time": "2023-04-17T20:24:56.604Z"
   },
   {
    "duration": 611,
    "start_time": "2023-04-17T20:24:56.613Z"
   },
   {
    "duration": 8,
    "start_time": "2023-04-17T20:24:57.226Z"
   },
   {
    "duration": 869,
    "start_time": "2023-04-17T20:24:57.235Z"
   },
   {
    "duration": 51,
    "start_time": "2023-04-17T20:24:58.106Z"
   },
   {
    "duration": 39,
    "start_time": "2023-04-17T20:24:58.176Z"
   },
   {
    "duration": 3,
    "start_time": "2023-04-17T20:24:58.216Z"
   },
   {
    "duration": 6,
    "start_time": "2023-04-17T20:24:58.221Z"
   },
   {
    "duration": 8,
    "start_time": "2023-04-17T20:24:58.229Z"
   },
   {
    "duration": 9,
    "start_time": "2023-04-17T20:24:58.238Z"
   },
   {
    "duration": 7,
    "start_time": "2023-04-17T20:24:58.248Z"
   },
   {
    "duration": 149,
    "start_time": "2023-04-17T20:24:58.256Z"
   },
   {
    "duration": 4668,
    "start_time": "2023-04-17T20:24:58.407Z"
   },
   {
    "duration": 37990,
    "start_time": "2023-04-17T20:25:03.082Z"
   },
   {
    "duration": 346,
    "start_time": "2023-04-17T20:25:41.074Z"
   },
   {
    "duration": 142,
    "start_time": "2023-04-17T20:25:44.976Z"
   },
   {
    "duration": 433,
    "start_time": "2023-04-17T20:26:16.153Z"
   },
   {
    "duration": 385,
    "start_time": "2023-04-17T20:27:10.793Z"
   },
   {
    "duration": 368,
    "start_time": "2023-04-17T20:27:17.336Z"
   },
   {
    "duration": 621,
    "start_time": "2023-04-17T20:28:03.255Z"
   },
   {
    "duration": 394,
    "start_time": "2023-04-17T20:28:09.795Z"
   },
   {
    "duration": 343,
    "start_time": "2023-04-17T20:30:27.053Z"
   },
   {
    "duration": 397,
    "start_time": "2023-04-17T20:31:17.993Z"
   },
   {
    "duration": 359,
    "start_time": "2023-04-17T20:31:57.222Z"
   },
   {
    "duration": 3200,
    "start_time": "2023-04-17T20:33:37.732Z"
   },
   {
    "duration": 357,
    "start_time": "2023-04-17T20:33:51.939Z"
   },
   {
    "duration": 389,
    "start_time": "2023-04-17T20:36:51.512Z"
   },
   {
    "duration": 402,
    "start_time": "2023-04-17T20:38:37.596Z"
   },
   {
    "duration": 344,
    "start_time": "2023-04-17T20:39:26.356Z"
   },
   {
    "duration": 5,
    "start_time": "2023-04-17T20:40:55.095Z"
   },
   {
    "duration": 420,
    "start_time": "2023-04-17T20:41:05.399Z"
   },
   {
    "duration": 474,
    "start_time": "2023-04-17T20:41:11.447Z"
   },
   {
    "duration": 471,
    "start_time": "2023-04-17T20:41:21.928Z"
   },
   {
    "duration": 481,
    "start_time": "2023-04-17T20:41:45.141Z"
   },
   {
    "duration": 436,
    "start_time": "2023-04-17T20:41:50.846Z"
   },
   {
    "duration": 410,
    "start_time": "2023-04-17T20:42:35.385Z"
   },
   {
    "duration": 374,
    "start_time": "2023-04-17T20:42:42.826Z"
   },
   {
    "duration": 418,
    "start_time": "2023-04-17T20:43:39.531Z"
   },
   {
    "duration": 382,
    "start_time": "2023-04-17T20:43:58.617Z"
   },
   {
    "duration": 384,
    "start_time": "2023-04-17T20:45:05.725Z"
   },
   {
    "duration": 428,
    "start_time": "2023-04-17T20:45:21.806Z"
   },
   {
    "duration": 411,
    "start_time": "2023-04-17T20:45:32.502Z"
   },
   {
    "duration": 717,
    "start_time": "2023-04-17T20:47:43.544Z"
   },
   {
    "duration": 489,
    "start_time": "2023-04-17T20:48:52.832Z"
   },
   {
    "duration": 1267,
    "start_time": "2023-04-17T20:49:19.871Z"
   },
   {
    "duration": 514,
    "start_time": "2023-04-17T20:50:27.611Z"
   },
   {
    "duration": 639,
    "start_time": "2023-04-17T20:50:46.035Z"
   },
   {
    "duration": 497,
    "start_time": "2023-04-17T20:50:55.603Z"
   },
   {
    "duration": 528,
    "start_time": "2023-04-17T20:52:05.947Z"
   },
   {
    "duration": 507,
    "start_time": "2023-04-17T20:52:35.012Z"
   },
   {
    "duration": 735,
    "start_time": "2023-04-17T20:53:08.492Z"
   },
   {
    "duration": 665,
    "start_time": "2023-04-17T21:00:48.803Z"
   },
   {
    "duration": 3479,
    "start_time": "2023-04-17T21:16:50.590Z"
   },
   {
    "duration": 2486,
    "start_time": "2023-04-17T21:17:15.978Z"
   },
   {
    "duration": 3415,
    "start_time": "2023-04-17T21:17:29.752Z"
   },
   {
    "duration": 2288,
    "start_time": "2023-04-17T21:17:41.976Z"
   },
   {
    "duration": 13405,
    "start_time": "2023-04-18T08:35:26.442Z"
   },
   {
    "duration": 2475,
    "start_time": "2023-04-18T08:35:39.849Z"
   },
   {
    "duration": 1694,
    "start_time": "2023-04-18T08:35:42.325Z"
   },
   {
    "duration": 2,
    "start_time": "2023-04-18T08:35:44.022Z"
   },
   {
    "duration": 25,
    "start_time": "2023-04-18T08:35:44.026Z"
   },
   {
    "duration": 12,
    "start_time": "2023-04-18T08:35:44.052Z"
   },
   {
    "duration": 19,
    "start_time": "2023-04-18T08:35:44.066Z"
   },
   {
    "duration": 21,
    "start_time": "2023-04-18T08:35:44.086Z"
   },
   {
    "duration": 570,
    "start_time": "2023-04-18T08:35:44.108Z"
   },
   {
    "duration": 200,
    "start_time": "2023-04-18T08:35:44.682Z"
   },
   {
    "duration": 615,
    "start_time": "2023-04-18T08:35:44.884Z"
   },
   {
    "duration": 3,
    "start_time": "2023-04-18T08:35:45.500Z"
   },
   {
    "duration": 19,
    "start_time": "2023-04-18T08:35:45.504Z"
   },
   {
    "duration": 11,
    "start_time": "2023-04-18T08:35:45.524Z"
   },
   {
    "duration": 8,
    "start_time": "2023-04-18T08:35:45.536Z"
   },
   {
    "duration": 8,
    "start_time": "2023-04-18T08:35:45.545Z"
   },
   {
    "duration": 6,
    "start_time": "2023-04-18T08:35:45.555Z"
   },
   {
    "duration": 19,
    "start_time": "2023-04-18T08:35:45.563Z"
   },
   {
    "duration": 16,
    "start_time": "2023-04-18T08:35:45.583Z"
   },
   {
    "duration": 23,
    "start_time": "2023-04-18T08:35:45.600Z"
   },
   {
    "duration": 25,
    "start_time": "2023-04-18T08:35:45.624Z"
   },
   {
    "duration": 16,
    "start_time": "2023-04-18T08:35:45.651Z"
   },
   {
    "duration": 25,
    "start_time": "2023-04-18T08:35:45.669Z"
   },
   {
    "duration": 5,
    "start_time": "2023-04-18T08:35:45.695Z"
   },
   {
    "duration": 17,
    "start_time": "2023-04-18T08:35:45.701Z"
   },
   {
    "duration": 7,
    "start_time": "2023-04-18T08:35:45.719Z"
   },
   {
    "duration": 28,
    "start_time": "2023-04-18T08:35:45.727Z"
   },
   {
    "duration": 805,
    "start_time": "2023-04-18T08:35:45.758Z"
   },
   {
    "duration": 933,
    "start_time": "2023-04-18T08:35:46.564Z"
   },
   {
    "duration": 1155,
    "start_time": "2023-04-18T08:35:47.499Z"
   },
   {
    "duration": 394,
    "start_time": "2023-04-18T08:35:48.656Z"
   },
   {
    "duration": 359,
    "start_time": "2023-04-18T08:35:49.051Z"
   },
   {
    "duration": 7,
    "start_time": "2023-04-18T08:35:49.411Z"
   },
   {
    "duration": 430,
    "start_time": "2023-04-18T08:35:49.419Z"
   },
   {
    "duration": 7,
    "start_time": "2023-04-18T08:35:49.850Z"
   },
   {
    "duration": 433,
    "start_time": "2023-04-18T08:35:49.858Z"
   },
   {
    "duration": 7,
    "start_time": "2023-04-18T08:35:50.292Z"
   },
   {
    "duration": 831,
    "start_time": "2023-04-18T08:35:50.300Z"
   },
   {
    "duration": 4,
    "start_time": "2023-04-18T08:35:51.133Z"
   },
   {
    "duration": 13,
    "start_time": "2023-04-18T08:35:51.138Z"
   },
   {
    "duration": 28,
    "start_time": "2023-04-18T08:35:51.153Z"
   },
   {
    "duration": 9,
    "start_time": "2023-04-18T08:35:51.183Z"
   },
   {
    "duration": 712,
    "start_time": "2023-04-18T08:35:51.193Z"
   },
   {
    "duration": 42,
    "start_time": "2023-04-18T08:35:51.906Z"
   },
   {
    "duration": 26,
    "start_time": "2023-04-18T08:35:51.949Z"
   },
   {
    "duration": 3,
    "start_time": "2023-04-18T08:35:51.977Z"
   },
   {
    "duration": 15,
    "start_time": "2023-04-18T08:35:51.981Z"
   },
   {
    "duration": 21,
    "start_time": "2023-04-18T08:35:51.998Z"
   },
   {
    "duration": 36,
    "start_time": "2023-04-18T08:35:52.021Z"
   },
   {
    "duration": 10,
    "start_time": "2023-04-18T08:35:52.059Z"
   },
   {
    "duration": 18,
    "start_time": "2023-04-18T08:35:52.070Z"
   },
   {
    "duration": 2151,
    "start_time": "2023-04-18T08:35:52.090Z"
   },
   {
    "duration": 27989,
    "start_time": "2023-04-18T08:35:54.243Z"
   },
   {
    "duration": 301,
    "start_time": "2023-04-18T08:36:22.234Z"
   },
   {
    "duration": 473,
    "start_time": "2023-04-18T08:38:13.610Z"
   },
   {
    "duration": 7,
    "start_time": "2023-04-18T08:39:30.316Z"
   },
   {
    "duration": 446,
    "start_time": "2023-04-18T08:39:31.109Z"
   },
   {
    "duration": 4,
    "start_time": "2023-04-18T08:40:35.659Z"
   },
   {
    "duration": 737,
    "start_time": "2023-04-18T08:40:36.464Z"
   },
   {
    "duration": 11,
    "start_time": "2023-04-18T08:41:06.701Z"
   },
   {
    "duration": 4,
    "start_time": "2023-04-18T08:41:07.809Z"
   },
   {
    "duration": 5,
    "start_time": "2023-04-18T08:41:16.203Z"
   },
   {
    "duration": 869,
    "start_time": "2023-04-18T08:41:17.973Z"
   },
   {
    "duration": 7,
    "start_time": "2023-04-18T08:41:18.984Z"
   },
   {
    "duration": 366,
    "start_time": "2023-04-18T08:41:19.572Z"
   },
   {
    "duration": 146,
    "start_time": "2023-04-18T08:43:55.681Z"
   },
   {
    "duration": 1726,
    "start_time": "2023-04-18T08:44:25.113Z"
   },
   {
    "duration": 2028,
    "start_time": "2023-04-18T08:44:37.211Z"
   },
   {
    "duration": 1923,
    "start_time": "2023-04-18T08:59:45.723Z"
   },
   {
    "duration": 1797,
    "start_time": "2023-04-18T08:59:47.648Z"
   },
   {
    "duration": 585,
    "start_time": "2023-04-18T08:59:49.446Z"
   },
   {
    "duration": 2,
    "start_time": "2023-04-18T08:59:50.032Z"
   },
   {
    "duration": 7,
    "start_time": "2023-04-18T08:59:50.036Z"
   },
   {
    "duration": 7,
    "start_time": "2023-04-18T08:59:50.044Z"
   },
   {
    "duration": 5,
    "start_time": "2023-04-18T08:59:50.052Z"
   },
   {
    "duration": 5,
    "start_time": "2023-04-18T08:59:50.058Z"
   },
   {
    "duration": 546,
    "start_time": "2023-04-18T08:59:50.064Z"
   },
   {
    "duration": 290,
    "start_time": "2023-04-18T08:59:50.612Z"
   },
   {
    "duration": 617,
    "start_time": "2023-04-18T08:59:50.904Z"
   },
   {
    "duration": 3,
    "start_time": "2023-04-18T08:59:51.522Z"
   },
   {
    "duration": 18,
    "start_time": "2023-04-18T08:59:51.535Z"
   },
   {
    "duration": 28,
    "start_time": "2023-04-18T08:59:51.556Z"
   },
   {
    "duration": 16,
    "start_time": "2023-04-18T08:59:51.586Z"
   },
   {
    "duration": 18,
    "start_time": "2023-04-18T08:59:51.604Z"
   },
   {
    "duration": 28,
    "start_time": "2023-04-18T08:59:51.624Z"
   },
   {
    "duration": 21,
    "start_time": "2023-04-18T08:59:51.654Z"
   },
   {
    "duration": 12,
    "start_time": "2023-04-18T08:59:51.676Z"
   },
   {
    "duration": 10,
    "start_time": "2023-04-18T08:59:51.689Z"
   },
   {
    "duration": 24,
    "start_time": "2023-04-18T08:59:51.700Z"
   },
   {
    "duration": 4,
    "start_time": "2023-04-18T08:59:51.726Z"
   },
   {
    "duration": 35,
    "start_time": "2023-04-18T08:59:51.732Z"
   },
   {
    "duration": 10,
    "start_time": "2023-04-18T08:59:51.768Z"
   },
   {
    "duration": 19,
    "start_time": "2023-04-18T08:59:51.779Z"
   },
   {
    "duration": 10,
    "start_time": "2023-04-18T08:59:51.800Z"
   },
   {
    "duration": 28,
    "start_time": "2023-04-18T08:59:51.811Z"
   },
   {
    "duration": 784,
    "start_time": "2023-04-18T08:59:51.840Z"
   },
   {
    "duration": 913,
    "start_time": "2023-04-18T08:59:52.626Z"
   },
   {
    "duration": 1166,
    "start_time": "2023-04-18T08:59:53.541Z"
   },
   {
    "duration": 336,
    "start_time": "2023-04-18T08:59:54.709Z"
   },
   {
    "duration": 350,
    "start_time": "2023-04-18T08:59:55.047Z"
   },
   {
    "duration": 7,
    "start_time": "2023-04-18T08:59:55.399Z"
   },
   {
    "duration": 457,
    "start_time": "2023-04-18T08:59:55.408Z"
   },
   {
    "duration": 7,
    "start_time": "2023-04-18T08:59:55.867Z"
   },
   {
    "duration": 434,
    "start_time": "2023-04-18T08:59:55.875Z"
   },
   {
    "duration": 6,
    "start_time": "2023-04-18T08:59:56.311Z"
   },
   {
    "duration": 786,
    "start_time": "2023-04-18T08:59:56.319Z"
   },
   {
    "duration": 3,
    "start_time": "2023-04-18T08:59:57.106Z"
   },
   {
    "duration": 6,
    "start_time": "2023-04-18T08:59:57.110Z"
   },
   {
    "duration": 21,
    "start_time": "2023-04-18T08:59:57.119Z"
   },
   {
    "duration": 4,
    "start_time": "2023-04-18T08:59:57.142Z"
   },
   {
    "duration": 4,
    "start_time": "2023-04-18T08:59:57.147Z"
   },
   {
    "duration": 644,
    "start_time": "2023-04-18T08:59:57.153Z"
   },
   {
    "duration": 7,
    "start_time": "2023-04-18T08:59:57.798Z"
   },
   {
    "duration": 411,
    "start_time": "2023-04-18T08:59:57.807Z"
   },
   {
    "duration": 42,
    "start_time": "2023-04-18T08:59:58.220Z"
   },
   {
    "duration": 25,
    "start_time": "2023-04-18T08:59:58.264Z"
   },
   {
    "duration": 3,
    "start_time": "2023-04-18T08:59:58.291Z"
   },
   {
    "duration": 3,
    "start_time": "2023-04-18T08:59:58.296Z"
   },
   {
    "duration": 8,
    "start_time": "2023-04-18T08:59:58.301Z"
   },
   {
    "duration": 27,
    "start_time": "2023-04-18T08:59:58.310Z"
   },
   {
    "duration": 17,
    "start_time": "2023-04-18T08:59:58.338Z"
   },
   {
    "duration": 25,
    "start_time": "2023-04-18T08:59:58.357Z"
   },
   {
    "duration": 1757,
    "start_time": "2023-04-18T08:59:58.384Z"
   },
   {
    "duration": 25962,
    "start_time": "2023-04-18T09:00:00.145Z"
   },
   {
    "duration": 270,
    "start_time": "2023-04-18T09:00:26.109Z"
   },
   {
    "duration": 2685,
    "start_time": "2023-04-18T09:05:34.158Z"
   },
   {
    "duration": 8158,
    "start_time": "2023-04-18T09:10:33.779Z"
   },
   {
    "duration": 13157,
    "start_time": "2023-04-18T09:11:34.630Z"
   },
   {
    "duration": 20417,
    "start_time": "2023-04-18T09:12:39.048Z"
   },
   {
    "duration": 20705,
    "start_time": "2023-04-18T09:14:37.922Z"
   },
   {
    "duration": 142,
    "start_time": "2023-04-18T09:18:44.017Z"
   },
   {
    "duration": 4869,
    "start_time": "2023-04-18T09:18:54.727Z"
   },
   {
    "duration": 20815,
    "start_time": "2023-04-18T09:19:15.462Z"
   },
   {
    "duration": 21014,
    "start_time": "2023-04-18T09:20:35.323Z"
   },
   {
    "duration": 392,
    "start_time": "2023-04-18T09:24:23.922Z"
   },
   {
    "duration": 4816,
    "start_time": "2023-04-18T09:27:08.547Z"
   },
   {
    "duration": 5087,
    "start_time": "2023-04-18T09:27:18.956Z"
   },
   {
    "duration": 4638,
    "start_time": "2023-04-18T09:27:27.278Z"
   },
   {
    "duration": 20250,
    "start_time": "2023-04-18T09:27:40.118Z"
   },
   {
    "duration": 47783,
    "start_time": "2023-04-18T09:34:42.647Z"
   },
   {
    "duration": 2493,
    "start_time": "2023-04-18T09:37:40.546Z"
   },
   {
    "duration": 48044,
    "start_time": "2023-04-18T09:38:29.114Z"
   },
   {
    "duration": 28839,
    "start_time": "2023-04-18T09:39:59.626Z"
   },
   {
    "duration": 9357,
    "start_time": "2023-04-18T09:40:34.178Z"
   },
   {
    "duration": 7383,
    "start_time": "2023-04-18T09:40:48.357Z"
   },
   {
    "duration": 378,
    "start_time": "2023-04-18T09:42:46.356Z"
   },
   {
    "duration": 379,
    "start_time": "2023-04-18T09:43:53.931Z"
   },
   {
    "duration": 13,
    "start_time": "2023-04-18T09:55:51.431Z"
   },
   {
    "duration": 3,
    "start_time": "2023-04-18T09:56:02.826Z"
   },
   {
    "duration": 13,
    "start_time": "2023-04-18T09:56:10.931Z"
   },
   {
    "duration": 18,
    "start_time": "2023-04-18T09:58:29.726Z"
   },
   {
    "duration": 19,
    "start_time": "2023-04-18T09:59:01.059Z"
   },
   {
    "duration": 11,
    "start_time": "2023-04-18T09:59:47.414Z"
   },
   {
    "duration": 11,
    "start_time": "2023-04-18T10:00:00.705Z"
   },
   {
    "duration": 11,
    "start_time": "2023-04-18T10:00:31.795Z"
   },
   {
    "duration": 4,
    "start_time": "2023-04-18T10:02:43.077Z"
   },
   {
    "duration": 26,
    "start_time": "2023-04-18T10:03:07.217Z"
   },
   {
    "duration": 25,
    "start_time": "2023-04-18T10:03:20.751Z"
   },
   {
    "duration": 17,
    "start_time": "2023-04-18T10:03:27.814Z"
   },
   {
    "duration": 396,
    "start_time": "2023-04-18T10:14:46.059Z"
   },
   {
    "duration": 398,
    "start_time": "2023-04-18T10:15:04.732Z"
   },
   {
    "duration": 393,
    "start_time": "2023-04-18T10:16:01.694Z"
   },
   {
    "duration": 410,
    "start_time": "2023-04-18T10:16:21.029Z"
   },
   {
    "duration": 384,
    "start_time": "2023-04-18T10:16:50.429Z"
   },
   {
    "duration": 2016,
    "start_time": "2023-04-18T10:20:04.737Z"
   },
   {
    "duration": 1896,
    "start_time": "2023-04-18T10:20:06.755Z"
   },
   {
    "duration": 610,
    "start_time": "2023-04-18T10:20:08.653Z"
   },
   {
    "duration": 2,
    "start_time": "2023-04-18T10:20:09.265Z"
   },
   {
    "duration": 15,
    "start_time": "2023-04-18T10:20:09.268Z"
   },
   {
    "duration": 15,
    "start_time": "2023-04-18T10:20:09.284Z"
   },
   {
    "duration": 11,
    "start_time": "2023-04-18T10:20:09.300Z"
   },
   {
    "duration": 20,
    "start_time": "2023-04-18T10:20:09.312Z"
   },
   {
    "duration": 572,
    "start_time": "2023-04-18T10:20:09.334Z"
   },
   {
    "duration": 314,
    "start_time": "2023-04-18T10:20:09.908Z"
   },
   {
    "duration": 654,
    "start_time": "2023-04-18T10:20:10.224Z"
   },
   {
    "duration": 2,
    "start_time": "2023-04-18T10:20:10.880Z"
   },
   {
    "duration": 19,
    "start_time": "2023-04-18T10:20:10.884Z"
   },
   {
    "duration": 4,
    "start_time": "2023-04-18T10:20:10.905Z"
   },
   {
    "duration": 4,
    "start_time": "2023-04-18T10:20:10.911Z"
   },
   {
    "duration": 8,
    "start_time": "2023-04-18T10:20:10.917Z"
   },
   {
    "duration": 5,
    "start_time": "2023-04-18T10:20:10.936Z"
   },
   {
    "duration": 12,
    "start_time": "2023-04-18T10:20:10.943Z"
   },
   {
    "duration": 10,
    "start_time": "2023-04-18T10:20:10.957Z"
   },
   {
    "duration": 9,
    "start_time": "2023-04-18T10:20:10.969Z"
   },
   {
    "duration": 16,
    "start_time": "2023-04-18T10:20:10.980Z"
   },
   {
    "duration": 4,
    "start_time": "2023-04-18T10:20:10.998Z"
   },
   {
    "duration": 43,
    "start_time": "2023-04-18T10:20:11.004Z"
   },
   {
    "duration": 11,
    "start_time": "2023-04-18T10:20:11.048Z"
   },
   {
    "duration": 10,
    "start_time": "2023-04-18T10:20:11.061Z"
   },
   {
    "duration": 4,
    "start_time": "2023-04-18T10:20:11.073Z"
   },
   {
    "duration": 15,
    "start_time": "2023-04-18T10:20:11.078Z"
   },
   {
    "duration": 804,
    "start_time": "2023-04-18T10:20:11.096Z"
   },
   {
    "duration": 988,
    "start_time": "2023-04-18T10:20:11.901Z"
   },
   {
    "duration": 1156,
    "start_time": "2023-04-18T10:20:12.891Z"
   },
   {
    "duration": 387,
    "start_time": "2023-04-18T10:20:14.049Z"
   },
   {
    "duration": 300,
    "start_time": "2023-04-18T10:20:14.438Z"
   },
   {
    "duration": 6,
    "start_time": "2023-04-18T10:20:14.739Z"
   },
   {
    "duration": 433,
    "start_time": "2023-04-18T10:20:14.747Z"
   },
   {
    "duration": 6,
    "start_time": "2023-04-18T10:20:15.182Z"
   },
   {
    "duration": 469,
    "start_time": "2023-04-18T10:20:15.190Z"
   },
   {
    "duration": 7,
    "start_time": "2023-04-18T10:20:15.661Z"
   },
   {
    "duration": 753,
    "start_time": "2023-04-18T10:20:15.669Z"
   },
   {
    "duration": 3,
    "start_time": "2023-04-18T10:20:16.423Z"
   },
   {
    "duration": 5,
    "start_time": "2023-04-18T10:20:16.435Z"
   },
   {
    "duration": 48,
    "start_time": "2023-04-18T10:20:16.441Z"
   },
   {
    "duration": 38,
    "start_time": "2023-04-18T10:20:16.490Z"
   },
   {
    "duration": 31,
    "start_time": "2023-04-18T10:20:16.530Z"
   },
   {
    "duration": 738,
    "start_time": "2023-04-18T10:20:16.563Z"
   },
   {
    "duration": 7,
    "start_time": "2023-04-18T10:20:17.303Z"
   },
   {
    "duration": 439,
    "start_time": "2023-04-18T10:20:17.312Z"
   },
   {
    "duration": 43,
    "start_time": "2023-04-18T10:20:17.752Z"
   },
   {
    "duration": 40,
    "start_time": "2023-04-18T10:20:17.797Z"
   },
   {
    "duration": 3,
    "start_time": "2023-04-18T10:20:17.838Z"
   },
   {
    "duration": 6,
    "start_time": "2023-04-18T10:20:17.842Z"
   },
   {
    "duration": 8,
    "start_time": "2023-04-18T10:20:17.850Z"
   },
   {
    "duration": 8,
    "start_time": "2023-04-18T10:20:17.859Z"
   },
   {
    "duration": 5,
    "start_time": "2023-04-18T10:20:17.869Z"
   },
   {
    "duration": 6,
    "start_time": "2023-04-18T10:20:17.875Z"
   },
   {
    "duration": 1658,
    "start_time": "2023-04-18T10:20:17.882Z"
   },
   {
    "duration": 7568,
    "start_time": "2023-04-18T10:20:19.545Z"
   },
   {
    "duration": 390,
    "start_time": "2023-04-18T10:20:27.115Z"
   },
   {
    "duration": 17,
    "start_time": "2023-04-18T10:20:27.506Z"
   },
   {
    "duration": 282,
    "start_time": "2023-04-18T10:29:43.433Z"
   },
   {
    "duration": 7342,
    "start_time": "2023-04-18T10:29:53.279Z"
   },
   {
    "duration": 384,
    "start_time": "2023-04-18T10:30:50.414Z"
   },
   {
    "duration": 18,
    "start_time": "2023-04-18T10:32:37.623Z"
   },
   {
    "duration": 461,
    "start_time": "2023-04-19T14:08:39.448Z"
   },
   {
    "duration": 18264,
    "start_time": "2023-04-19T14:08:46.672Z"
   },
   {
    "duration": 3400,
    "start_time": "2023-04-19T14:09:04.938Z"
   },
   {
    "duration": 2403,
    "start_time": "2023-04-19T14:09:14.995Z"
   },
   {
    "duration": 2162,
    "start_time": "2023-04-19T14:09:17.401Z"
   },
   {
    "duration": 2005,
    "start_time": "2023-04-19T14:09:19.565Z"
   },
   {
    "duration": 2,
    "start_time": "2023-04-19T14:09:21.573Z"
   },
   {
    "duration": 7,
    "start_time": "2023-04-19T14:09:21.577Z"
   },
   {
    "duration": 5,
    "start_time": "2023-04-19T14:09:21.586Z"
   },
   {
    "duration": 5,
    "start_time": "2023-04-19T14:09:21.593Z"
   },
   {
    "duration": 6,
    "start_time": "2023-04-19T14:09:21.600Z"
   },
   {
    "duration": 756,
    "start_time": "2023-04-19T14:09:21.608Z"
   },
   {
    "duration": 387,
    "start_time": "2023-04-19T14:09:22.372Z"
   },
   {
    "duration": 769,
    "start_time": "2023-04-19T14:09:22.763Z"
   },
   {
    "duration": 4,
    "start_time": "2023-04-19T14:09:23.534Z"
   },
   {
    "duration": 44,
    "start_time": "2023-04-19T14:09:23.539Z"
   },
   {
    "duration": 5,
    "start_time": "2023-04-19T14:09:23.585Z"
   },
   {
    "duration": 14,
    "start_time": "2023-04-19T14:09:23.592Z"
   },
   {
    "duration": 16,
    "start_time": "2023-04-19T14:09:23.608Z"
   },
   {
    "duration": 9,
    "start_time": "2023-04-19T14:09:23.626Z"
   },
   {
    "duration": 10,
    "start_time": "2023-04-19T14:09:23.637Z"
   },
   {
    "duration": 14,
    "start_time": "2023-04-19T14:09:23.649Z"
   },
   {
    "duration": 15,
    "start_time": "2023-04-19T14:09:23.670Z"
   },
   {
    "duration": 20,
    "start_time": "2023-04-19T14:09:23.687Z"
   },
   {
    "duration": 6,
    "start_time": "2023-04-19T14:09:23.710Z"
   },
   {
    "duration": 19,
    "start_time": "2023-04-19T14:09:23.717Z"
   },
   {
    "duration": 9,
    "start_time": "2023-04-19T14:09:23.757Z"
   },
   {
    "duration": 18,
    "start_time": "2023-04-19T14:09:23.768Z"
   },
   {
    "duration": 11,
    "start_time": "2023-04-19T14:09:23.787Z"
   },
   {
    "duration": 17,
    "start_time": "2023-04-19T14:09:23.799Z"
   },
   {
    "duration": 912,
    "start_time": "2023-04-19T14:09:23.820Z"
   },
   {
    "duration": 1124,
    "start_time": "2023-04-19T14:09:24.734Z"
   },
   {
    "duration": 1424,
    "start_time": "2023-04-19T14:09:25.862Z"
   },
   {
    "duration": 452,
    "start_time": "2023-04-19T14:09:27.288Z"
   },
   {
    "duration": 606,
    "start_time": "2023-04-19T14:09:27.742Z"
   },
   {
    "duration": 23,
    "start_time": "2023-04-19T14:09:28.350Z"
   },
   {
    "duration": 552,
    "start_time": "2023-04-19T14:09:28.376Z"
   },
   {
    "duration": 9,
    "start_time": "2023-04-19T14:09:28.930Z"
   },
   {
    "duration": 551,
    "start_time": "2023-04-19T14:09:28.942Z"
   },
   {
    "duration": 12,
    "start_time": "2023-04-19T14:09:29.495Z"
   },
   {
    "duration": 988,
    "start_time": "2023-04-19T14:09:29.509Z"
   },
   {
    "duration": 3,
    "start_time": "2023-04-19T14:09:30.499Z"
   },
   {
    "duration": 37,
    "start_time": "2023-04-19T14:09:30.504Z"
   },
   {
    "duration": 46,
    "start_time": "2023-04-19T14:09:30.543Z"
   },
   {
    "duration": 10,
    "start_time": "2023-04-19T14:09:30.591Z"
   },
   {
    "duration": 43,
    "start_time": "2023-04-19T14:09:30.603Z"
   },
   {
    "duration": 887,
    "start_time": "2023-04-19T14:09:30.649Z"
   },
   {
    "duration": 19,
    "start_time": "2023-04-19T14:09:31.538Z"
   },
   {
    "duration": 441,
    "start_time": "2023-04-19T14:09:31.563Z"
   },
   {
    "duration": 55,
    "start_time": "2023-04-19T14:09:32.006Z"
   },
   {
    "duration": 258,
    "start_time": "2023-04-19T14:09:32.063Z"
   },
   {
    "duration": 4,
    "start_time": "2023-04-19T14:09:32.323Z"
   },
   {
    "duration": 5,
    "start_time": "2023-04-19T14:09:32.329Z"
   },
   {
    "duration": 16,
    "start_time": "2023-04-19T14:09:32.336Z"
   },
   {
    "duration": 29,
    "start_time": "2023-04-19T14:09:32.354Z"
   },
   {
    "duration": 7,
    "start_time": "2023-04-19T14:09:32.390Z"
   },
   {
    "duration": 12,
    "start_time": "2023-04-19T14:09:32.399Z"
   },
   {
    "duration": 3350,
    "start_time": "2023-04-19T14:09:32.413Z"
   },
   {
    "duration": 8667,
    "start_time": "2023-04-19T14:09:35.769Z"
   },
   {
    "duration": 460,
    "start_time": "2023-04-19T14:09:44.437Z"
   },
   {
    "duration": 31,
    "start_time": "2023-04-19T14:09:44.899Z"
   },
   {
    "duration": 816,
    "start_time": "2023-04-19T14:10:16.717Z"
   },
   {
    "duration": 741,
    "start_time": "2023-04-19T14:10:32.774Z"
   },
   {
    "duration": 4,
    "start_time": "2023-04-19T14:11:25.670Z"
   },
   {
    "duration": 2365,
    "start_time": "2023-04-19T14:11:32.622Z"
   },
   {
    "duration": 2139,
    "start_time": "2023-04-19T14:11:34.989Z"
   },
   {
    "duration": 756,
    "start_time": "2023-04-19T14:11:37.130Z"
   },
   {
    "duration": 3,
    "start_time": "2023-04-19T14:11:37.888Z"
   },
   {
    "duration": 31,
    "start_time": "2023-04-19T14:11:37.892Z"
   },
   {
    "duration": 14,
    "start_time": "2023-04-19T14:11:37.925Z"
   },
   {
    "duration": 28,
    "start_time": "2023-04-19T14:11:37.941Z"
   },
   {
    "duration": 19,
    "start_time": "2023-04-19T14:11:37.972Z"
   },
   {
    "duration": 663,
    "start_time": "2023-04-19T14:11:37.993Z"
   },
   {
    "duration": 376,
    "start_time": "2023-04-19T14:11:38.661Z"
   },
   {
    "duration": 733,
    "start_time": "2023-04-19T14:11:39.039Z"
   },
   {
    "duration": 3,
    "start_time": "2023-04-19T14:11:39.773Z"
   },
   {
    "duration": 14,
    "start_time": "2023-04-19T14:11:39.778Z"
   },
   {
    "duration": 13,
    "start_time": "2023-04-19T14:11:39.793Z"
   },
   {
    "duration": 10,
    "start_time": "2023-04-19T14:11:39.808Z"
   },
   {
    "duration": 36,
    "start_time": "2023-04-19T14:11:39.820Z"
   },
   {
    "duration": 12,
    "start_time": "2023-04-19T14:11:39.860Z"
   },
   {
    "duration": 20,
    "start_time": "2023-04-19T14:11:39.873Z"
   },
   {
    "duration": 9,
    "start_time": "2023-04-19T14:11:39.895Z"
   },
   {
    "duration": 10,
    "start_time": "2023-04-19T14:11:39.906Z"
   },
   {
    "duration": 19,
    "start_time": "2023-04-19T14:11:39.917Z"
   },
   {
    "duration": 5,
    "start_time": "2023-04-19T14:11:39.938Z"
   },
   {
    "duration": 14,
    "start_time": "2023-04-19T14:11:39.955Z"
   },
   {
    "duration": 14,
    "start_time": "2023-04-19T14:11:39.971Z"
   },
   {
    "duration": 15,
    "start_time": "2023-04-19T14:11:39.986Z"
   },
   {
    "duration": 4,
    "start_time": "2023-04-19T14:11:40.004Z"
   },
   {
    "duration": 19,
    "start_time": "2023-04-19T14:11:40.010Z"
   },
   {
    "duration": 888,
    "start_time": "2023-04-19T14:11:40.032Z"
   },
   {
    "duration": 1171,
    "start_time": "2023-04-19T14:11:40.921Z"
   },
   {
    "duration": 1485,
    "start_time": "2023-04-19T14:11:42.094Z"
   },
   {
    "duration": 552,
    "start_time": "2023-04-19T14:11:43.581Z"
   },
   {
    "duration": 544,
    "start_time": "2023-04-19T14:11:44.134Z"
   },
   {
    "duration": 8,
    "start_time": "2023-04-19T14:11:44.680Z"
   },
   {
    "duration": 663,
    "start_time": "2023-04-19T14:11:44.690Z"
   },
   {
    "duration": 10,
    "start_time": "2023-04-19T14:11:45.356Z"
   },
   {
    "duration": 585,
    "start_time": "2023-04-19T14:11:45.368Z"
   },
   {
    "duration": 9,
    "start_time": "2023-04-19T14:11:45.956Z"
   },
   {
    "duration": 1027,
    "start_time": "2023-04-19T14:11:45.967Z"
   },
   {
    "duration": 3,
    "start_time": "2023-04-19T14:11:46.996Z"
   },
   {
    "duration": 8,
    "start_time": "2023-04-19T14:11:47.001Z"
   },
   {
    "duration": 21,
    "start_time": "2023-04-19T14:11:47.011Z"
   },
   {
    "duration": 6,
    "start_time": "2023-04-19T14:11:47.033Z"
   },
   {
    "duration": 20,
    "start_time": "2023-04-19T14:11:47.041Z"
   },
   {
    "duration": 894,
    "start_time": "2023-04-19T14:11:47.064Z"
   },
   {
    "duration": 9,
    "start_time": "2023-04-19T14:11:47.961Z"
   },
   {
    "duration": 465,
    "start_time": "2023-04-19T14:11:47.972Z"
   },
   {
    "duration": 50,
    "start_time": "2023-04-19T14:11:48.438Z"
   },
   {
    "duration": 33,
    "start_time": "2023-04-19T14:11:48.490Z"
   },
   {
    "duration": 3,
    "start_time": "2023-04-19T14:11:48.526Z"
   },
   {
    "duration": 31,
    "start_time": "2023-04-19T14:11:48.531Z"
   },
   {
    "duration": 9,
    "start_time": "2023-04-19T14:11:48.569Z"
   },
   {
    "duration": 18,
    "start_time": "2023-04-19T14:11:48.580Z"
   },
   {
    "duration": 20,
    "start_time": "2023-04-19T14:11:48.600Z"
   },
   {
    "duration": 17,
    "start_time": "2023-04-19T14:11:48.622Z"
   },
   {
    "duration": 3139,
    "start_time": "2023-04-19T14:11:48.641Z"
   },
   {
    "duration": 8841,
    "start_time": "2023-04-19T14:11:51.783Z"
   },
   {
    "duration": 531,
    "start_time": "2023-04-19T14:12:00.626Z"
   },
   {
    "duration": 22,
    "start_time": "2023-04-19T14:12:01.160Z"
   },
   {
    "duration": 5,
    "start_time": "2023-04-19T14:13:17.008Z"
   },
   {
    "duration": 2567,
    "start_time": "2023-04-19T14:13:23.236Z"
   },
   {
    "duration": 2245,
    "start_time": "2023-04-19T14:13:25.806Z"
   },
   {
    "duration": 779,
    "start_time": "2023-04-19T14:13:28.052Z"
   },
   {
    "duration": 3,
    "start_time": "2023-04-19T14:13:28.833Z"
   },
   {
    "duration": 8,
    "start_time": "2023-04-19T14:13:28.838Z"
   },
   {
    "duration": 10,
    "start_time": "2023-04-19T14:13:28.847Z"
   },
   {
    "duration": 6,
    "start_time": "2023-04-19T14:13:28.858Z"
   },
   {
    "duration": 5,
    "start_time": "2023-04-19T14:13:28.866Z"
   },
   {
    "duration": 720,
    "start_time": "2023-04-19T14:13:28.873Z"
   },
   {
    "duration": 394,
    "start_time": "2023-04-19T14:13:29.595Z"
   },
   {
    "duration": 805,
    "start_time": "2023-04-19T14:13:29.991Z"
   },
   {
    "duration": 4,
    "start_time": "2023-04-19T14:13:30.798Z"
   },
   {
    "duration": 55,
    "start_time": "2023-04-19T14:13:30.804Z"
   },
   {
    "duration": 34,
    "start_time": "2023-04-19T14:13:30.860Z"
   },
   {
    "duration": 39,
    "start_time": "2023-04-19T14:13:30.896Z"
   },
   {
    "duration": 67,
    "start_time": "2023-04-19T14:13:30.937Z"
   },
   {
    "duration": 37,
    "start_time": "2023-04-19T14:13:31.007Z"
   },
   {
    "duration": 46,
    "start_time": "2023-04-19T14:13:31.045Z"
   },
   {
    "duration": 25,
    "start_time": "2023-04-19T14:13:31.093Z"
   },
   {
    "duration": 48,
    "start_time": "2023-04-19T14:13:31.120Z"
   },
   {
    "duration": 64,
    "start_time": "2023-04-19T14:13:31.172Z"
   },
   {
    "duration": 25,
    "start_time": "2023-04-19T14:13:31.238Z"
   },
   {
    "duration": 218,
    "start_time": "2023-04-19T14:13:31.265Z"
   },
   {
    "duration": 116,
    "start_time": "2023-04-19T14:13:31.484Z"
   },
   {
    "duration": 76,
    "start_time": "2023-04-19T14:13:31.602Z"
   },
   {
    "duration": 51,
    "start_time": "2023-04-19T14:13:31.680Z"
   },
   {
    "duration": 50,
    "start_time": "2023-04-19T14:13:31.733Z"
   },
   {
    "duration": 945,
    "start_time": "2023-04-19T14:13:31.787Z"
   },
   {
    "duration": 1027,
    "start_time": "2023-04-19T14:13:32.734Z"
   },
   {
    "duration": 1560,
    "start_time": "2023-04-19T14:13:33.762Z"
   },
   {
    "duration": 464,
    "start_time": "2023-04-19T14:13:35.324Z"
   },
   {
    "duration": 427,
    "start_time": "2023-04-19T14:13:35.789Z"
   },
   {
    "duration": 8,
    "start_time": "2023-04-19T14:13:36.218Z"
   },
   {
    "duration": 492,
    "start_time": "2023-04-19T14:13:36.228Z"
   },
   {
    "duration": 7,
    "start_time": "2023-04-19T14:13:36.722Z"
   },
   {
    "duration": 502,
    "start_time": "2023-04-19T14:13:36.731Z"
   },
   {
    "duration": 8,
    "start_time": "2023-04-19T14:13:37.234Z"
   },
   {
    "duration": 921,
    "start_time": "2023-04-19T14:13:37.243Z"
   },
   {
    "duration": 4,
    "start_time": "2023-04-19T14:13:38.166Z"
   },
   {
    "duration": 24,
    "start_time": "2023-04-19T14:13:38.172Z"
   },
   {
    "duration": 15,
    "start_time": "2023-04-19T14:13:38.198Z"
   },
   {
    "duration": 4,
    "start_time": "2023-04-19T14:13:38.215Z"
   },
   {
    "duration": 13,
    "start_time": "2023-04-19T14:13:38.220Z"
   },
   {
    "duration": 776,
    "start_time": "2023-04-19T14:13:38.235Z"
   },
   {
    "duration": 7,
    "start_time": "2023-04-19T14:13:39.013Z"
   },
   {
    "duration": 489,
    "start_time": "2023-04-19T14:13:39.022Z"
   },
   {
    "duration": 58,
    "start_time": "2023-04-19T14:13:39.513Z"
   },
   {
    "duration": 30,
    "start_time": "2023-04-19T14:13:39.573Z"
   },
   {
    "duration": 3,
    "start_time": "2023-04-19T14:13:39.605Z"
   },
   {
    "duration": 7,
    "start_time": "2023-04-19T14:13:39.609Z"
   },
   {
    "duration": 11,
    "start_time": "2023-04-19T14:13:39.618Z"
   },
   {
    "duration": 9,
    "start_time": "2023-04-19T14:13:39.631Z"
   },
   {
    "duration": 16,
    "start_time": "2023-04-19T14:13:39.642Z"
   },
   {
    "duration": 9,
    "start_time": "2023-04-19T14:13:39.660Z"
   },
   {
    "duration": 2990,
    "start_time": "2023-04-19T14:13:39.671Z"
   },
   {
    "duration": 8964,
    "start_time": "2023-04-19T14:13:42.664Z"
   },
   {
    "duration": 470,
    "start_time": "2023-04-19T14:13:51.630Z"
   },
   {
    "duration": 19,
    "start_time": "2023-04-19T14:13:52.102Z"
   },
   {
    "duration": 5,
    "start_time": "2023-04-19T14:15:52.668Z"
   },
   {
    "duration": 2486,
    "start_time": "2023-04-19T14:15:59.277Z"
   },
   {
    "duration": 2266,
    "start_time": "2023-04-19T14:16:01.772Z"
   },
   {
    "duration": 775,
    "start_time": "2023-04-19T14:16:04.040Z"
   },
   {
    "duration": 3,
    "start_time": "2023-04-19T14:16:04.817Z"
   },
   {
    "duration": 5,
    "start_time": "2023-04-19T14:16:04.822Z"
   },
   {
    "duration": 8,
    "start_time": "2023-04-19T14:16:04.828Z"
   },
   {
    "duration": 10,
    "start_time": "2023-04-19T14:16:04.838Z"
   },
   {
    "duration": 10,
    "start_time": "2023-04-19T14:16:04.857Z"
   },
   {
    "duration": 711,
    "start_time": "2023-04-19T14:16:04.871Z"
   },
   {
    "duration": 353,
    "start_time": "2023-04-19T14:16:05.584Z"
   },
   {
    "duration": 708,
    "start_time": "2023-04-19T14:16:05.939Z"
   },
   {
    "duration": 9,
    "start_time": "2023-04-19T14:16:06.649Z"
   },
   {
    "duration": 22,
    "start_time": "2023-04-19T14:16:06.659Z"
   },
   {
    "duration": 15,
    "start_time": "2023-04-19T14:16:06.685Z"
   },
   {
    "duration": 5,
    "start_time": "2023-04-19T14:16:06.702Z"
   },
   {
    "duration": 8,
    "start_time": "2023-04-19T14:16:06.708Z"
   },
   {
    "duration": 7,
    "start_time": "2023-04-19T14:16:06.718Z"
   },
   {
    "duration": 25,
    "start_time": "2023-04-19T14:16:06.727Z"
   },
   {
    "duration": 35,
    "start_time": "2023-04-19T14:16:06.754Z"
   },
   {
    "duration": 32,
    "start_time": "2023-04-19T14:16:06.794Z"
   },
   {
    "duration": 44,
    "start_time": "2023-04-19T14:16:06.828Z"
   },
   {
    "duration": 7,
    "start_time": "2023-04-19T14:16:06.881Z"
   },
   {
    "duration": 16,
    "start_time": "2023-04-19T14:16:06.890Z"
   },
   {
    "duration": 6,
    "start_time": "2023-04-19T14:16:06.908Z"
   },
   {
    "duration": 13,
    "start_time": "2023-04-19T14:16:06.916Z"
   },
   {
    "duration": 8,
    "start_time": "2023-04-19T14:16:06.930Z"
   },
   {
    "duration": 40,
    "start_time": "2023-04-19T14:16:06.939Z"
   },
   {
    "duration": 984,
    "start_time": "2023-04-19T14:16:06.986Z"
   },
   {
    "duration": 1275,
    "start_time": "2023-04-19T14:16:07.974Z"
   },
   {
    "duration": 1597,
    "start_time": "2023-04-19T14:16:09.251Z"
   },
   {
    "duration": 434,
    "start_time": "2023-04-19T14:16:10.850Z"
   },
   {
    "duration": 511,
    "start_time": "2023-04-19T14:16:11.286Z"
   },
   {
    "duration": 9,
    "start_time": "2023-04-19T14:16:11.799Z"
   },
   {
    "duration": 624,
    "start_time": "2023-04-19T14:16:11.809Z"
   },
   {
    "duration": 9,
    "start_time": "2023-04-19T14:16:12.435Z"
   },
   {
    "duration": 593,
    "start_time": "2023-04-19T14:16:12.445Z"
   },
   {
    "duration": 30,
    "start_time": "2023-04-19T14:16:13.041Z"
   },
   {
    "duration": 1056,
    "start_time": "2023-04-19T14:16:13.076Z"
   },
   {
    "duration": 4,
    "start_time": "2023-04-19T14:16:14.134Z"
   },
   {
    "duration": 24,
    "start_time": "2023-04-19T14:16:14.140Z"
   },
   {
    "duration": 16,
    "start_time": "2023-04-19T14:16:14.169Z"
   },
   {
    "duration": 5,
    "start_time": "2023-04-19T14:16:14.188Z"
   },
   {
    "duration": 6,
    "start_time": "2023-04-19T14:16:14.196Z"
   },
   {
    "duration": 945,
    "start_time": "2023-04-19T14:16:14.205Z"
   },
   {
    "duration": 14,
    "start_time": "2023-04-19T14:16:15.152Z"
   },
   {
    "duration": 546,
    "start_time": "2023-04-19T14:16:15.170Z"
   },
   {
    "duration": 56,
    "start_time": "2023-04-19T14:16:15.718Z"
   },
   {
    "duration": 33,
    "start_time": "2023-04-19T14:16:15.776Z"
   },
   {
    "duration": 4,
    "start_time": "2023-04-19T14:16:15.811Z"
   },
   {
    "duration": 5,
    "start_time": "2023-04-19T14:16:15.816Z"
   },
   {
    "duration": 8,
    "start_time": "2023-04-19T14:16:15.823Z"
   },
   {
    "duration": 32,
    "start_time": "2023-04-19T14:16:15.833Z"
   },
   {
    "duration": 12,
    "start_time": "2023-04-19T14:16:15.870Z"
   },
   {
    "duration": 12,
    "start_time": "2023-04-19T14:16:15.884Z"
   },
   {
    "duration": 2780,
    "start_time": "2023-04-19T14:16:15.898Z"
   },
   {
    "duration": 8341,
    "start_time": "2023-04-19T14:16:18.681Z"
   },
   {
    "duration": 425,
    "start_time": "2023-04-19T14:16:27.025Z"
   },
   {
    "duration": 28,
    "start_time": "2023-04-19T14:16:27.452Z"
   },
   {
    "duration": 5,
    "start_time": "2023-04-19T14:17:44.338Z"
   },
   {
    "duration": 2502,
    "start_time": "2023-04-19T14:17:50.186Z"
   },
   {
    "duration": 2256,
    "start_time": "2023-04-19T14:17:52.691Z"
   },
   {
    "duration": 849,
    "start_time": "2023-04-19T14:17:54.949Z"
   },
   {
    "duration": 3,
    "start_time": "2023-04-19T14:17:55.801Z"
   },
   {
    "duration": 13,
    "start_time": "2023-04-19T14:17:55.806Z"
   },
   {
    "duration": 6,
    "start_time": "2023-04-19T14:17:55.820Z"
   },
   {
    "duration": 6,
    "start_time": "2023-04-19T14:17:55.828Z"
   },
   {
    "duration": 7,
    "start_time": "2023-04-19T14:17:55.835Z"
   },
   {
    "duration": 740,
    "start_time": "2023-04-19T14:17:55.843Z"
   },
   {
    "duration": 396,
    "start_time": "2023-04-19T14:17:56.588Z"
   },
   {
    "duration": 860,
    "start_time": "2023-04-19T14:17:56.986Z"
   },
   {
    "duration": 3,
    "start_time": "2023-04-19T14:17:57.848Z"
   },
   {
    "duration": 29,
    "start_time": "2023-04-19T14:17:57.853Z"
   },
   {
    "duration": 9,
    "start_time": "2023-04-19T14:17:57.887Z"
   },
   {
    "duration": 8,
    "start_time": "2023-04-19T14:17:57.898Z"
   },
   {
    "duration": 6,
    "start_time": "2023-04-19T14:17:57.909Z"
   },
   {
    "duration": 7,
    "start_time": "2023-04-19T14:17:57.917Z"
   },
   {
    "duration": 10,
    "start_time": "2023-04-19T14:17:57.926Z"
   },
   {
    "duration": 37,
    "start_time": "2023-04-19T14:17:57.938Z"
   },
   {
    "duration": 20,
    "start_time": "2023-04-19T14:17:57.978Z"
   },
   {
    "duration": 25,
    "start_time": "2023-04-19T14:17:58.001Z"
   },
   {
    "duration": 6,
    "start_time": "2023-04-19T14:17:58.028Z"
   },
   {
    "duration": 33,
    "start_time": "2023-04-19T14:17:58.036Z"
   },
   {
    "duration": 5,
    "start_time": "2023-04-19T14:17:58.071Z"
   },
   {
    "duration": 18,
    "start_time": "2023-04-19T14:17:58.078Z"
   },
   {
    "duration": 6,
    "start_time": "2023-04-19T14:17:58.098Z"
   },
   {
    "duration": 16,
    "start_time": "2023-04-19T14:17:58.106Z"
   },
   {
    "duration": 883,
    "start_time": "2023-04-19T14:17:58.124Z"
   },
   {
    "duration": 1082,
    "start_time": "2023-04-19T14:17:59.008Z"
   },
   {
    "duration": 1669,
    "start_time": "2023-04-19T14:18:00.092Z"
   },
   {
    "duration": 523,
    "start_time": "2023-04-19T14:18:01.765Z"
   },
   {
    "duration": 512,
    "start_time": "2023-04-19T14:18:02.289Z"
   },
   {
    "duration": 9,
    "start_time": "2023-04-19T14:18:02.802Z"
   },
   {
    "duration": 587,
    "start_time": "2023-04-19T14:18:02.813Z"
   },
   {
    "duration": 9,
    "start_time": "2023-04-19T14:18:03.402Z"
   },
   {
    "duration": 583,
    "start_time": "2023-04-19T14:18:03.413Z"
   },
   {
    "duration": 8,
    "start_time": "2023-04-19T14:18:03.998Z"
   },
   {
    "duration": 1046,
    "start_time": "2023-04-19T14:18:04.008Z"
   },
   {
    "duration": 12,
    "start_time": "2023-04-19T14:18:05.058Z"
   },
   {
    "duration": 42,
    "start_time": "2023-04-19T14:18:05.073Z"
   },
   {
    "duration": 34,
    "start_time": "2023-04-19T14:18:05.121Z"
   },
   {
    "duration": 27,
    "start_time": "2023-04-19T14:18:05.158Z"
   },
   {
    "duration": 20,
    "start_time": "2023-04-19T14:18:05.188Z"
   },
   {
    "duration": 802,
    "start_time": "2023-04-19T14:18:05.210Z"
   },
   {
    "duration": 8,
    "start_time": "2023-04-19T14:18:06.013Z"
   },
   {
    "duration": 489,
    "start_time": "2023-04-19T14:18:06.022Z"
   },
   {
    "duration": 54,
    "start_time": "2023-04-19T14:18:06.513Z"
   },
   {
    "duration": 39,
    "start_time": "2023-04-19T14:18:06.569Z"
   },
   {
    "duration": 4,
    "start_time": "2023-04-19T14:18:06.609Z"
   },
   {
    "duration": 27,
    "start_time": "2023-04-19T14:18:06.614Z"
   },
   {
    "duration": 60,
    "start_time": "2023-04-19T14:18:06.642Z"
   },
   {
    "duration": 30,
    "start_time": "2023-04-19T14:18:06.704Z"
   },
   {
    "duration": 40,
    "start_time": "2023-04-19T14:18:06.736Z"
   },
   {
    "duration": 25,
    "start_time": "2023-04-19T14:18:06.778Z"
   },
   {
    "duration": 3188,
    "start_time": "2023-04-19T14:18:06.805Z"
   },
   {
    "duration": 8971,
    "start_time": "2023-04-19T14:18:09.996Z"
   },
   {
    "duration": 518,
    "start_time": "2023-04-19T14:18:18.969Z"
   },
   {
    "duration": 20,
    "start_time": "2023-04-19T14:18:19.491Z"
   },
   {
    "duration": 198,
    "start_time": "2023-04-19T14:21:01.622Z"
   },
   {
    "duration": 2473,
    "start_time": "2023-04-19T14:21:36.577Z"
   },
   {
    "duration": 2252,
    "start_time": "2023-04-19T14:21:39.052Z"
   },
   {
    "duration": 763,
    "start_time": "2023-04-19T14:21:41.305Z"
   },
   {
    "duration": 3,
    "start_time": "2023-04-19T14:21:42.072Z"
   },
   {
    "duration": 5,
    "start_time": "2023-04-19T14:21:42.077Z"
   },
   {
    "duration": 3,
    "start_time": "2023-04-19T14:21:42.084Z"
   },
   {
    "duration": 8,
    "start_time": "2023-04-19T14:21:42.090Z"
   },
   {
    "duration": 17,
    "start_time": "2023-04-19T14:21:42.100Z"
   },
   {
    "duration": 795,
    "start_time": "2023-04-19T14:21:42.119Z"
   },
   {
    "duration": 416,
    "start_time": "2023-04-19T14:21:42.918Z"
   },
   {
    "duration": 867,
    "start_time": "2023-04-19T14:21:43.336Z"
   },
   {
    "duration": 4,
    "start_time": "2023-04-19T14:21:44.204Z"
   },
   {
    "duration": 23,
    "start_time": "2023-04-19T14:21:44.209Z"
   },
   {
    "duration": 5,
    "start_time": "2023-04-19T14:21:44.234Z"
   },
   {
    "duration": 21,
    "start_time": "2023-04-19T14:21:44.242Z"
   },
   {
    "duration": 5,
    "start_time": "2023-04-19T14:21:44.274Z"
   },
   {
    "duration": 4,
    "start_time": "2023-04-19T14:21:44.281Z"
   },
   {
    "duration": 7,
    "start_time": "2023-04-19T14:21:44.287Z"
   },
   {
    "duration": 11,
    "start_time": "2023-04-19T14:21:44.296Z"
   },
   {
    "duration": 10,
    "start_time": "2023-04-19T14:21:44.309Z"
   },
   {
    "duration": 53,
    "start_time": "2023-04-19T14:21:44.321Z"
   },
   {
    "duration": 4,
    "start_time": "2023-04-19T14:21:44.377Z"
   },
   {
    "duration": 15,
    "start_time": "2023-04-19T14:21:44.383Z"
   },
   {
    "duration": 5,
    "start_time": "2023-04-19T14:21:44.400Z"
   },
   {
    "duration": 18,
    "start_time": "2023-04-19T14:21:44.407Z"
   },
   {
    "duration": 6,
    "start_time": "2023-04-19T14:21:44.427Z"
   },
   {
    "duration": 13,
    "start_time": "2023-04-19T14:21:44.456Z"
   },
   {
    "duration": 1154,
    "start_time": "2023-04-19T14:21:44.475Z"
   },
   {
    "duration": 1329,
    "start_time": "2023-04-19T14:21:45.631Z"
   },
   {
    "duration": 1711,
    "start_time": "2023-04-19T14:21:46.968Z"
   },
   {
    "duration": 536,
    "start_time": "2023-04-19T14:21:48.681Z"
   },
   {
    "duration": 463,
    "start_time": "2023-04-19T14:21:49.220Z"
   },
   {
    "duration": 9,
    "start_time": "2023-04-19T14:21:49.685Z"
   },
   {
    "duration": 670,
    "start_time": "2023-04-19T14:21:49.697Z"
   },
   {
    "duration": 19,
    "start_time": "2023-04-19T14:21:50.369Z"
   },
   {
    "duration": 742,
    "start_time": "2023-04-19T14:21:50.390Z"
   },
   {
    "duration": 9,
    "start_time": "2023-04-19T14:21:51.134Z"
   },
   {
    "duration": 1060,
    "start_time": "2023-04-19T14:21:51.155Z"
   },
   {
    "duration": 4,
    "start_time": "2023-04-19T14:21:52.218Z"
   },
   {
    "duration": 22,
    "start_time": "2023-04-19T14:21:52.224Z"
   },
   {
    "duration": 35,
    "start_time": "2023-04-19T14:21:52.249Z"
   },
   {
    "duration": 5,
    "start_time": "2023-04-19T14:21:52.287Z"
   },
   {
    "duration": 12,
    "start_time": "2023-04-19T14:21:52.294Z"
   },
   {
    "duration": 991,
    "start_time": "2023-04-19T14:21:52.308Z"
   },
   {
    "duration": 10,
    "start_time": "2023-04-19T14:21:53.300Z"
   },
   {
    "duration": 603,
    "start_time": "2023-04-19T14:21:53.311Z"
   },
   {
    "duration": 65,
    "start_time": "2023-04-19T14:21:53.916Z"
   },
   {
    "duration": 34,
    "start_time": "2023-04-19T14:21:53.983Z"
   },
   {
    "duration": 4,
    "start_time": "2023-04-19T14:21:54.019Z"
   },
   {
    "duration": 19,
    "start_time": "2023-04-19T14:21:54.025Z"
   },
   {
    "duration": 24,
    "start_time": "2023-04-19T14:21:54.046Z"
   },
   {
    "duration": 15,
    "start_time": "2023-04-19T14:21:54.072Z"
   },
   {
    "duration": 16,
    "start_time": "2023-04-19T14:21:54.088Z"
   },
   {
    "duration": 16,
    "start_time": "2023-04-19T14:21:54.106Z"
   },
   {
    "duration": 3241,
    "start_time": "2023-04-19T14:21:54.124Z"
   },
   {
    "duration": 8823,
    "start_time": "2023-04-19T14:21:57.369Z"
   },
   {
    "duration": 449,
    "start_time": "2023-04-19T14:22:06.194Z"
   },
   {
    "duration": 27,
    "start_time": "2023-04-19T14:22:06.645Z"
   },
   {
    "duration": 5,
    "start_time": "2023-04-19T14:26:57.174Z"
   },
   {
    "duration": 6,
    "start_time": "2023-04-19T14:27:28.578Z"
   },
   {
    "duration": 2408,
    "start_time": "2023-04-19T14:27:39.086Z"
   },
   {
    "duration": 2087,
    "start_time": "2023-04-19T14:27:41.497Z"
   },
   {
    "duration": 778,
    "start_time": "2023-04-19T14:27:43.586Z"
   },
   {
    "duration": 4,
    "start_time": "2023-04-19T14:27:44.366Z"
   },
   {
    "duration": 19,
    "start_time": "2023-04-19T14:27:44.373Z"
   },
   {
    "duration": 28,
    "start_time": "2023-04-19T14:27:44.394Z"
   },
   {
    "duration": 10,
    "start_time": "2023-04-19T14:27:44.423Z"
   },
   {
    "duration": 5,
    "start_time": "2023-04-19T14:27:44.434Z"
   },
   {
    "duration": 683,
    "start_time": "2023-04-19T14:27:44.441Z"
   },
   {
    "duration": 419,
    "start_time": "2023-04-19T14:27:45.126Z"
   },
   {
    "duration": 830,
    "start_time": "2023-04-19T14:27:45.548Z"
   },
   {
    "duration": 4,
    "start_time": "2023-04-19T14:27:46.388Z"
   },
   {
    "duration": 29,
    "start_time": "2023-04-19T14:27:46.395Z"
   },
   {
    "duration": 12,
    "start_time": "2023-04-19T14:27:46.427Z"
   },
   {
    "duration": 7,
    "start_time": "2023-04-19T14:27:46.440Z"
   },
   {
    "duration": 23,
    "start_time": "2023-04-19T14:27:46.449Z"
   },
   {
    "duration": 5,
    "start_time": "2023-04-19T14:27:46.474Z"
   },
   {
    "duration": 16,
    "start_time": "2023-04-19T14:27:46.481Z"
   },
   {
    "duration": 18,
    "start_time": "2023-04-19T14:27:46.499Z"
   },
   {
    "duration": 23,
    "start_time": "2023-04-19T14:27:46.519Z"
   },
   {
    "duration": 27,
    "start_time": "2023-04-19T14:27:46.544Z"
   },
   {
    "duration": 6,
    "start_time": "2023-04-19T14:27:46.574Z"
   },
   {
    "duration": 16,
    "start_time": "2023-04-19T14:27:46.582Z"
   },
   {
    "duration": 5,
    "start_time": "2023-04-19T14:27:46.600Z"
   },
   {
    "duration": 15,
    "start_time": "2023-04-19T14:27:46.607Z"
   },
   {
    "duration": 20,
    "start_time": "2023-04-19T14:27:46.624Z"
   },
   {
    "duration": 25,
    "start_time": "2023-04-19T14:27:46.646Z"
   },
   {
    "duration": 977,
    "start_time": "2023-04-19T14:27:46.674Z"
   },
   {
    "duration": 1273,
    "start_time": "2023-04-19T14:27:47.655Z"
   },
   {
    "duration": 1422,
    "start_time": "2023-04-19T14:27:48.930Z"
   },
   {
    "duration": 594,
    "start_time": "2023-04-19T14:27:50.357Z"
   },
   {
    "duration": 490,
    "start_time": "2023-04-19T14:27:50.952Z"
   },
   {
    "duration": 14,
    "start_time": "2023-04-19T14:27:51.444Z"
   },
   {
    "duration": 534,
    "start_time": "2023-04-19T14:27:51.461Z"
   },
   {
    "duration": 8,
    "start_time": "2023-04-19T14:27:51.997Z"
   },
   {
    "duration": 563,
    "start_time": "2023-04-19T14:27:52.007Z"
   },
   {
    "duration": 9,
    "start_time": "2023-04-19T14:27:52.571Z"
   },
   {
    "duration": 953,
    "start_time": "2023-04-19T14:27:52.582Z"
   },
   {
    "duration": 3,
    "start_time": "2023-04-19T14:27:53.536Z"
   },
   {
    "duration": 11,
    "start_time": "2023-04-19T14:27:53.540Z"
   },
   {
    "duration": 12,
    "start_time": "2023-04-19T14:27:53.560Z"
   },
   {
    "duration": 9,
    "start_time": "2023-04-19T14:27:53.574Z"
   },
   {
    "duration": 7,
    "start_time": "2023-04-19T14:27:53.585Z"
   },
   {
    "duration": 944,
    "start_time": "2023-04-19T14:27:53.594Z"
   },
   {
    "duration": 24,
    "start_time": "2023-04-19T14:27:54.540Z"
   },
   {
    "duration": 520,
    "start_time": "2023-04-19T14:27:54.567Z"
   },
   {
    "duration": 36,
    "start_time": "2023-04-19T14:27:55.089Z"
   },
   {
    "duration": 49,
    "start_time": "2023-04-19T14:27:55.126Z"
   },
   {
    "duration": 4,
    "start_time": "2023-04-19T14:27:55.176Z"
   },
   {
    "duration": 6,
    "start_time": "2023-04-19T14:27:55.181Z"
   },
   {
    "duration": 9,
    "start_time": "2023-04-19T14:27:55.188Z"
   },
   {
    "duration": 8,
    "start_time": "2023-04-19T14:27:55.199Z"
   },
   {
    "duration": 17,
    "start_time": "2023-04-19T14:27:55.209Z"
   },
   {
    "duration": 9,
    "start_time": "2023-04-19T14:27:55.228Z"
   },
   {
    "duration": 2819,
    "start_time": "2023-04-19T14:27:55.239Z"
   },
   {
    "duration": 8806,
    "start_time": "2023-04-19T14:27:58.060Z"
   },
   {
    "duration": 429,
    "start_time": "2023-04-19T14:28:06.870Z"
   },
   {
    "duration": 18,
    "start_time": "2023-04-19T14:28:07.301Z"
   },
   {
    "duration": 4,
    "start_time": "2023-04-19T14:28:58.998Z"
   },
   {
    "duration": 2432,
    "start_time": "2023-04-19T14:29:04.475Z"
   },
   {
    "duration": 2011,
    "start_time": "2023-04-19T14:29:06.909Z"
   },
   {
    "duration": 760,
    "start_time": "2023-04-19T14:29:08.922Z"
   },
   {
    "duration": 3,
    "start_time": "2023-04-19T14:29:09.684Z"
   },
   {
    "duration": 30,
    "start_time": "2023-04-19T14:29:09.690Z"
   },
   {
    "duration": 24,
    "start_time": "2023-04-19T14:29:09.722Z"
   },
   {
    "duration": 21,
    "start_time": "2023-04-19T14:29:09.748Z"
   },
   {
    "duration": 10,
    "start_time": "2023-04-19T14:29:09.773Z"
   },
   {
    "duration": 707,
    "start_time": "2023-04-19T14:29:09.784Z"
   },
   {
    "duration": 394,
    "start_time": "2023-04-19T14:29:10.492Z"
   },
   {
    "duration": 724,
    "start_time": "2023-04-19T14:29:10.888Z"
   },
   {
    "duration": 3,
    "start_time": "2023-04-19T14:29:11.614Z"
   },
   {
    "duration": 11,
    "start_time": "2023-04-19T14:29:11.619Z"
   },
   {
    "duration": 5,
    "start_time": "2023-04-19T14:29:11.634Z"
   },
   {
    "duration": 14,
    "start_time": "2023-04-19T14:29:11.658Z"
   },
   {
    "duration": 13,
    "start_time": "2023-04-19T14:29:11.676Z"
   },
   {
    "duration": 18,
    "start_time": "2023-04-19T14:29:11.690Z"
   },
   {
    "duration": 30,
    "start_time": "2023-04-19T14:29:11.710Z"
   },
   {
    "duration": 11,
    "start_time": "2023-04-19T14:29:11.742Z"
   },
   {
    "duration": 19,
    "start_time": "2023-04-19T14:29:11.755Z"
   },
   {
    "duration": 21,
    "start_time": "2023-04-19T14:29:11.775Z"
   },
   {
    "duration": 14,
    "start_time": "2023-04-19T14:29:11.798Z"
   },
   {
    "duration": 40,
    "start_time": "2023-04-19T14:29:11.813Z"
   },
   {
    "duration": 12,
    "start_time": "2023-04-19T14:29:11.855Z"
   },
   {
    "duration": 22,
    "start_time": "2023-04-19T14:29:11.869Z"
   },
   {
    "duration": 30,
    "start_time": "2023-04-19T14:29:11.893Z"
   },
   {
    "duration": 29,
    "start_time": "2023-04-19T14:29:11.925Z"
   },
   {
    "duration": 916,
    "start_time": "2023-04-19T14:29:11.955Z"
   },
   {
    "duration": 1066,
    "start_time": "2023-04-19T14:29:12.873Z"
   },
   {
    "duration": 1356,
    "start_time": "2023-04-19T14:29:13.941Z"
   },
   {
    "duration": 593,
    "start_time": "2023-04-19T14:29:15.299Z"
   },
   {
    "duration": 481,
    "start_time": "2023-04-19T14:29:15.894Z"
   },
   {
    "duration": 10,
    "start_time": "2023-04-19T14:29:16.377Z"
   },
   {
    "duration": 499,
    "start_time": "2023-04-19T14:29:16.389Z"
   },
   {
    "duration": 10,
    "start_time": "2023-04-19T14:29:16.890Z"
   },
   {
    "duration": 582,
    "start_time": "2023-04-19T14:29:16.902Z"
   },
   {
    "duration": 9,
    "start_time": "2023-04-19T14:29:17.486Z"
   },
   {
    "duration": 943,
    "start_time": "2023-04-19T14:29:17.496Z"
   },
   {
    "duration": 3,
    "start_time": "2023-04-19T14:29:18.441Z"
   },
   {
    "duration": 15,
    "start_time": "2023-04-19T14:29:18.447Z"
   },
   {
    "duration": 17,
    "start_time": "2023-04-19T14:29:18.466Z"
   },
   {
    "duration": 3,
    "start_time": "2023-04-19T14:29:18.485Z"
   },
   {
    "duration": 6,
    "start_time": "2023-04-19T14:29:18.490Z"
   },
   {
    "duration": 823,
    "start_time": "2023-04-19T14:29:18.498Z"
   },
   {
    "duration": 10,
    "start_time": "2023-04-19T14:29:19.323Z"
   },
   {
    "duration": 453,
    "start_time": "2023-04-19T14:29:19.335Z"
   },
   {
    "duration": 43,
    "start_time": "2023-04-19T14:29:19.790Z"
   },
   {
    "duration": 48,
    "start_time": "2023-04-19T14:29:19.834Z"
   },
   {
    "duration": 2,
    "start_time": "2023-04-19T14:29:19.884Z"
   },
   {
    "duration": 11,
    "start_time": "2023-04-19T14:29:19.888Z"
   },
   {
    "duration": 18,
    "start_time": "2023-04-19T14:29:19.901Z"
   },
   {
    "duration": 24,
    "start_time": "2023-04-19T14:29:19.921Z"
   },
   {
    "duration": 22,
    "start_time": "2023-04-19T14:29:19.947Z"
   },
   {
    "duration": 10,
    "start_time": "2023-04-19T14:29:19.971Z"
   },
   {
    "duration": 2878,
    "start_time": "2023-04-19T14:29:19.983Z"
   },
   {
    "duration": 8122,
    "start_time": "2023-04-19T14:29:22.866Z"
   },
   {
    "duration": 430,
    "start_time": "2023-04-19T14:29:30.990Z"
   },
   {
    "duration": 22,
    "start_time": "2023-04-19T14:29:31.422Z"
   },
   {
    "duration": 209,
    "start_time": "2023-04-19T14:32:22.677Z"
   },
   {
    "duration": 203,
    "start_time": "2023-04-19T14:32:32.078Z"
   },
   {
    "duration": 193,
    "start_time": "2023-04-19T14:32:51.529Z"
   },
   {
    "duration": 1037,
    "start_time": "2023-04-19T14:33:32.389Z"
   },
   {
    "duration": 1062,
    "start_time": "2023-04-19T14:33:38.742Z"
   },
   {
    "duration": 1361,
    "start_time": "2023-04-19T14:33:46.226Z"
   },
   {
    "duration": 1221,
    "start_time": "2023-04-19T14:34:15.241Z"
   },
   {
    "duration": 1017,
    "start_time": "2023-04-19T14:34:27.353Z"
   },
   {
    "duration": 1215,
    "start_time": "2023-04-19T14:35:00.478Z"
   },
   {
    "duration": 910,
    "start_time": "2023-04-19T14:35:09.705Z"
   },
   {
    "duration": 5,
    "start_time": "2023-04-19T14:35:32.373Z"
   },
   {
    "duration": 1391,
    "start_time": "2023-04-19T14:35:39.118Z"
   },
   {
    "duration": 1359,
    "start_time": "2023-04-19T14:35:40.511Z"
   },
   {
    "duration": 545,
    "start_time": "2023-04-19T14:35:41.874Z"
   },
   {
    "duration": 474,
    "start_time": "2023-04-19T14:35:42.421Z"
   },
   {
    "duration": 4,
    "start_time": "2023-04-19T14:36:01.277Z"
   },
   {
    "duration": 758,
    "start_time": "2023-04-19T14:36:03.006Z"
   },
   {
    "duration": 3,
    "start_time": "2023-04-19T14:36:03.772Z"
   },
   {
    "duration": 15,
    "start_time": "2023-04-19T14:36:03.777Z"
   },
   {
    "duration": 6,
    "start_time": "2023-04-19T14:36:03.794Z"
   },
   {
    "duration": 5,
    "start_time": "2023-04-19T14:36:04.075Z"
   },
   {
    "duration": 4,
    "start_time": "2023-04-19T14:36:04.150Z"
   },
   {
    "duration": 687,
    "start_time": "2023-04-19T14:36:04.255Z"
   },
   {
    "duration": 265,
    "start_time": "2023-04-19T14:36:04.944Z"
   },
   {
    "duration": 810,
    "start_time": "2023-04-19T14:36:05.211Z"
   },
   {
    "duration": 3,
    "start_time": "2023-04-19T14:36:06.023Z"
   },
   {
    "duration": 50,
    "start_time": "2023-04-19T14:36:06.028Z"
   },
   {
    "duration": 21,
    "start_time": "2023-04-19T14:36:06.080Z"
   },
   {
    "duration": 24,
    "start_time": "2023-04-19T14:36:06.103Z"
   },
   {
    "duration": 23,
    "start_time": "2023-04-19T14:36:06.129Z"
   },
   {
    "duration": 27,
    "start_time": "2023-04-19T14:36:06.154Z"
   },
   {
    "duration": 8,
    "start_time": "2023-04-19T14:36:06.417Z"
   },
   {
    "duration": 12,
    "start_time": "2023-04-19T14:36:07.394Z"
   },
   {
    "duration": 11,
    "start_time": "2023-04-19T14:36:07.896Z"
   },
   {
    "duration": 29,
    "start_time": "2023-04-19T14:36:08.144Z"
   },
   {
    "duration": 6,
    "start_time": "2023-04-19T14:36:09.014Z"
   },
   {
    "duration": 13,
    "start_time": "2023-04-19T14:36:09.086Z"
   },
   {
    "duration": 7,
    "start_time": "2023-04-19T14:36:09.180Z"
   },
   {
    "duration": 15,
    "start_time": "2023-04-19T14:36:09.254Z"
   },
   {
    "duration": 6,
    "start_time": "2023-04-19T14:36:09.343Z"
   },
   {
    "duration": 10,
    "start_time": "2023-04-19T14:36:09.411Z"
   },
   {
    "duration": 904,
    "start_time": "2023-04-19T14:36:09.509Z"
   },
   {
    "duration": 1480,
    "start_time": "2023-04-19T14:36:10.416Z"
   },
   {
    "duration": 1510,
    "start_time": "2023-04-19T14:36:11.898Z"
   },
   {
    "duration": 576,
    "start_time": "2023-04-19T14:36:13.410Z"
   },
   {
    "duration": 478,
    "start_time": "2023-04-19T14:36:13.988Z"
   },
   {
    "duration": 1578,
    "start_time": "2023-04-19T14:37:02.797Z"
   },
   {
    "duration": 1393,
    "start_time": "2023-04-19T14:37:14.604Z"
   },
   {
    "duration": 1044,
    "start_time": "2023-04-19T14:38:48.294Z"
   },
   {
    "duration": 666,
    "start_time": "2023-04-19T14:39:01.175Z"
   },
   {
    "duration": 82,
    "start_time": "2023-04-19T14:39:21.321Z"
   },
   {
    "duration": 538,
    "start_time": "2023-04-19T14:39:24.178Z"
   },
   {
    "duration": 467,
    "start_time": "2023-04-19T14:39:45.242Z"
   },
   {
    "duration": 1534,
    "start_time": "2023-04-19T14:39:49.619Z"
   },
   {
    "duration": 1750,
    "start_time": "2023-04-19T14:40:30.904Z"
   },
   {
    "duration": 1547,
    "start_time": "2023-04-19T14:40:39.503Z"
   },
   {
    "duration": 1846,
    "start_time": "2023-04-19T14:40:48.449Z"
   },
   {
    "duration": 2461,
    "start_time": "2023-04-19T14:40:53.779Z"
   },
   {
    "duration": 2213,
    "start_time": "2023-04-19T14:41:01.518Z"
   },
   {
    "duration": 2182,
    "start_time": "2023-04-19T14:41:06.981Z"
   },
   {
    "duration": 1510,
    "start_time": "2023-04-19T14:41:14.302Z"
   },
   {
    "duration": 1490,
    "start_time": "2023-04-19T14:42:25.140Z"
   },
   {
    "duration": 1402,
    "start_time": "2023-04-19T14:42:30.408Z"
   },
   {
    "duration": 4288,
    "start_time": "2023-04-19T14:42:35.828Z"
   },
   {
    "duration": 1853,
    "start_time": "2023-04-19T14:42:47.515Z"
   },
   {
    "duration": 1614,
    "start_time": "2023-04-19T14:42:53.877Z"
   },
   {
    "duration": 1395,
    "start_time": "2023-04-19T14:42:58.595Z"
   },
   {
    "duration": 1834,
    "start_time": "2023-04-19T14:43:02.498Z"
   },
   {
    "duration": 1872,
    "start_time": "2023-04-19T14:43:15.267Z"
   },
   {
    "duration": 1552,
    "start_time": "2023-04-19T14:43:22.608Z"
   },
   {
    "duration": 1679,
    "start_time": "2023-04-19T14:43:45.947Z"
   },
   {
    "duration": 1400,
    "start_time": "2023-04-19T14:43:51.953Z"
   },
   {
    "duration": 1637,
    "start_time": "2023-04-19T14:43:59.625Z"
   },
   {
    "duration": 1351,
    "start_time": "2023-04-19T14:44:09.678Z"
   },
   {
    "duration": 1298,
    "start_time": "2023-04-19T14:44:17.516Z"
   },
   {
    "duration": 1651,
    "start_time": "2023-04-19T14:44:27.625Z"
   },
   {
    "duration": 5,
    "start_time": "2023-04-19T14:44:48.913Z"
   },
   {
    "duration": 1100,
    "start_time": "2023-04-19T14:44:59.202Z"
   },
   {
    "duration": 6,
    "start_time": "2023-04-19T14:45:42.527Z"
   },
   {
    "duration": 791,
    "start_time": "2023-04-19T14:45:44.443Z"
   },
   {
    "duration": 2,
    "start_time": "2023-04-19T14:45:45.237Z"
   },
   {
    "duration": 7,
    "start_time": "2023-04-19T14:45:45.241Z"
   },
   {
    "duration": 16,
    "start_time": "2023-04-19T14:45:45.256Z"
   },
   {
    "duration": 5,
    "start_time": "2023-04-19T14:45:45.505Z"
   },
   {
    "duration": 3,
    "start_time": "2023-04-19T14:45:45.613Z"
   },
   {
    "duration": 701,
    "start_time": "2023-04-19T14:45:45.689Z"
   },
   {
    "duration": 240,
    "start_time": "2023-04-19T14:45:46.392Z"
   },
   {
    "duration": 812,
    "start_time": "2023-04-19T14:45:46.634Z"
   },
   {
    "duration": 19,
    "start_time": "2023-04-19T14:45:47.448Z"
   },
   {
    "duration": 11,
    "start_time": "2023-04-19T14:45:47.470Z"
   },
   {
    "duration": 5,
    "start_time": "2023-04-19T14:45:47.515Z"
   },
   {
    "duration": 4,
    "start_time": "2023-04-19T14:45:48.126Z"
   },
   {
    "duration": 7,
    "start_time": "2023-04-19T14:45:48.354Z"
   },
   {
    "duration": 5,
    "start_time": "2023-04-19T14:45:48.695Z"
   },
   {
    "duration": 7,
    "start_time": "2023-04-19T14:45:50.113Z"
   },
   {
    "duration": 10,
    "start_time": "2023-04-19T14:45:50.184Z"
   },
   {
    "duration": 14,
    "start_time": "2023-04-19T14:45:50.278Z"
   },
   {
    "duration": 24,
    "start_time": "2023-04-19T14:45:50.979Z"
   },
   {
    "duration": 6,
    "start_time": "2023-04-19T14:45:52.926Z"
   },
   {
    "duration": 13,
    "start_time": "2023-04-19T14:45:53.007Z"
   },
   {
    "duration": 5,
    "start_time": "2023-04-19T14:45:53.108Z"
   },
   {
    "duration": 11,
    "start_time": "2023-04-19T14:45:53.183Z"
   },
   {
    "duration": 5,
    "start_time": "2023-04-19T14:45:53.278Z"
   },
   {
    "duration": 11,
    "start_time": "2023-04-19T14:45:53.344Z"
   },
   {
    "duration": 1036,
    "start_time": "2023-04-19T14:45:53.438Z"
   },
   {
    "duration": 1227,
    "start_time": "2023-04-19T14:45:55.404Z"
   },
   {
    "duration": 1755,
    "start_time": "2023-04-19T14:45:56.634Z"
   },
   {
    "duration": 462,
    "start_time": "2023-04-19T14:45:58.390Z"
   },
   {
    "duration": 493,
    "start_time": "2023-04-19T14:45:58.858Z"
   },
   {
    "duration": 1418,
    "start_time": "2023-04-19T14:46:13.613Z"
   },
   {
    "duration": 1615,
    "start_time": "2023-04-19T14:46:19.608Z"
   },
   {
    "duration": 1692,
    "start_time": "2023-04-19T14:48:19.194Z"
   },
   {
    "duration": 1888,
    "start_time": "2023-04-19T14:48:26.892Z"
   },
   {
    "duration": 485,
    "start_time": "2023-04-19T14:49:01.403Z"
   },
   {
    "duration": 483,
    "start_time": "2023-04-19T14:49:07.093Z"
   },
   {
    "duration": 790,
    "start_time": "2023-04-19T14:50:14.738Z"
   },
   {
    "duration": 1039,
    "start_time": "2023-04-19T14:50:39.947Z"
   },
   {
    "duration": 624,
    "start_time": "2023-04-19T14:50:59.778Z"
   },
   {
    "duration": 623,
    "start_time": "2023-04-19T14:51:51.336Z"
   },
   {
    "duration": 820,
    "start_time": "2023-04-19T14:52:00.417Z"
   },
   {
    "duration": 593,
    "start_time": "2023-04-19T14:52:08.112Z"
   },
   {
    "duration": 923,
    "start_time": "2023-04-19T14:52:26.301Z"
   },
   {
    "duration": 990,
    "start_time": "2023-04-19T14:52:32.434Z"
   },
   {
    "duration": 725,
    "start_time": "2023-04-19T14:53:14.123Z"
   },
   {
    "duration": 1170,
    "start_time": "2023-04-19T14:53:18.318Z"
   },
   {
    "duration": 1116,
    "start_time": "2023-04-19T14:53:31.456Z"
   },
   {
    "duration": 815,
    "start_time": "2023-04-19T14:53:36.005Z"
   },
   {
    "duration": 2667,
    "start_time": "2023-04-19T14:56:32.647Z"
   },
   {
    "duration": 12,
    "start_time": "2023-04-19T14:56:35.317Z"
   },
   {
    "duration": 734,
    "start_time": "2023-04-19T14:56:35.331Z"
   },
   {
    "duration": 7,
    "start_time": "2023-04-19T14:56:36.068Z"
   },
   {
    "duration": 8,
    "start_time": "2023-04-19T14:56:36.077Z"
   },
   {
    "duration": 7,
    "start_time": "2023-04-19T14:56:36.086Z"
   },
   {
    "duration": 6,
    "start_time": "2023-04-19T14:56:36.095Z"
   },
   {
    "duration": 7,
    "start_time": "2023-04-19T14:56:36.103Z"
   },
   {
    "duration": 738,
    "start_time": "2023-04-19T14:56:36.112Z"
   },
   {
    "duration": 242,
    "start_time": "2023-04-19T14:56:36.853Z"
   },
   {
    "duration": 928,
    "start_time": "2023-04-19T14:56:37.097Z"
   },
   {
    "duration": 3,
    "start_time": "2023-04-19T14:56:38.027Z"
   },
   {
    "duration": 38,
    "start_time": "2023-04-19T14:56:38.032Z"
   },
   {
    "duration": 11,
    "start_time": "2023-04-19T14:56:38.073Z"
   },
   {
    "duration": 21,
    "start_time": "2023-04-19T14:56:38.087Z"
   },
   {
    "duration": 12,
    "start_time": "2023-04-19T14:56:38.110Z"
   },
   {
    "duration": 23,
    "start_time": "2023-04-19T14:56:38.124Z"
   },
   {
    "duration": 27,
    "start_time": "2023-04-19T14:56:38.148Z"
   },
   {
    "duration": 22,
    "start_time": "2023-04-19T14:56:38.177Z"
   },
   {
    "duration": 38,
    "start_time": "2023-04-19T14:56:38.201Z"
   },
   {
    "duration": 47,
    "start_time": "2023-04-19T14:56:38.241Z"
   },
   {
    "duration": 7,
    "start_time": "2023-04-19T14:56:38.290Z"
   },
   {
    "duration": 18,
    "start_time": "2023-04-19T14:56:38.299Z"
   },
   {
    "duration": 11,
    "start_time": "2023-04-19T14:56:38.320Z"
   },
   {
    "duration": 19,
    "start_time": "2023-04-19T14:56:38.333Z"
   },
   {
    "duration": 15,
    "start_time": "2023-04-19T14:56:38.357Z"
   },
   {
    "duration": 18,
    "start_time": "2023-04-19T14:56:38.378Z"
   },
   {
    "duration": 1068,
    "start_time": "2023-04-19T14:56:38.401Z"
   },
   {
    "duration": 1728,
    "start_time": "2023-04-19T14:56:39.470Z"
   },
   {
    "duration": 1652,
    "start_time": "2023-04-19T14:56:41.200Z"
   },
   {
    "duration": 633,
    "start_time": "2023-04-19T14:56:42.856Z"
   },
   {
    "duration": 569,
    "start_time": "2023-04-19T14:56:43.491Z"
   },
   {
    "duration": 13,
    "start_time": "2023-04-19T14:56:44.062Z"
   },
   {
    "duration": 789,
    "start_time": "2023-04-19T14:56:44.076Z"
   },
   {
    "duration": 13,
    "start_time": "2023-04-19T14:56:44.869Z"
   },
   {
    "duration": 936,
    "start_time": "2023-04-19T14:56:44.884Z"
   },
   {
    "duration": 11,
    "start_time": "2023-04-19T14:56:45.822Z"
   },
   {
    "duration": 1433,
    "start_time": "2023-04-19T14:56:45.835Z"
   },
   {
    "duration": 4,
    "start_time": "2023-04-19T14:56:47.277Z"
   },
   {
    "duration": 16,
    "start_time": "2023-04-19T14:56:47.282Z"
   },
   {
    "duration": 19,
    "start_time": "2023-04-19T14:56:47.300Z"
   },
   {
    "duration": 5,
    "start_time": "2023-04-19T14:56:47.322Z"
   },
   {
    "duration": 13,
    "start_time": "2023-04-19T14:56:47.329Z"
   },
   {
    "duration": 1165,
    "start_time": "2023-04-19T14:56:47.344Z"
   },
   {
    "duration": 9,
    "start_time": "2023-04-19T14:56:48.511Z"
   },
   {
    "duration": 644,
    "start_time": "2023-04-19T14:56:48.522Z"
   },
   {
    "duration": 53,
    "start_time": "2023-04-19T14:56:49.170Z"
   },
   {
    "duration": 64,
    "start_time": "2023-04-19T14:56:49.225Z"
   },
   {
    "duration": 4,
    "start_time": "2023-04-19T14:56:49.291Z"
   },
   {
    "duration": 9,
    "start_time": "2023-04-19T14:56:49.298Z"
   },
   {
    "duration": 10,
    "start_time": "2023-04-19T14:56:49.309Z"
   },
   {
    "duration": 26,
    "start_time": "2023-04-19T14:56:49.321Z"
   },
   {
    "duration": 19,
    "start_time": "2023-04-19T14:56:49.350Z"
   },
   {
    "duration": 5,
    "start_time": "2023-04-19T14:56:49.372Z"
   },
   {
    "duration": 5815,
    "start_time": "2023-04-19T14:56:49.379Z"
   },
   {
    "duration": 150,
    "start_time": "2023-04-19T14:56:55.200Z"
   },
   {
    "duration": 0,
    "start_time": "2023-04-19T14:56:55.353Z"
   },
   {
    "duration": 0,
    "start_time": "2023-04-19T14:56:55.355Z"
   },
   {
    "duration": 94,
    "start_time": "2023-04-19T15:01:38.922Z"
   },
   {
    "duration": 78768,
    "start_time": "2023-04-19T15:02:14.837Z"
   },
   {
    "duration": 484,
    "start_time": "2023-04-19T15:07:39.898Z"
   },
   {
    "duration": 2605,
    "start_time": "2023-04-19T15:18:20.340Z"
   },
   {
    "duration": 2405,
    "start_time": "2023-04-19T15:18:22.947Z"
   },
   {
    "duration": 792,
    "start_time": "2023-04-19T15:18:25.354Z"
   },
   {
    "duration": 2,
    "start_time": "2023-04-19T15:18:26.148Z"
   },
   {
    "duration": 4,
    "start_time": "2023-04-19T15:18:26.152Z"
   },
   {
    "duration": 3,
    "start_time": "2023-04-19T15:18:26.158Z"
   },
   {
    "duration": 19,
    "start_time": "2023-04-19T15:18:26.163Z"
   },
   {
    "duration": 7,
    "start_time": "2023-04-19T15:18:26.183Z"
   },
   {
    "duration": 665,
    "start_time": "2023-04-19T15:18:26.192Z"
   },
   {
    "duration": 361,
    "start_time": "2023-04-19T15:18:26.864Z"
   },
   {
    "duration": 735,
    "start_time": "2023-04-19T15:18:27.227Z"
   },
   {
    "duration": 3,
    "start_time": "2023-04-19T15:18:27.964Z"
   },
   {
    "duration": 12,
    "start_time": "2023-04-19T15:18:27.969Z"
   },
   {
    "duration": 5,
    "start_time": "2023-04-19T15:18:27.983Z"
   },
   {
    "duration": 7,
    "start_time": "2023-04-19T15:18:27.989Z"
   },
   {
    "duration": 8,
    "start_time": "2023-04-19T15:18:27.999Z"
   },
   {
    "duration": 6,
    "start_time": "2023-04-19T15:18:28.009Z"
   },
   {
    "duration": 53,
    "start_time": "2023-04-19T15:18:28.017Z"
   },
   {
    "duration": 12,
    "start_time": "2023-04-19T15:18:28.071Z"
   },
   {
    "duration": 16,
    "start_time": "2023-04-19T15:18:28.085Z"
   },
   {
    "duration": 19,
    "start_time": "2023-04-19T15:18:28.102Z"
   },
   {
    "duration": 5,
    "start_time": "2023-04-19T15:18:28.123Z"
   },
   {
    "duration": 31,
    "start_time": "2023-04-19T15:18:28.130Z"
   },
   {
    "duration": 19,
    "start_time": "2023-04-19T15:18:28.166Z"
   },
   {
    "duration": 14,
    "start_time": "2023-04-19T15:18:28.191Z"
   },
   {
    "duration": 6,
    "start_time": "2023-04-19T15:18:28.206Z"
   },
   {
    "duration": 11,
    "start_time": "2023-04-19T15:18:28.213Z"
   },
   {
    "duration": 1027,
    "start_time": "2023-04-19T15:18:28.227Z"
   },
   {
    "duration": 1365,
    "start_time": "2023-04-19T15:18:29.257Z"
   },
   {
    "duration": 1778,
    "start_time": "2023-04-19T15:18:30.624Z"
   },
   {
    "duration": 570,
    "start_time": "2023-04-19T15:18:32.404Z"
   },
   {
    "duration": 493,
    "start_time": "2023-04-19T15:18:32.976Z"
   },
   {
    "duration": 9,
    "start_time": "2023-04-19T15:18:33.471Z"
   },
   {
    "duration": 657,
    "start_time": "2023-04-19T15:18:33.482Z"
   },
   {
    "duration": 29,
    "start_time": "2023-04-19T15:18:34.140Z"
   },
   {
    "duration": 624,
    "start_time": "2023-04-19T15:18:34.173Z"
   },
   {
    "duration": 8,
    "start_time": "2023-04-19T15:18:34.799Z"
   },
   {
    "duration": 1081,
    "start_time": "2023-04-19T15:18:34.808Z"
   },
   {
    "duration": 2,
    "start_time": "2023-04-19T15:18:35.891Z"
   },
   {
    "duration": 10,
    "start_time": "2023-04-19T15:18:35.894Z"
   },
   {
    "duration": 13,
    "start_time": "2023-04-19T15:18:35.906Z"
   },
   {
    "duration": 12,
    "start_time": "2023-04-19T15:18:35.921Z"
   },
   {
    "duration": 5,
    "start_time": "2023-04-19T15:18:35.935Z"
   },
   {
    "duration": 886,
    "start_time": "2023-04-19T15:18:35.941Z"
   },
   {
    "duration": 7,
    "start_time": "2023-04-19T15:18:36.829Z"
   },
   {
    "duration": 562,
    "start_time": "2023-04-19T15:18:36.837Z"
   },
   {
    "duration": 44,
    "start_time": "2023-04-19T15:18:37.400Z"
   },
   {
    "duration": 44,
    "start_time": "2023-04-19T15:18:37.446Z"
   },
   {
    "duration": 4,
    "start_time": "2023-04-19T15:18:37.492Z"
   },
   {
    "duration": 14,
    "start_time": "2023-04-19T15:18:37.498Z"
   },
   {
    "duration": 17,
    "start_time": "2023-04-19T15:18:37.514Z"
   },
   {
    "duration": 44,
    "start_time": "2023-04-19T15:18:37.533Z"
   },
   {
    "duration": 6,
    "start_time": "2023-04-19T15:18:37.583Z"
   },
   {
    "duration": 5,
    "start_time": "2023-04-19T15:18:37.591Z"
   },
   {
    "duration": 2694,
    "start_time": "2023-04-19T15:18:37.598Z"
   },
   {
    "duration": 76701,
    "start_time": "2023-04-19T15:18:40.295Z"
   },
   {
    "duration": 460,
    "start_time": "2023-04-19T15:30:28.511Z"
   },
   {
    "duration": 20,
    "start_time": "2023-04-19T15:30:28.975Z"
   },
   {
    "duration": 374732,
    "start_time": "2023-04-19T15:30:28.998Z"
   },
   {
    "duration": 128953,
    "start_time": "2023-04-19T15:40:14.942Z"
   },
   {
    "duration": 15171,
    "start_time": "2023-04-19T18:11:22.769Z"
   },
   {
    "duration": 3773,
    "start_time": "2023-04-19T18:11:37.943Z"
   },
   {
    "duration": 3504,
    "start_time": "2023-04-19T18:11:41.718Z"
   },
   {
    "duration": 4,
    "start_time": "2023-04-19T18:11:45.224Z"
   },
   {
    "duration": 17,
    "start_time": "2023-04-19T18:11:45.230Z"
   },
   {
    "duration": 24,
    "start_time": "2023-04-19T18:11:45.249Z"
   },
   {
    "duration": 8,
    "start_time": "2023-04-19T18:11:45.275Z"
   },
   {
    "duration": 12,
    "start_time": "2023-04-19T18:11:45.284Z"
   },
   {
    "duration": 705,
    "start_time": "2023-04-19T18:11:45.297Z"
   },
   {
    "duration": 312,
    "start_time": "2023-04-19T18:11:46.006Z"
   },
   {
    "duration": 841,
    "start_time": "2023-04-19T18:11:46.320Z"
   },
   {
    "duration": 3,
    "start_time": "2023-04-19T18:11:47.163Z"
   },
   {
    "duration": 27,
    "start_time": "2023-04-19T18:11:47.168Z"
   },
   {
    "duration": 7,
    "start_time": "2023-04-19T18:11:47.197Z"
   },
   {
    "duration": 6,
    "start_time": "2023-04-19T18:11:47.206Z"
   },
   {
    "duration": 14,
    "start_time": "2023-04-19T18:11:47.214Z"
   },
   {
    "duration": 9,
    "start_time": "2023-04-19T18:11:47.230Z"
   },
   {
    "duration": 52,
    "start_time": "2023-04-19T18:11:47.241Z"
   },
   {
    "duration": 14,
    "start_time": "2023-04-19T18:11:47.296Z"
   },
   {
    "duration": 17,
    "start_time": "2023-04-19T18:11:47.313Z"
   },
   {
    "duration": 23,
    "start_time": "2023-04-19T18:11:47.332Z"
   },
   {
    "duration": 34,
    "start_time": "2023-04-19T18:11:47.356Z"
   },
   {
    "duration": 21,
    "start_time": "2023-04-19T18:11:47.392Z"
   },
   {
    "duration": 6,
    "start_time": "2023-04-19T18:11:47.415Z"
   },
   {
    "duration": 29,
    "start_time": "2023-04-19T18:11:47.422Z"
   },
   {
    "duration": 11,
    "start_time": "2023-04-19T18:11:47.453Z"
   },
   {
    "duration": 24,
    "start_time": "2023-04-19T18:11:47.466Z"
   },
   {
    "duration": 1113,
    "start_time": "2023-04-19T18:11:47.495Z"
   },
   {
    "duration": 1322,
    "start_time": "2023-04-19T18:11:48.610Z"
   },
   {
    "duration": 1728,
    "start_time": "2023-04-19T18:11:49.934Z"
   },
   {
    "duration": 545,
    "start_time": "2023-04-19T18:11:51.665Z"
   },
   {
    "duration": 488,
    "start_time": "2023-04-19T18:11:52.212Z"
   },
   {
    "duration": 9,
    "start_time": "2023-04-19T18:11:52.702Z"
   },
   {
    "duration": 675,
    "start_time": "2023-04-19T18:11:52.713Z"
   },
   {
    "duration": 9,
    "start_time": "2023-04-19T18:11:53.391Z"
   },
   {
    "duration": 666,
    "start_time": "2023-04-19T18:11:53.402Z"
   },
   {
    "duration": 9,
    "start_time": "2023-04-19T18:11:54.070Z"
   },
   {
    "duration": 1055,
    "start_time": "2023-04-19T18:11:54.088Z"
   },
   {
    "duration": 4,
    "start_time": "2023-04-19T18:11:55.145Z"
   },
   {
    "duration": 11,
    "start_time": "2023-04-19T18:11:55.151Z"
   },
   {
    "duration": 34,
    "start_time": "2023-04-19T18:11:55.165Z"
   },
   {
    "duration": 5,
    "start_time": "2023-04-19T18:11:55.202Z"
   },
   {
    "duration": 20,
    "start_time": "2023-04-19T18:11:55.209Z"
   },
   {
    "duration": 922,
    "start_time": "2023-04-19T18:11:55.231Z"
   },
   {
    "duration": 7,
    "start_time": "2023-04-19T18:11:56.155Z"
   },
   {
    "duration": 568,
    "start_time": "2023-04-19T18:11:56.163Z"
   },
   {
    "duration": 41,
    "start_time": "2023-04-19T18:11:56.733Z"
   },
   {
    "duration": 44,
    "start_time": "2023-04-19T18:11:56.776Z"
   },
   {
    "duration": 4,
    "start_time": "2023-04-19T18:11:56.821Z"
   },
   {
    "duration": 11,
    "start_time": "2023-04-19T18:11:56.826Z"
   },
   {
    "duration": 15,
    "start_time": "2023-04-19T18:11:56.838Z"
   },
   {
    "duration": 11,
    "start_time": "2023-04-19T18:11:56.855Z"
   },
   {
    "duration": 29,
    "start_time": "2023-04-19T18:11:56.868Z"
   },
   {
    "duration": 19,
    "start_time": "2023-04-19T18:11:56.899Z"
   },
   {
    "duration": 2572,
    "start_time": "2023-04-19T18:11:56.920Z"
   },
   {
    "duration": 3000,
    "start_time": "2023-04-19T18:14:57.020Z"
   },
   {
    "duration": 2476,
    "start_time": "2023-04-19T18:15:00.023Z"
   },
   {
    "duration": 817,
    "start_time": "2023-04-19T18:15:02.501Z"
   },
   {
    "duration": 3,
    "start_time": "2023-04-19T18:15:03.321Z"
   },
   {
    "duration": 22,
    "start_time": "2023-04-19T18:15:03.325Z"
   },
   {
    "duration": 13,
    "start_time": "2023-04-19T18:15:03.349Z"
   },
   {
    "duration": 19,
    "start_time": "2023-04-19T18:15:03.365Z"
   },
   {
    "duration": 17,
    "start_time": "2023-04-19T18:15:03.386Z"
   },
   {
    "duration": 693,
    "start_time": "2023-04-19T18:15:03.405Z"
   },
   {
    "duration": 345,
    "start_time": "2023-04-19T18:15:04.100Z"
   },
   {
    "duration": 760,
    "start_time": "2023-04-19T18:15:04.479Z"
   },
   {
    "duration": 4,
    "start_time": "2023-04-19T18:15:05.241Z"
   },
   {
    "duration": 23,
    "start_time": "2023-04-19T18:15:05.246Z"
   },
   {
    "duration": 4,
    "start_time": "2023-04-19T18:15:05.271Z"
   },
   {
    "duration": 24,
    "start_time": "2023-04-19T18:15:05.276Z"
   },
   {
    "duration": 39,
    "start_time": "2023-04-19T18:15:05.302Z"
   },
   {
    "duration": 48,
    "start_time": "2023-04-19T18:15:05.342Z"
   },
   {
    "duration": 52,
    "start_time": "2023-04-19T18:15:05.391Z"
   },
   {
    "duration": 36,
    "start_time": "2023-04-19T18:15:05.445Z"
   },
   {
    "duration": 24,
    "start_time": "2023-04-19T18:15:05.483Z"
   },
   {
    "duration": 27,
    "start_time": "2023-04-19T18:15:05.509Z"
   },
   {
    "duration": 23,
    "start_time": "2023-04-19T18:15:05.537Z"
   },
   {
    "duration": 40,
    "start_time": "2023-04-19T18:15:05.562Z"
   },
   {
    "duration": 23,
    "start_time": "2023-04-19T18:15:05.604Z"
   },
   {
    "duration": 46,
    "start_time": "2023-04-19T18:15:05.628Z"
   },
   {
    "duration": 20,
    "start_time": "2023-04-19T18:15:05.675Z"
   },
   {
    "duration": 16,
    "start_time": "2023-04-19T18:15:05.697Z"
   },
   {
    "duration": 1057,
    "start_time": "2023-04-19T18:15:05.716Z"
   },
   {
    "duration": 1319,
    "start_time": "2023-04-19T18:15:06.775Z"
   },
   {
    "duration": 1601,
    "start_time": "2023-04-19T18:15:08.096Z"
   },
   {
    "duration": 504,
    "start_time": "2023-04-19T18:15:09.699Z"
   },
   {
    "duration": 535,
    "start_time": "2023-04-19T18:15:10.205Z"
   },
   {
    "duration": 8,
    "start_time": "2023-04-19T18:15:10.741Z"
   },
   {
    "duration": 647,
    "start_time": "2023-04-19T18:15:10.751Z"
   },
   {
    "duration": 9,
    "start_time": "2023-04-19T18:15:11.399Z"
   },
   {
    "duration": 614,
    "start_time": "2023-04-19T18:15:11.409Z"
   },
   {
    "duration": 8,
    "start_time": "2023-04-19T18:15:12.025Z"
   },
   {
    "duration": 1069,
    "start_time": "2023-04-19T18:15:12.034Z"
   },
   {
    "duration": 3,
    "start_time": "2023-04-19T18:15:13.105Z"
   },
   {
    "duration": 10,
    "start_time": "2023-04-19T18:15:13.109Z"
   },
   {
    "duration": 20,
    "start_time": "2023-04-19T18:15:13.121Z"
   },
   {
    "duration": 4,
    "start_time": "2023-04-19T18:15:13.143Z"
   },
   {
    "duration": 13,
    "start_time": "2023-04-19T18:15:13.149Z"
   },
   {
    "duration": 974,
    "start_time": "2023-04-19T18:15:13.164Z"
   },
   {
    "duration": 8,
    "start_time": "2023-04-19T18:15:14.140Z"
   },
   {
    "duration": 571,
    "start_time": "2023-04-19T18:15:14.150Z"
   },
   {
    "duration": 44,
    "start_time": "2023-04-19T18:15:14.723Z"
   },
   {
    "duration": 51,
    "start_time": "2023-04-19T18:15:14.769Z"
   },
   {
    "duration": 3,
    "start_time": "2023-04-19T18:15:14.822Z"
   },
   {
    "duration": 20,
    "start_time": "2023-04-19T18:15:14.827Z"
   },
   {
    "duration": 16,
    "start_time": "2023-04-19T18:15:14.849Z"
   },
   {
    "duration": 14,
    "start_time": "2023-04-19T18:15:14.867Z"
   },
   {
    "duration": 10,
    "start_time": "2023-04-19T18:15:14.883Z"
   },
   {
    "duration": 8,
    "start_time": "2023-04-19T18:15:14.895Z"
   },
   {
    "duration": 2189,
    "start_time": "2023-04-19T18:15:14.904Z"
   },
   {
    "duration": 37340,
    "start_time": "2023-04-19T18:15:17.095Z"
   },
   {
    "duration": 271772,
    "start_time": "2023-04-19T18:15:54.436Z"
   },
   {
    "duration": 494,
    "start_time": "2023-04-19T18:20:26.210Z"
   },
   {
    "duration": 20,
    "start_time": "2023-04-19T18:20:26.706Z"
   },
   {
    "duration": 24689,
    "start_time": "2023-04-19T18:20:26.729Z"
   },
   {
    "duration": 268713,
    "start_time": "2023-04-19T18:26:49.388Z"
   },
   {
    "duration": 4775,
    "start_time": "2023-04-19T18:54:33.104Z"
   },
   {
    "duration": 4807,
    "start_time": "2023-04-19T18:54:56.486Z"
   },
   {
    "duration": 2540,
    "start_time": "2023-04-19T18:59:25.823Z"
   },
   {
    "duration": 2227,
    "start_time": "2023-04-19T18:59:28.366Z"
   },
   {
    "duration": 837,
    "start_time": "2023-04-19T18:59:30.595Z"
   },
   {
    "duration": 3,
    "start_time": "2023-04-19T18:59:31.434Z"
   },
   {
    "duration": 16,
    "start_time": "2023-04-19T18:59:31.438Z"
   },
   {
    "duration": 14,
    "start_time": "2023-04-19T18:59:31.455Z"
   },
   {
    "duration": 19,
    "start_time": "2023-04-19T18:59:31.471Z"
   },
   {
    "duration": 15,
    "start_time": "2023-04-19T18:59:31.492Z"
   },
   {
    "duration": 710,
    "start_time": "2023-04-19T18:59:31.509Z"
   },
   {
    "duration": 352,
    "start_time": "2023-04-19T18:59:32.222Z"
   },
   {
    "duration": 742,
    "start_time": "2023-04-19T18:59:32.576Z"
   },
   {
    "duration": 2,
    "start_time": "2023-04-19T18:59:33.320Z"
   },
   {
    "duration": 15,
    "start_time": "2023-04-19T18:59:33.324Z"
   },
   {
    "duration": 5,
    "start_time": "2023-04-19T18:59:33.341Z"
   },
   {
    "duration": 6,
    "start_time": "2023-04-19T18:59:33.347Z"
   },
   {
    "duration": 9,
    "start_time": "2023-04-19T18:59:33.355Z"
   },
   {
    "duration": 5,
    "start_time": "2023-04-19T18:59:33.388Z"
   },
   {
    "duration": 9,
    "start_time": "2023-04-19T18:59:33.395Z"
   },
   {
    "duration": 10,
    "start_time": "2023-04-19T18:59:33.406Z"
   },
   {
    "duration": 11,
    "start_time": "2023-04-19T18:59:33.417Z"
   },
   {
    "duration": 19,
    "start_time": "2023-04-19T18:59:33.430Z"
   },
   {
    "duration": 40,
    "start_time": "2023-04-19T18:59:33.451Z"
   },
   {
    "duration": 15,
    "start_time": "2023-04-19T18:59:33.492Z"
   },
   {
    "duration": 6,
    "start_time": "2023-04-19T18:59:33.509Z"
   },
   {
    "duration": 17,
    "start_time": "2023-04-19T18:59:33.517Z"
   },
   {
    "duration": 7,
    "start_time": "2023-04-19T18:59:33.536Z"
   },
   {
    "duration": 16,
    "start_time": "2023-04-19T18:59:33.544Z"
   },
   {
    "duration": 1000,
    "start_time": "2023-04-19T18:59:33.563Z"
   },
   {
    "duration": 1230,
    "start_time": "2023-04-19T18:59:34.564Z"
   },
   {
    "duration": 1574,
    "start_time": "2023-04-19T18:59:35.795Z"
   },
   {
    "duration": 437,
    "start_time": "2023-04-19T18:59:37.371Z"
   },
   {
    "duration": 493,
    "start_time": "2023-04-19T18:59:37.810Z"
   },
   {
    "duration": 9,
    "start_time": "2023-04-19T18:59:38.305Z"
   },
   {
    "duration": 684,
    "start_time": "2023-04-19T18:59:38.315Z"
   },
   {
    "duration": 8,
    "start_time": "2023-04-19T18:59:39.001Z"
   },
   {
    "duration": 741,
    "start_time": "2023-04-19T18:59:39.011Z"
   },
   {
    "duration": 12,
    "start_time": "2023-04-19T18:59:39.754Z"
   },
   {
    "duration": 1193,
    "start_time": "2023-04-19T18:59:39.768Z"
   },
   {
    "duration": 4,
    "start_time": "2023-04-19T18:59:40.963Z"
   },
   {
    "duration": 32,
    "start_time": "2023-04-19T18:59:40.969Z"
   },
   {
    "duration": 27,
    "start_time": "2023-04-19T18:59:41.003Z"
   },
   {
    "duration": 10,
    "start_time": "2023-04-19T18:59:41.032Z"
   },
   {
    "duration": 8,
    "start_time": "2023-04-19T18:59:41.044Z"
   },
   {
    "duration": 1062,
    "start_time": "2023-04-19T18:59:41.054Z"
   },
   {
    "duration": 8,
    "start_time": "2023-04-19T18:59:42.117Z"
   },
   {
    "duration": 616,
    "start_time": "2023-04-19T18:59:42.127Z"
   },
   {
    "duration": 54,
    "start_time": "2023-04-19T18:59:42.745Z"
   },
   {
    "duration": 38,
    "start_time": "2023-04-19T18:59:42.801Z"
   },
   {
    "duration": 4,
    "start_time": "2023-04-19T18:59:42.842Z"
   },
   {
    "duration": 11,
    "start_time": "2023-04-19T18:59:42.847Z"
   },
   {
    "duration": 29,
    "start_time": "2023-04-19T18:59:42.860Z"
   },
   {
    "duration": 9,
    "start_time": "2023-04-19T18:59:42.891Z"
   },
   {
    "duration": 8,
    "start_time": "2023-04-19T18:59:42.902Z"
   },
   {
    "duration": 11,
    "start_time": "2023-04-19T18:59:42.911Z"
   },
   {
    "duration": 1874,
    "start_time": "2023-04-19T18:59:42.924Z"
   },
   {
    "duration": 24818,
    "start_time": "2023-04-19T18:59:44.801Z"
   },
   {
    "duration": 272257,
    "start_time": "2023-04-19T19:00:09.621Z"
   },
   {
    "duration": 4968,
    "start_time": "2023-04-19T19:04:41.880Z"
   },
   {
    "duration": 19,
    "start_time": "2023-04-19T19:04:46.850Z"
   },
   {
    "duration": 22,
    "start_time": "2023-04-19T19:08:21.640Z"
   },
   {
    "duration": 3384,
    "start_time": "2023-04-19T19:10:57.955Z"
   },
   {
    "duration": 2530,
    "start_time": "2023-04-19T19:11:01.342Z"
   },
   {
    "duration": 909,
    "start_time": "2023-04-19T19:11:03.873Z"
   },
   {
    "duration": 4,
    "start_time": "2023-04-19T19:11:04.784Z"
   },
   {
    "duration": 53,
    "start_time": "2023-04-19T19:11:04.790Z"
   },
   {
    "duration": 9,
    "start_time": "2023-04-19T19:11:04.845Z"
   },
   {
    "duration": 7,
    "start_time": "2023-04-19T19:11:04.856Z"
   },
   {
    "duration": 21,
    "start_time": "2023-04-19T19:11:04.865Z"
   },
   {
    "duration": 854,
    "start_time": "2023-04-19T19:11:04.888Z"
   },
   {
    "duration": 462,
    "start_time": "2023-04-19T19:11:05.745Z"
   },
   {
    "duration": 970,
    "start_time": "2023-04-19T19:11:06.214Z"
   },
   {
    "duration": 3,
    "start_time": "2023-04-19T19:11:07.188Z"
   },
   {
    "duration": 43,
    "start_time": "2023-04-19T19:11:07.194Z"
   },
   {
    "duration": 5,
    "start_time": "2023-04-19T19:11:07.239Z"
   },
   {
    "duration": 9,
    "start_time": "2023-04-19T19:11:07.250Z"
   },
   {
    "duration": 14,
    "start_time": "2023-04-19T19:11:07.261Z"
   },
   {
    "duration": 44,
    "start_time": "2023-04-19T19:11:07.277Z"
   },
   {
    "duration": 14,
    "start_time": "2023-04-19T19:11:07.324Z"
   },
   {
    "duration": 21,
    "start_time": "2023-04-19T19:11:07.340Z"
   },
   {
    "duration": 12,
    "start_time": "2023-04-19T19:11:07.363Z"
   },
   {
    "duration": 71,
    "start_time": "2023-04-19T19:11:07.377Z"
   },
   {
    "duration": 6,
    "start_time": "2023-04-19T19:11:07.451Z"
   },
   {
    "duration": 17,
    "start_time": "2023-04-19T19:11:07.459Z"
   },
   {
    "duration": 50,
    "start_time": "2023-04-19T19:11:07.495Z"
   },
   {
    "duration": 17,
    "start_time": "2023-04-19T19:11:07.547Z"
   },
   {
    "duration": 9,
    "start_time": "2023-04-19T19:11:07.566Z"
   },
   {
    "duration": 23,
    "start_time": "2023-04-19T19:11:07.577Z"
   },
   {
    "duration": 1269,
    "start_time": "2023-04-19T19:11:07.608Z"
   },
   {
    "duration": 1491,
    "start_time": "2023-04-19T19:11:08.879Z"
   },
   {
    "duration": 1962,
    "start_time": "2023-04-19T19:11:10.372Z"
   },
   {
    "duration": 527,
    "start_time": "2023-04-19T19:11:12.336Z"
   },
   {
    "duration": 505,
    "start_time": "2023-04-19T19:11:12.865Z"
   },
   {
    "duration": 8,
    "start_time": "2023-04-19T19:11:13.372Z"
   },
   {
    "duration": 759,
    "start_time": "2023-04-19T19:11:13.382Z"
   },
   {
    "duration": 11,
    "start_time": "2023-04-19T19:11:14.143Z"
   },
   {
    "duration": 721,
    "start_time": "2023-04-19T19:11:14.156Z"
   },
   {
    "duration": 16,
    "start_time": "2023-04-19T19:11:14.879Z"
   },
   {
    "duration": 1299,
    "start_time": "2023-04-19T19:11:14.897Z"
   },
   {
    "duration": 4,
    "start_time": "2023-04-19T19:11:16.199Z"
   },
   {
    "duration": 21,
    "start_time": "2023-04-19T19:11:16.205Z"
   },
   {
    "duration": 15,
    "start_time": "2023-04-19T19:11:16.228Z"
   },
   {
    "duration": 6,
    "start_time": "2023-04-19T19:11:16.244Z"
   },
   {
    "duration": 8,
    "start_time": "2023-04-19T19:11:16.251Z"
   },
   {
    "duration": 1090,
    "start_time": "2023-04-19T19:11:16.261Z"
   },
   {
    "duration": 8,
    "start_time": "2023-04-19T19:11:17.353Z"
   },
   {
    "duration": 658,
    "start_time": "2023-04-19T19:11:17.363Z"
   },
   {
    "duration": 43,
    "start_time": "2023-04-19T19:11:18.023Z"
   },
   {
    "duration": 61,
    "start_time": "2023-04-19T19:11:18.068Z"
   },
   {
    "duration": 4,
    "start_time": "2023-04-19T19:11:18.130Z"
   },
   {
    "duration": 17,
    "start_time": "2023-04-19T19:11:18.135Z"
   },
   {
    "duration": 23,
    "start_time": "2023-04-19T19:11:18.154Z"
   },
   {
    "duration": 16,
    "start_time": "2023-04-19T19:11:18.179Z"
   },
   {
    "duration": 28,
    "start_time": "2023-04-19T19:11:18.197Z"
   },
   {
    "duration": 8,
    "start_time": "2023-04-19T19:11:18.227Z"
   },
   {
    "duration": 2578,
    "start_time": "2023-04-19T19:11:18.237Z"
   },
   {
    "duration": 28634,
    "start_time": "2023-04-19T19:11:20.823Z"
   },
   {
    "duration": 300072,
    "start_time": "2023-04-19T19:11:49.459Z"
   },
   {
    "duration": 5419,
    "start_time": "2023-04-19T19:16:49.532Z"
   },
   {
    "duration": 22,
    "start_time": "2023-04-19T19:16:54.952Z"
   },
   {
    "duration": 16464,
    "start_time": "2023-04-20T17:54:46.331Z"
   },
   {
    "duration": 5884,
    "start_time": "2023-04-20T17:55:02.798Z"
   },
   {
    "duration": 1862,
    "start_time": "2023-04-20T17:55:08.683Z"
   },
   {
    "duration": 4,
    "start_time": "2023-04-20T17:55:10.553Z"
   },
   {
    "duration": 25,
    "start_time": "2023-04-20T17:55:10.560Z"
   },
   {
    "duration": 30,
    "start_time": "2023-04-20T17:55:10.587Z"
   },
   {
    "duration": 36,
    "start_time": "2023-04-20T17:55:10.619Z"
   },
   {
    "duration": 25,
    "start_time": "2023-04-20T17:55:10.657Z"
   },
   {
    "duration": 677,
    "start_time": "2023-04-20T17:55:10.684Z"
   },
   {
    "duration": 338,
    "start_time": "2023-04-20T17:55:11.364Z"
   },
   {
    "duration": 725,
    "start_time": "2023-04-20T17:55:11.705Z"
   },
   {
    "duration": 6,
    "start_time": "2023-04-20T17:55:12.432Z"
   },
   {
    "duration": 66,
    "start_time": "2023-04-20T17:55:12.443Z"
   },
   {
    "duration": 17,
    "start_time": "2023-04-20T17:55:12.512Z"
   },
   {
    "duration": 30,
    "start_time": "2023-04-20T17:55:12.530Z"
   },
   {
    "duration": 45,
    "start_time": "2023-04-20T17:55:12.562Z"
   },
   {
    "duration": 34,
    "start_time": "2023-04-20T17:55:12.609Z"
   },
   {
    "duration": 25,
    "start_time": "2023-04-20T17:55:12.644Z"
   },
   {
    "duration": 41,
    "start_time": "2023-04-20T17:55:12.671Z"
   },
   {
    "duration": 31,
    "start_time": "2023-04-20T17:55:12.714Z"
   },
   {
    "duration": 61,
    "start_time": "2023-04-20T17:55:12.747Z"
   },
   {
    "duration": 38,
    "start_time": "2023-04-20T17:55:12.810Z"
   },
   {
    "duration": 48,
    "start_time": "2023-04-20T17:55:12.850Z"
   },
   {
    "duration": 30,
    "start_time": "2023-04-20T17:55:12.900Z"
   },
   {
    "duration": 40,
    "start_time": "2023-04-20T17:55:12.931Z"
   },
   {
    "duration": 44,
    "start_time": "2023-04-20T17:55:12.973Z"
   },
   {
    "duration": 55,
    "start_time": "2023-04-20T17:55:13.018Z"
   },
   {
    "duration": 1115,
    "start_time": "2023-04-20T17:55:13.075Z"
   },
   {
    "duration": 1676,
    "start_time": "2023-04-20T17:55:14.192Z"
   },
   {
    "duration": 1483,
    "start_time": "2023-04-20T17:55:15.870Z"
   }
  ],
  "kernelspec": {
   "display_name": "Python 3 (ipykernel)",
   "language": "python",
   "name": "python3"
  },
  "language_info": {
   "codemirror_mode": {
    "name": "ipython",
    "version": 3
   },
   "file_extension": ".py",
   "mimetype": "text/x-python",
   "name": "python",
   "nbconvert_exporter": "python",
   "pygments_lexer": "ipython3",
   "version": "3.9.13"
  },
  "toc": {
   "base_numbering": 1,
   "nav_menu": {},
   "number_sections": true,
   "sideBar": true,
   "skip_h1_title": true,
   "title_cell": "Содержание",
   "title_sidebar": "Contents",
   "toc_cell": true,
   "toc_position": {
    "height": "calc(100% - 180px)",
    "left": "10px",
    "top": "150px",
    "width": "336px"
   },
   "toc_section_display": true,
   "toc_window_display": true
  }
 },
 "nbformat": 4,
 "nbformat_minor": 2
}
